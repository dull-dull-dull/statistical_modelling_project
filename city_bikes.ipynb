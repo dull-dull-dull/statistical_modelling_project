{
 "cells": [
  {
   "cell_type": "markdown",
   "metadata": {},
   "source": [
    "# CityBikes"
   ]
  },
  {
   "cell_type": "markdown",
   "metadata": {},
   "source": [
    "Send a request to CityBikes for the city of your choice. "
   ]
  },
  {
   "cell_type": "code",
   "execution_count": 2,
   "metadata": {},
   "outputs": [
    {
     "ename": "SyntaxError",
     "evalue": "invalid syntax (104685184.py, line 11)",
     "output_type": "error",
     "traceback": [
      "\u001b[0;36m  Cell \u001b[0;32mIn[2], line 11\u001b[0;36m\u001b[0m\n\u001b[0;31m    >>> import requests\u001b[0m\n\u001b[0m    ^\u001b[0m\n\u001b[0;31mSyntaxError\u001b[0m\u001b[0;31m:\u001b[0m invalid syntax\n"
     ]
    }
   ],
   "source": [
    "# # Queried initial result on listed API documentation\n",
    "# # For networks\n",
    "import numpy as np\n",
    "import pandas as pd\n",
    "import matplotlib.pyplot as plt\n",
    "import json\n",
    "import os\n",
    "import requests\n",
    "\n",
    "# #make api call\n",
    "\n",
    "# >>> import requests\n",
    "# >>> api_url = \"http://api.citybik.es/v2/networks/velib?fields=id,location,name\"\n",
    "# >>> response = requests.get(api_url)\n",
    "# >>> data = response.json()\n",
    "\n",
    "# data1 = data['networks']\n",
    "\n",
    "# for row in data1:\n",
    "#     row['city'] = row['location']['city']\n",
    "#     row['country'] = row['location']['country']\n",
    "#     row['latitude'] = row['location']['latitude']\n",
    "#     row['longitude'] = row['location']['longitude']\n",
    "\n",
    "# df = pd.DataFrame(data1)\n",
    "# df[df['city']=='Paris']\n",
    "\n",
    "# For city\n",
    "#make api call\n",
    "\n",
    "api_url = \"http://api.citybik.es/v2/networks/velib?fields=id,location,name\"\n",
    "response = requests.get(api_url)\n",
    "data = response.json()"
   ]
  },
  {
   "cell_type": "markdown",
   "metadata": {},
   "source": [
    "Parse through the response to get the details you want for the bike stations in that city (latitude, longitude, number of bikes). "
   ]
  },
  {
   "cell_type": "code",
   "execution_count": null,
   "metadata": {},
   "outputs": [],
   "source": [
    "api_url = \"http://api.citybik.es/v2/networks/velib\"\n",
    "response = requests.get(api_url)\n",
    "data = response.json()\n",
    "\n",
    "data1 = data['network']\n",
    "data1.keys()\n",
    "\n",
    "location = data1['location']\n",
    "location\n",
    "\n",
    "#number of stations in network\n",
    "\n",
    "len(data1['stations'])\n",
    "\n",
    "stations = data1['stations']\n"
   ]
  },
  {
   "cell_type": "markdown",
   "metadata": {},
   "source": [
    "Put your parsed results into a DataFrame."
   ]
  },
  {
   "cell_type": "code",
   "execution_count": null,
   "metadata": {},
   "outputs": [],
   "source": [
    "data1 = data['network']['stations']\n",
    "data1[0]\n",
    "\n",
    "stat = 0\n",
    "stations_list = []\n",
    "\n",
    "for station in data1:\n",
    "    lat = data1[stat]['latitude']\n",
    "    long = data1[stat]['longitude']\n",
    "    empty_slots = data1[stat]['empty_slots']\n",
    "    free_bikes = data1[stat]['free_bikes']\n",
    "    \n",
    "    station_dict = {\n",
    "        'lat' : lat,\n",
    "        'long' : long, \n",
    "        'empty_slots' : empty_slots,\n",
    "        'free_bikes' : free_bikes}\n",
    "    \n",
    "    stations_list.append(station_dict)\n",
    "    \n",
    "    stat +=1\n",
    "    \n",
    "cb_df = pd.DataFrame(stations_list)\n",
    "cb_df"
   ]
  }
 ],
 "metadata": {
  "kernelspec": {
   "display_name": "Python 3",
   "language": "python",
   "name": "python3"
  },
  "language_info": {
   "codemirror_mode": {
    "name": "ipython",
    "version": 3
   },
   "file_extension": ".py",
   "mimetype": "text/x-python",
   "name": "python",
   "nbconvert_exporter": "python",
   "pygments_lexer": "ipython3",
   "version": "3.9.6"
  }
 },
 "nbformat": 4,
 "nbformat_minor": 4
}
