{
 "cells": [
  {
   "cell_type": "code",
   "execution_count": 790,
   "id": "b01186c3-c612-4321-8a86-5ec8cf62e7b9",
   "metadata": {
    "tags": []
   },
   "outputs": [],
   "source": [
    "import numpy as np\n",
    "import pandas as pd\n",
    "import matplotlib.pyplot as plt\n",
    "import json\n",
    "import os\n",
    "import plotly.express as px"
   ]
  },
  {
   "cell_type": "code",
   "execution_count": null,
   "id": "c0d49ec5-e73b-4265-b1ff-b505a4ab0d09",
   "metadata": {},
   "outputs": [],
   "source": [
    "# Create CityBikes API *"
   ]
  },
  {
   "cell_type": "code",
   "execution_count": 415,
   "id": "0839745d-f3d5-415d-9c20-8959167b2344",
   "metadata": {
    "tags": []
   },
   "outputs": [],
   "source": [
    "#make api call\n",
    "\n",
    "import requests\n",
    "api_url = \"http://api.citybik.es/v2/networks/velib?fields=id,location,name\"\n",
    "response = requests.get(api_url)\n",
    "data = response.json()"
   ]
  },
  {
   "cell_type": "code",
   "execution_count": 416,
   "id": "519a3324-6f3c-49cb-ae34-0e8b24640f39",
   "metadata": {
    "tags": []
   },
   "outputs": [
    {
     "data": {
      "text/plain": [
       "dict_keys(['network'])"
      ]
     },
     "execution_count": 416,
     "metadata": {},
     "output_type": "execute_result"
    }
   ],
   "source": [
    "# check dictionary keys\n",
    "\n",
    "data.keys()"
   ]
  },
  {
   "cell_type": "code",
   "execution_count": 449,
   "id": "66d2fa4d-6ecf-416d-bb39-66e5ea9db6a0",
   "metadata": {
    "tags": []
   },
   "outputs": [
    {
     "data": {
      "text/plain": [
       "{'empty_slots': 29,\n",
       " 'extra': {'banking': False,\n",
       "  'ebikes': 3,\n",
       "  'last_updated': 1693242757,\n",
       "  'payment-terminal': False,\n",
       "  'renting': 1,\n",
       "  'returning': 1,\n",
       "  'slots': 35,\n",
       "  'station_id': 213688169,\n",
       "  'uid': '16107'},\n",
       " 'free_bikes': 4,\n",
       " 'id': '78ec9186acd18a0b30bd3156d24b9f8d',\n",
       " 'latitude': 48.865983,\n",
       " 'longitude': 2.275725,\n",
       " 'name': 'Benjamin Godard - Victor Hugo',\n",
       " 'timestamp': '2023-08-28T17:27:58.123000Z'}"
      ]
     },
     "execution_count": 449,
     "metadata": {},
     "output_type": "execute_result"
    }
   ],
   "source": [
    "data1 = data['network']['stations']\n",
    "data1[0]"
   ]
  },
  {
   "cell_type": "code",
   "execution_count": 473,
   "id": "0d9eb7e4-54a2-4823-a84e-d9a106fb4432",
   "metadata": {
    "tags": []
   },
   "outputs": [
    {
     "data": {
      "text/html": [
       "<div>\n",
       "<style scoped>\n",
       "    .dataframe tbody tr th:only-of-type {\n",
       "        vertical-align: middle;\n",
       "    }\n",
       "\n",
       "    .dataframe tbody tr th {\n",
       "        vertical-align: top;\n",
       "    }\n",
       "\n",
       "    .dataframe thead th {\n",
       "        text-align: right;\n",
       "    }\n",
       "</style>\n",
       "<table border=\"1\" class=\"dataframe\">\n",
       "  <thead>\n",
       "    <tr style=\"text-align: right;\">\n",
       "      <th></th>\n",
       "      <th>lat</th>\n",
       "      <th>long</th>\n",
       "      <th>empty_slots</th>\n",
       "      <th>free_bikes</th>\n",
       "    </tr>\n",
       "  </thead>\n",
       "  <tbody>\n",
       "    <tr>\n",
       "      <th>0</th>\n",
       "      <td>48.865983</td>\n",
       "      <td>2.275725</td>\n",
       "      <td>29</td>\n",
       "      <td>4</td>\n",
       "    </tr>\n",
       "    <tr>\n",
       "      <th>1</th>\n",
       "      <td>48.853756</td>\n",
       "      <td>2.339096</td>\n",
       "      <td>3</td>\n",
       "      <td>50</td>\n",
       "    </tr>\n",
       "    <tr>\n",
       "      <th>2</th>\n",
       "      <td>48.867872</td>\n",
       "      <td>2.364898</td>\n",
       "      <td>28</td>\n",
       "      <td>9</td>\n",
       "    </tr>\n",
       "    <tr>\n",
       "      <th>3</th>\n",
       "      <td>48.856452</td>\n",
       "      <td>2.334852</td>\n",
       "      <td>16</td>\n",
       "      <td>3</td>\n",
       "    </tr>\n",
       "    <tr>\n",
       "      <th>4</th>\n",
       "      <td>48.879296</td>\n",
       "      <td>2.337360</td>\n",
       "      <td>15</td>\n",
       "      <td>4</td>\n",
       "    </tr>\n",
       "    <tr>\n",
       "      <th>...</th>\n",
       "      <td>...</td>\n",
       "      <td>...</td>\n",
       "      <td>...</td>\n",
       "      <td>...</td>\n",
       "    </tr>\n",
       "    <tr>\n",
       "      <th>1451</th>\n",
       "      <td>48.862453</td>\n",
       "      <td>2.196167</td>\n",
       "      <td>19</td>\n",
       "      <td>2</td>\n",
       "    </tr>\n",
       "    <tr>\n",
       "      <th>1452</th>\n",
       "      <td>48.937421</td>\n",
       "      <td>2.372037</td>\n",
       "      <td>24</td>\n",
       "      <td>13</td>\n",
       "    </tr>\n",
       "    <tr>\n",
       "      <th>1453</th>\n",
       "      <td>48.814548</td>\n",
       "      <td>2.402439</td>\n",
       "      <td>19</td>\n",
       "      <td>10</td>\n",
       "    </tr>\n",
       "    <tr>\n",
       "      <th>1454</th>\n",
       "      <td>48.879487</td>\n",
       "      <td>2.416153</td>\n",
       "      <td>19</td>\n",
       "      <td>1</td>\n",
       "    </tr>\n",
       "    <tr>\n",
       "      <th>1455</th>\n",
       "      <td>48.778193</td>\n",
       "      <td>2.396302</td>\n",
       "      <td>15</td>\n",
       "      <td>5</td>\n",
       "    </tr>\n",
       "  </tbody>\n",
       "</table>\n",
       "<p>1456 rows × 4 columns</p>\n",
       "</div>"
      ],
      "text/plain": [
       "            lat      long  empty_slots  free_bikes\n",
       "0     48.865983  2.275725           29           4\n",
       "1     48.853756  2.339096            3          50\n",
       "2     48.867872  2.364898           28           9\n",
       "3     48.856452  2.334852           16           3\n",
       "4     48.879296  2.337360           15           4\n",
       "...         ...       ...          ...         ...\n",
       "1451  48.862453  2.196167           19           2\n",
       "1452  48.937421  2.372037           24          13\n",
       "1453  48.814548  2.402439           19          10\n",
       "1454  48.879487  2.416153           19           1\n",
       "1455  48.778193  2.396302           15           5\n",
       "\n",
       "[1456 rows x 4 columns]"
      ]
     },
     "execution_count": 473,
     "metadata": {},
     "output_type": "execute_result"
    }
   ],
   "source": [
    "stat = 0\n",
    "stations_list = []\n",
    "\n",
    "for station in data1:\n",
    "    lat = data1[stat]['latitude']\n",
    "    long = data1[stat]['longitude']\n",
    "    empty_slots = data1[stat]['empty_slots']\n",
    "    free_bikes = data1[stat]['free_bikes']\n",
    "    \n",
    "    station_dict = {\n",
    "        'lat' : lat,\n",
    "        'long' : long, \n",
    "        'empty_slots' : empty_slots,\n",
    "        'free_bikes' : free_bikes}\n",
    "    \n",
    "    stations_list.append(station_dict)\n",
    "    \n",
    "    stat +=1\n",
    "    \n",
    "cb_df = pd.DataFrame(stations_list)\n",
    "cb_df"
   ]
  },
  {
   "cell_type": "code",
   "execution_count": 439,
   "id": "558500b4-6f13-487e-848b-a04625ef7c6a",
   "metadata": {
    "collapsed": true,
    "jupyter": {
     "outputs_hidden": true,
     "source_hidden": true
    },
    "tags": []
   },
   "outputs": [
    {
     "ename": "RuntimeError",
     "evalue": "dictionary changed size during iteration",
     "output_type": "error",
     "traceback": [
      "\u001b[0;31m---------------------------------------------------------------------------\u001b[0m",
      "\u001b[0;31mRuntimeError\u001b[0m                              Traceback (most recent call last)",
      "Cell \u001b[0;32mIn[439], line 3\u001b[0m\n\u001b[1;32m      1\u001b[0m \u001b[38;5;66;03m#parse location details\u001b[39;00m\n\u001b[0;32m----> 3\u001b[0m \u001b[38;5;28;01mfor\u001b[39;00m row \u001b[38;5;129;01min\u001b[39;00m data1:\n\u001b[1;32m      4\u001b[0m     data1[\u001b[38;5;124m'\u001b[39m\u001b[38;5;124mcity\u001b[39m\u001b[38;5;124m'\u001b[39m] \u001b[38;5;241m=\u001b[39m location[\u001b[38;5;124m'\u001b[39m\u001b[38;5;124mcity\u001b[39m\u001b[38;5;124m'\u001b[39m]\n\u001b[1;32m      5\u001b[0m     data1[\u001b[38;5;124m'\u001b[39m\u001b[38;5;124mcountry\u001b[39m\u001b[38;5;124m'\u001b[39m] \u001b[38;5;241m=\u001b[39m location[\u001b[38;5;124m'\u001b[39m\u001b[38;5;124mcountry\u001b[39m\u001b[38;5;124m'\u001b[39m]\n",
      "\u001b[0;31mRuntimeError\u001b[0m: dictionary changed size during iteration"
     ]
    }
   ],
   "source": [
    "#parse location details\n",
    "\n",
    "for station in data1:\n",
    "    data1['city'] = location['city']\n",
    "    data1['country'] = location['country']\n",
    "    data1['latitude'] = location['latitude']\n",
    "    data1['longitude'] = location['longitude']"
   ]
  },
  {
   "cell_type": "code",
   "execution_count": 474,
   "id": "b149f9f4-6179-489a-8984-7c39d61e004c",
   "metadata": {
    "collapsed": true,
    "jupyter": {
     "outputs_hidden": true,
     "source_hidden": true
    },
    "tags": []
   },
   "outputs": [
    {
     "ename": "KeyError",
     "evalue": "'city'",
     "output_type": "error",
     "traceback": [
      "\u001b[0;31m---------------------------------------------------------------------------\u001b[0m",
      "\u001b[0;31mKeyError\u001b[0m                                  Traceback (most recent call last)",
      "File \u001b[0;32m~/anaconda3/lib/python3.11/site-packages/pandas/core/indexes/base.py:3802\u001b[0m, in \u001b[0;36mIndex.get_loc\u001b[0;34m(self, key, method, tolerance)\u001b[0m\n\u001b[1;32m   3801\u001b[0m \u001b[38;5;28;01mtry\u001b[39;00m:\n\u001b[0;32m-> 3802\u001b[0m     \u001b[38;5;28;01mreturn\u001b[39;00m \u001b[38;5;28mself\u001b[39m\u001b[38;5;241m.\u001b[39m_engine\u001b[38;5;241m.\u001b[39mget_loc(casted_key)\n\u001b[1;32m   3803\u001b[0m \u001b[38;5;28;01mexcept\u001b[39;00m \u001b[38;5;167;01mKeyError\u001b[39;00m \u001b[38;5;28;01mas\u001b[39;00m err:\n",
      "File \u001b[0;32m~/anaconda3/lib/python3.11/site-packages/pandas/_libs/index.pyx:138\u001b[0m, in \u001b[0;36mpandas._libs.index.IndexEngine.get_loc\u001b[0;34m()\u001b[0m\n",
      "File \u001b[0;32m~/anaconda3/lib/python3.11/site-packages/pandas/_libs/index.pyx:165\u001b[0m, in \u001b[0;36mpandas._libs.index.IndexEngine.get_loc\u001b[0;34m()\u001b[0m\n",
      "File \u001b[0;32mpandas/_libs/hashtable_class_helper.pxi:5745\u001b[0m, in \u001b[0;36mpandas._libs.hashtable.PyObjectHashTable.get_item\u001b[0;34m()\u001b[0m\n",
      "File \u001b[0;32mpandas/_libs/hashtable_class_helper.pxi:5753\u001b[0m, in \u001b[0;36mpandas._libs.hashtable.PyObjectHashTable.get_item\u001b[0;34m()\u001b[0m\n",
      "\u001b[0;31mKeyError\u001b[0m: 'city'",
      "\nThe above exception was the direct cause of the following exception:\n",
      "\u001b[0;31mKeyError\u001b[0m                                  Traceback (most recent call last)",
      "Cell \u001b[0;32mIn[474], line 2\u001b[0m\n\u001b[1;32m      1\u001b[0m df \u001b[38;5;241m=\u001b[39m pd\u001b[38;5;241m.\u001b[39mDataFrame(data1)\n\u001b[0;32m----> 2\u001b[0m df[df[\u001b[38;5;124m'\u001b[39m\u001b[38;5;124mcity\u001b[39m\u001b[38;5;124m'\u001b[39m]\u001b[38;5;241m==\u001b[39m\u001b[38;5;124m'\u001b[39m\u001b[38;5;124mParis\u001b[39m\u001b[38;5;124m'\u001b[39m]\n",
      "File \u001b[0;32m~/anaconda3/lib/python3.11/site-packages/pandas/core/frame.py:3807\u001b[0m, in \u001b[0;36mDataFrame.__getitem__\u001b[0;34m(self, key)\u001b[0m\n\u001b[1;32m   3805\u001b[0m \u001b[38;5;28;01mif\u001b[39;00m \u001b[38;5;28mself\u001b[39m\u001b[38;5;241m.\u001b[39mcolumns\u001b[38;5;241m.\u001b[39mnlevels \u001b[38;5;241m>\u001b[39m \u001b[38;5;241m1\u001b[39m:\n\u001b[1;32m   3806\u001b[0m     \u001b[38;5;28;01mreturn\u001b[39;00m \u001b[38;5;28mself\u001b[39m\u001b[38;5;241m.\u001b[39m_getitem_multilevel(key)\n\u001b[0;32m-> 3807\u001b[0m indexer \u001b[38;5;241m=\u001b[39m \u001b[38;5;28mself\u001b[39m\u001b[38;5;241m.\u001b[39mcolumns\u001b[38;5;241m.\u001b[39mget_loc(key)\n\u001b[1;32m   3808\u001b[0m \u001b[38;5;28;01mif\u001b[39;00m is_integer(indexer):\n\u001b[1;32m   3809\u001b[0m     indexer \u001b[38;5;241m=\u001b[39m [indexer]\n",
      "File \u001b[0;32m~/anaconda3/lib/python3.11/site-packages/pandas/core/indexes/base.py:3804\u001b[0m, in \u001b[0;36mIndex.get_loc\u001b[0;34m(self, key, method, tolerance)\u001b[0m\n\u001b[1;32m   3802\u001b[0m     \u001b[38;5;28;01mreturn\u001b[39;00m \u001b[38;5;28mself\u001b[39m\u001b[38;5;241m.\u001b[39m_engine\u001b[38;5;241m.\u001b[39mget_loc(casted_key)\n\u001b[1;32m   3803\u001b[0m \u001b[38;5;28;01mexcept\u001b[39;00m \u001b[38;5;167;01mKeyError\u001b[39;00m \u001b[38;5;28;01mas\u001b[39;00m err:\n\u001b[0;32m-> 3804\u001b[0m     \u001b[38;5;28;01mraise\u001b[39;00m \u001b[38;5;167;01mKeyError\u001b[39;00m(key) \u001b[38;5;28;01mfrom\u001b[39;00m \u001b[38;5;21;01merr\u001b[39;00m\n\u001b[1;32m   3805\u001b[0m \u001b[38;5;28;01mexcept\u001b[39;00m \u001b[38;5;167;01mTypeError\u001b[39;00m:\n\u001b[1;32m   3806\u001b[0m     \u001b[38;5;66;03m# If we have a listlike key, _check_indexing_error will raise\u001b[39;00m\n\u001b[1;32m   3807\u001b[0m     \u001b[38;5;66;03m#  InvalidIndexError. Otherwise we fall through and re-raise\u001b[39;00m\n\u001b[1;32m   3808\u001b[0m     \u001b[38;5;66;03m#  the TypeError.\u001b[39;00m\n\u001b[1;32m   3809\u001b[0m     \u001b[38;5;28mself\u001b[39m\u001b[38;5;241m.\u001b[39m_check_indexing_error(key)\n",
      "\u001b[0;31mKeyError\u001b[0m: 'city'"
     ]
    }
   ],
   "source": [
    "df = pd.DataFrame(data1)\n",
    "df[df['city']=='Paris']"
   ]
  },
  {
   "cell_type": "code",
   "execution_count": 13,
   "id": "f1fb426a-d516-445c-8e17-549dc9d89b43",
   "metadata": {
    "jupyter": {
     "source_hidden": true
    },
    "tags": []
   },
   "outputs": [
    {
     "data": {
      "text/plain": [
       "589"
      ]
     },
     "execution_count": 13,
     "metadata": {},
     "output_type": "execute_result"
    }
   ],
   "source": [
    "len(data1)"
   ]
  },
  {
   "cell_type": "code",
   "execution_count": 29,
   "id": "6c2b8915-7ff4-4856-bd96-579b1fbd6689",
   "metadata": {
    "collapsed": true,
    "jupyter": {
     "outputs_hidden": true,
     "source_hidden": true
    },
    "tags": []
   },
   "outputs": [
    {
     "data": {
      "text/plain": [
       "{'company': ['ЗАО «СитиБайк»'],\n",
       " 'href': '/v2/networks/velobike-moscow',\n",
       " 'id': 'velobike-moscow',\n",
       " 'location': {'city': 'Moscow',\n",
       "  'country': 'RU',\n",
       "  'latitude': 55.75,\n",
       "  'longitude': 37.616667},\n",
       " 'name': 'Velobike'}"
      ]
     },
     "execution_count": 29,
     "metadata": {},
     "output_type": "execute_result"
    }
   ],
   "source": [
    "data1[0]"
   ]
  },
  {
   "cell_type": "code",
   "execution_count": 63,
   "id": "e71901ab-eb2e-477a-85dc-73369efca0c2",
   "metadata": {
    "collapsed": true,
    "jupyter": {
     "outputs_hidden": true,
     "source_hidden": true
    },
    "tags": []
   },
   "outputs": [
    {
     "data": {
      "text/plain": [
       "{'company': ['ЗАО «СитиБайк»'],\n",
       " 'href': '/v2/networks/velobike-moscow',\n",
       " 'id': 'velobike-moscow',\n",
       " 'location': {'city': 'Moscow',\n",
       "  'country': 'RU',\n",
       "  'latitude': 55.75,\n",
       "  'longitude': 37.616667},\n",
       " 'name': 'Velobike'}"
      ]
     },
     "execution_count": 63,
     "metadata": {},
     "output_type": "execute_result"
    }
   ],
   "source": [
    "data2 = data1[0]\n",
    "data2"
   ]
  },
  {
   "cell_type": "code",
   "execution_count": 62,
   "id": "6e04815b-e606-4e64-a45e-964765f07ff6",
   "metadata": {
    "collapsed": true,
    "jupyter": {
     "outputs_hidden": true,
     "source_hidden": true
    },
    "tags": []
   },
   "outputs": [
    {
     "data": {
      "text/plain": [
       "{'city': 'Moscow', 'country': 'RU', 'latitude': 55.75, 'longitude': 37.616667}"
      ]
     },
     "execution_count": 62,
     "metadata": {},
     "output_type": "execute_result"
    }
   ],
   "source": [
    "data3 = data2['location']\n",
    "data3"
   ]
  },
  {
   "cell_type": "code",
   "execution_count": 23,
   "id": "dcc8a01e-b4b5-4783-95c6-caa4862530ca",
   "metadata": {
    "collapsed": true,
    "jupyter": {
     "outputs_hidden": true,
     "source_hidden": true
    },
    "tags": []
   },
   "outputs": [
    {
     "data": {
      "text/plain": [
       "'Moscow'"
      ]
     },
     "execution_count": 23,
     "metadata": {},
     "output_type": "execute_result"
    }
   ],
   "source": [
    "city = data3['city']"
   ]
  },
  {
   "cell_type": "code",
   "execution_count": 25,
   "id": "faf1898d-ab97-4b20-a0af-27a0cd9e6aaa",
   "metadata": {
    "jupyter": {
     "source_hidden": true
    },
    "tags": []
   },
   "outputs": [],
   "source": [
    "country = data3['country']\n",
    "latitude = data3['latitude']\n",
    "longitude = data3['longitude']"
   ]
  },
  {
   "cell_type": "code",
   "execution_count": null,
   "id": "202f3dd8-dc70-41eb-a2f6-c01b330b5a3a",
   "metadata": {
    "jupyter": {
     "source_hidden": true
    },
    "tags": []
   },
   "outputs": [],
   "source": []
  },
  {
   "cell_type": "code",
   "execution_count": 35,
   "id": "a736c1e0-ca87-4e4f-a7f8-0f502a032331",
   "metadata": {
    "collapsed": true,
    "jupyter": {
     "outputs_hidden": true,
     "source_hidden": true
    },
    "tags": []
   },
   "outputs": [
    {
     "data": {
      "text/plain": [
       "'Moscow'"
      ]
     },
     "execution_count": 35,
     "metadata": {},
     "output_type": "execute_result"
    }
   ],
   "source": [
    "data['networks'][0]['location']['city']"
   ]
  },
  {
   "cell_type": "code",
   "execution_count": 47,
   "id": "c140a7ee-86f0-4c04-81ea-8ab951ecd17d",
   "metadata": {
    "collapsed": true,
    "jupyter": {
     "outputs_hidden": true,
     "source_hidden": true
    },
    "tags": []
   },
   "outputs": [
    {
     "data": {
      "text/plain": [
       "{'company': ['ЗАО «СитиБайк»'],\n",
       " 'href': '/v2/networks/velobike-moscow',\n",
       " 'id': 'velobike-moscow',\n",
       " 'location': {'city': 'Moscow',\n",
       "  'country': 'RU',\n",
       "  'latitude': 55.75,\n",
       "  'longitude': 37.616667},\n",
       " 'name': 'Velobike'}"
      ]
     },
     "execution_count": 47,
     "metadata": {},
     "output_type": "execute_result"
    }
   ],
   "source": [
    "data1[0]"
   ]
  },
  {
   "cell_type": "code",
   "execution_count": 102,
   "id": "7d954f20-878c-4b0c-9c6a-794034d05d7e",
   "metadata": {
    "jupyter": {
     "source_hidden": true
    },
    "tags": []
   },
   "outputs": [],
   "source": [
    "#make api call\n",
    "api_url = \"http://api.citybik.es/v2/networks/velib\"\n",
    "response = requests.get(api_url)\n",
    "data = response.json()"
   ]
  },
  {
   "cell_type": "code",
   "execution_count": null,
   "id": "7c72ca1f-7e02-4c09-a465-9f60ea81c159",
   "metadata": {
    "jupyter": {
     "source_hidden": true
    },
    "tags": []
   },
   "outputs": [],
   "source": []
  },
  {
   "cell_type": "code",
   "execution_count": 107,
   "id": "25e48457-addb-434c-9513-6f54e6c7d2ca",
   "metadata": {
    "collapsed": true,
    "jupyter": {
     "outputs_hidden": true,
     "source_hidden": true
    },
    "tags": []
   },
   "outputs": [
    {
     "data": {
      "text/plain": [
       "dict_keys(['company', 'ebikes', 'gbfs_href', 'href', 'id', 'license', 'location', 'name', 'stations'])"
      ]
     },
     "execution_count": 107,
     "metadata": {},
     "output_type": "execute_result"
    }
   ],
   "source": [
    "data1 = data['network']\n",
    "data1.keys()"
   ]
  },
  {
   "cell_type": "code",
   "execution_count": 113,
   "id": "dd3b4884-8c35-46ed-bc15-ba4db6ba92c9",
   "metadata": {
    "collapsed": true,
    "jupyter": {
     "outputs_hidden": true,
     "source_hidden": true
    },
    "tags": []
   },
   "outputs": [
    {
     "data": {
      "text/plain": [
       "{'city': 'Paris',\n",
       " 'country': 'FR',\n",
       " 'latitude': 48.856614,\n",
       " 'longitude': 2.3522219}"
      ]
     },
     "execution_count": 113,
     "metadata": {},
     "output_type": "execute_result"
    }
   ],
   "source": [
    "location = data1['location']\n",
    "location"
   ]
  },
  {
   "cell_type": "code",
   "execution_count": 120,
   "id": "2482cfb3-31e1-4028-8f66-1b36dd2db096",
   "metadata": {
    "jupyter": {
     "source_hidden": true
    },
    "tags": []
   },
   "outputs": [
    {
     "data": {
      "text/plain": [
       "1456"
      ]
     },
     "execution_count": 120,
     "metadata": {},
     "output_type": "execute_result"
    }
   ],
   "source": [
    "#number of stations in network\n",
    "\n",
    "len(data1['stations'])"
   ]
  },
  {
   "cell_type": "code",
   "execution_count": null,
   "id": "20e1bbd7-fb32-4dd1-92fe-b1518142d255",
   "metadata": {
    "jupyter": {
     "source_hidden": true
    },
    "tags": []
   },
   "outputs": [],
   "source": [
    "#make api call\n",
    "api_url = \"http://api.citybik.es/v2/networks/velib\"\n",
    "response = requests.get(api_url)\n",
    "data = response.json()\n",
    "\n",
    "data1 = data['network']\n",
    "\n",
    "df = pd.DataFrame(data1['stations'])"
   ]
  },
  {
   "cell_type": "code",
   "execution_count": null,
   "id": "bfc089e2-6a6f-4b79-bafd-d95fed1c0b38",
   "metadata": {
    "jupyter": {
     "source_hidden": true
    },
    "tags": []
   },
   "outputs": [],
   "source": []
  },
  {
   "cell_type": "code",
   "execution_count": 140,
   "id": "b0a7f39e-ef12-4050-b740-e69104d5f8e5",
   "metadata": {
    "collapsed": true,
    "jupyter": {
     "outputs_hidden": true,
     "source_hidden": true
    },
    "tags": []
   },
   "outputs": [
    {
     "data": {
      "text/html": [
       "<div>\n",
       "<style scoped>\n",
       "    .dataframe tbody tr th:only-of-type {\n",
       "        vertical-align: middle;\n",
       "    }\n",
       "\n",
       "    .dataframe tbody tr th {\n",
       "        vertical-align: top;\n",
       "    }\n",
       "\n",
       "    .dataframe thead th {\n",
       "        text-align: right;\n",
       "    }\n",
       "</style>\n",
       "<table border=\"1\" class=\"dataframe\">\n",
       "  <thead>\n",
       "    <tr style=\"text-align: right;\">\n",
       "      <th></th>\n",
       "      <th>empty_slots</th>\n",
       "      <th>extra</th>\n",
       "      <th>free_bikes</th>\n",
       "      <th>id</th>\n",
       "      <th>latitude</th>\n",
       "      <th>longitude</th>\n",
       "      <th>name</th>\n",
       "      <th>timestamp</th>\n",
       "    </tr>\n",
       "  </thead>\n",
       "  <tbody>\n",
       "    <tr>\n",
       "      <th>0</th>\n",
       "      <td>29</td>\n",
       "      <td>{'banking': False, 'ebikes': 1, 'last_updated'...</td>\n",
       "      <td>4</td>\n",
       "      <td>78ec9186acd18a0b30bd3156d24b9f8d</td>\n",
       "      <td>48.865983</td>\n",
       "      <td>2.275725</td>\n",
       "      <td>Benjamin Godard - Victor Hugo</td>\n",
       "      <td>2023-08-28T14:47:43.143000Z</td>\n",
       "    </tr>\n",
       "    <tr>\n",
       "      <th>1</th>\n",
       "      <td>1</td>\n",
       "      <td>{'banking': True, 'ebikes': 12, 'last_updated'...</td>\n",
       "      <td>52</td>\n",
       "      <td>43c856353b954711f2bbee185a1f9d04</td>\n",
       "      <td>48.853756</td>\n",
       "      <td>2.339096</td>\n",
       "      <td>André Mazet - Saint-André des Arts</td>\n",
       "      <td>2023-08-28T14:47:43.091000Z</td>\n",
       "    </tr>\n",
       "    <tr>\n",
       "      <th>2</th>\n",
       "      <td>17</td>\n",
       "      <td>{'banking': True, 'ebikes': 10, 'last_updated'...</td>\n",
       "      <td>21</td>\n",
       "      <td>9b2700f3b19beb1dd9df2fd6a013789f</td>\n",
       "      <td>48.867872</td>\n",
       "      <td>2.364898</td>\n",
       "      <td>Faubourg Du Temple - Republique</td>\n",
       "      <td>2023-08-28T14:47:41.910000Z</td>\n",
       "    </tr>\n",
       "    <tr>\n",
       "      <th>3</th>\n",
       "      <td>2</td>\n",
       "      <td>{'banking': True, 'ebikes': 7, 'last_updated':...</td>\n",
       "      <td>17</td>\n",
       "      <td>80778031e1a033712bfc3a27a190d5dd</td>\n",
       "      <td>48.856452</td>\n",
       "      <td>2.334852</td>\n",
       "      <td>Beaux-Arts - Bonaparte</td>\n",
       "      <td>2023-08-28T14:47:42.269000Z</td>\n",
       "    </tr>\n",
       "    <tr>\n",
       "      <th>4</th>\n",
       "      <td>18</td>\n",
       "      <td>{'banking': True, 'ebikes': 3, 'last_updated':...</td>\n",
       "      <td>3</td>\n",
       "      <td>f8f9ec30d28856f9b7fad103be9e4674</td>\n",
       "      <td>48.879296</td>\n",
       "      <td>2.337360</td>\n",
       "      <td>Toudouze - Clauzel</td>\n",
       "      <td>2023-08-28T14:47:42.337000Z</td>\n",
       "    </tr>\n",
       "    <tr>\n",
       "      <th>...</th>\n",
       "      <td>...</td>\n",
       "      <td>...</td>\n",
       "      <td>...</td>\n",
       "      <td>...</td>\n",
       "      <td>...</td>\n",
       "      <td>...</td>\n",
       "      <td>...</td>\n",
       "      <td>...</td>\n",
       "    </tr>\n",
       "    <tr>\n",
       "      <th>1451</th>\n",
       "      <td>20</td>\n",
       "      <td>{'banking': True, 'ebikes': 1, 'last_updated':...</td>\n",
       "      <td>1</td>\n",
       "      <td>fa0a7accc90cac2586922224f5f1c589</td>\n",
       "      <td>48.862453</td>\n",
       "      <td>2.196167</td>\n",
       "      <td>Place Nelson Mandela</td>\n",
       "      <td>2023-08-28T14:47:42.371000Z</td>\n",
       "    </tr>\n",
       "    <tr>\n",
       "      <th>1452</th>\n",
       "      <td>24</td>\n",
       "      <td>{'banking': True, 'ebikes': 11, 'last_updated'...</td>\n",
       "      <td>13</td>\n",
       "      <td>d22fc51c6dcbdbf5b32e4b059311a8cc</td>\n",
       "      <td>48.937421</td>\n",
       "      <td>2.372037</td>\n",
       "      <td>Henri Barbusse - Marcel Cachin</td>\n",
       "      <td>2023-08-28T14:47:42.700000Z</td>\n",
       "    </tr>\n",
       "    <tr>\n",
       "      <th>1453</th>\n",
       "      <td>19</td>\n",
       "      <td>{'banking': True, 'ebikes': 3, 'last_updated':...</td>\n",
       "      <td>10</td>\n",
       "      <td>47d97d04d1a5b597a365d7f68b791628</td>\n",
       "      <td>48.814548</td>\n",
       "      <td>2.402439</td>\n",
       "      <td>Stéphanie Bouvard - Gambetta</td>\n",
       "      <td>2023-08-28T14:47:42.781000Z</td>\n",
       "    </tr>\n",
       "    <tr>\n",
       "      <th>1454</th>\n",
       "      <td>20</td>\n",
       "      <td>{'banking': True, 'ebikes': 0, 'last_updated':...</td>\n",
       "      <td>0</td>\n",
       "      <td>84cbab7aaa840fb2d2b5a6349bf643a3</td>\n",
       "      <td>48.879487</td>\n",
       "      <td>2.416153</td>\n",
       "      <td>Mairie</td>\n",
       "      <td>2023-08-28T14:47:43.104000Z</td>\n",
       "    </tr>\n",
       "    <tr>\n",
       "      <th>1455</th>\n",
       "      <td>16</td>\n",
       "      <td>{'banking': False, 'ebikes': 3, 'last_updated'...</td>\n",
       "      <td>4</td>\n",
       "      <td>908ea4992f0910f1a9f8c87a986495e8</td>\n",
       "      <td>48.778193</td>\n",
       "      <td>2.396302</td>\n",
       "      <td>Rouget de L'isle - Watteau</td>\n",
       "      <td>2023-08-28T14:47:41.836000Z</td>\n",
       "    </tr>\n",
       "  </tbody>\n",
       "</table>\n",
       "<p>1456 rows × 8 columns</p>\n",
       "</div>"
      ],
      "text/plain": [
       "      empty_slots                                              extra  \\\n",
       "0              29  {'banking': False, 'ebikes': 1, 'last_updated'...   \n",
       "1               1  {'banking': True, 'ebikes': 12, 'last_updated'...   \n",
       "2              17  {'banking': True, 'ebikes': 10, 'last_updated'...   \n",
       "3               2  {'banking': True, 'ebikes': 7, 'last_updated':...   \n",
       "4              18  {'banking': True, 'ebikes': 3, 'last_updated':...   \n",
       "...           ...                                                ...   \n",
       "1451           20  {'banking': True, 'ebikes': 1, 'last_updated':...   \n",
       "1452           24  {'banking': True, 'ebikes': 11, 'last_updated'...   \n",
       "1453           19  {'banking': True, 'ebikes': 3, 'last_updated':...   \n",
       "1454           20  {'banking': True, 'ebikes': 0, 'last_updated':...   \n",
       "1455           16  {'banking': False, 'ebikes': 3, 'last_updated'...   \n",
       "\n",
       "      free_bikes                                id   latitude  longitude  \\\n",
       "0              4  78ec9186acd18a0b30bd3156d24b9f8d  48.865983   2.275725   \n",
       "1             52  43c856353b954711f2bbee185a1f9d04  48.853756   2.339096   \n",
       "2             21  9b2700f3b19beb1dd9df2fd6a013789f  48.867872   2.364898   \n",
       "3             17  80778031e1a033712bfc3a27a190d5dd  48.856452   2.334852   \n",
       "4              3  f8f9ec30d28856f9b7fad103be9e4674  48.879296   2.337360   \n",
       "...          ...                               ...        ...        ...   \n",
       "1451           1  fa0a7accc90cac2586922224f5f1c589  48.862453   2.196167   \n",
       "1452          13  d22fc51c6dcbdbf5b32e4b059311a8cc  48.937421   2.372037   \n",
       "1453          10  47d97d04d1a5b597a365d7f68b791628  48.814548   2.402439   \n",
       "1454           0  84cbab7aaa840fb2d2b5a6349bf643a3  48.879487   2.416153   \n",
       "1455           4  908ea4992f0910f1a9f8c87a986495e8  48.778193   2.396302   \n",
       "\n",
       "                                    name                    timestamp  \n",
       "0          Benjamin Godard - Victor Hugo  2023-08-28T14:47:43.143000Z  \n",
       "1     André Mazet - Saint-André des Arts  2023-08-28T14:47:43.091000Z  \n",
       "2        Faubourg Du Temple - Republique  2023-08-28T14:47:41.910000Z  \n",
       "3                 Beaux-Arts - Bonaparte  2023-08-28T14:47:42.269000Z  \n",
       "4                     Toudouze - Clauzel  2023-08-28T14:47:42.337000Z  \n",
       "...                                  ...                          ...  \n",
       "1451                Place Nelson Mandela  2023-08-28T14:47:42.371000Z  \n",
       "1452      Henri Barbusse - Marcel Cachin  2023-08-28T14:47:42.700000Z  \n",
       "1453        Stéphanie Bouvard - Gambetta  2023-08-28T14:47:42.781000Z  \n",
       "1454                              Mairie  2023-08-28T14:47:43.104000Z  \n",
       "1455          Rouget de L'isle - Watteau  2023-08-28T14:47:41.836000Z  \n",
       "\n",
       "[1456 rows x 8 columns]"
      ]
     },
     "execution_count": 140,
     "metadata": {},
     "output_type": "execute_result"
    }
   ],
   "source": [
    "df = pd.DataFrame(data1['stations'])\n",
    "df"
   ]
  },
  {
   "cell_type": "markdown",
   "id": "c2af1755-af98-44e0-a615-2773a214caf0",
   "metadata": {},
   "source": [
    "# Foursquare API"
   ]
  },
  {
   "cell_type": "code",
   "execution_count": 534,
   "id": "c96e8e97-f097-41c5-8d66-943a232e89ec",
   "metadata": {
    "tags": []
   },
   "outputs": [],
   "source": [
    "def fs_call(query,latitude,longitude,radius):\n",
    "    import requests\n",
    "\n",
    "    url = \"https://api.foursquare.com/v3/places/search\"\n",
    "\n",
    "    params = {\n",
    "        \"query\": \"Bar\",\n",
    "        \"ll\": f'{latitude},{longitude}',\n",
    "        \"radius\": radius,\n",
    "        \"sort\":\"DISTANCE\"\n",
    "    }\n",
    "\n",
    "    headers = {\n",
    "        \"Accept\": \"application/json\",\n",
    "        \"Authorization\": \"fsq3BQAqUk8AGjMKyi9vaiYy0SOlZ4gZUueUDBhYPCKo42k=\"\n",
    "    }\n",
    "\n",
    "    response = requests.request(\"GET\", url, params=params, headers=headers)\n",
    "\n",
    "    fs_data = response.json()\n",
    "    \n",
    "    return fs_data"
   ]
  },
  {
   "cell_type": "code",
   "execution_count": 535,
   "id": "ce2e209f-e177-46e8-923c-c027c2fadab6",
   "metadata": {
    "tags": []
   },
   "outputs": [
    {
     "ename": "TypeError",
     "evalue": "fs_call() missing 2 required positional arguments: 'longitude' and 'radius'",
     "output_type": "error",
     "traceback": [
      "\u001b[0;31m---------------------------------------------------------------------------\u001b[0m",
      "\u001b[0;31mTypeError\u001b[0m                                 Traceback (most recent call last)",
      "Cell \u001b[0;32mIn[535], line 1\u001b[0m\n\u001b[0;32m----> 1\u001b[0m fs_data \u001b[38;5;241m=\u001b[39m fs_call(\u001b[38;5;124m'\u001b[39m\u001b[38;5;124m48.865983\u001b[39m\u001b[38;5;124m'\u001b[39m,\u001b[38;5;124m'\u001b[39m\u001b[38;5;124m2.275725\u001b[39m\u001b[38;5;124m'\u001b[39m)\n",
      "\u001b[0;31mTypeError\u001b[0m: fs_call() missing 2 required positional arguments: 'longitude' and 'radius'"
     ]
    }
   ],
   "source": [
    "for \n",
    "fs_data = fs_call('48.865983','2.275725')"
   ]
  },
  {
   "cell_type": "code",
   "execution_count": 538,
   "id": "3bf65bbd-38a1-436b-ab3a-d56557103717",
   "metadata": {
    "tags": []
   },
   "outputs": [
    {
     "ename": "TypeError",
     "evalue": "fs_call() missing 1 required positional argument: 'radius'",
     "output_type": "error",
     "traceback": [
      "\u001b[0;31m---------------------------------------------------------------------------\u001b[0m",
      "\u001b[0;31mTypeError\u001b[0m                                 Traceback (most recent call last)",
      "Cell \u001b[0;32mIn[538], line 12\u001b[0m\n\u001b[1;32m     10\u001b[0m radius \u001b[38;5;241m=\u001b[39m \u001b[38;5;241m1000\u001b[39m\n\u001b[1;32m     11\u001b[0m \u001b[38;5;66;03m# Call FourSquare API\u001b[39;00m\n\u001b[0;32m---> 12\u001b[0m data \u001b[38;5;241m=\u001b[39m fs_call(lat,long,radius)\n\u001b[1;32m     14\u001b[0m \u001b[38;5;66;03m# Transform Data\u001b[39;00m\n\u001b[1;32m     15\u001b[0m \n\u001b[1;32m     16\u001b[0m \u001b[38;5;66;03m# Add data to master list\u001b[39;00m\n\u001b[1;32m     17\u001b[0m all_data\u001b[38;5;241m.\u001b[39mappend(data)\n",
      "\u001b[0;31mTypeError\u001b[0m: fs_call() missing 1 required positional argument: 'radius'"
     ]
    }
   ],
   "source": [
    "rows = 0\n",
    "all_data = []\n",
    "\n",
    "# For Station in DataFrame\n",
    "for station in df:\n",
    "    # Set latitude\n",
    "    lat = df['latitude'][rows]\n",
    "    # Set longitude\n",
    "    long = df['longitude'][rows]\n",
    "    radius = 1000\n",
    "    # Call FourSquare API\n",
    "    data = fs_call(lat,long,radius)\n",
    "    \n",
    "    # Transform Data\n",
    "    \n",
    "    # Add data to master list\n",
    "    all_data.append(data)\n",
    "    \n",
    "    rows += 1\n",
    "    \n",
    "all_data[0]['results']"
   ]
  },
  {
   "cell_type": "code",
   "execution_count": 302,
   "id": "6e388e03-b4f6-46cc-8bd6-df3c6ce11b7d",
   "metadata": {
    "tags": []
   },
   "outputs": [],
   "source": [
    "fs_results = all_data[0]['results']"
   ]
  },
  {
   "cell_type": "code",
   "execution_count": 308,
   "id": "49e62c8e-a9b2-4a6e-81bd-27799dc724b2",
   "metadata": {
    "tags": []
   },
   "outputs": [
    {
     "data": {
      "text/plain": [
       "dict_keys(['fsq_id', 'categories', 'chains', 'distance', 'geocodes', 'link', 'location', 'name', 'related_places', 'timezone'])"
      ]
     },
     "execution_count": 308,
     "metadata": {},
     "output_type": "execute_result"
    }
   ],
   "source": [
    "fs_results[0].keys()"
   ]
  },
  {
   "cell_type": "code",
   "execution_count": 316,
   "id": "a76113a2-02f7-4c9b-a33c-258ee598a2cb",
   "metadata": {
    "tags": []
   },
   "outputs": [
    {
     "data": {
      "text/plain": [
       "'57caabf0cd107656b7a22851'"
      ]
     },
     "execution_count": 316,
     "metadata": {},
     "output_type": "execute_result"
    }
   ],
   "source": [
    "fs_results[0]['']"
   ]
  },
  {
   "cell_type": "code",
   "execution_count": 331,
   "id": "a738b45e-57d6-4133-8e57-097fb5afcd16",
   "metadata": {
    "tags": []
   },
   "outputs": [],
   "source": [
    "cats = fs_results[0]['categories']"
   ]
  },
  {
   "cell_type": "code",
   "execution_count": 306,
   "id": "72fa4f86-0ab6-4f1f-ba0c-f1fb20c21be0",
   "metadata": {
    "tags": []
   },
   "outputs": [
    {
     "data": {
      "text/plain": [
       "'Le Zinc du 16'"
      ]
     },
     "execution_count": 306,
     "metadata": {},
     "output_type": "execute_result"
    }
   ],
   "source": [
    "name = fs_results[0]['name']\n",
    "name"
   ]
  },
  {
   "cell_type": "code",
   "execution_count": 323,
   "id": "73840914-a547-4e16-a4c7-541573a831cd",
   "metadata": {
    "tags": []
   },
   "outputs": [
    {
     "data": {
      "text/plain": [
       "'FR'"
      ]
     },
     "execution_count": 323,
     "metadata": {},
     "output_type": "execute_result"
    }
   ],
   "source": [
    "location = fs_results[0]['location']\n",
    "city = location['locality']\n",
    "country = location['country']\n",
    "\n",
    "country"
   ]
  },
  {
   "cell_type": "code",
   "execution_count": 398,
   "id": "e01930c3-fce5-474f-bd6a-6eeed4dadcab",
   "metadata": {
    "tags": []
   },
   "outputs": [
    {
     "name": "stdout",
     "output_type": "stream",
     "text": [
      "            Name   City Country\n",
      "0  Le Zinc du 16  Paris      FR\n",
      "                                 Name   City Country\n",
      "1  Antoinette Lemens Executive Search  Paris      FR\n",
      "          Name   City Country\n",
      "2  Le Flandrin  Paris      FR\n",
      "                          Name   City Country\n",
      "3  Tennis Henry de Montherlant  Paris      FR\n",
      "                                Name   City Country\n",
      "4  Noir - Coffee Shop & Torréfacteur  Paris      FR\n",
      "       Name   City Country\n",
      "5  Franprix  Paris      FR\n",
      "   Name   City Country\n",
      "6  Ciro  Paris      FR\n",
      "    Name   City Country\n",
      "7  Béchu  Paris      FR\n",
      "         Name   City Country\n",
      "8  Il Cottage  Paris      FR\n",
      "               Name   City Country\n",
      "9  Giulio Rebellato  Paris      FR\n",
      "Empty DataFrame\n",
      "Columns: []\n",
      "Index: []\n"
     ]
    }
   ],
   "source": [
    "res = 0\n",
    "all_results = pd.DataFrame()\n",
    "\n",
    "for result in fs_results:\n",
    "    result_dict = pd.DataFrame({'Name': fs_results[res]['name'], \n",
    "        'City': fs_results[res]['location']['locality'],\n",
    "        'Country': fs_results[res]['location']['country']},\n",
    "                              index=[res])\n",
    "    \n",
    "    pd.concat([all_results, result_dict])\n",
    "    \n",
    "    print(result_dict)\n",
    "    res += 1\n",
    "\n",
    "print(all_results)"
   ]
  },
  {
   "cell_type": "code",
   "execution_count": null,
   "id": "166e17a9-7406-4d4f-92c4-735d00f52d94",
   "metadata": {
    "jupyter": {
     "source_hidden": true
    },
    "tags": []
   },
   "outputs": [],
   "source": []
  },
  {
   "cell_type": "code",
   "execution_count": 506,
   "id": "c4e06c26-686f-4f49-a390-a8aa144acb07",
   "metadata": {
    "tags": []
   },
   "outputs": [],
   "source": [
    "def fs_req(query,lat,long,radius):\n",
    "    import requests\n",
    "\n",
    "    url = f\"https://api.foursquare.com/v3/places/search?query={query}&ll={lat}%2C{long}&radius={radius}\"\n",
    "\n",
    "    headers = {\n",
    "        \"accept\": \"application/json\",\n",
    "        \"Authorization\": \"fsq3BQAqUk8AGjMKyi9vaiYy0SOlZ4gZUueUDBhYPCKo42k=\"\n",
    "    }\n",
    "\n",
    "    response = requests.get(url, headers=headers)\n",
    "\n",
    "    fs_data = response.json()\n",
    "    \n",
    "    return fs_data\n",
    "\n"
   ]
  },
  {
   "cell_type": "code",
   "execution_count": 635,
   "id": "581ee4f1-9b2f-4981-9f98-ee0f20b2ab40",
   "metadata": {
    "collapsed": true,
    "jupyter": {
     "outputs_hidden": true
    },
    "tags": []
   },
   "outputs": [
    {
     "name": "stdout",
     "output_type": "stream",
     "text": [
      "10\n",
      "10\n",
      "10\n",
      "10\n",
      "10\n",
      "10\n",
      "10\n",
      "10\n",
      "10\n",
      "10\n",
      "10\n",
      "10\n"
     ]
    },
    {
     "ename": "KeyboardInterrupt",
     "evalue": "",
     "output_type": "error",
     "traceback": [
      "\u001b[0;31m---------------------------------------------------------------------------\u001b[0m",
      "\u001b[0;31mKeyboardInterrupt\u001b[0m                         Traceback (most recent call last)",
      "Cell \u001b[0;32mIn[635], line 9\u001b[0m\n\u001b[1;32m      6\u001b[0m long \u001b[38;5;241m=\u001b[39m bike_stations[\u001b[38;5;124m'\u001b[39m\u001b[38;5;124mlong\u001b[39m\u001b[38;5;124m'\u001b[39m][i]\n\u001b[1;32m      7\u001b[0m radius \u001b[38;5;241m=\u001b[39m \u001b[38;5;241m1000\u001b[39m\n\u001b[0;32m----> 9\u001b[0m fs_req(query,lat,long,radius)\n\u001b[1;32m     10\u001b[0m \u001b[38;5;28mprint\u001b[39m(\u001b[38;5;28mlen\u001b[39m(fs_data[\u001b[38;5;124m'\u001b[39m\u001b[38;5;124mresults\u001b[39m\u001b[38;5;124m'\u001b[39m]))\n\u001b[1;32m     12\u001b[0m i \u001b[38;5;241m+\u001b[39m\u001b[38;5;241m=\u001b[39m\u001b[38;5;241m1\u001b[39m\n",
      "Cell \u001b[0;32mIn[506], line 11\u001b[0m, in \u001b[0;36mfs_req\u001b[0;34m(query, lat, long, radius)\u001b[0m\n\u001b[1;32m      4\u001b[0m url \u001b[38;5;241m=\u001b[39m \u001b[38;5;124mf\u001b[39m\u001b[38;5;124m\"\u001b[39m\u001b[38;5;124mhttps://api.foursquare.com/v3/places/search?query=\u001b[39m\u001b[38;5;132;01m{\u001b[39;00mquery\u001b[38;5;132;01m}\u001b[39;00m\u001b[38;5;124m&ll=\u001b[39m\u001b[38;5;132;01m{\u001b[39;00mlat\u001b[38;5;132;01m}\u001b[39;00m\u001b[38;5;124m%2C\u001b[39m\u001b[38;5;132;01m{\u001b[39;00mlong\u001b[38;5;132;01m}\u001b[39;00m\u001b[38;5;124m&radius=\u001b[39m\u001b[38;5;132;01m{\u001b[39;00mradius\u001b[38;5;132;01m}\u001b[39;00m\u001b[38;5;124m\"\u001b[39m\n\u001b[1;32m      6\u001b[0m headers \u001b[38;5;241m=\u001b[39m {\n\u001b[1;32m      7\u001b[0m     \u001b[38;5;124m\"\u001b[39m\u001b[38;5;124maccept\u001b[39m\u001b[38;5;124m\"\u001b[39m: \u001b[38;5;124m\"\u001b[39m\u001b[38;5;124mapplication/json\u001b[39m\u001b[38;5;124m\"\u001b[39m,\n\u001b[1;32m      8\u001b[0m     \u001b[38;5;124m\"\u001b[39m\u001b[38;5;124mAuthorization\u001b[39m\u001b[38;5;124m\"\u001b[39m: \u001b[38;5;124m\"\u001b[39m\u001b[38;5;124mfsq3BQAqUk8AGjMKyi9vaiYy0SOlZ4gZUueUDBhYPCKo42k=\u001b[39m\u001b[38;5;124m\"\u001b[39m\n\u001b[1;32m      9\u001b[0m }\n\u001b[0;32m---> 11\u001b[0m response \u001b[38;5;241m=\u001b[39m requests\u001b[38;5;241m.\u001b[39mget(url, headers\u001b[38;5;241m=\u001b[39mheaders)\n\u001b[1;32m     13\u001b[0m fs_data \u001b[38;5;241m=\u001b[39m response\u001b[38;5;241m.\u001b[39mjson()\n\u001b[1;32m     15\u001b[0m \u001b[38;5;28;01mreturn\u001b[39;00m fs_data\n",
      "File \u001b[0;32m~/anaconda3/lib/python3.11/site-packages/requests/api.py:73\u001b[0m, in \u001b[0;36mget\u001b[0;34m(url, params, **kwargs)\u001b[0m\n\u001b[1;32m     62\u001b[0m \u001b[38;5;28;01mdef\u001b[39;00m \u001b[38;5;21mget\u001b[39m(url, params\u001b[38;5;241m=\u001b[39m\u001b[38;5;28;01mNone\u001b[39;00m, \u001b[38;5;241m*\u001b[39m\u001b[38;5;241m*\u001b[39mkwargs):\n\u001b[1;32m     63\u001b[0m \u001b[38;5;250m    \u001b[39m\u001b[38;5;124mr\u001b[39m\u001b[38;5;124;03m\"\"\"Sends a GET request.\u001b[39;00m\n\u001b[1;32m     64\u001b[0m \n\u001b[1;32m     65\u001b[0m \u001b[38;5;124;03m    :param url: URL for the new :class:`Request` object.\u001b[39;00m\n\u001b[0;32m   (...)\u001b[0m\n\u001b[1;32m     70\u001b[0m \u001b[38;5;124;03m    :rtype: requests.Response\u001b[39;00m\n\u001b[1;32m     71\u001b[0m \u001b[38;5;124;03m    \"\"\"\u001b[39;00m\n\u001b[0;32m---> 73\u001b[0m     \u001b[38;5;28;01mreturn\u001b[39;00m request(\u001b[38;5;124m\"\u001b[39m\u001b[38;5;124mget\u001b[39m\u001b[38;5;124m\"\u001b[39m, url, params\u001b[38;5;241m=\u001b[39mparams, \u001b[38;5;241m*\u001b[39m\u001b[38;5;241m*\u001b[39mkwargs)\n",
      "File \u001b[0;32m~/anaconda3/lib/python3.11/site-packages/requests/api.py:59\u001b[0m, in \u001b[0;36mrequest\u001b[0;34m(method, url, **kwargs)\u001b[0m\n\u001b[1;32m     55\u001b[0m \u001b[38;5;66;03m# By using the 'with' statement we are sure the session is closed, thus we\u001b[39;00m\n\u001b[1;32m     56\u001b[0m \u001b[38;5;66;03m# avoid leaving sockets open which can trigger a ResourceWarning in some\u001b[39;00m\n\u001b[1;32m     57\u001b[0m \u001b[38;5;66;03m# cases, and look like a memory leak in others.\u001b[39;00m\n\u001b[1;32m     58\u001b[0m \u001b[38;5;28;01mwith\u001b[39;00m sessions\u001b[38;5;241m.\u001b[39mSession() \u001b[38;5;28;01mas\u001b[39;00m session:\n\u001b[0;32m---> 59\u001b[0m     \u001b[38;5;28;01mreturn\u001b[39;00m session\u001b[38;5;241m.\u001b[39mrequest(method\u001b[38;5;241m=\u001b[39mmethod, url\u001b[38;5;241m=\u001b[39murl, \u001b[38;5;241m*\u001b[39m\u001b[38;5;241m*\u001b[39mkwargs)\n",
      "File \u001b[0;32m~/anaconda3/lib/python3.11/site-packages/requests/sessions.py:589\u001b[0m, in \u001b[0;36mSession.request\u001b[0;34m(self, method, url, params, data, headers, cookies, files, auth, timeout, allow_redirects, proxies, hooks, stream, verify, cert, json)\u001b[0m\n\u001b[1;32m    584\u001b[0m send_kwargs \u001b[38;5;241m=\u001b[39m {\n\u001b[1;32m    585\u001b[0m     \u001b[38;5;124m\"\u001b[39m\u001b[38;5;124mtimeout\u001b[39m\u001b[38;5;124m\"\u001b[39m: timeout,\n\u001b[1;32m    586\u001b[0m     \u001b[38;5;124m\"\u001b[39m\u001b[38;5;124mallow_redirects\u001b[39m\u001b[38;5;124m\"\u001b[39m: allow_redirects,\n\u001b[1;32m    587\u001b[0m }\n\u001b[1;32m    588\u001b[0m send_kwargs\u001b[38;5;241m.\u001b[39mupdate(settings)\n\u001b[0;32m--> 589\u001b[0m resp \u001b[38;5;241m=\u001b[39m \u001b[38;5;28mself\u001b[39m\u001b[38;5;241m.\u001b[39msend(prep, \u001b[38;5;241m*\u001b[39m\u001b[38;5;241m*\u001b[39msend_kwargs)\n\u001b[1;32m    591\u001b[0m \u001b[38;5;28;01mreturn\u001b[39;00m resp\n",
      "File \u001b[0;32m~/anaconda3/lib/python3.11/site-packages/requests/sessions.py:703\u001b[0m, in \u001b[0;36mSession.send\u001b[0;34m(self, request, **kwargs)\u001b[0m\n\u001b[1;32m    700\u001b[0m start \u001b[38;5;241m=\u001b[39m preferred_clock()\n\u001b[1;32m    702\u001b[0m \u001b[38;5;66;03m# Send the request\u001b[39;00m\n\u001b[0;32m--> 703\u001b[0m r \u001b[38;5;241m=\u001b[39m adapter\u001b[38;5;241m.\u001b[39msend(request, \u001b[38;5;241m*\u001b[39m\u001b[38;5;241m*\u001b[39mkwargs)\n\u001b[1;32m    705\u001b[0m \u001b[38;5;66;03m# Total elapsed time of the request (approximately)\u001b[39;00m\n\u001b[1;32m    706\u001b[0m elapsed \u001b[38;5;241m=\u001b[39m preferred_clock() \u001b[38;5;241m-\u001b[39m start\n",
      "File \u001b[0;32m~/anaconda3/lib/python3.11/site-packages/requests/adapters.py:486\u001b[0m, in \u001b[0;36mHTTPAdapter.send\u001b[0;34m(self, request, stream, timeout, verify, cert, proxies)\u001b[0m\n\u001b[1;32m    483\u001b[0m     timeout \u001b[38;5;241m=\u001b[39m TimeoutSauce(connect\u001b[38;5;241m=\u001b[39mtimeout, read\u001b[38;5;241m=\u001b[39mtimeout)\n\u001b[1;32m    485\u001b[0m \u001b[38;5;28;01mtry\u001b[39;00m:\n\u001b[0;32m--> 486\u001b[0m     resp \u001b[38;5;241m=\u001b[39m conn\u001b[38;5;241m.\u001b[39murlopen(\n\u001b[1;32m    487\u001b[0m         method\u001b[38;5;241m=\u001b[39mrequest\u001b[38;5;241m.\u001b[39mmethod,\n\u001b[1;32m    488\u001b[0m         url\u001b[38;5;241m=\u001b[39murl,\n\u001b[1;32m    489\u001b[0m         body\u001b[38;5;241m=\u001b[39mrequest\u001b[38;5;241m.\u001b[39mbody,\n\u001b[1;32m    490\u001b[0m         headers\u001b[38;5;241m=\u001b[39mrequest\u001b[38;5;241m.\u001b[39mheaders,\n\u001b[1;32m    491\u001b[0m         redirect\u001b[38;5;241m=\u001b[39m\u001b[38;5;28;01mFalse\u001b[39;00m,\n\u001b[1;32m    492\u001b[0m         assert_same_host\u001b[38;5;241m=\u001b[39m\u001b[38;5;28;01mFalse\u001b[39;00m,\n\u001b[1;32m    493\u001b[0m         preload_content\u001b[38;5;241m=\u001b[39m\u001b[38;5;28;01mFalse\u001b[39;00m,\n\u001b[1;32m    494\u001b[0m         decode_content\u001b[38;5;241m=\u001b[39m\u001b[38;5;28;01mFalse\u001b[39;00m,\n\u001b[1;32m    495\u001b[0m         retries\u001b[38;5;241m=\u001b[39m\u001b[38;5;28mself\u001b[39m\u001b[38;5;241m.\u001b[39mmax_retries,\n\u001b[1;32m    496\u001b[0m         timeout\u001b[38;5;241m=\u001b[39mtimeout,\n\u001b[1;32m    497\u001b[0m         chunked\u001b[38;5;241m=\u001b[39mchunked,\n\u001b[1;32m    498\u001b[0m     )\n\u001b[1;32m    500\u001b[0m \u001b[38;5;28;01mexcept\u001b[39;00m (ProtocolError, \u001b[38;5;167;01mOSError\u001b[39;00m) \u001b[38;5;28;01mas\u001b[39;00m err:\n\u001b[1;32m    501\u001b[0m     \u001b[38;5;28;01mraise\u001b[39;00m \u001b[38;5;167;01mConnectionError\u001b[39;00m(err, request\u001b[38;5;241m=\u001b[39mrequest)\n",
      "File \u001b[0;32m~/anaconda3/lib/python3.11/site-packages/urllib3/connectionpool.py:714\u001b[0m, in \u001b[0;36mHTTPConnectionPool.urlopen\u001b[0;34m(self, method, url, body, headers, retries, redirect, assert_same_host, timeout, pool_timeout, release_conn, chunked, body_pos, **response_kw)\u001b[0m\n\u001b[1;32m    711\u001b[0m     \u001b[38;5;28mself\u001b[39m\u001b[38;5;241m.\u001b[39m_prepare_proxy(conn)\n\u001b[1;32m    713\u001b[0m \u001b[38;5;66;03m# Make the request on the httplib connection object.\u001b[39;00m\n\u001b[0;32m--> 714\u001b[0m httplib_response \u001b[38;5;241m=\u001b[39m \u001b[38;5;28mself\u001b[39m\u001b[38;5;241m.\u001b[39m_make_request(\n\u001b[1;32m    715\u001b[0m     conn,\n\u001b[1;32m    716\u001b[0m     method,\n\u001b[1;32m    717\u001b[0m     url,\n\u001b[1;32m    718\u001b[0m     timeout\u001b[38;5;241m=\u001b[39mtimeout_obj,\n\u001b[1;32m    719\u001b[0m     body\u001b[38;5;241m=\u001b[39mbody,\n\u001b[1;32m    720\u001b[0m     headers\u001b[38;5;241m=\u001b[39mheaders,\n\u001b[1;32m    721\u001b[0m     chunked\u001b[38;5;241m=\u001b[39mchunked,\n\u001b[1;32m    722\u001b[0m )\n\u001b[1;32m    724\u001b[0m \u001b[38;5;66;03m# If we're going to release the connection in ``finally:``, then\u001b[39;00m\n\u001b[1;32m    725\u001b[0m \u001b[38;5;66;03m# the response doesn't need to know about the connection. Otherwise\u001b[39;00m\n\u001b[1;32m    726\u001b[0m \u001b[38;5;66;03m# it will also try to release it and we'll have a double-release\u001b[39;00m\n\u001b[1;32m    727\u001b[0m \u001b[38;5;66;03m# mess.\u001b[39;00m\n\u001b[1;32m    728\u001b[0m response_conn \u001b[38;5;241m=\u001b[39m conn \u001b[38;5;28;01mif\u001b[39;00m \u001b[38;5;129;01mnot\u001b[39;00m release_conn \u001b[38;5;28;01melse\u001b[39;00m \u001b[38;5;28;01mNone\u001b[39;00m\n",
      "File \u001b[0;32m~/anaconda3/lib/python3.11/site-packages/urllib3/connectionpool.py:403\u001b[0m, in \u001b[0;36mHTTPConnectionPool._make_request\u001b[0;34m(self, conn, method, url, timeout, chunked, **httplib_request_kw)\u001b[0m\n\u001b[1;32m    401\u001b[0m \u001b[38;5;66;03m# Trigger any extra validation we need to do.\u001b[39;00m\n\u001b[1;32m    402\u001b[0m \u001b[38;5;28;01mtry\u001b[39;00m:\n\u001b[0;32m--> 403\u001b[0m     \u001b[38;5;28mself\u001b[39m\u001b[38;5;241m.\u001b[39m_validate_conn(conn)\n\u001b[1;32m    404\u001b[0m \u001b[38;5;28;01mexcept\u001b[39;00m (SocketTimeout, BaseSSLError) \u001b[38;5;28;01mas\u001b[39;00m e:\n\u001b[1;32m    405\u001b[0m     \u001b[38;5;66;03m# Py2 raises this as a BaseSSLError, Py3 raises it as socket timeout.\u001b[39;00m\n\u001b[1;32m    406\u001b[0m     \u001b[38;5;28mself\u001b[39m\u001b[38;5;241m.\u001b[39m_raise_timeout(err\u001b[38;5;241m=\u001b[39me, url\u001b[38;5;241m=\u001b[39murl, timeout_value\u001b[38;5;241m=\u001b[39mconn\u001b[38;5;241m.\u001b[39mtimeout)\n",
      "File \u001b[0;32m~/anaconda3/lib/python3.11/site-packages/urllib3/connectionpool.py:1053\u001b[0m, in \u001b[0;36mHTTPSConnectionPool._validate_conn\u001b[0;34m(self, conn)\u001b[0m\n\u001b[1;32m   1051\u001b[0m \u001b[38;5;66;03m# Force connect early to allow us to validate the connection.\u001b[39;00m\n\u001b[1;32m   1052\u001b[0m \u001b[38;5;28;01mif\u001b[39;00m \u001b[38;5;129;01mnot\u001b[39;00m \u001b[38;5;28mgetattr\u001b[39m(conn, \u001b[38;5;124m\"\u001b[39m\u001b[38;5;124msock\u001b[39m\u001b[38;5;124m\"\u001b[39m, \u001b[38;5;28;01mNone\u001b[39;00m):  \u001b[38;5;66;03m# AppEngine might not have  `.sock`\u001b[39;00m\n\u001b[0;32m-> 1053\u001b[0m     conn\u001b[38;5;241m.\u001b[39mconnect()\n\u001b[1;32m   1055\u001b[0m \u001b[38;5;28;01mif\u001b[39;00m \u001b[38;5;129;01mnot\u001b[39;00m conn\u001b[38;5;241m.\u001b[39mis_verified:\n\u001b[1;32m   1056\u001b[0m     warnings\u001b[38;5;241m.\u001b[39mwarn(\n\u001b[1;32m   1057\u001b[0m         (\n\u001b[1;32m   1058\u001b[0m             \u001b[38;5;124m\"\u001b[39m\u001b[38;5;124mUnverified HTTPS request is being made to host \u001b[39m\u001b[38;5;124m'\u001b[39m\u001b[38;5;132;01m%s\u001b[39;00m\u001b[38;5;124m'\u001b[39m\u001b[38;5;124m. \u001b[39m\u001b[38;5;124m\"\u001b[39m\n\u001b[0;32m   (...)\u001b[0m\n\u001b[1;32m   1063\u001b[0m         InsecureRequestWarning,\n\u001b[1;32m   1064\u001b[0m     )\n",
      "File \u001b[0;32m~/anaconda3/lib/python3.11/site-packages/urllib3/connection.py:419\u001b[0m, in \u001b[0;36mHTTPSConnection.connect\u001b[0;34m(self)\u001b[0m\n\u001b[1;32m    410\u001b[0m \u001b[38;5;28;01mif\u001b[39;00m (\n\u001b[1;32m    411\u001b[0m     \u001b[38;5;129;01mnot\u001b[39;00m \u001b[38;5;28mself\u001b[39m\u001b[38;5;241m.\u001b[39mca_certs\n\u001b[1;32m    412\u001b[0m     \u001b[38;5;129;01mand\u001b[39;00m \u001b[38;5;129;01mnot\u001b[39;00m \u001b[38;5;28mself\u001b[39m\u001b[38;5;241m.\u001b[39mca_cert_dir\n\u001b[0;32m   (...)\u001b[0m\n\u001b[1;32m    415\u001b[0m     \u001b[38;5;129;01mand\u001b[39;00m \u001b[38;5;28mhasattr\u001b[39m(context, \u001b[38;5;124m\"\u001b[39m\u001b[38;5;124mload_default_certs\u001b[39m\u001b[38;5;124m\"\u001b[39m)\n\u001b[1;32m    416\u001b[0m ):\n\u001b[1;32m    417\u001b[0m     context\u001b[38;5;241m.\u001b[39mload_default_certs()\n\u001b[0;32m--> 419\u001b[0m \u001b[38;5;28mself\u001b[39m\u001b[38;5;241m.\u001b[39msock \u001b[38;5;241m=\u001b[39m ssl_wrap_socket(\n\u001b[1;32m    420\u001b[0m     sock\u001b[38;5;241m=\u001b[39mconn,\n\u001b[1;32m    421\u001b[0m     keyfile\u001b[38;5;241m=\u001b[39m\u001b[38;5;28mself\u001b[39m\u001b[38;5;241m.\u001b[39mkey_file,\n\u001b[1;32m    422\u001b[0m     certfile\u001b[38;5;241m=\u001b[39m\u001b[38;5;28mself\u001b[39m\u001b[38;5;241m.\u001b[39mcert_file,\n\u001b[1;32m    423\u001b[0m     key_password\u001b[38;5;241m=\u001b[39m\u001b[38;5;28mself\u001b[39m\u001b[38;5;241m.\u001b[39mkey_password,\n\u001b[1;32m    424\u001b[0m     ca_certs\u001b[38;5;241m=\u001b[39m\u001b[38;5;28mself\u001b[39m\u001b[38;5;241m.\u001b[39mca_certs,\n\u001b[1;32m    425\u001b[0m     ca_cert_dir\u001b[38;5;241m=\u001b[39m\u001b[38;5;28mself\u001b[39m\u001b[38;5;241m.\u001b[39mca_cert_dir,\n\u001b[1;32m    426\u001b[0m     ca_cert_data\u001b[38;5;241m=\u001b[39m\u001b[38;5;28mself\u001b[39m\u001b[38;5;241m.\u001b[39mca_cert_data,\n\u001b[1;32m    427\u001b[0m     server_hostname\u001b[38;5;241m=\u001b[39mserver_hostname,\n\u001b[1;32m    428\u001b[0m     ssl_context\u001b[38;5;241m=\u001b[39mcontext,\n\u001b[1;32m    429\u001b[0m     tls_in_tls\u001b[38;5;241m=\u001b[39mtls_in_tls,\n\u001b[1;32m    430\u001b[0m )\n\u001b[1;32m    432\u001b[0m \u001b[38;5;66;03m# If we're using all defaults and the connection\u001b[39;00m\n\u001b[1;32m    433\u001b[0m \u001b[38;5;66;03m# is TLSv1 or TLSv1.1 we throw a DeprecationWarning\u001b[39;00m\n\u001b[1;32m    434\u001b[0m \u001b[38;5;66;03m# for the host.\u001b[39;00m\n\u001b[1;32m    435\u001b[0m \u001b[38;5;28;01mif\u001b[39;00m (\n\u001b[1;32m    436\u001b[0m     default_ssl_context\n\u001b[1;32m    437\u001b[0m     \u001b[38;5;129;01mand\u001b[39;00m \u001b[38;5;28mself\u001b[39m\u001b[38;5;241m.\u001b[39mssl_version \u001b[38;5;129;01mis\u001b[39;00m \u001b[38;5;28;01mNone\u001b[39;00m\n\u001b[1;32m    438\u001b[0m     \u001b[38;5;129;01mand\u001b[39;00m \u001b[38;5;28mhasattr\u001b[39m(\u001b[38;5;28mself\u001b[39m\u001b[38;5;241m.\u001b[39msock, \u001b[38;5;124m\"\u001b[39m\u001b[38;5;124mversion\u001b[39m\u001b[38;5;124m\"\u001b[39m)\n\u001b[1;32m    439\u001b[0m     \u001b[38;5;129;01mand\u001b[39;00m \u001b[38;5;28mself\u001b[39m\u001b[38;5;241m.\u001b[39msock\u001b[38;5;241m.\u001b[39mversion() \u001b[38;5;129;01min\u001b[39;00m {\u001b[38;5;124m\"\u001b[39m\u001b[38;5;124mTLSv1\u001b[39m\u001b[38;5;124m\"\u001b[39m, \u001b[38;5;124m\"\u001b[39m\u001b[38;5;124mTLSv1.1\u001b[39m\u001b[38;5;124m\"\u001b[39m}\n\u001b[1;32m    440\u001b[0m ):\n",
      "File \u001b[0;32m~/anaconda3/lib/python3.11/site-packages/urllib3/util/ssl_.py:449\u001b[0m, in \u001b[0;36mssl_wrap_socket\u001b[0;34m(sock, keyfile, certfile, cert_reqs, ca_certs, server_hostname, ssl_version, ciphers, ssl_context, ca_cert_dir, key_password, ca_cert_data, tls_in_tls)\u001b[0m\n\u001b[1;32m    437\u001b[0m     warnings\u001b[38;5;241m.\u001b[39mwarn(\n\u001b[1;32m    438\u001b[0m         \u001b[38;5;124m\"\u001b[39m\u001b[38;5;124mAn HTTPS request has been made, but the SNI (Server Name \u001b[39m\u001b[38;5;124m\"\u001b[39m\n\u001b[1;32m    439\u001b[0m         \u001b[38;5;124m\"\u001b[39m\u001b[38;5;124mIndication) extension to TLS is not available on this platform. \u001b[39m\u001b[38;5;124m\"\u001b[39m\n\u001b[0;32m   (...)\u001b[0m\n\u001b[1;32m    445\u001b[0m         SNIMissingWarning,\n\u001b[1;32m    446\u001b[0m     )\n\u001b[1;32m    448\u001b[0m \u001b[38;5;28;01mif\u001b[39;00m send_sni:\n\u001b[0;32m--> 449\u001b[0m     ssl_sock \u001b[38;5;241m=\u001b[39m _ssl_wrap_socket_impl(\n\u001b[1;32m    450\u001b[0m         sock, context, tls_in_tls, server_hostname\u001b[38;5;241m=\u001b[39mserver_hostname\n\u001b[1;32m    451\u001b[0m     )\n\u001b[1;32m    452\u001b[0m \u001b[38;5;28;01melse\u001b[39;00m:\n\u001b[1;32m    453\u001b[0m     ssl_sock \u001b[38;5;241m=\u001b[39m _ssl_wrap_socket_impl(sock, context, tls_in_tls)\n",
      "File \u001b[0;32m~/anaconda3/lib/python3.11/site-packages/urllib3/util/ssl_.py:493\u001b[0m, in \u001b[0;36m_ssl_wrap_socket_impl\u001b[0;34m(sock, ssl_context, tls_in_tls, server_hostname)\u001b[0m\n\u001b[1;32m    490\u001b[0m     \u001b[38;5;28;01mreturn\u001b[39;00m SSLTransport(sock, ssl_context, server_hostname)\n\u001b[1;32m    492\u001b[0m \u001b[38;5;28;01mif\u001b[39;00m server_hostname:\n\u001b[0;32m--> 493\u001b[0m     \u001b[38;5;28;01mreturn\u001b[39;00m ssl_context\u001b[38;5;241m.\u001b[39mwrap_socket(sock, server_hostname\u001b[38;5;241m=\u001b[39mserver_hostname)\n\u001b[1;32m    494\u001b[0m \u001b[38;5;28;01melse\u001b[39;00m:\n\u001b[1;32m    495\u001b[0m     \u001b[38;5;28;01mreturn\u001b[39;00m ssl_context\u001b[38;5;241m.\u001b[39mwrap_socket(sock)\n",
      "File \u001b[0;32m~/anaconda3/lib/python3.11/ssl.py:517\u001b[0m, in \u001b[0;36mSSLContext.wrap_socket\u001b[0;34m(self, sock, server_side, do_handshake_on_connect, suppress_ragged_eofs, server_hostname, session)\u001b[0m\n\u001b[1;32m    511\u001b[0m \u001b[38;5;28;01mdef\u001b[39;00m \u001b[38;5;21mwrap_socket\u001b[39m(\u001b[38;5;28mself\u001b[39m, sock, server_side\u001b[38;5;241m=\u001b[39m\u001b[38;5;28;01mFalse\u001b[39;00m,\n\u001b[1;32m    512\u001b[0m                 do_handshake_on_connect\u001b[38;5;241m=\u001b[39m\u001b[38;5;28;01mTrue\u001b[39;00m,\n\u001b[1;32m    513\u001b[0m                 suppress_ragged_eofs\u001b[38;5;241m=\u001b[39m\u001b[38;5;28;01mTrue\u001b[39;00m,\n\u001b[1;32m    514\u001b[0m                 server_hostname\u001b[38;5;241m=\u001b[39m\u001b[38;5;28;01mNone\u001b[39;00m, session\u001b[38;5;241m=\u001b[39m\u001b[38;5;28;01mNone\u001b[39;00m):\n\u001b[1;32m    515\u001b[0m     \u001b[38;5;66;03m# SSLSocket class handles server_hostname encoding before it calls\u001b[39;00m\n\u001b[1;32m    516\u001b[0m     \u001b[38;5;66;03m# ctx._wrap_socket()\u001b[39;00m\n\u001b[0;32m--> 517\u001b[0m     \u001b[38;5;28;01mreturn\u001b[39;00m \u001b[38;5;28mself\u001b[39m\u001b[38;5;241m.\u001b[39msslsocket_class\u001b[38;5;241m.\u001b[39m_create(\n\u001b[1;32m    518\u001b[0m         sock\u001b[38;5;241m=\u001b[39msock,\n\u001b[1;32m    519\u001b[0m         server_side\u001b[38;5;241m=\u001b[39mserver_side,\n\u001b[1;32m    520\u001b[0m         do_handshake_on_connect\u001b[38;5;241m=\u001b[39mdo_handshake_on_connect,\n\u001b[1;32m    521\u001b[0m         suppress_ragged_eofs\u001b[38;5;241m=\u001b[39msuppress_ragged_eofs,\n\u001b[1;32m    522\u001b[0m         server_hostname\u001b[38;5;241m=\u001b[39mserver_hostname,\n\u001b[1;32m    523\u001b[0m         context\u001b[38;5;241m=\u001b[39m\u001b[38;5;28mself\u001b[39m,\n\u001b[1;32m    524\u001b[0m         session\u001b[38;5;241m=\u001b[39msession\n\u001b[1;32m    525\u001b[0m     )\n",
      "File \u001b[0;32m~/anaconda3/lib/python3.11/ssl.py:1075\u001b[0m, in \u001b[0;36mSSLSocket._create\u001b[0;34m(cls, sock, server_side, do_handshake_on_connect, suppress_ragged_eofs, server_hostname, context, session)\u001b[0m\n\u001b[1;32m   1072\u001b[0m         \u001b[38;5;28;01mif\u001b[39;00m timeout \u001b[38;5;241m==\u001b[39m \u001b[38;5;241m0.0\u001b[39m:\n\u001b[1;32m   1073\u001b[0m             \u001b[38;5;66;03m# non-blocking\u001b[39;00m\n\u001b[1;32m   1074\u001b[0m             \u001b[38;5;28;01mraise\u001b[39;00m \u001b[38;5;167;01mValueError\u001b[39;00m(\u001b[38;5;124m\"\u001b[39m\u001b[38;5;124mdo_handshake_on_connect should not be specified for non-blocking sockets\u001b[39m\u001b[38;5;124m\"\u001b[39m)\n\u001b[0;32m-> 1075\u001b[0m         \u001b[38;5;28mself\u001b[39m\u001b[38;5;241m.\u001b[39mdo_handshake()\n\u001b[1;32m   1076\u001b[0m \u001b[38;5;28;01mexcept\u001b[39;00m (\u001b[38;5;167;01mOSError\u001b[39;00m, \u001b[38;5;167;01mValueError\u001b[39;00m):\n\u001b[1;32m   1077\u001b[0m     \u001b[38;5;28mself\u001b[39m\u001b[38;5;241m.\u001b[39mclose()\n",
      "File \u001b[0;32m~/anaconda3/lib/python3.11/ssl.py:1346\u001b[0m, in \u001b[0;36mSSLSocket.do_handshake\u001b[0;34m(self, block)\u001b[0m\n\u001b[1;32m   1344\u001b[0m     \u001b[38;5;28;01mif\u001b[39;00m timeout \u001b[38;5;241m==\u001b[39m \u001b[38;5;241m0.0\u001b[39m \u001b[38;5;129;01mand\u001b[39;00m block:\n\u001b[1;32m   1345\u001b[0m         \u001b[38;5;28mself\u001b[39m\u001b[38;5;241m.\u001b[39msettimeout(\u001b[38;5;28;01mNone\u001b[39;00m)\n\u001b[0;32m-> 1346\u001b[0m     \u001b[38;5;28mself\u001b[39m\u001b[38;5;241m.\u001b[39m_sslobj\u001b[38;5;241m.\u001b[39mdo_handshake()\n\u001b[1;32m   1347\u001b[0m \u001b[38;5;28;01mfinally\u001b[39;00m:\n\u001b[1;32m   1348\u001b[0m     \u001b[38;5;28mself\u001b[39m\u001b[38;5;241m.\u001b[39msettimeout(timeout)\n",
      "\u001b[0;31mKeyboardInterrupt\u001b[0m: "
     ]
    }
   ],
   "source": [
    "i = 0\n",
    "while i < len(bike_stations):\n",
    "    \n",
    "    query = 'Restaurant'\n",
    "    lat = bike_stations['lat'][i]\n",
    "    long = bike_stations['long'][i]\n",
    "    radius = 1000\n",
    "    \n",
    "    fs_req(query,lat,long,radius)\n",
    "    print(len(fs_data['results']))\n",
    "    \n",
    "    i +=1"
   ]
  },
  {
   "cell_type": "code",
   "execution_count": 523,
   "id": "730aa7d2-ee85-4a44-824f-bc298358f9a0",
   "metadata": {
    "tags": []
   },
   "outputs": [
    {
     "data": {
      "text/plain": [
       "dict_keys(['fsq_id', 'categories', 'chains', 'distance', 'geocodes', 'link', 'location', 'name', 'related_places', 'timezone'])"
      ]
     },
     "execution_count": 523,
     "metadata": {},
     "output_type": "execute_result"
    }
   ],
   "source": [
    "results = fs_data['results']\n",
    "results[0].keys()"
   ]
  },
  {
   "cell_type": "code",
   "execution_count": 526,
   "id": "3b674e06-c55c-4373-a6d6-272e7f6e2e9e",
   "metadata": {
    "tags": []
   },
   "outputs": [
    {
     "data": {
      "text/plain": [
       "{'main': {'latitude': 48.86594, 'longitude': 2.276189},\n",
       " 'roof': {'latitude': 48.86594, 'longitude': 2.276189}}"
      ]
     },
     "execution_count": 526,
     "metadata": {},
     "output_type": "execute_result"
    }
   ],
   "source": [
    "results[0]['geocodes']"
   ]
  },
  {
   "cell_type": "code",
   "execution_count": 533,
   "id": "8425f23e-7a9c-47bb-8a24-1e0cf91d1886",
   "metadata": {
    "collapsed": true,
    "jupyter": {
     "outputs_hidden": true
    },
    "tags": []
   },
   "outputs": [
    {
     "ename": "IndexError",
     "evalue": "list index out of range",
     "output_type": "error",
     "traceback": [
      "\u001b[0;31m---------------------------------------------------------------------------\u001b[0m",
      "\u001b[0;31mIndexError\u001b[0m                                Traceback (most recent call last)",
      "Cell \u001b[0;32mIn[533], line 7\u001b[0m\n\u001b[1;32m      4\u001b[0m \u001b[38;5;28;01mfor\u001b[39;00m station \u001b[38;5;129;01min\u001b[39;00m data1:\n\u001b[1;32m      6\u001b[0m     query \u001b[38;5;241m=\u001b[39m \u001b[38;5;124m'\u001b[39m\u001b[38;5;124mRestaurant\u001b[39m\u001b[38;5;124m'\u001b[39m\n\u001b[0;32m----> 7\u001b[0m     lat \u001b[38;5;241m=\u001b[39m data1[stat][\u001b[38;5;241m0\u001b[39m][\u001b[38;5;124m'\u001b[39m\u001b[38;5;124mlatitude\u001b[39m\u001b[38;5;124m'\u001b[39m]\n\u001b[1;32m      8\u001b[0m     long \u001b[38;5;241m=\u001b[39m data1[stat][\u001b[38;5;241m0\u001b[39m][\u001b[38;5;124m'\u001b[39m\u001b[38;5;124mlongitude\u001b[39m\u001b[38;5;124m'\u001b[39m]\n\u001b[1;32m      9\u001b[0m     radius \u001b[38;5;241m=\u001b[39m \u001b[38;5;241m1000\u001b[39m\n",
      "\u001b[0;31mIndexError\u001b[0m: list index out of range"
     ]
    }
   ],
   "source": [
    "res = 0\n",
    "locations_list = []\n",
    "\n",
    "for station in data1:\n",
    "    \n",
    "    query = 'Restaurant'\n",
    "    lat = data1[stat][0]['latitude']\n",
    "    long = data1[stat][0]['longitude']\n",
    "    radius = 1000\n",
    "    \n",
    "    fs_req(query,lat,long,radius)\n",
    "    results = fs_data['results']\n",
    "    \n",
    "    name = results[res]['name']\n",
    "    categories = results[res]['categories']\n",
    "    location = results[res]['location']\n",
    "    \n",
    "    location_dict = {\n",
    "        'name' : name,\n",
    "        'categories': categories,\n",
    "        'location': location}\n",
    "    \n",
    "    locations_list.append(location_dict)\n",
    "    \n",
    "    res +=1\n",
    "\n",
    "print(locations_list)"
   ]
  },
  {
   "cell_type": "code",
   "execution_count": 629,
   "id": "d047cea4-732f-47be-821b-e56dfa876848",
   "metadata": {
    "collapsed": true,
    "jupyter": {
     "outputs_hidden": true
    },
    "tags": []
   },
   "outputs": [
    {
     "ename": "KeyboardInterrupt",
     "evalue": "",
     "output_type": "error",
     "traceback": [
      "\u001b[0;31m---------------------------------------------------------------------------\u001b[0m",
      "\u001b[0;31mKeyboardInterrupt\u001b[0m                         Traceback (most recent call last)",
      "Cell \u001b[0;32mIn[629], line 10\u001b[0m\n\u001b[1;32m      7\u001b[0m station_latitude \u001b[38;5;241m=\u001b[39m bike_stations[\u001b[38;5;124m'\u001b[39m\u001b[38;5;124mlat\u001b[39m\u001b[38;5;124m'\u001b[39m][i]\n\u001b[1;32m      8\u001b[0m station_longitude \u001b[38;5;241m=\u001b[39m bike_stations[\u001b[38;5;124m'\u001b[39m\u001b[38;5;124mlong\u001b[39m\u001b[38;5;124m'\u001b[39m][i]\n\u001b[0;32m---> 10\u001b[0m station_search \u001b[38;5;241m=\u001b[39m fs_req(query,station_latitude,station_longitude,radius)\n\u001b[1;32m     12\u001b[0m results \u001b[38;5;241m=\u001b[39m station_search[\u001b[38;5;124m'\u001b[39m\u001b[38;5;124mresults\u001b[39m\u001b[38;5;124m'\u001b[39m][\u001b[38;5;241m0\u001b[39m]\n\u001b[1;32m     14\u001b[0m all_requests\u001b[38;5;241m.\u001b[39mappend(results)\n",
      "Cell \u001b[0;32mIn[506], line 11\u001b[0m, in \u001b[0;36mfs_req\u001b[0;34m(query, lat, long, radius)\u001b[0m\n\u001b[1;32m      4\u001b[0m url \u001b[38;5;241m=\u001b[39m \u001b[38;5;124mf\u001b[39m\u001b[38;5;124m\"\u001b[39m\u001b[38;5;124mhttps://api.foursquare.com/v3/places/search?query=\u001b[39m\u001b[38;5;132;01m{\u001b[39;00mquery\u001b[38;5;132;01m}\u001b[39;00m\u001b[38;5;124m&ll=\u001b[39m\u001b[38;5;132;01m{\u001b[39;00mlat\u001b[38;5;132;01m}\u001b[39;00m\u001b[38;5;124m%2C\u001b[39m\u001b[38;5;132;01m{\u001b[39;00mlong\u001b[38;5;132;01m}\u001b[39;00m\u001b[38;5;124m&radius=\u001b[39m\u001b[38;5;132;01m{\u001b[39;00mradius\u001b[38;5;132;01m}\u001b[39;00m\u001b[38;5;124m\"\u001b[39m\n\u001b[1;32m      6\u001b[0m headers \u001b[38;5;241m=\u001b[39m {\n\u001b[1;32m      7\u001b[0m     \u001b[38;5;124m\"\u001b[39m\u001b[38;5;124maccept\u001b[39m\u001b[38;5;124m\"\u001b[39m: \u001b[38;5;124m\"\u001b[39m\u001b[38;5;124mapplication/json\u001b[39m\u001b[38;5;124m\"\u001b[39m,\n\u001b[1;32m      8\u001b[0m     \u001b[38;5;124m\"\u001b[39m\u001b[38;5;124mAuthorization\u001b[39m\u001b[38;5;124m\"\u001b[39m: \u001b[38;5;124m\"\u001b[39m\u001b[38;5;124mfsq3BQAqUk8AGjMKyi9vaiYy0SOlZ4gZUueUDBhYPCKo42k=\u001b[39m\u001b[38;5;124m\"\u001b[39m\n\u001b[1;32m      9\u001b[0m }\n\u001b[0;32m---> 11\u001b[0m response \u001b[38;5;241m=\u001b[39m requests\u001b[38;5;241m.\u001b[39mget(url, headers\u001b[38;5;241m=\u001b[39mheaders)\n\u001b[1;32m     13\u001b[0m fs_data \u001b[38;5;241m=\u001b[39m response\u001b[38;5;241m.\u001b[39mjson()\n\u001b[1;32m     15\u001b[0m \u001b[38;5;28;01mreturn\u001b[39;00m fs_data\n",
      "File \u001b[0;32m~/anaconda3/lib/python3.11/site-packages/requests/api.py:73\u001b[0m, in \u001b[0;36mget\u001b[0;34m(url, params, **kwargs)\u001b[0m\n\u001b[1;32m     62\u001b[0m \u001b[38;5;28;01mdef\u001b[39;00m \u001b[38;5;21mget\u001b[39m(url, params\u001b[38;5;241m=\u001b[39m\u001b[38;5;28;01mNone\u001b[39;00m, \u001b[38;5;241m*\u001b[39m\u001b[38;5;241m*\u001b[39mkwargs):\n\u001b[1;32m     63\u001b[0m \u001b[38;5;250m    \u001b[39m\u001b[38;5;124mr\u001b[39m\u001b[38;5;124;03m\"\"\"Sends a GET request.\u001b[39;00m\n\u001b[1;32m     64\u001b[0m \n\u001b[1;32m     65\u001b[0m \u001b[38;5;124;03m    :param url: URL for the new :class:`Request` object.\u001b[39;00m\n\u001b[0;32m   (...)\u001b[0m\n\u001b[1;32m     70\u001b[0m \u001b[38;5;124;03m    :rtype: requests.Response\u001b[39;00m\n\u001b[1;32m     71\u001b[0m \u001b[38;5;124;03m    \"\"\"\u001b[39;00m\n\u001b[0;32m---> 73\u001b[0m     \u001b[38;5;28;01mreturn\u001b[39;00m request(\u001b[38;5;124m\"\u001b[39m\u001b[38;5;124mget\u001b[39m\u001b[38;5;124m\"\u001b[39m, url, params\u001b[38;5;241m=\u001b[39mparams, \u001b[38;5;241m*\u001b[39m\u001b[38;5;241m*\u001b[39mkwargs)\n",
      "File \u001b[0;32m~/anaconda3/lib/python3.11/site-packages/requests/api.py:59\u001b[0m, in \u001b[0;36mrequest\u001b[0;34m(method, url, **kwargs)\u001b[0m\n\u001b[1;32m     55\u001b[0m \u001b[38;5;66;03m# By using the 'with' statement we are sure the session is closed, thus we\u001b[39;00m\n\u001b[1;32m     56\u001b[0m \u001b[38;5;66;03m# avoid leaving sockets open which can trigger a ResourceWarning in some\u001b[39;00m\n\u001b[1;32m     57\u001b[0m \u001b[38;5;66;03m# cases, and look like a memory leak in others.\u001b[39;00m\n\u001b[1;32m     58\u001b[0m \u001b[38;5;28;01mwith\u001b[39;00m sessions\u001b[38;5;241m.\u001b[39mSession() \u001b[38;5;28;01mas\u001b[39;00m session:\n\u001b[0;32m---> 59\u001b[0m     \u001b[38;5;28;01mreturn\u001b[39;00m session\u001b[38;5;241m.\u001b[39mrequest(method\u001b[38;5;241m=\u001b[39mmethod, url\u001b[38;5;241m=\u001b[39murl, \u001b[38;5;241m*\u001b[39m\u001b[38;5;241m*\u001b[39mkwargs)\n",
      "File \u001b[0;32m~/anaconda3/lib/python3.11/site-packages/requests/sessions.py:589\u001b[0m, in \u001b[0;36mSession.request\u001b[0;34m(self, method, url, params, data, headers, cookies, files, auth, timeout, allow_redirects, proxies, hooks, stream, verify, cert, json)\u001b[0m\n\u001b[1;32m    584\u001b[0m send_kwargs \u001b[38;5;241m=\u001b[39m {\n\u001b[1;32m    585\u001b[0m     \u001b[38;5;124m\"\u001b[39m\u001b[38;5;124mtimeout\u001b[39m\u001b[38;5;124m\"\u001b[39m: timeout,\n\u001b[1;32m    586\u001b[0m     \u001b[38;5;124m\"\u001b[39m\u001b[38;5;124mallow_redirects\u001b[39m\u001b[38;5;124m\"\u001b[39m: allow_redirects,\n\u001b[1;32m    587\u001b[0m }\n\u001b[1;32m    588\u001b[0m send_kwargs\u001b[38;5;241m.\u001b[39mupdate(settings)\n\u001b[0;32m--> 589\u001b[0m resp \u001b[38;5;241m=\u001b[39m \u001b[38;5;28mself\u001b[39m\u001b[38;5;241m.\u001b[39msend(prep, \u001b[38;5;241m*\u001b[39m\u001b[38;5;241m*\u001b[39msend_kwargs)\n\u001b[1;32m    591\u001b[0m \u001b[38;5;28;01mreturn\u001b[39;00m resp\n",
      "File \u001b[0;32m~/anaconda3/lib/python3.11/site-packages/requests/sessions.py:703\u001b[0m, in \u001b[0;36mSession.send\u001b[0;34m(self, request, **kwargs)\u001b[0m\n\u001b[1;32m    700\u001b[0m start \u001b[38;5;241m=\u001b[39m preferred_clock()\n\u001b[1;32m    702\u001b[0m \u001b[38;5;66;03m# Send the request\u001b[39;00m\n\u001b[0;32m--> 703\u001b[0m r \u001b[38;5;241m=\u001b[39m adapter\u001b[38;5;241m.\u001b[39msend(request, \u001b[38;5;241m*\u001b[39m\u001b[38;5;241m*\u001b[39mkwargs)\n\u001b[1;32m    705\u001b[0m \u001b[38;5;66;03m# Total elapsed time of the request (approximately)\u001b[39;00m\n\u001b[1;32m    706\u001b[0m elapsed \u001b[38;5;241m=\u001b[39m preferred_clock() \u001b[38;5;241m-\u001b[39m start\n",
      "File \u001b[0;32m~/anaconda3/lib/python3.11/site-packages/requests/adapters.py:486\u001b[0m, in \u001b[0;36mHTTPAdapter.send\u001b[0;34m(self, request, stream, timeout, verify, cert, proxies)\u001b[0m\n\u001b[1;32m    483\u001b[0m     timeout \u001b[38;5;241m=\u001b[39m TimeoutSauce(connect\u001b[38;5;241m=\u001b[39mtimeout, read\u001b[38;5;241m=\u001b[39mtimeout)\n\u001b[1;32m    485\u001b[0m \u001b[38;5;28;01mtry\u001b[39;00m:\n\u001b[0;32m--> 486\u001b[0m     resp \u001b[38;5;241m=\u001b[39m conn\u001b[38;5;241m.\u001b[39murlopen(\n\u001b[1;32m    487\u001b[0m         method\u001b[38;5;241m=\u001b[39mrequest\u001b[38;5;241m.\u001b[39mmethod,\n\u001b[1;32m    488\u001b[0m         url\u001b[38;5;241m=\u001b[39murl,\n\u001b[1;32m    489\u001b[0m         body\u001b[38;5;241m=\u001b[39mrequest\u001b[38;5;241m.\u001b[39mbody,\n\u001b[1;32m    490\u001b[0m         headers\u001b[38;5;241m=\u001b[39mrequest\u001b[38;5;241m.\u001b[39mheaders,\n\u001b[1;32m    491\u001b[0m         redirect\u001b[38;5;241m=\u001b[39m\u001b[38;5;28;01mFalse\u001b[39;00m,\n\u001b[1;32m    492\u001b[0m         assert_same_host\u001b[38;5;241m=\u001b[39m\u001b[38;5;28;01mFalse\u001b[39;00m,\n\u001b[1;32m    493\u001b[0m         preload_content\u001b[38;5;241m=\u001b[39m\u001b[38;5;28;01mFalse\u001b[39;00m,\n\u001b[1;32m    494\u001b[0m         decode_content\u001b[38;5;241m=\u001b[39m\u001b[38;5;28;01mFalse\u001b[39;00m,\n\u001b[1;32m    495\u001b[0m         retries\u001b[38;5;241m=\u001b[39m\u001b[38;5;28mself\u001b[39m\u001b[38;5;241m.\u001b[39mmax_retries,\n\u001b[1;32m    496\u001b[0m         timeout\u001b[38;5;241m=\u001b[39mtimeout,\n\u001b[1;32m    497\u001b[0m         chunked\u001b[38;5;241m=\u001b[39mchunked,\n\u001b[1;32m    498\u001b[0m     )\n\u001b[1;32m    500\u001b[0m \u001b[38;5;28;01mexcept\u001b[39;00m (ProtocolError, \u001b[38;5;167;01mOSError\u001b[39;00m) \u001b[38;5;28;01mas\u001b[39;00m err:\n\u001b[1;32m    501\u001b[0m     \u001b[38;5;28;01mraise\u001b[39;00m \u001b[38;5;167;01mConnectionError\u001b[39;00m(err, request\u001b[38;5;241m=\u001b[39mrequest)\n",
      "File \u001b[0;32m~/anaconda3/lib/python3.11/site-packages/urllib3/connectionpool.py:714\u001b[0m, in \u001b[0;36mHTTPConnectionPool.urlopen\u001b[0;34m(self, method, url, body, headers, retries, redirect, assert_same_host, timeout, pool_timeout, release_conn, chunked, body_pos, **response_kw)\u001b[0m\n\u001b[1;32m    711\u001b[0m     \u001b[38;5;28mself\u001b[39m\u001b[38;5;241m.\u001b[39m_prepare_proxy(conn)\n\u001b[1;32m    713\u001b[0m \u001b[38;5;66;03m# Make the request on the httplib connection object.\u001b[39;00m\n\u001b[0;32m--> 714\u001b[0m httplib_response \u001b[38;5;241m=\u001b[39m \u001b[38;5;28mself\u001b[39m\u001b[38;5;241m.\u001b[39m_make_request(\n\u001b[1;32m    715\u001b[0m     conn,\n\u001b[1;32m    716\u001b[0m     method,\n\u001b[1;32m    717\u001b[0m     url,\n\u001b[1;32m    718\u001b[0m     timeout\u001b[38;5;241m=\u001b[39mtimeout_obj,\n\u001b[1;32m    719\u001b[0m     body\u001b[38;5;241m=\u001b[39mbody,\n\u001b[1;32m    720\u001b[0m     headers\u001b[38;5;241m=\u001b[39mheaders,\n\u001b[1;32m    721\u001b[0m     chunked\u001b[38;5;241m=\u001b[39mchunked,\n\u001b[1;32m    722\u001b[0m )\n\u001b[1;32m    724\u001b[0m \u001b[38;5;66;03m# If we're going to release the connection in ``finally:``, then\u001b[39;00m\n\u001b[1;32m    725\u001b[0m \u001b[38;5;66;03m# the response doesn't need to know about the connection. Otherwise\u001b[39;00m\n\u001b[1;32m    726\u001b[0m \u001b[38;5;66;03m# it will also try to release it and we'll have a double-release\u001b[39;00m\n\u001b[1;32m    727\u001b[0m \u001b[38;5;66;03m# mess.\u001b[39;00m\n\u001b[1;32m    728\u001b[0m response_conn \u001b[38;5;241m=\u001b[39m conn \u001b[38;5;28;01mif\u001b[39;00m \u001b[38;5;129;01mnot\u001b[39;00m release_conn \u001b[38;5;28;01melse\u001b[39;00m \u001b[38;5;28;01mNone\u001b[39;00m\n",
      "File \u001b[0;32m~/anaconda3/lib/python3.11/site-packages/urllib3/connectionpool.py:466\u001b[0m, in \u001b[0;36mHTTPConnectionPool._make_request\u001b[0;34m(self, conn, method, url, timeout, chunked, **httplib_request_kw)\u001b[0m\n\u001b[1;32m    461\u001b[0m             httplib_response \u001b[38;5;241m=\u001b[39m conn\u001b[38;5;241m.\u001b[39mgetresponse()\n\u001b[1;32m    462\u001b[0m         \u001b[38;5;28;01mexcept\u001b[39;00m \u001b[38;5;167;01mBaseException\u001b[39;00m \u001b[38;5;28;01mas\u001b[39;00m e:\n\u001b[1;32m    463\u001b[0m             \u001b[38;5;66;03m# Remove the TypeError from the exception chain in\u001b[39;00m\n\u001b[1;32m    464\u001b[0m             \u001b[38;5;66;03m# Python 3 (including for exceptions like SystemExit).\u001b[39;00m\n\u001b[1;32m    465\u001b[0m             \u001b[38;5;66;03m# Otherwise it looks like a bug in the code.\u001b[39;00m\n\u001b[0;32m--> 466\u001b[0m             six\u001b[38;5;241m.\u001b[39mraise_from(e, \u001b[38;5;28;01mNone\u001b[39;00m)\n\u001b[1;32m    467\u001b[0m \u001b[38;5;28;01mexcept\u001b[39;00m (SocketTimeout, BaseSSLError, SocketError) \u001b[38;5;28;01mas\u001b[39;00m e:\n\u001b[1;32m    468\u001b[0m     \u001b[38;5;28mself\u001b[39m\u001b[38;5;241m.\u001b[39m_raise_timeout(err\u001b[38;5;241m=\u001b[39me, url\u001b[38;5;241m=\u001b[39murl, timeout_value\u001b[38;5;241m=\u001b[39mread_timeout)\n",
      "File \u001b[0;32m<string>:3\u001b[0m, in \u001b[0;36mraise_from\u001b[0;34m(value, from_value)\u001b[0m\n",
      "File \u001b[0;32m~/anaconda3/lib/python3.11/site-packages/urllib3/connectionpool.py:461\u001b[0m, in \u001b[0;36mHTTPConnectionPool._make_request\u001b[0;34m(self, conn, method, url, timeout, chunked, **httplib_request_kw)\u001b[0m\n\u001b[1;32m    458\u001b[0m \u001b[38;5;28;01mexcept\u001b[39;00m \u001b[38;5;167;01mTypeError\u001b[39;00m:\n\u001b[1;32m    459\u001b[0m     \u001b[38;5;66;03m# Python 3\u001b[39;00m\n\u001b[1;32m    460\u001b[0m     \u001b[38;5;28;01mtry\u001b[39;00m:\n\u001b[0;32m--> 461\u001b[0m         httplib_response \u001b[38;5;241m=\u001b[39m conn\u001b[38;5;241m.\u001b[39mgetresponse()\n\u001b[1;32m    462\u001b[0m     \u001b[38;5;28;01mexcept\u001b[39;00m \u001b[38;5;167;01mBaseException\u001b[39;00m \u001b[38;5;28;01mas\u001b[39;00m e:\n\u001b[1;32m    463\u001b[0m         \u001b[38;5;66;03m# Remove the TypeError from the exception chain in\u001b[39;00m\n\u001b[1;32m    464\u001b[0m         \u001b[38;5;66;03m# Python 3 (including for exceptions like SystemExit).\u001b[39;00m\n\u001b[1;32m    465\u001b[0m         \u001b[38;5;66;03m# Otherwise it looks like a bug in the code.\u001b[39;00m\n\u001b[1;32m    466\u001b[0m         six\u001b[38;5;241m.\u001b[39mraise_from(e, \u001b[38;5;28;01mNone\u001b[39;00m)\n",
      "File \u001b[0;32m~/anaconda3/lib/python3.11/http/client.py:1378\u001b[0m, in \u001b[0;36mHTTPConnection.getresponse\u001b[0;34m(self)\u001b[0m\n\u001b[1;32m   1376\u001b[0m \u001b[38;5;28;01mtry\u001b[39;00m:\n\u001b[1;32m   1377\u001b[0m     \u001b[38;5;28;01mtry\u001b[39;00m:\n\u001b[0;32m-> 1378\u001b[0m         response\u001b[38;5;241m.\u001b[39mbegin()\n\u001b[1;32m   1379\u001b[0m     \u001b[38;5;28;01mexcept\u001b[39;00m \u001b[38;5;167;01mConnectionError\u001b[39;00m:\n\u001b[1;32m   1380\u001b[0m         \u001b[38;5;28mself\u001b[39m\u001b[38;5;241m.\u001b[39mclose()\n",
      "File \u001b[0;32m~/anaconda3/lib/python3.11/http/client.py:318\u001b[0m, in \u001b[0;36mHTTPResponse.begin\u001b[0;34m(self)\u001b[0m\n\u001b[1;32m    316\u001b[0m \u001b[38;5;66;03m# read until we get a non-100 response\u001b[39;00m\n\u001b[1;32m    317\u001b[0m \u001b[38;5;28;01mwhile\u001b[39;00m \u001b[38;5;28;01mTrue\u001b[39;00m:\n\u001b[0;32m--> 318\u001b[0m     version, status, reason \u001b[38;5;241m=\u001b[39m \u001b[38;5;28mself\u001b[39m\u001b[38;5;241m.\u001b[39m_read_status()\n\u001b[1;32m    319\u001b[0m     \u001b[38;5;28;01mif\u001b[39;00m status \u001b[38;5;241m!=\u001b[39m CONTINUE:\n\u001b[1;32m    320\u001b[0m         \u001b[38;5;28;01mbreak\u001b[39;00m\n",
      "File \u001b[0;32m~/anaconda3/lib/python3.11/http/client.py:279\u001b[0m, in \u001b[0;36mHTTPResponse._read_status\u001b[0;34m(self)\u001b[0m\n\u001b[1;32m    278\u001b[0m \u001b[38;5;28;01mdef\u001b[39;00m \u001b[38;5;21m_read_status\u001b[39m(\u001b[38;5;28mself\u001b[39m):\n\u001b[0;32m--> 279\u001b[0m     line \u001b[38;5;241m=\u001b[39m \u001b[38;5;28mstr\u001b[39m(\u001b[38;5;28mself\u001b[39m\u001b[38;5;241m.\u001b[39mfp\u001b[38;5;241m.\u001b[39mreadline(_MAXLINE \u001b[38;5;241m+\u001b[39m \u001b[38;5;241m1\u001b[39m), \u001b[38;5;124m\"\u001b[39m\u001b[38;5;124miso-8859-1\u001b[39m\u001b[38;5;124m\"\u001b[39m)\n\u001b[1;32m    280\u001b[0m     \u001b[38;5;28;01mif\u001b[39;00m \u001b[38;5;28mlen\u001b[39m(line) \u001b[38;5;241m>\u001b[39m _MAXLINE:\n\u001b[1;32m    281\u001b[0m         \u001b[38;5;28;01mraise\u001b[39;00m LineTooLong(\u001b[38;5;124m\"\u001b[39m\u001b[38;5;124mstatus line\u001b[39m\u001b[38;5;124m\"\u001b[39m)\n",
      "File \u001b[0;32m~/anaconda3/lib/python3.11/socket.py:706\u001b[0m, in \u001b[0;36mSocketIO.readinto\u001b[0;34m(self, b)\u001b[0m\n\u001b[1;32m    704\u001b[0m \u001b[38;5;28;01mwhile\u001b[39;00m \u001b[38;5;28;01mTrue\u001b[39;00m:\n\u001b[1;32m    705\u001b[0m     \u001b[38;5;28;01mtry\u001b[39;00m:\n\u001b[0;32m--> 706\u001b[0m         \u001b[38;5;28;01mreturn\u001b[39;00m \u001b[38;5;28mself\u001b[39m\u001b[38;5;241m.\u001b[39m_sock\u001b[38;5;241m.\u001b[39mrecv_into(b)\n\u001b[1;32m    707\u001b[0m     \u001b[38;5;28;01mexcept\u001b[39;00m timeout:\n\u001b[1;32m    708\u001b[0m         \u001b[38;5;28mself\u001b[39m\u001b[38;5;241m.\u001b[39m_timeout_occurred \u001b[38;5;241m=\u001b[39m \u001b[38;5;28;01mTrue\u001b[39;00m\n",
      "File \u001b[0;32m~/anaconda3/lib/python3.11/ssl.py:1278\u001b[0m, in \u001b[0;36mSSLSocket.recv_into\u001b[0;34m(self, buffer, nbytes, flags)\u001b[0m\n\u001b[1;32m   1274\u001b[0m     \u001b[38;5;28;01mif\u001b[39;00m flags \u001b[38;5;241m!=\u001b[39m \u001b[38;5;241m0\u001b[39m:\n\u001b[1;32m   1275\u001b[0m         \u001b[38;5;28;01mraise\u001b[39;00m \u001b[38;5;167;01mValueError\u001b[39;00m(\n\u001b[1;32m   1276\u001b[0m           \u001b[38;5;124m\"\u001b[39m\u001b[38;5;124mnon-zero flags not allowed in calls to recv_into() on \u001b[39m\u001b[38;5;132;01m%s\u001b[39;00m\u001b[38;5;124m\"\u001b[39m \u001b[38;5;241m%\u001b[39m\n\u001b[1;32m   1277\u001b[0m           \u001b[38;5;28mself\u001b[39m\u001b[38;5;241m.\u001b[39m\u001b[38;5;18m__class__\u001b[39m)\n\u001b[0;32m-> 1278\u001b[0m     \u001b[38;5;28;01mreturn\u001b[39;00m \u001b[38;5;28mself\u001b[39m\u001b[38;5;241m.\u001b[39mread(nbytes, buffer)\n\u001b[1;32m   1279\u001b[0m \u001b[38;5;28;01melse\u001b[39;00m:\n\u001b[1;32m   1280\u001b[0m     \u001b[38;5;28;01mreturn\u001b[39;00m \u001b[38;5;28msuper\u001b[39m()\u001b[38;5;241m.\u001b[39mrecv_into(buffer, nbytes, flags)\n",
      "File \u001b[0;32m~/anaconda3/lib/python3.11/ssl.py:1134\u001b[0m, in \u001b[0;36mSSLSocket.read\u001b[0;34m(self, len, buffer)\u001b[0m\n\u001b[1;32m   1132\u001b[0m \u001b[38;5;28;01mtry\u001b[39;00m:\n\u001b[1;32m   1133\u001b[0m     \u001b[38;5;28;01mif\u001b[39;00m buffer \u001b[38;5;129;01mis\u001b[39;00m \u001b[38;5;129;01mnot\u001b[39;00m \u001b[38;5;28;01mNone\u001b[39;00m:\n\u001b[0;32m-> 1134\u001b[0m         \u001b[38;5;28;01mreturn\u001b[39;00m \u001b[38;5;28mself\u001b[39m\u001b[38;5;241m.\u001b[39m_sslobj\u001b[38;5;241m.\u001b[39mread(\u001b[38;5;28mlen\u001b[39m, buffer)\n\u001b[1;32m   1135\u001b[0m     \u001b[38;5;28;01melse\u001b[39;00m:\n\u001b[1;32m   1136\u001b[0m         \u001b[38;5;28;01mreturn\u001b[39;00m \u001b[38;5;28mself\u001b[39m\u001b[38;5;241m.\u001b[39m_sslobj\u001b[38;5;241m.\u001b[39mread(\u001b[38;5;28mlen\u001b[39m)\n",
      "\u001b[0;31mKeyboardInterrupt\u001b[0m: "
     ]
    }
   ],
   "source": [
    "bike_stations = cb_df[['lat','long']]\n",
    "i = 0\n",
    "all_requests = []\n",
    "\n",
    "while i < len(bike_stations):\n",
    "    \n",
    "    station_latitude = bike_stations['lat'][i]\n",
    "    station_longitude = bike_stations['long'][i]\n",
    "    \n",
    "    station_search = fs_req(query,station_latitude,station_longitude,radius)\n",
    "    \n",
    "    results = station_search['results'][0]\n",
    "    \n",
    "    all_requests.append(results)\n",
    "    \n",
    "    i+=1\n",
    "\n",
    "print(all_requests)"
   ]
  },
  {
   "cell_type": "code",
   "execution_count": 639,
   "id": "fc8279a2-213d-43ff-bed5-7dfddef104fb",
   "metadata": {
    "tags": []
   },
   "outputs": [
    {
     "name": "stdout",
     "output_type": "stream",
     "text": [
      "48.951432 48.764615483395254 2.5382421165704727 2.1655967831611638\n"
     ]
    }
   ],
   "source": []
  },
  {
   "cell_type": "code",
   "execution_count": 531,
   "id": "66ba908c-a532-4082-9686-e2fb54b82b11",
   "metadata": {
    "tags": []
   },
   "outputs": [
    {
     "data": {
      "text/html": [
       "<div>\n",
       "<style scoped>\n",
       "    .dataframe tbody tr th:only-of-type {\n",
       "        vertical-align: middle;\n",
       "    }\n",
       "\n",
       "    .dataframe tbody tr th {\n",
       "        vertical-align: top;\n",
       "    }\n",
       "\n",
       "    .dataframe thead th {\n",
       "        text-align: right;\n",
       "    }\n",
       "</style>\n",
       "<table border=\"1\" class=\"dataframe\">\n",
       "  <thead>\n",
       "    <tr style=\"text-align: right;\">\n",
       "      <th></th>\n",
       "      <th>lat</th>\n",
       "      <th>long</th>\n",
       "      <th>empty_slots</th>\n",
       "      <th>free_bikes</th>\n",
       "    </tr>\n",
       "  </thead>\n",
       "  <tbody>\n",
       "    <tr>\n",
       "      <th>0</th>\n",
       "      <td>48.865983</td>\n",
       "      <td>2.275725</td>\n",
       "      <td>29</td>\n",
       "      <td>4</td>\n",
       "    </tr>\n",
       "    <tr>\n",
       "      <th>1</th>\n",
       "      <td>48.853756</td>\n",
       "      <td>2.339096</td>\n",
       "      <td>3</td>\n",
       "      <td>50</td>\n",
       "    </tr>\n",
       "    <tr>\n",
       "      <th>2</th>\n",
       "      <td>48.867872</td>\n",
       "      <td>2.364898</td>\n",
       "      <td>28</td>\n",
       "      <td>9</td>\n",
       "    </tr>\n",
       "    <tr>\n",
       "      <th>3</th>\n",
       "      <td>48.856452</td>\n",
       "      <td>2.334852</td>\n",
       "      <td>16</td>\n",
       "      <td>3</td>\n",
       "    </tr>\n",
       "    <tr>\n",
       "      <th>4</th>\n",
       "      <td>48.879296</td>\n",
       "      <td>2.337360</td>\n",
       "      <td>15</td>\n",
       "      <td>4</td>\n",
       "    </tr>\n",
       "    <tr>\n",
       "      <th>...</th>\n",
       "      <td>...</td>\n",
       "      <td>...</td>\n",
       "      <td>...</td>\n",
       "      <td>...</td>\n",
       "    </tr>\n",
       "    <tr>\n",
       "      <th>1451</th>\n",
       "      <td>48.862453</td>\n",
       "      <td>2.196167</td>\n",
       "      <td>19</td>\n",
       "      <td>2</td>\n",
       "    </tr>\n",
       "    <tr>\n",
       "      <th>1452</th>\n",
       "      <td>48.937421</td>\n",
       "      <td>2.372037</td>\n",
       "      <td>24</td>\n",
       "      <td>13</td>\n",
       "    </tr>\n",
       "    <tr>\n",
       "      <th>1453</th>\n",
       "      <td>48.814548</td>\n",
       "      <td>2.402439</td>\n",
       "      <td>19</td>\n",
       "      <td>10</td>\n",
       "    </tr>\n",
       "    <tr>\n",
       "      <th>1454</th>\n",
       "      <td>48.879487</td>\n",
       "      <td>2.416153</td>\n",
       "      <td>19</td>\n",
       "      <td>1</td>\n",
       "    </tr>\n",
       "    <tr>\n",
       "      <th>1455</th>\n",
       "      <td>48.778193</td>\n",
       "      <td>2.396302</td>\n",
       "      <td>15</td>\n",
       "      <td>5</td>\n",
       "    </tr>\n",
       "  </tbody>\n",
       "</table>\n",
       "<p>1456 rows × 4 columns</p>\n",
       "</div>"
      ],
      "text/plain": [
       "            lat      long  empty_slots  free_bikes\n",
       "0     48.865983  2.275725           29           4\n",
       "1     48.853756  2.339096            3          50\n",
       "2     48.867872  2.364898           28           9\n",
       "3     48.856452  2.334852           16           3\n",
       "4     48.879296  2.337360           15           4\n",
       "...         ...       ...          ...         ...\n",
       "1451  48.862453  2.196167           19           2\n",
       "1452  48.937421  2.372037           24          13\n",
       "1453  48.814548  2.402439           19          10\n",
       "1454  48.879487  2.416153           19           1\n",
       "1455  48.778193  2.396302           15           5\n",
       "\n",
       "[1456 rows x 4 columns]"
      ]
     },
     "execution_count": 531,
     "metadata": {},
     "output_type": "execute_result"
    }
   ],
   "source": [
    "stat = 0\n",
    "stations_list = []\n",
    "\n",
    "for station in data1:\n",
    "    lat = data1[stat]['latitude']\n",
    "    long = data1[stat]['longitude']\n",
    "    empty_slots = data1[stat]['empty_slots']\n",
    "    free_bikes = data1[stat]['free_bikes']\n",
    "    \n",
    "    station_dict = {\n",
    "        'lat' : lat,\n",
    "        'long' : long, \n",
    "        'empty_slots' : empty_slots,\n",
    "        'free_bikes' : free_bikes}\n",
    "    \n",
    "    stations_list.append(station_dict)\n",
    "    \n",
    "    stat +=1\n",
    "    \n",
    "cb_df = pd.DataFrame(stations_list)\n",
    "cb_df"
   ]
  },
  {
   "cell_type": "code",
   "execution_count": 640,
   "id": "f361c2c3-8eb3-458f-9e86-f41e047b7275",
   "metadata": {
    "tags": []
   },
   "outputs": [
    {
     "name": "stdout",
     "output_type": "stream",
     "text": [
      "48.951432 48.764615483395254 2.5382421165704727 2.1655967831611638\n"
     ]
    }
   ],
   "source": [
    "print(bike_stations['lat'].max(),\n",
    "bike_stations['lat'].min(),\n",
    "bike_stations['long'].max(),\n",
    "bike_stations['long'].min())"
   ]
  },
  {
   "cell_type": "code",
   "execution_count": 707,
   "id": "15c63950-c313-4a1e-abca-716fe0503c8c",
   "metadata": {
    "collapsed": true,
    "jupyter": {
     "outputs_hidden": true
    },
    "tags": []
   },
   "outputs": [
    {
     "data": {
      "text/plain": [
       "{'results': [{'fsq_id': '5b394cae92e7a9002c724cf9',\n",
       "   'categories': [{'id': 13002,\n",
       "     'name': 'Bakery',\n",
       "     'icon': {'prefix': 'https://ss3.4sqi.net/img/categories_v2/food/bakery_',\n",
       "      'suffix': '.png'}},\n",
       "    {'id': 13065,\n",
       "     'name': 'Restaurant',\n",
       "     'icon': {'prefix': 'https://ss3.4sqi.net/img/categories_v2/food/default_',\n",
       "      'suffix': '.png'}}],\n",
       "   'chains': [],\n",
       "   'distance': 379,\n",
       "   'geocodes': {'main': {'latitude': 48.849807, 'longitude': 2.348409},\n",
       "    'roof': {'latitude': 48.849807, 'longitude': 2.348409}},\n",
       "   'link': '/v3/places/5b394cae92e7a9002c724cf9',\n",
       "   'location': {'address': '47ter boulevard Saint-Germain',\n",
       "    'admin_region': 'Île-de-France',\n",
       "    'country': 'FR',\n",
       "    'cross_street': '',\n",
       "    'formatted_address': '47ter boulevard Saint-Germain, 75005 Paris',\n",
       "    'locality': 'Paris',\n",
       "    'postcode': '75005',\n",
       "    'region': 'Île-de-France'},\n",
       "   'name': \"La Maison d'Isabelle\",\n",
       "   'related_places': {},\n",
       "   'timezone': 'Europe/Paris'},\n",
       "  {'fsq_id': '59468bd1898bdc07ffc0d6ac',\n",
       "   'categories': [{'id': 13000,\n",
       "     'name': 'Dining and Drinking',\n",
       "     'icon': {'prefix': 'https://ss3.4sqi.net/img/categories_v2/food/default_',\n",
       "      'suffix': '.png'}}],\n",
       "   'chains': [],\n",
       "   'distance': 756,\n",
       "   'geocodes': {'main': {'latitude': 48.851598, 'longitude': 2.33883},\n",
       "    'roof': {'latitude': 48.851598, 'longitude': 2.33883}},\n",
       "   'link': '/v3/places/59468bd1898bdc07ffc0d6ac',\n",
       "   'location': {'address': \"1 rue de l'Odéon\",\n",
       "    'admin_region': 'Île-de-France',\n",
       "    'country': 'FR',\n",
       "    'cross_street': '',\n",
       "    'formatted_address': \"1 rue de l'Odéon, 75006 Paris\",\n",
       "    'locality': 'Paris',\n",
       "    'postcode': '75006',\n",
       "    'region': 'Île-de-France'},\n",
       "   'name': 'Breizh Café',\n",
       "   'related_places': {},\n",
       "   'timezone': 'Europe/Paris'},\n",
       "  {'fsq_id': '4df27ab522718759f81c4fc7',\n",
       "   'categories': [{'id': 13027,\n",
       "     'name': 'Bistro',\n",
       "     'icon': {'prefix': 'https://ss3.4sqi.net/img/categories_v2/food/default_',\n",
       "      'suffix': '.png'}},\n",
       "    {'id': 13148,\n",
       "     'name': 'French Restaurant',\n",
       "     'icon': {'prefix': 'https://ss3.4sqi.net/img/categories_v2/food/french_',\n",
       "      'suffix': '.png'}}],\n",
       "   'chains': [],\n",
       "   'distance': 1341,\n",
       "   'geocodes': {'drop_off': {'latitude': 48.852789, 'longitude': 2.330414},\n",
       "    'main': {'latitude': 48.852731, 'longitude': 2.330484},\n",
       "    'roof': {'latitude': 48.852731, 'longitude': 2.330484}},\n",
       "   'link': '/v3/places/4df27ab522718759f81c4fc7',\n",
       "   'location': {'address': '27 rue du Dragon',\n",
       "    'admin_region': 'Île-de-France',\n",
       "    'country': 'FR',\n",
       "    'cross_street': '',\n",
       "    'formatted_address': '27 rue du Dragon, 75006 Paris',\n",
       "    'locality': 'Paris',\n",
       "    'postcode': '75006',\n",
       "    'region': 'Île-de-France'},\n",
       "   'name': 'Aux Prés',\n",
       "   'related_places': {},\n",
       "   'timezone': 'Europe/Paris'},\n",
       "  {'fsq_id': '4d974096a2c654814aa6d353',\n",
       "   'categories': [{'id': 17068,\n",
       "     'name': 'Gourmet Store',\n",
       "     'icon': {'prefix': 'https://ss3.4sqi.net/img/categories_v2/shops/food_gourmet_',\n",
       "      'suffix': '.png'}},\n",
       "    {'id': 17069,\n",
       "     'name': 'Grocery Store',\n",
       "     'icon': {'prefix': 'https://ss3.4sqi.net/img/categories_v2/shops/food_grocery_',\n",
       "      'suffix': '.png'}}],\n",
       "   'chains': [],\n",
       "   'distance': 1450,\n",
       "   'geocodes': {'main': {'latitude': 48.863873, 'longitude': 2.360638},\n",
       "    'roof': {'latitude': 48.863873, 'longitude': 2.360638}},\n",
       "   'link': '/v3/places/4d974096a2c654814aa6d353',\n",
       "   'location': {'address': '57 rue de Bretagne',\n",
       "    'admin_region': 'Île-de-France',\n",
       "    'country': 'FR',\n",
       "    'formatted_address': '57 rue de Bretagne, 75003 Paris',\n",
       "    'locality': 'Paris',\n",
       "    'postcode': '75003',\n",
       "    'region': 'Île-de-France'},\n",
       "   'name': 'Mmmozza',\n",
       "   'related_places': {},\n",
       "   'timezone': 'Europe/Paris'},\n",
       "  {'fsq_id': '5474e08e498e26dc5e12ebb5',\n",
       "   'categories': [{'id': 13236,\n",
       "     'name': 'Italian Restaurant',\n",
       "     'icon': {'prefix': 'https://ss3.4sqi.net/img/categories_v2/food/italian_',\n",
       "      'suffix': '.png'}}],\n",
       "   'chains': [],\n",
       "   'distance': 1505,\n",
       "   'geocodes': {'main': {'latitude': 48.866913, 'longitude': 2.348201},\n",
       "    'roof': {'latitude': 48.866913, 'longitude': 2.348201}},\n",
       "   'link': '/v3/places/5474e08e498e26dc5e12ebb5',\n",
       "   'location': {'address': '81 rue Réaumur',\n",
       "    'admin_region': 'Île-de-France',\n",
       "    'country': 'FR',\n",
       "    'cross_street': '',\n",
       "    'formatted_address': '81 rue Réaumur, 75002 Paris',\n",
       "    'locality': 'Paris',\n",
       "    'postcode': '75002',\n",
       "    'region': 'Île-de-France'},\n",
       "   'name': 'Les Amis des Messina',\n",
       "   'related_places': {},\n",
       "   'timezone': 'Europe/Paris'},\n",
       "  {'fsq_id': '4c0175b0f7ab0f477e2916b6',\n",
       "   'categories': [{'id': 13148,\n",
       "     'name': 'French Restaurant',\n",
       "     'icon': {'prefix': 'https://ss3.4sqi.net/img/categories_v2/food/french_',\n",
       "      'suffix': '.png'}}],\n",
       "   'chains': [],\n",
       "   'distance': 1713,\n",
       "   'geocodes': {'main': {'latitude': 48.838116, 'longitude': 2.351815},\n",
       "    'roof': {'latitude': 48.838116, 'longitude': 2.351815}},\n",
       "   'link': '/v3/places/4c0175b0f7ab0f477e2916b6',\n",
       "   'location': {'address': '21 rue de la Collégiale',\n",
       "    'admin_region': 'Île-de-France',\n",
       "    'country': 'FR',\n",
       "    'cross_street': '',\n",
       "    'formatted_address': '21 rue de la Collégiale, 75005 Paris',\n",
       "    'locality': 'Paris',\n",
       "    'postcode': '75005',\n",
       "    'region': 'Île-de-France'},\n",
       "   'name': 'Au Bon Coin',\n",
       "   'related_places': {},\n",
       "   'timezone': 'Europe/Paris'},\n",
       "  {'fsq_id': '5d6ae3b0ca1763000823441b',\n",
       "   'categories': [{'id': 13322,\n",
       "     'name': 'Peruvian Restaurant',\n",
       "     'icon': {'prefix': 'https://ss3.4sqi.net/img/categories_v2/food/peruvian_',\n",
       "      'suffix': '.png'}}],\n",
       "   'chains': [],\n",
       "   'distance': 1770,\n",
       "   'geocodes': {'main': {'latitude': 48.854281, 'longitude': 2.324369},\n",
       "    'roof': {'latitude': 48.854281, 'longitude': 2.324369}},\n",
       "   'link': '/v3/places/5d6ae3b0ca1763000823441b',\n",
       "   'location': {'address': '53 rue de Grenelle',\n",
       "    'admin_region': 'Île-de-France',\n",
       "    'country': 'FR',\n",
       "    'cross_street': '',\n",
       "    'formatted_address': '53 rue de Grenelle, 75007 Paris',\n",
       "    'locality': 'Paris',\n",
       "    'postcode': '75007',\n",
       "    'region': 'Île-de-France'},\n",
       "   'name': 'Coya Paris',\n",
       "   'related_places': {},\n",
       "   'timezone': 'Europe/Paris'},\n",
       "  {'fsq_id': '5bae5f6c3ba767002c68a477',\n",
       "   'categories': [{'id': 13236,\n",
       "     'name': 'Italian Restaurant',\n",
       "     'icon': {'prefix': 'https://ss3.4sqi.net/img/categories_v2/food/italian_',\n",
       "      'suffix': '.png'}}],\n",
       "   'chains': [],\n",
       "   'distance': 1710,\n",
       "   'geocodes': {'drop_off': {'latitude': 48.864868, 'longitude': 2.332923},\n",
       "    'main': {'latitude': 48.864773, 'longitude': 2.333051},\n",
       "    'roof': {'latitude': 48.864773, 'longitude': 2.333051}},\n",
       "   'link': '/v3/places/5bae5f6c3ba767002c68a477',\n",
       "   'location': {'address': '10 rue des Pyramides',\n",
       "    'admin_region': 'Île-de-France',\n",
       "    'country': 'FR',\n",
       "    'cross_street': '',\n",
       "    'formatted_address': '10 rue des Pyramides, 75001 Paris',\n",
       "    'locality': 'Paris',\n",
       "    'postcode': '75001',\n",
       "    'region': 'Île-de-France'},\n",
       "   'name': 'Caffe Dei Fratelli',\n",
       "   'related_places': {},\n",
       "   'timezone': 'Europe/Paris'},\n",
       "  {'fsq_id': '547efe8d498e129542045673',\n",
       "   'categories': [{'id': 13027,\n",
       "     'name': 'Bistro',\n",
       "     'icon': {'prefix': 'https://ss3.4sqi.net/img/categories_v2/food/default_',\n",
       "      'suffix': '.png'}},\n",
       "    {'id': 13072,\n",
       "     'name': 'Asian Restaurant',\n",
       "     'icon': {'prefix': 'https://ss3.4sqi.net/img/categories_v2/food/asian_',\n",
       "      'suffix': '.png'}}],\n",
       "   'chains': [],\n",
       "   'distance': 1906,\n",
       "   'geocodes': {'main': {'latitude': 48.851518, 'longitude': 2.374561},\n",
       "    'roof': {'latitude': 48.851518, 'longitude': 2.374561}},\n",
       "   'link': '/v3/places/547efe8d498e129542045673',\n",
       "   'location': {'address': '21 rue St-Nicolas, 12e',\n",
       "    'admin_region': 'Île-de-France',\n",
       "    'country': 'FR',\n",
       "    'cross_street': '',\n",
       "    'formatted_address': '21 rue St-Nicolas, 12e, 75012 Paris',\n",
       "    'locality': 'Paris',\n",
       "    'postcode': '75012',\n",
       "    'region': 'Île-de-France'},\n",
       "   'name': 'Dersou',\n",
       "   'related_places': {},\n",
       "   'timezone': 'Europe/Paris'},\n",
       "  {'fsq_id': '54fc65f3498e7f86ee38def9',\n",
       "   'categories': [{'id': 13002,\n",
       "     'name': 'Bakery',\n",
       "     'icon': {'prefix': 'https://ss3.4sqi.net/img/categories_v2/food/bakery_',\n",
       "      'suffix': '.png'}}],\n",
       "   'chains': [],\n",
       "   'distance': 1969,\n",
       "   'geocodes': {'drop_off': {'latitude': 48.865422, 'longitude': 2.36869},\n",
       "    'main': {'latitude': 48.865289, 'longitude': 2.368724},\n",
       "    'roof': {'latitude': 48.865289, 'longitude': 2.368724}},\n",
       "   'link': '/v3/places/54fc65f3498e7f86ee38def9',\n",
       "   'location': {'address': '20 rue Jean Pierre Timbaud',\n",
       "    'admin_region': 'Île-de-France',\n",
       "    'country': 'FR',\n",
       "    'cross_street': '',\n",
       "    'formatted_address': '20 rue Jean Pierre Timbaud, 75011 Paris',\n",
       "    'locality': 'Paris',\n",
       "    'postcode': '75011',\n",
       "    'region': 'Île-de-France'},\n",
       "   'name': 'Boulangerie Utopie',\n",
       "   'related_places': {},\n",
       "   'timezone': 'Europe/Paris'},\n",
       "  {'fsq_id': '5581ba79498e2d654886dbad',\n",
       "   'categories': [{'id': 13064,\n",
       "     'name': 'Pizzeria',\n",
       "     'icon': {'prefix': 'https://ss3.4sqi.net/img/categories_v2/food/pizza_',\n",
       "      'suffix': '.png'}},\n",
       "    {'id': 13258,\n",
       "     'name': 'Trattoria',\n",
       "     'icon': {'prefix': 'https://ss3.4sqi.net/img/categories_v2/food/italian_',\n",
       "      'suffix': '.png'}}],\n",
       "   'chains': [],\n",
       "   'distance': 1991,\n",
       "   'geocodes': {'main': {'latitude': 48.864421, 'longitude': 2.370176},\n",
       "    'roof': {'latitude': 48.864421, 'longitude': 2.370176}},\n",
       "   'link': '/v3/places/5581ba79498e2d654886dbad',\n",
       "   'location': {'address': '107 boulevard Richard Lenoir',\n",
       "    'admin_region': 'Île-de-France',\n",
       "    'country': 'FR',\n",
       "    'cross_street': '',\n",
       "    'formatted_address': '107 boulevard Richard Lenoir, 75011 Paris',\n",
       "    'locality': 'Paris',\n",
       "    'postcode': '75011',\n",
       "    'region': 'Île-de-France'},\n",
       "   'name': 'Ober Mamma',\n",
       "   'related_places': {},\n",
       "   'timezone': 'Europe/Paris'},\n",
       "  {'fsq_id': '582e0924761b1a3f49adbfa4',\n",
       "   'categories': [{'id': 13026,\n",
       "     'name': 'BBQ Joint',\n",
       "     'icon': {'prefix': 'https://ss3.4sqi.net/img/categories_v2/food/bbqalt_',\n",
       "      'suffix': '.png'}},\n",
       "    {'id': 13068,\n",
       "     'name': 'American Restaurant',\n",
       "     'icon': {'prefix': 'https://ss3.4sqi.net/img/categories_v2/food/default_',\n",
       "      'suffix': '.png'}}],\n",
       "   'chains': [],\n",
       "   'distance': 2098,\n",
       "   'geocodes': {'main': {'latitude': 48.865643, 'longitude': 2.370745},\n",
       "    'roof': {'latitude': 48.865643, 'longitude': 2.370745}},\n",
       "   'link': '/v3/places/582e0924761b1a3f49adbfa4',\n",
       "   'location': {'address': '74 rue de la Folie Méricourt',\n",
       "    'admin_region': 'Île-de-France',\n",
       "    'country': 'FR',\n",
       "    'cross_street': '',\n",
       "    'formatted_address': '74 rue de la Folie Méricourt, 75011 Paris',\n",
       "    'locality': 'Paris',\n",
       "    'postcode': '75011',\n",
       "    'region': 'Île-de-France'},\n",
       "   'name': 'Melt',\n",
       "   'related_places': {},\n",
       "   'timezone': 'Europe/Paris'},\n",
       "  {'fsq_id': '55199c44498ed951dcccdda3',\n",
       "   'categories': [{'id': 13236,\n",
       "     'name': 'Italian Restaurant',\n",
       "     'icon': {'prefix': 'https://ss3.4sqi.net/img/categories_v2/food/italian_',\n",
       "      'suffix': '.png'}}],\n",
       "   'chains': [],\n",
       "   'distance': 2131,\n",
       "   'geocodes': {'main': {'latitude': 48.850997, 'longitude': 2.377857},\n",
       "    'roof': {'latitude': 48.850997, 'longitude': 2.377857}},\n",
       "   'link': '/v3/places/55199c44498ed951dcccdda3',\n",
       "   'location': {'address': '133 rue du Faubourg Saint-Antoine',\n",
       "    'admin_region': 'Île-de-France',\n",
       "    'country': 'FR',\n",
       "    'cross_street': '',\n",
       "    'formatted_address': '133 rue du Faubourg Saint-Antoine, 75011 Paris',\n",
       "    'locality': 'Paris',\n",
       "    'postcode': '75011',\n",
       "    'region': 'Île-de-France'},\n",
       "   'name': 'East Mamma',\n",
       "   'related_places': {'children': []},\n",
       "   'timezone': 'Europe/Paris'},\n",
       "  {'fsq_id': '5d3982ef052ad0000874b876',\n",
       "   'categories': [{'id': 13002,\n",
       "     'name': 'Bakery',\n",
       "     'icon': {'prefix': 'https://ss3.4sqi.net/img/categories_v2/food/bakery_',\n",
       "      'suffix': '.png'}}],\n",
       "   'chains': [],\n",
       "   'distance': 2062,\n",
       "   'geocodes': {'drop_off': {'latitude': 48.87045, 'longitude': 2.359646},\n",
       "    'main': {'latitude': 48.870538, 'longitude': 2.359692},\n",
       "    'roof': {'latitude': 48.870538, 'longitude': 2.359692}},\n",
       "   'link': '/v3/places/5d3982ef052ad0000874b876',\n",
       "   'location': {'address': \"32 rue de Château d'Eau\",\n",
       "    'admin_region': 'Île-de-France',\n",
       "    'country': 'FR',\n",
       "    'cross_street': '',\n",
       "    'formatted_address': \"32 rue de Château d'Eau, 75010 Paris\",\n",
       "    'locality': 'Paris',\n",
       "    'postcode': '75010',\n",
       "    'region': 'Île-de-France'},\n",
       "   'name': 'MaMiche',\n",
       "   'related_places': {},\n",
       "   'timezone': 'Europe/Paris'},\n",
       "  {'fsq_id': '55ab746d498e124b1e4a89b7',\n",
       "   'categories': [{'id': 13002,\n",
       "     'name': 'Bakery',\n",
       "     'icon': {'prefix': 'https://ss3.4sqi.net/img/categories_v2/food/bakery_',\n",
       "      'suffix': '.png'}}],\n",
       "   'chains': [],\n",
       "   'distance': 2148,\n",
       "   'geocodes': {'drop_off': {'latitude': 48.872489, 'longitude': 2.354179},\n",
       "    'main': {'latitude': 48.872342, 'longitude': 2.354419},\n",
       "    'roof': {'latitude': 48.872342, 'longitude': 2.354419}},\n",
       "   'link': '/v3/places/55ab746d498e124b1e4a89b7',\n",
       "   'location': {'address': '56 rue du Faubourg Saint-Denis',\n",
       "    'admin_region': 'Île-de-France',\n",
       "    'country': 'FR',\n",
       "    'cross_street': '',\n",
       "    'formatted_address': '56 rue du Faubourg Saint-Denis, 75010 Paris',\n",
       "    'locality': 'Paris',\n",
       "    'postcode': '75010',\n",
       "    'region': 'Île-de-France'},\n",
       "   'name': 'Boulangerie Julhès',\n",
       "   'related_places': {'children': [{'fsq_id': '611cc28adafae84ac6a4217b',\n",
       "      'name': 'Coutume Cafe'}]},\n",
       "   'timezone': 'Europe/Paris'},\n",
       "  {'fsq_id': '59822a59e96d0c565387343e',\n",
       "   'categories': [{'id': 13148,\n",
       "     'name': 'French Restaurant',\n",
       "     'icon': {'prefix': 'https://ss3.4sqi.net/img/categories_v2/food/french_',\n",
       "      'suffix': '.png'}}],\n",
       "   'chains': [],\n",
       "   'distance': 2192,\n",
       "   'geocodes': {'drop_off': {'latitude': 48.873168, 'longitude': 2.350349},\n",
       "    'main': {'latitude': 48.873208, 'longitude': 2.350212},\n",
       "    'roof': {'latitude': 48.873208, 'longitude': 2.350212}},\n",
       "   'link': '/v3/places/59822a59e96d0c565387343e',\n",
       "   'location': {'address': '27 rue d ́Hauteville',\n",
       "    'admin_region': 'Île-de-France',\n",
       "    'country': 'FR',\n",
       "    'cross_street': '',\n",
       "    'formatted_address': '27 rue d ́Hauteville, 75010 Paris',\n",
       "    'locality': 'Paris',\n",
       "    'postcode': '75010',\n",
       "    'region': 'Île-de-France'},\n",
       "   'name': 'Eels',\n",
       "   'related_places': {},\n",
       "   'timezone': 'Europe/Paris'},\n",
       "  {'fsq_id': '4adcda06f964a520fa3221e3',\n",
       "   'categories': [{'id': 13148,\n",
       "     'name': 'French Restaurant',\n",
       "     'icon': {'prefix': 'https://ss3.4sqi.net/img/categories_v2/food/french_',\n",
       "      'suffix': '.png'}}],\n",
       "   'chains': [],\n",
       "   'distance': 2202,\n",
       "   'geocodes': {'main': {'latitude': 48.867924, 'longitude': 2.328766},\n",
       "    'roof': {'latitude': 48.867924, 'longitude': 2.328766}},\n",
       "   'link': '/v3/places/4adcda06f964a520fa3221e3',\n",
       "   'location': {'address': '15 place Vendôme',\n",
       "    'admin_region': 'Île-de-France',\n",
       "    'country': 'FR',\n",
       "    'cross_street': '',\n",
       "    'formatted_address': '15 place Vendôme, 75001 Paris',\n",
       "    'locality': 'Paris',\n",
       "    'postcode': '75001',\n",
       "    'region': 'Île-de-France'},\n",
       "   'name': 'Bar Vendôme',\n",
       "   'related_places': {'parent': {'fsq_id': '53b65301498e8cb57224f80c',\n",
       "     'name': 'Ritz Paris'}},\n",
       "   'timezone': 'Europe/Paris'},\n",
       "  {'fsq_id': '4b5eec5df964a520129e29e3',\n",
       "   'categories': [{'id': 13002,\n",
       "     'name': 'Bakery',\n",
       "     'icon': {'prefix': 'https://ss3.4sqi.net/img/categories_v2/food/bakery_',\n",
       "      'suffix': '.png'}},\n",
       "    {'id': 13065,\n",
       "     'name': 'Restaurant',\n",
       "     'icon': {'prefix': 'https://ss3.4sqi.net/img/categories_v2/food/default_',\n",
       "      'suffix': '.png'}}],\n",
       "   'chains': [],\n",
       "   'distance': 2234,\n",
       "   'geocodes': {'main': {'latitude': 48.871214, 'longitude': 2.362942},\n",
       "    'roof': {'latitude': 48.871214, 'longitude': 2.362942}},\n",
       "   'link': '/v3/places/4b5eec5df964a520129e29e3',\n",
       "   'location': {'address': '34 rue Yves Toudic, 10e',\n",
       "    'admin_region': 'Île-de-France',\n",
       "    'country': 'FR',\n",
       "    'formatted_address': '34 rue Yves Toudic, 10e, 75010 Paris',\n",
       "    'locality': 'Paris',\n",
       "    'postcode': '75010',\n",
       "    'region': 'Île-de-France'},\n",
       "   'name': 'Du Pain et des Idées',\n",
       "   'related_places': {},\n",
       "   'timezone': 'Europe/Paris'},\n",
       "  {'fsq_id': '564f964b498e03abff0be2ab',\n",
       "   'categories': [{'id': 13064,\n",
       "     'name': 'Pizzeria',\n",
       "     'icon': {'prefix': 'https://ss3.4sqi.net/img/categories_v2/food/pizza_',\n",
       "      'suffix': '.png'}}],\n",
       "   'chains': [],\n",
       "   'distance': 2313,\n",
       "   'geocodes': {'drop_off': {'latitude': 48.853545, 'longitude': 2.380262},\n",
       "    'main': {'latitude': 48.853438, 'longitude': 2.380284},\n",
       "    'roof': {'latitude': 48.853438, 'longitude': 2.380284}},\n",
       "   'link': '/v3/places/564f964b498e03abff0be2ab',\n",
       "   'location': {'address': '78 rue de Charonne',\n",
       "    'admin_region': 'Île-de-France',\n",
       "    'country': 'FR',\n",
       "    'cross_street': '',\n",
       "    'formatted_address': '78 rue de Charonne, 75011 Paris',\n",
       "    'locality': 'Paris',\n",
       "    'postcode': '75011',\n",
       "    'region': 'Île-de-France'},\n",
       "   'name': 'Louie Louie',\n",
       "   'related_places': {},\n",
       "   'timezone': 'Europe/Paris'},\n",
       "  {'fsq_id': '548ecb1b498eecad73397311',\n",
       "   'categories': [{'id': 13003,\n",
       "     'name': 'Bar',\n",
       "     'icon': {'prefix': 'https://ss3.4sqi.net/img/categories_v2/nightlife/pub_',\n",
       "      'suffix': '.png'}},\n",
       "    {'id': 13031,\n",
       "     'name': 'Burger Joint',\n",
       "     'icon': {'prefix': 'https://ss3.4sqi.net/img/categories_v2/food/burger_',\n",
       "      'suffix': '.png'}},\n",
       "    {'id': 13072,\n",
       "     'name': 'Asian Restaurant',\n",
       "     'icon': {'prefix': 'https://ss3.4sqi.net/img/categories_v2/food/asian_',\n",
       "      'suffix': '.png'}}],\n",
       "   'chains': [],\n",
       "   'distance': 2403,\n",
       "   'geocodes': {'drop_off': {'latitude': 48.872209, 'longitude': 2.365043},\n",
       "    'main': {'latitude': 48.872284, 'longitude': 2.365139},\n",
       "    'roof': {'latitude': 48.872284, 'longitude': 2.365139}},\n",
       "   'link': '/v3/places/548ecb1b498eecad73397311',\n",
       "   'location': {'address': '82 quai de Jemmapes',\n",
       "    'admin_region': 'Île-de-France',\n",
       "    'country': 'FR',\n",
       "    'cross_street': '',\n",
       "    'formatted_address': '82 quai de Jemmapes, 75010 Paris',\n",
       "    'locality': 'Paris',\n",
       "    'postcode': '75010',\n",
       "    'region': 'Île-de-France'},\n",
       "   'name': 'Siseng',\n",
       "   'related_places': {},\n",
       "   'timezone': 'Europe/Paris'},\n",
       "  {'fsq_id': '5daf5ce348f796000802bc27',\n",
       "   'categories': [{'id': 13236,\n",
       "     'name': 'Italian Restaurant',\n",
       "     'icon': {'prefix': 'https://ss3.4sqi.net/img/categories_v2/food/italian_',\n",
       "      'suffix': '.png'}}],\n",
       "   'chains': [],\n",
       "   'distance': 2462,\n",
       "   'geocodes': {'drop_off': {'latitude': 48.875467, 'longitude': 2.350068},\n",
       "    'main': {'latitude': 48.875546, 'longitude': 2.350081},\n",
       "    'roof': {'latitude': 48.875546, 'longitude': 2.350081}},\n",
       "   'link': '/v3/places/5daf5ce348f796000802bc27',\n",
       "   'location': {'address': '44 rue de Paradis',\n",
       "    'admin_region': 'Île-de-France',\n",
       "    'country': 'FR',\n",
       "    'cross_street': '',\n",
       "    'formatted_address': '44 rue de Paradis, 75010 Paris',\n",
       "    'locality': 'Paris',\n",
       "    'postcode': '75010',\n",
       "    'region': 'Île-de-France'},\n",
       "   'name': 'Libertino by Big Mamma',\n",
       "   'related_places': {},\n",
       "   'timezone': 'Europe/Paris'},\n",
       "  {'fsq_id': '562b7821498efaeee3059e89',\n",
       "   'categories': [{'id': 13148,\n",
       "     'name': 'French Restaurant',\n",
       "     'icon': {'prefix': 'https://ss3.4sqi.net/img/categories_v2/food/french_',\n",
       "      'suffix': '.png'}}],\n",
       "   'chains': [],\n",
       "   'distance': 2997,\n",
       "   'geocodes': {'main': {'latitude': 48.852893, 'longitude': 2.389757},\n",
       "    'roof': {'latitude': 48.852893, 'longitude': 2.389757}},\n",
       "   'link': '/v3/places/562b7821498efaeee3059e89',\n",
       "   'location': {'address': '10 rue Alexandre Dumas',\n",
       "    'admin_region': 'Île-de-France',\n",
       "    'country': 'FR',\n",
       "    'cross_street': '',\n",
       "    'formatted_address': '10 rue Alexandre Dumas, 75011 Paris',\n",
       "    'locality': 'Paris',\n",
       "    'postcode': '75011',\n",
       "    'region': 'Île-de-France'},\n",
       "   'name': \"Fulgurances l'Adresse\",\n",
       "   'related_places': {},\n",
       "   'timezone': 'Europe/Paris'},\n",
       "  {'fsq_id': '4d230a536e8c370402f210a0',\n",
       "   'categories': [{'id': 13027,\n",
       "     'name': 'Bistro',\n",
       "     'icon': {'prefix': 'https://ss3.4sqi.net/img/categories_v2/food/default_',\n",
       "      'suffix': '.png'}},\n",
       "    {'id': 13064,\n",
       "     'name': 'Pizzeria',\n",
       "     'icon': {'prefix': 'https://ss3.4sqi.net/img/categories_v2/food/pizza_',\n",
       "      'suffix': '.png'}},\n",
       "    {'id': 13152,\n",
       "     'name': 'Brasserie',\n",
       "     'icon': {'prefix': 'https://ss3.4sqi.net/img/categories_v2/food/french_',\n",
       "      'suffix': '.png'}}],\n",
       "   'chains': [],\n",
       "   'distance': 3089,\n",
       "   'geocodes': {'drop_off': {'latitude': 48.880522, 'longitude': 2.339802},\n",
       "    'main': {'latitude': 48.880416, 'longitude': 2.339783},\n",
       "    'roof': {'latitude': 48.880416, 'longitude': 2.339783}},\n",
       "   'link': '/v3/places/4d230a536e8c370402f210a0',\n",
       "   'location': {'address': '3 rue Victor Massé, 9e',\n",
       "    'admin_region': 'Île-de-France',\n",
       "    'country': 'FR',\n",
       "    'formatted_address': '3 rue Victor Massé, 9e, 75009 Paris',\n",
       "    'locality': 'Paris',\n",
       "    'postcode': '75009',\n",
       "    'region': 'Île-de-France'},\n",
       "   'name': 'Le Pantruche',\n",
       "   'related_places': {},\n",
       "   'timezone': 'Europe/Paris'},\n",
       "  {'fsq_id': '4adcda13f964a520ad3621e3',\n",
       "   'categories': [{'id': 13152,\n",
       "     'name': 'Brasserie',\n",
       "     'icon': {'prefix': 'https://ss3.4sqi.net/img/categories_v2/food/french_',\n",
       "      'suffix': '.png'}},\n",
       "    {'id': 13345,\n",
       "     'name': 'Spanish Restaurant',\n",
       "     'icon': {'prefix': 'https://ss3.4sqi.net/img/categories_v2/food/spanish_',\n",
       "      'suffix': '.png'}}],\n",
       "   'chains': [],\n",
       "   'distance': 3229,\n",
       "   'geocodes': {'main': {'latitude': 48.860347, 'longitude': 2.306019},\n",
       "    'roof': {'latitude': 48.860347, 'longitude': 2.306019}},\n",
       "   'link': '/v3/places/4adcda13f964a520ad3621e3',\n",
       "   'location': {'address': '27 rue Malar',\n",
       "    'admin_region': 'Île-de-France',\n",
       "    'country': 'FR',\n",
       "    'formatted_address': '27 rue Malar, 75007 Paris',\n",
       "    'locality': 'Paris',\n",
       "    'postcode': '75007',\n",
       "    'region': 'Île-de-France'},\n",
       "   'name': \"L'Ami Jean\",\n",
       "   'related_places': {},\n",
       "   'timezone': 'Europe/Paris'},\n",
       "  {'fsq_id': '4e1aa6f6a8097d08b24bcc14',\n",
       "   'categories': [{'id': 13148,\n",
       "     'name': 'French Restaurant',\n",
       "     'icon': {'prefix': 'https://ss3.4sqi.net/img/categories_v2/food/french_',\n",
       "      'suffix': '.png'}}],\n",
       "   'chains': [],\n",
       "   'distance': 3462,\n",
       "   'geocodes': {'drop_off': {'latitude': 48.880101, 'longitude': 2.323961},\n",
       "    'main': {'latitude': 48.880216, 'longitude': 2.324083},\n",
       "    'roof': {'latitude': 48.880216, 'longitude': 2.324083}},\n",
       "   'link': '/v3/places/4e1aa6f6a8097d08b24bcc14',\n",
       "   'location': {'address': '2 rue de Berne',\n",
       "    'admin_region': 'Île-de-France',\n",
       "    'country': 'FR',\n",
       "    'cross_street': '',\n",
       "    'formatted_address': '2 rue de Berne, 75008 Paris',\n",
       "    'locality': 'Paris',\n",
       "    'postcode': '75008',\n",
       "    'region': 'Île-de-France'},\n",
       "   'name': 'Neva Cuisine',\n",
       "   'related_places': {},\n",
       "   'timezone': 'Europe/Paris'},\n",
       "  {'fsq_id': '5ff099b17c1293281aa3f134',\n",
       "   'categories': [{'id': 13031,\n",
       "     'name': 'Burger Joint',\n",
       "     'icon': {'prefix': 'https://ss3.4sqi.net/img/categories_v2/food/burger_',\n",
       "      'suffix': '.png'}}],\n",
       "   'chains': [],\n",
       "   'distance': 3716,\n",
       "   'geocodes': {'drop_off': {'latitude': 48.866965, 'longitude': 2.302371},\n",
       "    'main': {'latitude': 48.86707, 'longitude': 2.302433},\n",
       "    'roof': {'latitude': 48.86707, 'longitude': 2.302433}},\n",
       "   'link': '/v3/places/5ff099b17c1293281aa3f134',\n",
       "   'location': {'address': '18 rue du Boccador',\n",
       "    'admin_region': 'Île-de-France',\n",
       "    'country': 'FR',\n",
       "    'cross_street': '',\n",
       "    'formatted_address': '18 rue du Boccador, 75008 Paris',\n",
       "    'locality': 'Paris',\n",
       "    'postcode': '75008',\n",
       "    'region': 'Île-de-France'},\n",
       "   'name': 'Dinand par Ferdi',\n",
       "   'related_places': {},\n",
       "   'timezone': 'Europe/Paris'},\n",
       "  {'fsq_id': '5710c77a498e3021c0641aa9',\n",
       "   'categories': [{'id': 13000,\n",
       "     'name': 'Dining and Drinking',\n",
       "     'icon': {'prefix': 'https://ss3.4sqi.net/img/categories_v2/food/default_',\n",
       "      'suffix': '.png'}}],\n",
       "   'chains': [],\n",
       "   'distance': 3735,\n",
       "   'geocodes': {'drop_off': {'latitude': 48.886938, 'longitude': 2.34447},\n",
       "    'main': {'latitude': 48.886877, 'longitude': 2.344563},\n",
       "    'roof': {'latitude': 48.886877, 'longitude': 2.344563}},\n",
       "   'link': '/v3/places/5710c77a498e3021c0641aa9',\n",
       "   'location': {'address': '10 rue Lamarck, 18e',\n",
       "    'admin_region': 'Île-de-France',\n",
       "    'country': 'FR',\n",
       "    'cross_street': '',\n",
       "    'formatted_address': '10 rue Lamarck, 18e, 75018 Paris',\n",
       "    'locality': 'Paris',\n",
       "    'postcode': '75018',\n",
       "    'region': 'Île-de-France'},\n",
       "   'name': 'Hardware Société',\n",
       "   'related_places': {},\n",
       "   'timezone': 'Europe/Paris'},\n",
       "  {'fsq_id': '4c0956e8a1b32d7f298297f0',\n",
       "   'categories': [{'id': 13152,\n",
       "     'name': 'Brasserie',\n",
       "     'icon': {'prefix': 'https://ss3.4sqi.net/img/categories_v2/food/french_',\n",
       "      'suffix': '.png'}}],\n",
       "   'chains': [],\n",
       "   'distance': 3705,\n",
       "   'geocodes': {'drop_off': {'latitude': 48.871678, 'longitude': 2.306476},\n",
       "    'main': {'latitude': 48.87154, 'longitude': 2.306431},\n",
       "    'roof': {'latitude': 48.87154, 'longitude': 2.306431}},\n",
       "   'link': '/v3/places/4c0956e8a1b32d7f298297f0',\n",
       "   'location': {'address': '47 rue de Ponthieu',\n",
       "    'admin_region': 'Île-de-France',\n",
       "    'country': 'FR',\n",
       "    'formatted_address': '47 rue de Ponthieu, 75008 Paris',\n",
       "    'locality': 'Paris',\n",
       "    'postcode': '75008',\n",
       "    'region': 'Île-de-France'},\n",
       "   'name': 'Le Sens Unique',\n",
       "   'related_places': {},\n",
       "   'timezone': 'Europe/Paris'},\n",
       "  {'fsq_id': '4d541304d4a6721e9b5691ac',\n",
       "   'categories': [{'id': 13002,\n",
       "     'name': 'Bakery',\n",
       "     'icon': {'prefix': 'https://ss3.4sqi.net/img/categories_v2/food/bakery_',\n",
       "      'suffix': '.png'}},\n",
       "    {'id': 13065,\n",
       "     'name': 'Restaurant',\n",
       "     'icon': {'prefix': 'https://ss3.4sqi.net/img/categories_v2/food/default_',\n",
       "      'suffix': '.png'}}],\n",
       "   'chains': [],\n",
       "   'distance': 3784,\n",
       "   'geocodes': {'drop_off': {'latitude': 48.885985, 'longitude': 2.334549},\n",
       "    'main': {'latitude': 48.886093, 'longitude': 2.334619},\n",
       "    'roof': {'latitude': 48.886093, 'longitude': 2.334619}},\n",
       "   'link': '/v3/places/4d541304d4a6721e9b5691ac',\n",
       "   'location': {'address': '40 rue Lepic',\n",
       "    'admin_region': 'Île-de-France',\n",
       "    'country': 'FR',\n",
       "    'cross_street': '',\n",
       "    'formatted_address': '40 rue Lepic, 75018 Paris',\n",
       "    'locality': 'Paris',\n",
       "    'postcode': '75018',\n",
       "    'region': 'Île-de-France'},\n",
       "   'name': 'Boulangerie Alexine',\n",
       "   'related_places': {},\n",
       "   'timezone': 'Europe/Paris'},\n",
       "  {'fsq_id': '51c5f55d498e59e2ebcc7742',\n",
       "   'categories': [{'id': 13027,\n",
       "     'name': 'Bistro',\n",
       "     'icon': {'prefix': 'https://ss3.4sqi.net/img/categories_v2/food/default_',\n",
       "      'suffix': '.png'}},\n",
       "    {'id': 13049,\n",
       "     'name': 'Diner',\n",
       "     'icon': {'prefix': 'https://ss3.4sqi.net/img/categories_v2/food/diner_',\n",
       "      'suffix': '.png'}},\n",
       "    {'id': 13152,\n",
       "     'name': 'Brasserie',\n",
       "     'icon': {'prefix': 'https://ss3.4sqi.net/img/categories_v2/food/french_',\n",
       "      'suffix': '.png'}}],\n",
       "   'chains': [],\n",
       "   'distance': 3795,\n",
       "   'geocodes': {'drop_off': {'latitude': 48.886897, 'longitude': 2.338189},\n",
       "    'main': {'latitude': 48.88678, 'longitude': 2.338135},\n",
       "    'roof': {'latitude': 48.88678, 'longitude': 2.338135}},\n",
       "   'link': '/v3/places/51c5f55d498e59e2ebcc7742',\n",
       "   'location': {'address': '108 rue Lepic',\n",
       "    'admin_region': 'Île-de-France',\n",
       "    'country': 'FR',\n",
       "    'cross_street': '',\n",
       "    'formatted_address': '108 rue Lepic, 75018 Paris',\n",
       "    'locality': 'Paris',\n",
       "    'postcode': '75018',\n",
       "    'region': 'Île-de-France'},\n",
       "   'name': 'La Boite aux Lettres',\n",
       "   'related_places': {},\n",
       "   'timezone': 'Europe/Paris'},\n",
       "  {'fsq_id': '4d0a627f5edd5481a159059b',\n",
       "   'categories': [{'id': 13152,\n",
       "     'name': 'Brasserie',\n",
       "     'icon': {'prefix': 'https://ss3.4sqi.net/img/categories_v2/food/french_',\n",
       "      'suffix': '.png'}}],\n",
       "   'chains': [],\n",
       "   'distance': 3912,\n",
       "   'geocodes': {'drop_off': {'latitude': 48.853502, 'longitude': 2.295221},\n",
       "    'main': {'latitude': 48.853416, 'longitude': 2.295197},\n",
       "    'roof': {'latitude': 48.853416, 'longitude': 2.295197}},\n",
       "   'link': '/v3/places/4d0a627f5edd5481a159059b',\n",
       "   'location': {'address': '56 rue de la Fédération, 15e',\n",
       "    'admin_region': 'Île-de-France',\n",
       "    'country': 'FR',\n",
       "    'cross_street': '',\n",
       "    'formatted_address': '56 rue de la Fédération, 15e, 75015 Paris',\n",
       "    'locality': 'Paris',\n",
       "    'postcode': '75015',\n",
       "    'region': 'Île-de-France'},\n",
       "   'name': 'Le Casse Noix',\n",
       "   'related_places': {},\n",
       "   'timezone': 'Europe/Paris'},\n",
       "  {'fsq_id': '50abd239e4b0869279d6a3af',\n",
       "   'categories': [{'id': 13263,\n",
       "     'name': 'Japanese Restaurant',\n",
       "     'icon': {'prefix': 'https://ss3.4sqi.net/img/categories_v2/food/japanese_',\n",
       "      'suffix': '.png'}}],\n",
       "   'chains': [],\n",
       "   'distance': 4294,\n",
       "   'geocodes': {'drop_off': {'latitude': 48.875911, 'longitude': 2.300453},\n",
       "    'main': {'latitude': 48.875554, 'longitude': 2.300601},\n",
       "    'roof': {'latitude': 48.875554, 'longitude': 2.300601}},\n",
       "   'link': '/v3/places/50abd239e4b0869279d6a3af',\n",
       "   'location': {'address': '35-37 avenue Hoche',\n",
       "    'admin_region': 'Île-de-France',\n",
       "    'country': 'FR',\n",
       "    'cross_street': '',\n",
       "    'formatted_address': '35-37 avenue Hoche, 75008 Paris',\n",
       "    'locality': 'Paris',\n",
       "    'postcode': '75008',\n",
       "    'region': 'Île-de-France'},\n",
       "   'name': 'Matsuhisa Paris',\n",
       "   'related_places': {'parent': {'fsq_id': '4ca46f77b0ff8cfa746fbf5e',\n",
       "     'name': 'Le Royal Monceau Raffles Paris'}},\n",
       "   'timezone': 'Europe/Paris'},\n",
       "  {'fsq_id': '53f72f4f498e240441adcfc5',\n",
       "   'categories': [{'id': 13148,\n",
       "     'name': 'French Restaurant',\n",
       "     'icon': {'prefix': 'https://ss3.4sqi.net/img/categories_v2/food/french_',\n",
       "      'suffix': '.png'}}],\n",
       "   'chains': [],\n",
       "   'distance': 4461,\n",
       "   'geocodes': {'main': {'latitude': 48.870898, 'longitude': 2.293391},\n",
       "    'roof': {'latitude': 48.870898, 'longitude': 2.293391}},\n",
       "   'link': '/v3/places/53f72f4f498e240441adcfc5',\n",
       "   'location': {'address': '19 avenue Kléber',\n",
       "    'admin_region': 'Île-de-France',\n",
       "    'country': 'FR',\n",
       "    'cross_street': '',\n",
       "    'formatted_address': '19 avenue Kléber, 75116 Paris',\n",
       "    'locality': 'Paris',\n",
       "    'postcode': '75116',\n",
       "    'region': 'Île-de-France'},\n",
       "   'name': \"L'Oiseau Blanc\",\n",
       "   'related_places': {'parent': {'fsq_id': '4df4832f14954f21cf31ff92',\n",
       "     'name': 'The Peninsula Paris'}},\n",
       "   'timezone': 'Europe/Paris'},\n",
       "  {'fsq_id': '5b61826df193c0002cfec9d5',\n",
       "   'categories': [{'id': 13065,\n",
       "     'name': 'Restaurant',\n",
       "     'icon': {'prefix': 'https://ss3.4sqi.net/img/categories_v2/food/default_',\n",
       "      'suffix': '.png'}}],\n",
       "   'chains': [],\n",
       "   'distance': 4506,\n",
       "   'geocodes': {'main': {'latitude': 48.861949, 'longitude': 2.287887},\n",
       "    'roof': {'latitude': 48.861949, 'longitude': 2.287887}},\n",
       "   'link': '/v3/places/5b61826df193c0002cfec9d5',\n",
       "   'location': {'address': '1 place du Trocadéro et du Onze Novembre',\n",
       "    'admin_region': 'Île-de-France',\n",
       "    'country': 'FR',\n",
       "    'cross_street': '',\n",
       "    'formatted_address': '1 place du Trocadéro et du Onze Novembre, 75016 Paris',\n",
       "    'locality': 'Paris',\n",
       "    'postcode': '75016',\n",
       "    'region': 'Île-de-France'},\n",
       "   'name': 'La Suite Girafe',\n",
       "   'related_places': {'parent': {'fsq_id': '4adcda10f964a520bb3521e3',\n",
       "     'name': \"Cité de l'architecture et du patrimoine\"}},\n",
       "   'timezone': 'Europe/Paris'},\n",
       "  {'fsq_id': '4bb08733f964a520f2493ce3',\n",
       "   'categories': [{'id': 13148,\n",
       "     'name': 'French Restaurant',\n",
       "     'icon': {'prefix': 'https://ss3.4sqi.net/img/categories_v2/food/french_',\n",
       "      'suffix': '.png'}}],\n",
       "   'chains': [],\n",
       "   'distance': 7999,\n",
       "   'geocodes': {'main': {'latitude': 48.865327, 'longitude': 2.237516},\n",
       "    'roof': {'latitude': 48.865327, 'longitude': 2.237516}},\n",
       "   'link': '/v3/places/4bb08733f964a520f2493ce3',\n",
       "   'location': {'address': '1 allée de Longchamp',\n",
       "    'admin_region': 'Île-de-France',\n",
       "    'country': 'FR',\n",
       "    'cross_street': 'Bois de Boulogne',\n",
       "    'formatted_address': '1 allée de Longchamp (Bois de Boulogne), 75016 Paris',\n",
       "    'locality': 'Paris',\n",
       "    'postcode': '75016',\n",
       "    'region': 'Île-de-France'},\n",
       "   'name': 'La Grande Cascade',\n",
       "   'related_places': {'parent': {'fsq_id': '4adcda09f964a520093421e3',\n",
       "     'name': 'Bois de Boulogne'}},\n",
       "   'timezone': 'Europe/Paris'}],\n",
       " 'context': {'geo_bounds': {'circle': {'center': {'latitude': 48.85341,\n",
       "     'longitude': 2.3488},\n",
       "    'radius': 19149}}}}"
      ]
     },
     "execution_count": 707,
     "metadata": {},
     "output_type": "execute_result"
    }
   ],
   "source": [
    "import requests\n",
    "\n",
    "url = \"https://api.foursquare.com/v3/places/search?query=restaurants&near=paris&limit=50\"\n",
    "\n",
    "headers = {\n",
    "    \"accept\": \"application/json\",\n",
    "    \"Authorization\": \"fsq3BQAqUk8AGjMKyi9vaiYy0SOlZ4gZUueUDBhYPCKo42k=\"\n",
    "}\n",
    "\n",
    "response = requests.get(url, headers=headers)\n",
    "\n",
    "fs_data = response.json()\n",
    "\n",
    "fs_data"
   ]
  },
  {
   "cell_type": "code",
   "execution_count": 833,
   "id": "a6127b52-6d43-4e6d-b894-47c9b3f3abac",
   "metadata": {
    "tags": []
   },
   "outputs": [
    {
     "data": {
      "text/html": [
       "<div>\n",
       "<style scoped>\n",
       "    .dataframe tbody tr th:only-of-type {\n",
       "        vertical-align: middle;\n",
       "    }\n",
       "\n",
       "    .dataframe tbody tr th {\n",
       "        vertical-align: top;\n",
       "    }\n",
       "\n",
       "    .dataframe thead th {\n",
       "        text-align: right;\n",
       "    }\n",
       "</style>\n",
       "<table border=\"1\" class=\"dataframe\">\n",
       "  <thead>\n",
       "    <tr style=\"text-align: right;\">\n",
       "      <th></th>\n",
       "      <th>fsq_id</th>\n",
       "      <th>name</th>\n",
       "      <th>category</th>\n",
       "      <th>lat</th>\n",
       "      <th>long</th>\n",
       "    </tr>\n",
       "  </thead>\n",
       "  <tbody>\n",
       "    <tr>\n",
       "      <th>0</th>\n",
       "      <td>5b394cae92e7a9002c724cf9</td>\n",
       "      <td>La Maison d'Isabelle</td>\n",
       "      <td>Bakery</td>\n",
       "      <td>48.849807</td>\n",
       "      <td>2.348409</td>\n",
       "    </tr>\n",
       "    <tr>\n",
       "      <th>1</th>\n",
       "      <td>59468bd1898bdc07ffc0d6ac</td>\n",
       "      <td>Breizh Café</td>\n",
       "      <td>Dining and Drinking</td>\n",
       "      <td>48.849807</td>\n",
       "      <td>2.348409</td>\n",
       "    </tr>\n",
       "    <tr>\n",
       "      <th>2</th>\n",
       "      <td>4df27ab522718759f81c4fc7</td>\n",
       "      <td>Aux Prés</td>\n",
       "      <td>Bistro</td>\n",
       "      <td>48.849807</td>\n",
       "      <td>2.348409</td>\n",
       "    </tr>\n",
       "    <tr>\n",
       "      <th>3</th>\n",
       "      <td>4d974096a2c654814aa6d353</td>\n",
       "      <td>Mmmozza</td>\n",
       "      <td>Gourmet Store</td>\n",
       "      <td>48.849807</td>\n",
       "      <td>2.348409</td>\n",
       "    </tr>\n",
       "    <tr>\n",
       "      <th>4</th>\n",
       "      <td>5474e08e498e26dc5e12ebb5</td>\n",
       "      <td>Les Amis des Messina</td>\n",
       "      <td>Italian Restaurant</td>\n",
       "      <td>48.849807</td>\n",
       "      <td>2.348409</td>\n",
       "    </tr>\n",
       "    <tr>\n",
       "      <th>5</th>\n",
       "      <td>4c0175b0f7ab0f477e2916b6</td>\n",
       "      <td>Au Bon Coin</td>\n",
       "      <td>French Restaurant</td>\n",
       "      <td>48.849807</td>\n",
       "      <td>2.348409</td>\n",
       "    </tr>\n",
       "    <tr>\n",
       "      <th>6</th>\n",
       "      <td>5d6ae3b0ca1763000823441b</td>\n",
       "      <td>Coya Paris</td>\n",
       "      <td>Peruvian Restaurant</td>\n",
       "      <td>48.849807</td>\n",
       "      <td>2.348409</td>\n",
       "    </tr>\n",
       "    <tr>\n",
       "      <th>7</th>\n",
       "      <td>5bae5f6c3ba767002c68a477</td>\n",
       "      <td>Caffe Dei Fratelli</td>\n",
       "      <td>Italian Restaurant</td>\n",
       "      <td>48.849807</td>\n",
       "      <td>2.348409</td>\n",
       "    </tr>\n",
       "    <tr>\n",
       "      <th>8</th>\n",
       "      <td>547efe8d498e129542045673</td>\n",
       "      <td>Dersou</td>\n",
       "      <td>Bistro</td>\n",
       "      <td>48.849807</td>\n",
       "      <td>2.348409</td>\n",
       "    </tr>\n",
       "    <tr>\n",
       "      <th>9</th>\n",
       "      <td>54fc65f3498e7f86ee38def9</td>\n",
       "      <td>Boulangerie Utopie</td>\n",
       "      <td>Bakery</td>\n",
       "      <td>48.849807</td>\n",
       "      <td>2.348409</td>\n",
       "    </tr>\n",
       "    <tr>\n",
       "      <th>10</th>\n",
       "      <td>5581ba79498e2d654886dbad</td>\n",
       "      <td>Ober Mamma</td>\n",
       "      <td>Pizzeria</td>\n",
       "      <td>48.849807</td>\n",
       "      <td>2.348409</td>\n",
       "    </tr>\n",
       "    <tr>\n",
       "      <th>11</th>\n",
       "      <td>582e0924761b1a3f49adbfa4</td>\n",
       "      <td>Melt</td>\n",
       "      <td>BBQ Joint</td>\n",
       "      <td>48.849807</td>\n",
       "      <td>2.348409</td>\n",
       "    </tr>\n",
       "    <tr>\n",
       "      <th>12</th>\n",
       "      <td>55199c44498ed951dcccdda3</td>\n",
       "      <td>East Mamma</td>\n",
       "      <td>Italian Restaurant</td>\n",
       "      <td>48.849807</td>\n",
       "      <td>2.348409</td>\n",
       "    </tr>\n",
       "    <tr>\n",
       "      <th>13</th>\n",
       "      <td>5d3982ef052ad0000874b876</td>\n",
       "      <td>MaMiche</td>\n",
       "      <td>Bakery</td>\n",
       "      <td>48.849807</td>\n",
       "      <td>2.348409</td>\n",
       "    </tr>\n",
       "    <tr>\n",
       "      <th>14</th>\n",
       "      <td>55ab746d498e124b1e4a89b7</td>\n",
       "      <td>Boulangerie Julhès</td>\n",
       "      <td>Bakery</td>\n",
       "      <td>48.849807</td>\n",
       "      <td>2.348409</td>\n",
       "    </tr>\n",
       "    <tr>\n",
       "      <th>15</th>\n",
       "      <td>59822a59e96d0c565387343e</td>\n",
       "      <td>Eels</td>\n",
       "      <td>French Restaurant</td>\n",
       "      <td>48.849807</td>\n",
       "      <td>2.348409</td>\n",
       "    </tr>\n",
       "    <tr>\n",
       "      <th>16</th>\n",
       "      <td>4adcda06f964a520fa3221e3</td>\n",
       "      <td>Bar Vendôme</td>\n",
       "      <td>French Restaurant</td>\n",
       "      <td>48.849807</td>\n",
       "      <td>2.348409</td>\n",
       "    </tr>\n",
       "    <tr>\n",
       "      <th>17</th>\n",
       "      <td>4b5eec5df964a520129e29e3</td>\n",
       "      <td>Du Pain et des Idées</td>\n",
       "      <td>Bakery</td>\n",
       "      <td>48.849807</td>\n",
       "      <td>2.348409</td>\n",
       "    </tr>\n",
       "    <tr>\n",
       "      <th>18</th>\n",
       "      <td>564f964b498e03abff0be2ab</td>\n",
       "      <td>Louie Louie</td>\n",
       "      <td>Pizzeria</td>\n",
       "      <td>48.849807</td>\n",
       "      <td>2.348409</td>\n",
       "    </tr>\n",
       "    <tr>\n",
       "      <th>19</th>\n",
       "      <td>5daf5ce348f796000802bc27</td>\n",
       "      <td>Libertino by Big Mamma</td>\n",
       "      <td>Italian Restaurant</td>\n",
       "      <td>48.849807</td>\n",
       "      <td>2.348409</td>\n",
       "    </tr>\n",
       "    <tr>\n",
       "      <th>20</th>\n",
       "      <td>548ecb1b498eecad73397311</td>\n",
       "      <td>Siseng</td>\n",
       "      <td>Bar</td>\n",
       "      <td>48.849807</td>\n",
       "      <td>2.348409</td>\n",
       "    </tr>\n",
       "    <tr>\n",
       "      <th>21</th>\n",
       "      <td>562b7821498efaeee3059e89</td>\n",
       "      <td>Fulgurances l'Adresse</td>\n",
       "      <td>French Restaurant</td>\n",
       "      <td>48.849807</td>\n",
       "      <td>2.348409</td>\n",
       "    </tr>\n",
       "    <tr>\n",
       "      <th>22</th>\n",
       "      <td>4d230a536e8c370402f210a0</td>\n",
       "      <td>Le Pantruche</td>\n",
       "      <td>Bistro</td>\n",
       "      <td>48.849807</td>\n",
       "      <td>2.348409</td>\n",
       "    </tr>\n",
       "    <tr>\n",
       "      <th>23</th>\n",
       "      <td>4adcda13f964a520ad3621e3</td>\n",
       "      <td>L'Ami Jean</td>\n",
       "      <td>Brasserie</td>\n",
       "      <td>48.849807</td>\n",
       "      <td>2.348409</td>\n",
       "    </tr>\n",
       "    <tr>\n",
       "      <th>24</th>\n",
       "      <td>4e1aa6f6a8097d08b24bcc14</td>\n",
       "      <td>Neva Cuisine</td>\n",
       "      <td>French Restaurant</td>\n",
       "      <td>48.849807</td>\n",
       "      <td>2.348409</td>\n",
       "    </tr>\n",
       "    <tr>\n",
       "      <th>25</th>\n",
       "      <td>5710c77a498e3021c0641aa9</td>\n",
       "      <td>Hardware Société</td>\n",
       "      <td>Dining and Drinking</td>\n",
       "      <td>48.849807</td>\n",
       "      <td>2.348409</td>\n",
       "    </tr>\n",
       "    <tr>\n",
       "      <th>26</th>\n",
       "      <td>5ff099b17c1293281aa3f134</td>\n",
       "      <td>Dinand par Ferdi</td>\n",
       "      <td>Burger Joint</td>\n",
       "      <td>48.849807</td>\n",
       "      <td>2.348409</td>\n",
       "    </tr>\n",
       "    <tr>\n",
       "      <th>27</th>\n",
       "      <td>4c0956e8a1b32d7f298297f0</td>\n",
       "      <td>Le Sens Unique</td>\n",
       "      <td>Brasserie</td>\n",
       "      <td>48.849807</td>\n",
       "      <td>2.348409</td>\n",
       "    </tr>\n",
       "    <tr>\n",
       "      <th>28</th>\n",
       "      <td>4d541304d4a6721e9b5691ac</td>\n",
       "      <td>Boulangerie Alexine</td>\n",
       "      <td>Bakery</td>\n",
       "      <td>48.849807</td>\n",
       "      <td>2.348409</td>\n",
       "    </tr>\n",
       "    <tr>\n",
       "      <th>29</th>\n",
       "      <td>51c5f55d498e59e2ebcc7742</td>\n",
       "      <td>La Boite aux Lettres</td>\n",
       "      <td>Bistro</td>\n",
       "      <td>48.849807</td>\n",
       "      <td>2.348409</td>\n",
       "    </tr>\n",
       "    <tr>\n",
       "      <th>30</th>\n",
       "      <td>4d0a627f5edd5481a159059b</td>\n",
       "      <td>Le Casse Noix</td>\n",
       "      <td>Brasserie</td>\n",
       "      <td>48.849807</td>\n",
       "      <td>2.348409</td>\n",
       "    </tr>\n",
       "    <tr>\n",
       "      <th>31</th>\n",
       "      <td>50abd239e4b0869279d6a3af</td>\n",
       "      <td>Matsuhisa Paris</td>\n",
       "      <td>Japanese Restaurant</td>\n",
       "      <td>48.849807</td>\n",
       "      <td>2.348409</td>\n",
       "    </tr>\n",
       "    <tr>\n",
       "      <th>32</th>\n",
       "      <td>53f72f4f498e240441adcfc5</td>\n",
       "      <td>L'Oiseau Blanc</td>\n",
       "      <td>French Restaurant</td>\n",
       "      <td>48.849807</td>\n",
       "      <td>2.348409</td>\n",
       "    </tr>\n",
       "    <tr>\n",
       "      <th>33</th>\n",
       "      <td>5b61826df193c0002cfec9d5</td>\n",
       "      <td>La Suite Girafe</td>\n",
       "      <td>Restaurant</td>\n",
       "      <td>48.849807</td>\n",
       "      <td>2.348409</td>\n",
       "    </tr>\n",
       "    <tr>\n",
       "      <th>34</th>\n",
       "      <td>4bb08733f964a520f2493ce3</td>\n",
       "      <td>La Grande Cascade</td>\n",
       "      <td>French Restaurant</td>\n",
       "      <td>48.849807</td>\n",
       "      <td>2.348409</td>\n",
       "    </tr>\n",
       "  </tbody>\n",
       "</table>\n",
       "</div>"
      ],
      "text/plain": [
       "                      fsq_id                    name             category  \\\n",
       "0   5b394cae92e7a9002c724cf9    La Maison d'Isabelle               Bakery   \n",
       "1   59468bd1898bdc07ffc0d6ac             Breizh Café  Dining and Drinking   \n",
       "2   4df27ab522718759f81c4fc7                Aux Prés               Bistro   \n",
       "3   4d974096a2c654814aa6d353                 Mmmozza        Gourmet Store   \n",
       "4   5474e08e498e26dc5e12ebb5    Les Amis des Messina   Italian Restaurant   \n",
       "5   4c0175b0f7ab0f477e2916b6             Au Bon Coin    French Restaurant   \n",
       "6   5d6ae3b0ca1763000823441b              Coya Paris  Peruvian Restaurant   \n",
       "7   5bae5f6c3ba767002c68a477      Caffe Dei Fratelli   Italian Restaurant   \n",
       "8   547efe8d498e129542045673                  Dersou               Bistro   \n",
       "9   54fc65f3498e7f86ee38def9      Boulangerie Utopie               Bakery   \n",
       "10  5581ba79498e2d654886dbad              Ober Mamma             Pizzeria   \n",
       "11  582e0924761b1a3f49adbfa4                    Melt            BBQ Joint   \n",
       "12  55199c44498ed951dcccdda3              East Mamma   Italian Restaurant   \n",
       "13  5d3982ef052ad0000874b876                 MaMiche               Bakery   \n",
       "14  55ab746d498e124b1e4a89b7      Boulangerie Julhès               Bakery   \n",
       "15  59822a59e96d0c565387343e                    Eels    French Restaurant   \n",
       "16  4adcda06f964a520fa3221e3             Bar Vendôme    French Restaurant   \n",
       "17  4b5eec5df964a520129e29e3    Du Pain et des Idées               Bakery   \n",
       "18  564f964b498e03abff0be2ab             Louie Louie             Pizzeria   \n",
       "19  5daf5ce348f796000802bc27  Libertino by Big Mamma   Italian Restaurant   \n",
       "20  548ecb1b498eecad73397311                  Siseng                  Bar   \n",
       "21  562b7821498efaeee3059e89   Fulgurances l'Adresse    French Restaurant   \n",
       "22  4d230a536e8c370402f210a0            Le Pantruche               Bistro   \n",
       "23  4adcda13f964a520ad3621e3              L'Ami Jean            Brasserie   \n",
       "24  4e1aa6f6a8097d08b24bcc14            Neva Cuisine    French Restaurant   \n",
       "25  5710c77a498e3021c0641aa9        Hardware Société  Dining and Drinking   \n",
       "26  5ff099b17c1293281aa3f134        Dinand par Ferdi         Burger Joint   \n",
       "27  4c0956e8a1b32d7f298297f0          Le Sens Unique            Brasserie   \n",
       "28  4d541304d4a6721e9b5691ac     Boulangerie Alexine               Bakery   \n",
       "29  51c5f55d498e59e2ebcc7742    La Boite aux Lettres               Bistro   \n",
       "30  4d0a627f5edd5481a159059b           Le Casse Noix            Brasserie   \n",
       "31  50abd239e4b0869279d6a3af         Matsuhisa Paris  Japanese Restaurant   \n",
       "32  53f72f4f498e240441adcfc5          L'Oiseau Blanc    French Restaurant   \n",
       "33  5b61826df193c0002cfec9d5         La Suite Girafe           Restaurant   \n",
       "34  4bb08733f964a520f2493ce3       La Grande Cascade    French Restaurant   \n",
       "\n",
       "          lat      long  \n",
       "0   48.849807  2.348409  \n",
       "1   48.849807  2.348409  \n",
       "2   48.849807  2.348409  \n",
       "3   48.849807  2.348409  \n",
       "4   48.849807  2.348409  \n",
       "5   48.849807  2.348409  \n",
       "6   48.849807  2.348409  \n",
       "7   48.849807  2.348409  \n",
       "8   48.849807  2.348409  \n",
       "9   48.849807  2.348409  \n",
       "10  48.849807  2.348409  \n",
       "11  48.849807  2.348409  \n",
       "12  48.849807  2.348409  \n",
       "13  48.849807  2.348409  \n",
       "14  48.849807  2.348409  \n",
       "15  48.849807  2.348409  \n",
       "16  48.849807  2.348409  \n",
       "17  48.849807  2.348409  \n",
       "18  48.849807  2.348409  \n",
       "19  48.849807  2.348409  \n",
       "20  48.849807  2.348409  \n",
       "21  48.849807  2.348409  \n",
       "22  48.849807  2.348409  \n",
       "23  48.849807  2.348409  \n",
       "24  48.849807  2.348409  \n",
       "25  48.849807  2.348409  \n",
       "26  48.849807  2.348409  \n",
       "27  48.849807  2.348409  \n",
       "28  48.849807  2.348409  \n",
       "29  48.849807  2.348409  \n",
       "30  48.849807  2.348409  \n",
       "31  48.849807  2.348409  \n",
       "32  48.849807  2.348409  \n",
       "33  48.849807  2.348409  \n",
       "34  48.849807  2.348409  "
      ]
     },
     "execution_count": 833,
     "metadata": {},
     "output_type": "execute_result"
    }
   ],
   "source": [
    "import requests\n",
    "\n",
    "url = \"https://api.foursquare.com/v3/places/search?query=restaurants&near=paris&limit=50\"\n",
    "\n",
    "headers = {\n",
    "    \"accept\": \"application/json\",\n",
    "    \"Authorization\": \"fsq3BQAqUk8AGjMKyi9vaiYy0SOlZ4gZUueUDBhYPCKo42k=\"\n",
    "}\n",
    "\n",
    "response = requests.get(url, headers=headers)\n",
    "\n",
    "fs_data = response.json()\n",
    "\n",
    "results = fs_data['results']\n",
    "\n",
    "i = 0\n",
    "n = 0\n",
    "result_list = []\n",
    "\n",
    "for result in results:\n",
    "    fsq_id = results[i]['fsq_id']\n",
    "    name = results[i]['name']\n",
    "    categories = results[i]['categories']\n",
    "    category_name = categories[0]['name']\n",
    "    geocodes = results[i]['geocodes']\n",
    "    lat = results[0]['geocodes']['main']['latitude']\n",
    "    long = results[0]['geocodes']['main']['longitude']\n",
    "    \n",
    "    result_dict = {'fsq_id':fsq_id,\n",
    "                   'name':name,\n",
    "                   'category':category_name,\n",
    "                  'lat':lat,\n",
    "                  'long':long}\n",
    "    \n",
    "    result_list.append(result_dict)\n",
    "    \n",
    "    i +=1\n",
    "\n",
    "fs_df = pd.DataFrame(result_list)\n",
    "\n",
    "fs_df"
   ]
  },
  {
   "cell_type": "code",
   "execution_count": 831,
   "id": "bc8eca9e-457a-4157-804d-8ad9fdc63961",
   "metadata": {
    "tags": []
   },
   "outputs": [
    {
     "data": {
      "text/plain": [
       "48.849807"
      ]
     },
     "execution_count": 831,
     "metadata": {},
     "output_type": "execute_result"
    }
   ],
   "source": [
    "results[0]['geocodes']['main']['latitude']"
   ]
  },
  {
   "cell_type": "code",
   "execution_count": 702,
   "id": "7db1258c-e00b-476c-9444-8cb0e22e35bb",
   "metadata": {
    "tags": []
   },
   "outputs": [
    {
     "data": {
      "text/plain": [
       "10"
      ]
     },
     "execution_count": 702,
     "metadata": {},
     "output_type": "execute_result"
    }
   ],
   "source": [
    "len(results)"
   ]
  },
  {
   "cell_type": "markdown",
   "id": "cd01b4fe-2ffa-4ff7-9983-375fd72c1225",
   "metadata": {},
   "source": [
    "# Yelp API"
   ]
  },
  {
   "cell_type": "code",
   "execution_count": 745,
   "id": "c845a1ad-4146-4920-abe4-80eb73fa8e0b",
   "metadata": {
    "tags": []
   },
   "outputs": [],
   "source": [
    "def yelp_call():\n",
    "    import requests\n",
    "    # Define parameters of API call\n",
    "    url = \"https://api.yelp.com/v3/businesses/search?location=paris&term=restaurants&radius=1000&sort_by=best_match&limit=50\"\n",
    "    # Input headers **replace key w env variable before submission**\n",
    "    headers = {\n",
    "        \"accept\": \"application/json\",\n",
    "        \"Authorization\": \"Bearer\"+\" \"+\"Qr-3RHs9q19MPOGK_h2HhUzhKSu2JuByUWfy6MHRMVNfYSt69sPK23zmPkVFgKBHG3y40KZi6bxC5Pquq6_tcxE3CYc6Yy2HPfcYSe0C-4SK3d_ZlWCzs6sShgvtZHYx\"\n",
    "    }\n",
    "\n",
    "    response = requests.get(url, headers=headers)\n",
    "\n",
    "    yelp_data = response.json()\n",
    "\n",
    "    return yelp_data"
   ]
  },
  {
   "cell_type": "code",
   "execution_count": 748,
   "id": "0fd93c1f-6c7f-47c1-bab2-1d064346721b",
   "metadata": {
    "tags": []
   },
   "outputs": [
    {
     "data": {
      "text/plain": [
       "dict_keys(['businesses', 'total', 'region'])"
      ]
     },
     "execution_count": 748,
     "metadata": {},
     "output_type": "execute_result"
    }
   ],
   "source": [
    "yelp_data = yelp_call()\n",
    "yelp_data.keys()"
   ]
  },
  {
   "cell_type": "code",
   "execution_count": 768,
   "id": "a5105d88-e342-40b6-9b6f-87bc89d0d53e",
   "metadata": {
    "collapsed": true,
    "jupyter": {
     "outputs_hidden": true
    },
    "tags": []
   },
   "outputs": [
    {
     "data": {
      "text/plain": [
       "[{'id': '-0iLH7iQNYtoURciDpJf6w',\n",
       "  'alias': 'le-comptoir-de-la-gastronomie-paris',\n",
       "  'name': 'Le Comptoir de la Gastronomie',\n",
       "  'image_url': 'https://s3-media3.fl.yelpcdn.com/bphoto/xT4YkCm_cZWbKbz9AVEnaA/o.jpg',\n",
       "  'is_closed': False,\n",
       "  'url': 'https://www.yelp.com/biz/le-comptoir-de-la-gastronomie-paris?adjust_creative=jxe0l4HW-9hSKcdBti6G6A&utm_campaign=yelp_api_v3&utm_medium=api_v3_business_search&utm_source=jxe0l4HW-9hSKcdBti6G6A',\n",
       "  'review_count': 1258,\n",
       "  'categories': [{'alias': 'french', 'title': 'French'}],\n",
       "  'rating': 4.5,\n",
       "  'coordinates': {'latitude': 48.8645157999652, 'longitude': 2.34540185646608},\n",
       "  'transactions': [],\n",
       "  'price': '€€',\n",
       "  'location': {'address1': '34 rue Montmartre',\n",
       "   'address2': '',\n",
       "   'address3': '',\n",
       "   'city': 'Paris',\n",
       "   'zip_code': '75001',\n",
       "   'country': 'FR',\n",
       "   'state': '75',\n",
       "   'display_address': ['34 rue Montmartre', '75001 Paris', 'France']},\n",
       "  'phone': '+33142333132',\n",
       "  'display_phone': '+33 1 42 33 31 32',\n",
       "  'distance': 370.8275165771047},\n",
       " {'id': 'IU9_wVOGBKjfqTTpAXpKcQ',\n",
       "  'alias': 'bistro-des-augustins-paris',\n",
       "  'name': 'Bistro des Augustins',\n",
       "  'image_url': 'https://s3-media2.fl.yelpcdn.com/bphoto/ctHDHMiqeUGs8Zcj71nk7g/o.jpg',\n",
       "  'is_closed': False,\n",
       "  'url': 'https://www.yelp.com/biz/bistro-des-augustins-paris?adjust_creative=jxe0l4HW-9hSKcdBti6G6A&utm_campaign=yelp_api_v3&utm_medium=api_v3_business_search&utm_source=jxe0l4HW-9hSKcdBti6G6A',\n",
       "  'review_count': 476,\n",
       "  'categories': [{'alias': 'bistros', 'title': 'Bistros'},\n",
       "   {'alias': 'wine_bars', 'title': 'Wine Bars'}],\n",
       "  'rating': 4.5,\n",
       "  'coordinates': {'latitude': 48.854754, 'longitude': 2.342119},\n",
       "  'transactions': [],\n",
       "  'price': '€€',\n",
       "  'location': {'address1': '39 quai des Grands Augustins',\n",
       "   'address2': None,\n",
       "   'address3': None,\n",
       "   'city': 'Paris',\n",
       "   'zip_code': '75006',\n",
       "   'country': 'FR',\n",
       "   'state': '75',\n",
       "   'display_address': ['39 quai des Grands Augustins',\n",
       "    '75006 Paris',\n",
       "    'France']},\n",
       "  'phone': '+33143540441',\n",
       "  'display_phone': '+33 1 43 54 04 41',\n",
       "  'distance': 801.1176096949143},\n",
       " {'id': 'J8q2EjxuOk3v19R5xQWAFA',\n",
       "  'alias': 'café-blanc-paris-7',\n",
       "  'name': 'Café Blanc',\n",
       "  'image_url': 'https://s3-media2.fl.yelpcdn.com/bphoto/QxDr6P2g39r70hEzIxAPyQ/o.jpg',\n",
       "  'is_closed': False,\n",
       "  'url': 'https://www.yelp.com/biz/caf%C3%A9-blanc-paris-7?adjust_creative=jxe0l4HW-9hSKcdBti6G6A&utm_campaign=yelp_api_v3&utm_medium=api_v3_business_search&utm_source=jxe0l4HW-9hSKcdBti6G6A',\n",
       "  'review_count': 57,\n",
       "  'categories': [{'alias': 'french', 'title': 'French'},\n",
       "   {'alias': 'coffee', 'title': 'Coffee & Tea'},\n",
       "   {'alias': 'breakfast_brunch', 'title': 'Breakfast & Brunch'}],\n",
       "  'rating': 4.5,\n",
       "  'coordinates': {'latitude': 48.8627362423863, 'longitude': 2.339585},\n",
       "  'transactions': [],\n",
       "  'location': {'address1': '10 rue Croix des Petits Champs',\n",
       "   'address2': '',\n",
       "   'address3': None,\n",
       "   'city': 'Paris',\n",
       "   'zip_code': '75001',\n",
       "   'country': 'FR',\n",
       "   'state': '75',\n",
       "   'display_address': ['10 rue Croix des Petits Champs',\n",
       "    '75001 Paris',\n",
       "    'France']},\n",
       "  'phone': '+33142335585',\n",
       "  'display_phone': '+33 1 42 33 55 85',\n",
       "  'distance': 206.45553836395862},\n",
       " {'id': 'wLgAxIB7111BcWLWh7KpFw',\n",
       "  'alias': 'la-régalade-paris-3',\n",
       "  'name': 'La Régalade',\n",
       "  'image_url': 'https://s3-media3.fl.yelpcdn.com/bphoto/f_-XgglSakd5zM2oVaJQrg/o.jpg',\n",
       "  'is_closed': False,\n",
       "  'url': 'https://www.yelp.com/biz/la-r%C3%A9galade-paris-3?adjust_creative=jxe0l4HW-9hSKcdBti6G6A&utm_campaign=yelp_api_v3&utm_medium=api_v3_business_search&utm_source=jxe0l4HW-9hSKcdBti6G6A',\n",
       "  'review_count': 101,\n",
       "  'categories': [{'alias': 'french', 'title': 'French'}],\n",
       "  'rating': 4.5,\n",
       "  'coordinates': {'latitude': 48.8616441182389, 'longitude': 2.34201570904084},\n",
       "  'transactions': [],\n",
       "  'price': '€€€',\n",
       "  'location': {'address1': '106 rue Saint-Honoré',\n",
       "   'address2': '',\n",
       "   'address3': '',\n",
       "   'city': 'Paris',\n",
       "   'zip_code': '75001',\n",
       "   'country': 'FR',\n",
       "   'state': '75',\n",
       "   'display_address': ['106 rue Saint-Honoré', '75001 Paris', 'France']},\n",
       "  'phone': '+33142219240',\n",
       "  'display_phone': '+33 1 42 21 92 40',\n",
       "  'distance': 36.280480383292954},\n",
       " {'id': '26YjCdVvyn5jv4sZYd1Lvw',\n",
       "  'alias': 'loup-paris',\n",
       "  'name': 'Loup',\n",
       "  'image_url': 'https://s3-media3.fl.yelpcdn.com/bphoto/0WTZ_fc9Eu5vi3U7Dg3EIg/o.jpg',\n",
       "  'is_closed': False,\n",
       "  'url': 'https://www.yelp.com/biz/loup-paris?adjust_creative=jxe0l4HW-9hSKcdBti6G6A&utm_campaign=yelp_api_v3&utm_medium=api_v3_business_search&utm_source=jxe0l4HW-9hSKcdBti6G6A',\n",
       "  'review_count': 60,\n",
       "  'categories': [{'alias': 'french', 'title': 'French'},\n",
       "   {'alias': 'breakfast_brunch', 'title': 'Breakfast & Brunch'}],\n",
       "  'rating': 4.0,\n",
       "  'coordinates': {'latitude': 48.863959, 'longitude': 2.342631},\n",
       "  'transactions': [],\n",
       "  'price': '€€€',\n",
       "  'location': {'address1': '44 rue du Louvre',\n",
       "   'address2': '',\n",
       "   'address3': '',\n",
       "   'city': 'Paris',\n",
       "   'zip_code': '75001',\n",
       "   'country': 'FR',\n",
       "   'state': '75',\n",
       "   'display_address': ['44 rue du Louvre', '75001 Paris', 'France']},\n",
       "  'phone': '+33142367323',\n",
       "  'display_phone': '+33 1 42 36 73 23',\n",
       "  'distance': 225.2239356768602},\n",
       " {'id': 'e6RHSG0d94yzA3McN-eFxg',\n",
       "  'alias': 'gemini-paris-2',\n",
       "  'name': 'Gemini',\n",
       "  'image_url': 'https://s3-media1.fl.yelpcdn.com/bphoto/qOqdhgVcEI8cpfNyYfbmFA/o.jpg',\n",
       "  'is_closed': False,\n",
       "  'url': 'https://www.yelp.com/biz/gemini-paris-2?adjust_creative=jxe0l4HW-9hSKcdBti6G6A&utm_campaign=yelp_api_v3&utm_medium=api_v3_business_search&utm_source=jxe0l4HW-9hSKcdBti6G6A',\n",
       "  'review_count': 41,\n",
       "  'categories': [{'alias': 'italian', 'title': 'Italian'}],\n",
       "  'rating': 4.5,\n",
       "  'coordinates': {'latitude': 48.8593674647599, 'longitude': 2.34705866389581},\n",
       "  'transactions': [],\n",
       "  'price': '€€',\n",
       "  'location': {'address1': '16 rue des Halles',\n",
       "   'address2': '',\n",
       "   'address3': '',\n",
       "   'city': 'Paris',\n",
       "   'zip_code': '75001',\n",
       "   'country': 'FR',\n",
       "   'state': '75',\n",
       "   'display_address': ['16 rue des Halles', '75001 Paris', 'France']},\n",
       "  'phone': '+33142615920',\n",
       "  'display_phone': '+33 1 42 61 59 20',\n",
       "  'distance': 460.5143411189723},\n",
       " {'id': '9Ju4NtzKkV1kXqlDHq5nUg',\n",
       "  'alias': 'café-louise-paris-4',\n",
       "  'name': 'Café Louise',\n",
       "  'image_url': 'https://s3-media2.fl.yelpcdn.com/bphoto/kjHqDGmGLteU1OmdkXz3vw/o.jpg',\n",
       "  'is_closed': False,\n",
       "  'url': 'https://www.yelp.com/biz/caf%C3%A9-louise-paris-4?adjust_creative=jxe0l4HW-9hSKcdBti6G6A&utm_campaign=yelp_api_v3&utm_medium=api_v3_business_search&utm_source=jxe0l4HW-9hSKcdBti6G6A',\n",
       "  'review_count': 67,\n",
       "  'categories': [{'alias': 'tea', 'title': 'Tea Rooms'},\n",
       "   {'alias': 'brasseries', 'title': 'Brasseries'}],\n",
       "  'rating': 4.5,\n",
       "  'coordinates': {'latitude': 48.86267, 'longitude': 2.33941},\n",
       "  'transactions': [],\n",
       "  'price': '€€',\n",
       "  'location': {'address1': '8 rue Croix des Petits Champs',\n",
       "   'address2': '',\n",
       "   'address3': '',\n",
       "   'city': 'Paris',\n",
       "   'zip_code': '75001',\n",
       "   'country': 'FR',\n",
       "   'state': '75',\n",
       "   'display_address': ['8 rue Croix des Petits Champs',\n",
       "    '75001 Paris',\n",
       "    'France']},\n",
       "  'phone': '+33142602244',\n",
       "  'display_phone': '+33 1 42 60 22 44',\n",
       "  'distance': 204.099721549378},\n",
       " {'id': 'LwRrembo4omcYIColDl12A',\n",
       "  'alias': 'enza-et-famiglia-trattoria-pasta-paris',\n",
       "  'name': 'Enza & Famiglia Trattoria Pasta',\n",
       "  'image_url': 'https://s3-media2.fl.yelpcdn.com/bphoto/2Y9g49yLSzu9IL-gde6thA/o.jpg',\n",
       "  'is_closed': False,\n",
       "  'url': 'https://www.yelp.com/biz/enza-et-famiglia-trattoria-pasta-paris?adjust_creative=jxe0l4HW-9hSKcdBti6G6A&utm_campaign=yelp_api_v3&utm_medium=api_v3_business_search&utm_source=jxe0l4HW-9hSKcdBti6G6A',\n",
       "  'review_count': 52,\n",
       "  'categories': [{'alias': 'italian', 'title': 'Italian'}],\n",
       "  'rating': 4.5,\n",
       "  'coordinates': {'latitude': 48.8609426, 'longitude': 2.3433822},\n",
       "  'transactions': [],\n",
       "  'price': '€€',\n",
       "  'location': {'address1': '89 rue Saint-Honoré',\n",
       "   'address2': '',\n",
       "   'address3': '',\n",
       "   'city': 'Paris',\n",
       "   'zip_code': '75001',\n",
       "   'country': 'FR',\n",
       "   'state': '75',\n",
       "   'display_address': ['89 rue Saint-Honoré', '75001 Paris', 'France']},\n",
       "  'phone': '+33140410625',\n",
       "  'display_phone': '+33 1 40 41 06 25',\n",
       "  'distance': 144.62722981220017},\n",
       " {'id': 'Q_ym_FrHdPf2RDyDYCW81A',\n",
       "  'alias': 'le-bistrot-d-eustache-paris',\n",
       "  'name': 'Le Bistrot D Eustache',\n",
       "  'image_url': 'https://s3-media3.fl.yelpcdn.com/bphoto/G9WDny-rC4t8nyKmrgPCRQ/o.jpg',\n",
       "  'is_closed': False,\n",
       "  'url': 'https://www.yelp.com/biz/le-bistrot-d-eustache-paris?adjust_creative=jxe0l4HW-9hSKcdBti6G6A&utm_campaign=yelp_api_v3&utm_medium=api_v3_business_search&utm_source=jxe0l4HW-9hSKcdBti6G6A',\n",
       "  'review_count': 8,\n",
       "  'categories': [{'alias': 'restaurants', 'title': 'Restaurants'}],\n",
       "  'rating': 4.0,\n",
       "  'coordinates': {'latitude': 48.86187, 'longitude': 2.34385},\n",
       "  'transactions': [],\n",
       "  'price': '€€',\n",
       "  'location': {'address1': '37 Rue Berger',\n",
       "   'address2': None,\n",
       "   'address3': None,\n",
       "   'city': 'Paris',\n",
       "   'zip_code': '75001',\n",
       "   'country': 'FR',\n",
       "   'state': '75',\n",
       "   'display_address': ['37 Rue Berger', '75001 Paris', 'France']},\n",
       "  'phone': '+33954892320',\n",
       "  'display_phone': '+33 9 54 89 23 20',\n",
       "  'distance': 124.90720901792399},\n",
       " {'id': 'XqOlA1nGHcwiMmU2QDtdBQ',\n",
       "  'alias': 'l-auberge-du-louvre-paris-4',\n",
       "  'name': \"L'Auberge du Louvre\",\n",
       "  'image_url': 'https://s3-media4.fl.yelpcdn.com/bphoto/ufaWgH_dgVSr4JcKwyPhKA/o.jpg',\n",
       "  'is_closed': False,\n",
       "  'url': 'https://www.yelp.com/biz/l-auberge-du-louvre-paris-4?adjust_creative=jxe0l4HW-9hSKcdBti6G6A&utm_campaign=yelp_api_v3&utm_medium=api_v3_business_search&utm_source=jxe0l4HW-9hSKcdBti6G6A',\n",
       "  'review_count': 26,\n",
       "  'categories': [{'alias': 'french', 'title': 'French'},\n",
       "   {'alias': 'fondue', 'title': 'Fondue'}],\n",
       "  'rating': 4.0,\n",
       "  'coordinates': {'latitude': 48.861572, 'longitude': 2.342235},\n",
       "  'transactions': [],\n",
       "  'price': '€€',\n",
       "  'location': {'address1': '98 rue Saint-Honoré',\n",
       "   'address2': None,\n",
       "   'address3': None,\n",
       "   'city': 'Paris',\n",
       "   'zip_code': '75001',\n",
       "   'country': 'FR',\n",
       "   'state': '75',\n",
       "   'display_address': ['98 rue Saint-Honoré', '75001 Paris', 'France']},\n",
       "  'phone': '+33145084469',\n",
       "  'display_phone': '+33 1 45 08 44 69',\n",
       "  'distance': 43.45906618235086},\n",
       " {'id': 'JlPLkE5YaR4LzZIB-7J7ZA',\n",
       "  'alias': 'la-poule-au-pot-paris-2',\n",
       "  'name': 'La Poule au Pot',\n",
       "  'image_url': 'https://s3-media3.fl.yelpcdn.com/bphoto/l61th_eLBSa2A7Rm4iEhXw/o.jpg',\n",
       "  'is_closed': False,\n",
       "  'url': 'https://www.yelp.com/biz/la-poule-au-pot-paris-2?adjust_creative=jxe0l4HW-9hSKcdBti6G6A&utm_campaign=yelp_api_v3&utm_medium=api_v3_business_search&utm_source=jxe0l4HW-9hSKcdBti6G6A',\n",
       "  'review_count': 116,\n",
       "  'categories': [{'alias': 'french', 'title': 'French'}],\n",
       "  'rating': 4.0,\n",
       "  'coordinates': {'latitude': 48.861797, 'longitude': 2.343306},\n",
       "  'transactions': [],\n",
       "  'price': '€€€',\n",
       "  'location': {'address1': '9 rue Vauvilliers',\n",
       "   'address2': None,\n",
       "   'address3': None,\n",
       "   'city': 'Paris',\n",
       "   'zip_code': '75001',\n",
       "   'country': 'FR',\n",
       "   'state': '75',\n",
       "   'display_address': ['9 rue Vauvilliers', '75001 Paris', 'France']},\n",
       "  'phone': '+33142363296',\n",
       "  'display_phone': '+33 1 42 36 32 96',\n",
       "  'distance': 86.60792010028803},\n",
       " {'id': 'nB_9kzgII13vfX6LNAdi9g',\n",
       "  'alias': 'odette-paris-3',\n",
       "  'name': 'Odette',\n",
       "  'image_url': 'https://s3-media3.fl.yelpcdn.com/bphoto/YBP576NRZKgVYPrIBpGHjQ/o.jpg',\n",
       "  'is_closed': False,\n",
       "  'url': 'https://www.yelp.com/biz/odette-paris-3?adjust_creative=jxe0l4HW-9hSKcdBti6G6A&utm_campaign=yelp_api_v3&utm_medium=api_v3_business_search&utm_source=jxe0l4HW-9hSKcdBti6G6A',\n",
       "  'review_count': 9,\n",
       "  'categories': [{'alias': 'french', 'title': 'French'},\n",
       "   {'alias': 'wine_bars', 'title': 'Wine Bars'},\n",
       "   {'alias': 'breakfast_brunch', 'title': 'Breakfast & Brunch'}],\n",
       "  'rating': 5.0,\n",
       "  'coordinates': {'latitude': 48.86061, 'longitude': 2.34452},\n",
       "  'transactions': [],\n",
       "  'location': {'address1': '25 rue du Pont Neuf',\n",
       "   'address2': '',\n",
       "   'address3': None,\n",
       "   'city': 'Paris',\n",
       "   'zip_code': '75001',\n",
       "   'country': 'FR',\n",
       "   'state': '75',\n",
       "   'display_address': ['25 rue du Pont Neuf', '75001 Paris', 'France']},\n",
       "  'phone': '+33144889278',\n",
       "  'display_phone': '+33 1 44 88 92 78',\n",
       "  'distance': 225.8781020365641},\n",
       " {'id': 'PGH7BfXz0PNHuwlSt453rA',\n",
       "  'alias': 'le-boui-boui-paris',\n",
       "  'name': 'Le Boui Boui',\n",
       "  'image_url': 'https://s3-media2.fl.yelpcdn.com/bphoto/xceS-6sNYtB24gTnFDrc_Q/o.jpg',\n",
       "  'is_closed': False,\n",
       "  'url': 'https://www.yelp.com/biz/le-boui-boui-paris?adjust_creative=jxe0l4HW-9hSKcdBti6G6A&utm_campaign=yelp_api_v3&utm_medium=api_v3_business_search&utm_source=jxe0l4HW-9hSKcdBti6G6A',\n",
       "  'review_count': 61,\n",
       "  'categories': [{'alias': 'french', 'title': 'French'}],\n",
       "  'rating': 4.5,\n",
       "  'coordinates': {'latitude': 48.865005, 'longitude': 2.347665},\n",
       "  'transactions': [],\n",
       "  'price': '€€',\n",
       "  'location': {'address1': '11 rue Marie Stuart',\n",
       "   'address2': None,\n",
       "   'address3': None,\n",
       "   'city': 'Paris',\n",
       "   'zip_code': '75002',\n",
       "   'country': 'FR',\n",
       "   'state': '75',\n",
       "   'display_address': ['11 rue Marie Stuart', '75002 Paris', 'France']},\n",
       "  'phone': '+33142364094',\n",
       "  'display_phone': '+33 1 42 36 40 94',\n",
       "  'distance': 526.9014333643286},\n",
       " {'id': 'bEvW28II36r2a-L_TWHS7Q',\n",
       "  'alias': 'poulette-paris',\n",
       "  'name': 'Poulette',\n",
       "  'image_url': 'https://s3-media3.fl.yelpcdn.com/bphoto/Lzv_3DusrCGPMXxvIK9MSQ/o.jpg',\n",
       "  'is_closed': False,\n",
       "  'url': 'https://www.yelp.com/biz/poulette-paris?adjust_creative=jxe0l4HW-9hSKcdBti6G6A&utm_campaign=yelp_api_v3&utm_medium=api_v3_business_search&utm_source=jxe0l4HW-9hSKcdBti6G6A',\n",
       "  'review_count': 66,\n",
       "  'categories': [{'alias': 'french', 'title': 'French'}],\n",
       "  'rating': 4.5,\n",
       "  'coordinates': {'latitude': 48.8634, 'longitude': 2.35068},\n",
       "  'transactions': [],\n",
       "  'price': '€€€',\n",
       "  'location': {'address1': '3 Rue Etienne Marcel',\n",
       "   'address2': None,\n",
       "   'address3': None,\n",
       "   'city': 'Paris',\n",
       "   'zip_code': '75001',\n",
       "   'country': 'FR',\n",
       "   'state': '75',\n",
       "   'display_address': ['3 Rue Etienne Marcel', '75001 Paris', 'France']},\n",
       "  'phone': '+33953628917',\n",
       "  'display_phone': '+33 9 53 62 89 17',\n",
       "  'distance': 644.3897212645818},\n",
       " {'id': '70xArgLO0k56YAytyBIHyg',\n",
       "  'alias': 'baguetts-café-paris',\n",
       "  'name': \"Baguett's Café\",\n",
       "  'image_url': 'https://s3-media4.fl.yelpcdn.com/bphoto/u76vXA5l4WD0uH2YAuMyxA/o.jpg',\n",
       "  'is_closed': False,\n",
       "  'url': 'https://www.yelp.com/biz/baguetts-caf%C3%A9-paris?adjust_creative=jxe0l4HW-9hSKcdBti6G6A&utm_campaign=yelp_api_v3&utm_medium=api_v3_business_search&utm_source=jxe0l4HW-9hSKcdBti6G6A',\n",
       "  'review_count': 232,\n",
       "  'categories': [{'alias': 'cafes', 'title': 'Cafes'},\n",
       "   {'alias': 'breakfast_brunch', 'title': 'Breakfast & Brunch'}],\n",
       "  'rating': 4.5,\n",
       "  'coordinates': {'latitude': 48.86528, 'longitude': 2.33657},\n",
       "  'transactions': [],\n",
       "  'price': '€€',\n",
       "  'location': {'address1': '33 rue de Richelieu',\n",
       "   'address2': '',\n",
       "   'address3': '',\n",
       "   'city': 'Paris',\n",
       "   'zip_code': '75001',\n",
       "   'country': 'FR',\n",
       "   'state': '75',\n",
       "   'display_address': ['33 rue de Richelieu', '75001 Paris', 'France']},\n",
       "  'phone': '+33954830486',\n",
       "  'display_phone': '+33 9 54 83 04 86',\n",
       "  'distance': 556.2220788075778},\n",
       " {'id': 'sFdV05m6Pw5Rw6DdrpQlIw',\n",
       "  'alias': 'l-escargot-paris-3',\n",
       "  'name': \"L'Escargot\",\n",
       "  'image_url': 'https://s3-media3.fl.yelpcdn.com/bphoto/mvTnZRX0Jn7R2pXsKYtjvA/o.jpg',\n",
       "  'is_closed': False,\n",
       "  'url': 'https://www.yelp.com/biz/l-escargot-paris-3?adjust_creative=jxe0l4HW-9hSKcdBti6G6A&utm_campaign=yelp_api_v3&utm_medium=api_v3_business_search&utm_source=jxe0l4HW-9hSKcdBti6G6A',\n",
       "  'review_count': 273,\n",
       "  'categories': [{'alias': 'french', 'title': 'French'}],\n",
       "  'rating': 4.0,\n",
       "  'coordinates': {'latitude': 48.864206, 'longitude': 2.3467},\n",
       "  'transactions': [],\n",
       "  'price': '€€€',\n",
       "  'location': {'address1': '38 rue Montorgueil',\n",
       "   'address2': None,\n",
       "   'address3': None,\n",
       "   'city': 'Paris',\n",
       "   'zip_code': '75001',\n",
       "   'country': 'FR',\n",
       "   'state': '75',\n",
       "   'display_address': ['38 rue Montorgueil', '75001 Paris', 'France']},\n",
       "  'phone': '+33142368351',\n",
       "  'display_phone': '+33 1 42 36 83 51',\n",
       "  'distance': 416.3347408028919},\n",
       " {'id': '-YKc0e0z_47s8JeXA2feOg',\n",
       "  'alias': 'la-tour-de-montlhéry-ou-chez-denise-paris-2',\n",
       "  'name': 'La Tour de Montlhéry ou chez Denise',\n",
       "  'image_url': 'https://s3-media3.fl.yelpcdn.com/bphoto/ycAPlhP98hugAkFcWA57FQ/o.jpg',\n",
       "  'is_closed': False,\n",
       "  'url': 'https://www.yelp.com/biz/la-tour-de-montlh%C3%A9ry-ou-chez-denise-paris-2?adjust_creative=jxe0l4HW-9hSKcdBti6G6A&utm_campaign=yelp_api_v3&utm_medium=api_v3_business_search&utm_source=jxe0l4HW-9hSKcdBti6G6A',\n",
       "  'review_count': 115,\n",
       "  'categories': [{'alias': 'french', 'title': 'French'}],\n",
       "  'rating': 4.0,\n",
       "  'coordinates': {'latitude': 48.8615, 'longitude': 2.34408},\n",
       "  'transactions': [],\n",
       "  'price': '€€€',\n",
       "  'location': {'address1': '5 rue Prouvaires',\n",
       "   'address2': None,\n",
       "   'address3': None,\n",
       "   'city': 'Paris',\n",
       "   'zip_code': '75001',\n",
       "   'country': 'FR',\n",
       "   'state': '75',\n",
       "   'display_address': ['5 rue Prouvaires', '75001 Paris', 'France']},\n",
       "  'phone': '+33142362182',\n",
       "  'display_phone': '+33 1 42 36 21 82',\n",
       "  'distance': 139.60514866251378},\n",
       " {'id': 'PXYLVsHC33f_dQVVCH-PMw',\n",
       "  'alias': 'victoires-paris-2',\n",
       "  'name': 'Victoires',\n",
       "  'image_url': 'https://s3-media2.fl.yelpcdn.com/bphoto/OuuWSKAR9c1oj_7bbDJ-Qw/o.jpg',\n",
       "  'is_closed': False,\n",
       "  'url': 'https://www.yelp.com/biz/victoires-paris-2?adjust_creative=jxe0l4HW-9hSKcdBti6G6A&utm_campaign=yelp_api_v3&utm_medium=api_v3_business_search&utm_source=jxe0l4HW-9hSKcdBti6G6A',\n",
       "  'review_count': 253,\n",
       "  'categories': [{'alias': 'french', 'title': 'French'}],\n",
       "  'rating': 4.0,\n",
       "  'coordinates': {'latitude': 48.865569, 'longitude': 2.340286},\n",
       "  'transactions': [],\n",
       "  'price': '€€',\n",
       "  'location': {'address1': '6 rue la Vrillière',\n",
       "   'address2': None,\n",
       "   'address3': None,\n",
       "   'city': 'Paris',\n",
       "   'zip_code': '75001',\n",
       "   'country': 'FR',\n",
       "   'state': '75',\n",
       "   'display_address': ['6 rue la Vrillière', '75001 Paris', 'France']},\n",
       "  'phone': '+33142614378',\n",
       "  'display_phone': '+33 1 42 61 43 78',\n",
       "  'distance': 423.92921152509274},\n",
       " {'id': 'J9io5S_QyL-sjP7uu6y6oQ',\n",
       "  'alias': 'chez-paul-paris-3',\n",
       "  'name': 'Chez Paul',\n",
       "  'image_url': 'https://s3-media4.fl.yelpcdn.com/bphoto/p-qRxNTGiMeiJifnVztvaw/o.jpg',\n",
       "  'is_closed': False,\n",
       "  'url': 'https://www.yelp.com/biz/chez-paul-paris-3?adjust_creative=jxe0l4HW-9hSKcdBti6G6A&utm_campaign=yelp_api_v3&utm_medium=api_v3_business_search&utm_source=jxe0l4HW-9hSKcdBti6G6A',\n",
       "  'review_count': 2,\n",
       "  'categories': [{'alias': 'bistros', 'title': 'Bistros'}],\n",
       "  'rating': 5.0,\n",
       "  'coordinates': {'latitude': 48.859862, 'longitude': 2.3461059},\n",
       "  'transactions': [],\n",
       "  'location': {'address1': '7 rue des Déchargeurs',\n",
       "   'address2': None,\n",
       "   'address3': None,\n",
       "   'city': 'Paris',\n",
       "   'zip_code': '75001',\n",
       "   'country': 'FR',\n",
       "   'state': '75',\n",
       "   'display_address': ['7 rue des Déchargeurs', '75001 Paris', 'France']},\n",
       "  'phone': '+33142210734',\n",
       "  'display_phone': '+33 1 42 21 07 34',\n",
       "  'distance': 371.73734073923794},\n",
       " {'id': 'i0sd2IWFV0aRJOUA1zzRuQ',\n",
       "  'alias': 'le-brun-paris-4',\n",
       "  'name': 'Le Brun',\n",
       "  'image_url': 'https://s3-media1.fl.yelpcdn.com/bphoto/lYP6N16e1-ZWUziZyuT3Ww/o.jpg',\n",
       "  'is_closed': False,\n",
       "  'url': 'https://www.yelp.com/biz/le-brun-paris-4?adjust_creative=jxe0l4HW-9hSKcdBti6G6A&utm_campaign=yelp_api_v3&utm_medium=api_v3_business_search&utm_source=jxe0l4HW-9hSKcdBti6G6A',\n",
       "  'review_count': 8,\n",
       "  'categories': [{'alias': 'french', 'title': 'French'}],\n",
       "  'rating': 5.0,\n",
       "  'coordinates': {'latitude': 48.86128, 'longitude': 2.3432},\n",
       "  'transactions': [],\n",
       "  'location': {'address1': '95 rue Saint Honoré',\n",
       "   'address2': None,\n",
       "   'address3': '',\n",
       "   'city': 'Paris',\n",
       "   'zip_code': '75001',\n",
       "   'country': 'FR',\n",
       "   'state': '75',\n",
       "   'display_address': ['95 rue Saint Honoré', '75001 Paris', 'France']},\n",
       "  'phone': '+33954001047',\n",
       "  'display_phone': '+33 9 54 00 10 47',\n",
       "  'distance': 117.36729827935154},\n",
       " {'id': 'N3zQ7Y52QXRnfQy_Gri3yw',\n",
       "  'alias': 'claus-la-table-du-petit-déjeuner-paris',\n",
       "  'name': 'Claus - La Table du Petit-Déjeuner',\n",
       "  'image_url': 'https://s3-media3.fl.yelpcdn.com/bphoto/N9vgc-EQm_xW5CnBJHKh9Q/o.jpg',\n",
       "  'is_closed': False,\n",
       "  'url': 'https://www.yelp.com/biz/claus-la-table-du-petit-d%C3%A9jeuner-paris?adjust_creative=jxe0l4HW-9hSKcdBti6G6A&utm_campaign=yelp_api_v3&utm_medium=api_v3_business_search&utm_source=jxe0l4HW-9hSKcdBti6G6A',\n",
       "  'review_count': 248,\n",
       "  'categories': [{'alias': 'breakfast_brunch', 'title': 'Breakfast & Brunch'},\n",
       "   {'alias': 'cafes', 'title': 'Cafes'}],\n",
       "  'rating': 4.5,\n",
       "  'coordinates': {'latitude': 48.86246, 'longitude': 2.34053},\n",
       "  'transactions': [],\n",
       "  'price': '€€€',\n",
       "  'location': {'address1': '14 rue Jean-Jacques Rousseau',\n",
       "   'address2': '',\n",
       "   'address3': '',\n",
       "   'city': 'Paris',\n",
       "   'zip_code': '75001',\n",
       "   'country': 'FR',\n",
       "   'state': '75',\n",
       "   'display_address': ['14 rue Jean-Jacques Rousseau',\n",
       "    '75001 Paris',\n",
       "    'France']},\n",
       "  'phone': '+33142335510',\n",
       "  'display_phone': '+33 1 42 33 55 10',\n",
       "  'distance': 128.77578245280193},\n",
       " {'id': 'TWsuxL7J0iACK5KplxZMtA',\n",
       "  'alias': 'le-p-tit-bistro-paris-2',\n",
       "  'name': \"Le P'tit Bistro\",\n",
       "  'image_url': 'https://s3-media3.fl.yelpcdn.com/bphoto/aocsyBMxJeomQhF5m3-pyA/o.jpg',\n",
       "  'is_closed': False,\n",
       "  'url': 'https://www.yelp.com/biz/le-p-tit-bistro-paris-2?adjust_creative=jxe0l4HW-9hSKcdBti6G6A&utm_campaign=yelp_api_v3&utm_medium=api_v3_business_search&utm_source=jxe0l4HW-9hSKcdBti6G6A',\n",
       "  'review_count': 18,\n",
       "  'categories': [{'alias': 'brasseries', 'title': 'Brasseries'},\n",
       "   {'alias': 'bars', 'title': 'Bars'}],\n",
       "  'rating': 4.5,\n",
       "  'coordinates': {'latitude': 48.85755, 'longitude': 2.34938},\n",
       "  'transactions': [],\n",
       "  'price': '€€',\n",
       "  'location': {'address1': '8 rue Saint-Martin',\n",
       "   'address2': '',\n",
       "   'address3': None,\n",
       "   'city': 'Paris',\n",
       "   'zip_code': '75004',\n",
       "   'country': 'FR',\n",
       "   'state': '75',\n",
       "   'display_address': ['8 rue Saint-Martin', '75004 Paris', 'France']},\n",
       "  'phone': '+33142785580',\n",
       "  'display_phone': '+33 1 42 78 55 80',\n",
       "  'distance': 721.268871756433},\n",
       " {'id': '_qACPRqSQ6Nvd20H8EY3uw',\n",
       "  'alias': 'frenchie-restaurant-paris',\n",
       "  'name': 'Frenchie Restaurant',\n",
       "  'image_url': 'https://s3-media2.fl.yelpcdn.com/bphoto/U064Ff2YV-9-Y9MtbPuYoA/o.jpg',\n",
       "  'is_closed': False,\n",
       "  'url': 'https://www.yelp.com/biz/frenchie-restaurant-paris?adjust_creative=jxe0l4HW-9hSKcdBti6G6A&utm_campaign=yelp_api_v3&utm_medium=api_v3_business_search&utm_source=jxe0l4HW-9hSKcdBti6G6A',\n",
       "  'review_count': 234,\n",
       "  'categories': [{'alias': 'french', 'title': 'French'},\n",
       "   {'alias': 'modern_european', 'title': 'Modern European'}],\n",
       "  'rating': 4.5,\n",
       "  'coordinates': {'latitude': 48.867754322367, 'longitude': 2.3477420774331},\n",
       "  'transactions': [],\n",
       "  'price': '€€€€',\n",
       "  'location': {'address1': '5-6 rue du Nil',\n",
       "   'address2': None,\n",
       "   'address3': None,\n",
       "   'city': 'Paris',\n",
       "   'zip_code': '75002',\n",
       "   'country': 'FR',\n",
       "   'state': '75',\n",
       "   'display_address': ['5-6 rue du Nil', '75002 Paris', 'France']},\n",
       "  'phone': '+33140399619',\n",
       "  'display_phone': '+33 1 40 39 96 19',\n",
       "  'distance': 763.3950800840072},\n",
       " {'id': 'ML5YEWSl3K-5-2vO35RVpQ',\n",
       "  'alias': 'brasserie-de-la-bourse-paris',\n",
       "  'name': 'Brasserie de la Bourse',\n",
       "  'image_url': 'https://s3-media2.fl.yelpcdn.com/bphoto/IWO4sag6TUDPGf5BKrML9w/o.jpg',\n",
       "  'is_closed': False,\n",
       "  'url': 'https://www.yelp.com/biz/brasserie-de-la-bourse-paris?adjust_creative=jxe0l4HW-9hSKcdBti6G6A&utm_campaign=yelp_api_v3&utm_medium=api_v3_business_search&utm_source=jxe0l4HW-9hSKcdBti6G6A',\n",
       "  'review_count': 13,\n",
       "  'categories': [{'alias': 'french', 'title': 'French'},\n",
       "   {'alias': 'brasseries', 'title': 'Brasseries'}],\n",
       "  'rating': 4.0,\n",
       "  'coordinates': {'latitude': 48.86289, 'longitude': 2.34125},\n",
       "  'transactions': [],\n",
       "  'price': '€€',\n",
       "  'location': {'address1': '27 Rue Jean Jacques Rousseau',\n",
       "   'address2': '',\n",
       "   'address3': '',\n",
       "   'city': 'Paris',\n",
       "   'zip_code': '75001',\n",
       "   'country': 'FR',\n",
       "   'state': '75',\n",
       "   'display_address': ['27 Rue Jean Jacques Rousseau',\n",
       "    '75001 Paris',\n",
       "    'France']},\n",
       "  'phone': '+33142367666',\n",
       "  'display_phone': '+33 1 42 36 76 66',\n",
       "  'distance': 122.63552847385606},\n",
       " {'id': '2qzLbDM1dkpsKyyCXAEXWw',\n",
       "  'alias': 'guy-savoy-paris-3',\n",
       "  'name': 'Guy Savoy',\n",
       "  'image_url': 'https://s3-media2.fl.yelpcdn.com/bphoto/bnxbAb_aPSALDBxymsxEHQ/o.jpg',\n",
       "  'is_closed': False,\n",
       "  'url': 'https://www.yelp.com/biz/guy-savoy-paris-3?adjust_creative=jxe0l4HW-9hSKcdBti6G6A&utm_campaign=yelp_api_v3&utm_medium=api_v3_business_search&utm_source=jxe0l4HW-9hSKcdBti6G6A',\n",
       "  'review_count': 88,\n",
       "  'categories': [{'alias': 'french', 'title': 'French'}],\n",
       "  'rating': 4.5,\n",
       "  'coordinates': {'latitude': 48.857, 'longitude': 2.3386999},\n",
       "  'transactions': [],\n",
       "  'price': '€€€€',\n",
       "  'location': {'address1': 'Monnaie de Paris',\n",
       "   'address2': '11 quai de Conti',\n",
       "   'address3': '',\n",
       "   'city': 'Paris',\n",
       "   'zip_code': '75006',\n",
       "   'country': 'FR',\n",
       "   'state': '75',\n",
       "   'display_address': ['Monnaie de Paris',\n",
       "    '11 quai de Conti',\n",
       "    '75006 Paris',\n",
       "    'France']},\n",
       "  'phone': '+33143804061',\n",
       "  'display_phone': '+33 1 43 80 40 61',\n",
       "  'distance': 590.7696513609623},\n",
       " {'id': 'lBueZXrEbdSdvujDlQUB-w',\n",
       "  'alias': 'le-louchébem-paris-4',\n",
       "  'name': 'Le Louchébem',\n",
       "  'image_url': 'https://s3-media4.fl.yelpcdn.com/bphoto/pF9Dw8Bd__ZRc1xovFkiug/o.jpg',\n",
       "  'is_closed': False,\n",
       "  'url': 'https://www.yelp.com/biz/le-louch%C3%A9bem-paris-4?adjust_creative=jxe0l4HW-9hSKcdBti6G6A&utm_campaign=yelp_api_v3&utm_medium=api_v3_business_search&utm_source=jxe0l4HW-9hSKcdBti6G6A',\n",
       "  'review_count': 191,\n",
       "  'categories': [{'alias': 'steak', 'title': 'Steakhouses'}],\n",
       "  'rating': 4.0,\n",
       "  'coordinates': {'latitude': 48.861556, 'longitude': 2.345424},\n",
       "  'transactions': [],\n",
       "  'price': '€€€',\n",
       "  'location': {'address1': '31 rue Berger',\n",
       "   'address2': None,\n",
       "   'address3': None,\n",
       "   'city': 'Paris',\n",
       "   'zip_code': '75001',\n",
       "   'country': 'FR',\n",
       "   'state': '75',\n",
       "   'display_address': ['31 rue Berger', '75001 Paris', 'France']},\n",
       "  'phone': '+33142331299',\n",
       "  'display_phone': '+33 1 42 33 12 99',\n",
       "  'distance': 243.80602004479044},\n",
       " {'id': '3cNLpk5HmmnXptjwg-KN-w',\n",
       "  'alias': 'restaurant-mumi-paris',\n",
       "  'name': 'Restaurant Mumi',\n",
       "  'image_url': 'https://s3-media4.fl.yelpcdn.com/bphoto/wZv3wOORIVTuvCuFWKjy0A/o.jpg',\n",
       "  'is_closed': False,\n",
       "  'url': 'https://www.yelp.com/biz/restaurant-mumi-paris?adjust_creative=jxe0l4HW-9hSKcdBti6G6A&utm_campaign=yelp_api_v3&utm_medium=api_v3_business_search&utm_source=jxe0l4HW-9hSKcdBti6G6A',\n",
       "  'review_count': 7,\n",
       "  'categories': [{'alias': 'french', 'title': 'French'},\n",
       "   {'alias': 'modern_european', 'title': 'Modern European'}],\n",
       "  'rating': 4.0,\n",
       "  'coordinates': {'latitude': 48.862001, 'longitude': 2.342659},\n",
       "  'transactions': [],\n",
       "  'location': {'address1': '14 rue Sauval',\n",
       "   'address2': '',\n",
       "   'address3': None,\n",
       "   'city': 'Paris',\n",
       "   'zip_code': '75001',\n",
       "   'country': 'FR',\n",
       "   'state': '75',\n",
       "   'display_address': ['14 rue Sauval', '75001 Paris', 'France']},\n",
       "  'phone': '+33140262754',\n",
       "  'display_phone': '+33 1 40 26 27 54',\n",
       "  'distance': 37.689420345874915},\n",
       " {'id': 'WqXhQg1Nhv4pffAHp-3JyA',\n",
       "  'alias': 'ô-chateau-paris-6',\n",
       "  'name': 'Ô Chateau',\n",
       "  'image_url': 'https://s3-media4.fl.yelpcdn.com/bphoto/6gRT4hqyvyI8i_NPZdcyJA/o.jpg',\n",
       "  'is_closed': False,\n",
       "  'url': 'https://www.yelp.com/biz/%C3%B4-chateau-paris-6?adjust_creative=jxe0l4HW-9hSKcdBti6G6A&utm_campaign=yelp_api_v3&utm_medium=api_v3_business_search&utm_source=jxe0l4HW-9hSKcdBti6G6A',\n",
       "  'review_count': 162,\n",
       "  'categories': [{'alias': 'wine_bars', 'title': 'Wine Bars'},\n",
       "   {'alias': 'french', 'title': 'French'}],\n",
       "  'rating': 4.5,\n",
       "  'coordinates': {'latitude': 48.86434, 'longitude': 2.34405},\n",
       "  'transactions': [],\n",
       "  'price': '€€',\n",
       "  'location': {'address1': '68 rue Jean-Jacques Rousseau',\n",
       "   'address2': '',\n",
       "   'address3': '',\n",
       "   'city': 'Paris',\n",
       "   'zip_code': '75001',\n",
       "   'country': 'FR',\n",
       "   'state': '75',\n",
       "   'display_address': ['68 rue Jean-Jacques Rousseau',\n",
       "    '75001 Paris',\n",
       "    'France']},\n",
       "  'phone': '+33144739780',\n",
       "  'display_phone': '+33 1 44 73 97 80',\n",
       "  'distance': 299.1314445739897},\n",
       " {'id': 'FKFUDUaDYDO8Xp9tqRZrBQ',\n",
       "  'alias': 'san-paris-3',\n",
       "  'name': 'San',\n",
       "  'image_url': 'https://s3-media2.fl.yelpcdn.com/bphoto/mGuQNrQwR0dh3ZvRLArZnQ/o.jpg',\n",
       "  'is_closed': False,\n",
       "  'url': 'https://www.yelp.com/biz/san-paris-3?adjust_creative=jxe0l4HW-9hSKcdBti6G6A&utm_campaign=yelp_api_v3&utm_medium=api_v3_business_search&utm_source=jxe0l4HW-9hSKcdBti6G6A',\n",
       "  'review_count': 3,\n",
       "  'categories': [{'alias': 'thai', 'title': 'Thai'}],\n",
       "  'rating': 5.0,\n",
       "  'coordinates': {'latitude': 48.86427, 'longitude': 2.34159},\n",
       "  'transactions': [],\n",
       "  'location': {'address1': '32 rue Coquillière',\n",
       "   'address2': '',\n",
       "   'address3': None,\n",
       "   'city': 'Paris',\n",
       "   'zip_code': '75001',\n",
       "   'country': 'FR',\n",
       "   'state': '75',\n",
       "   'display_address': ['32 rue Coquillière', '75001 Paris', 'France']},\n",
       "  'phone': '',\n",
       "  'display_phone': '',\n",
       "  'distance': 266.74139482820283},\n",
       " {'id': '4kfOSgh1GlUjcRCaYgDV8g',\n",
       "  'alias': 'le-louis-paris',\n",
       "  'name': 'Le Louis',\n",
       "  'image_url': 'https://s3-media3.fl.yelpcdn.com/bphoto/psKuuk0YQN4I7cq6APyrTQ/o.jpg',\n",
       "  'is_closed': False,\n",
       "  'url': 'https://www.yelp.com/biz/le-louis-paris?adjust_creative=jxe0l4HW-9hSKcdBti6G6A&utm_campaign=yelp_api_v3&utm_medium=api_v3_business_search&utm_source=jxe0l4HW-9hSKcdBti6G6A',\n",
       "  'review_count': 34,\n",
       "  'categories': [{'alias': 'french', 'title': 'French'}],\n",
       "  'rating': 4.5,\n",
       "  'coordinates': {'latitude': 48.864257, 'longitude': 2.341366},\n",
       "  'transactions': [],\n",
       "  'price': '€€€',\n",
       "  'location': {'address1': '31 rue Coquillière',\n",
       "   'address2': '',\n",
       "   'address3': '',\n",
       "   'city': 'Paris',\n",
       "   'zip_code': '75001',\n",
       "   'country': 'FR',\n",
       "   'state': '75',\n",
       "   'display_address': ['31 rue Coquillière', '75001 Paris', 'France']},\n",
       "  'phone': '+33142335617',\n",
       "  'display_phone': '+33 1 42 33 56 17',\n",
       "  'distance': 261.8903171729694},\n",
       " {'id': 'Lid_AmfnaJijqELbl5eiVQ',\n",
       "  'alias': 'le-cochon-à-l-oreille-paris-4',\n",
       "  'name': \"Le Cochon à l'Oreille\",\n",
       "  'image_url': 'https://s3-media3.fl.yelpcdn.com/bphoto/1rQD8w-9xBtK9MoV2NEKVQ/o.jpg',\n",
       "  'is_closed': False,\n",
       "  'url': 'https://www.yelp.com/biz/le-cochon-%C3%A0-l-oreille-paris-4?adjust_creative=jxe0l4HW-9hSKcdBti6G6A&utm_campaign=yelp_api_v3&utm_medium=api_v3_business_search&utm_source=jxe0l4HW-9hSKcdBti6G6A',\n",
       "  'review_count': 34,\n",
       "  'categories': [{'alias': 'french', 'title': 'French'},\n",
       "   {'alias': 'wine_bars', 'title': 'Wine Bars'},\n",
       "   {'alias': 'modern_european', 'title': 'Modern European'}],\n",
       "  'rating': 4.0,\n",
       "  'coordinates': {'latitude': 48.86439, 'longitude': 2.34531},\n",
       "  'transactions': [],\n",
       "  'price': '€€',\n",
       "  'location': {'address1': '15 rue Montmartre',\n",
       "   'address2': 'les Halles',\n",
       "   'address3': None,\n",
       "   'city': 'Paris',\n",
       "   'zip_code': '75001',\n",
       "   'country': 'FR',\n",
       "   'state': '75',\n",
       "   'display_address': ['15 rue Montmartre',\n",
       "    'les Halles',\n",
       "    '75001 Paris',\n",
       "    'France']},\n",
       "  'phone': '+33140159824',\n",
       "  'display_phone': '+33 1 40 15 98 24',\n",
       "  'distance': 355.80906520276284},\n",
       " {'id': '4qTUBV_TXHVZRctoZwr1bg',\n",
       "  'alias': 'les-artizans-paris',\n",
       "  'name': 'Les Artizans',\n",
       "  'image_url': 'https://s3-media1.fl.yelpcdn.com/bphoto/-57nGcpsGfO8fa908kUw4Q/o.jpg',\n",
       "  'is_closed': False,\n",
       "  'url': 'https://www.yelp.com/biz/les-artizans-paris?adjust_creative=jxe0l4HW-9hSKcdBti6G6A&utm_campaign=yelp_api_v3&utm_medium=api_v3_business_search&utm_source=jxe0l4HW-9hSKcdBti6G6A',\n",
       "  'review_count': 27,\n",
       "  'categories': [{'alias': 'cakeshop', 'title': 'Patisserie/Cake Shop'},\n",
       "   {'alias': 'bistros', 'title': 'Bistros'}],\n",
       "  'rating': 4.5,\n",
       "  'coordinates': {'latitude': 48.863763, 'longitude': 2.346643},\n",
       "  'transactions': [],\n",
       "  'price': '€€',\n",
       "  'location': {'address1': '30 rue de Montorgueil',\n",
       "   'address2': '',\n",
       "   'address3': '',\n",
       "   'city': 'Paris',\n",
       "   'zip_code': '75001',\n",
       "   'country': 'FR',\n",
       "   'state': '75',\n",
       "   'display_address': ['30 rue de Montorgueil', '75001 Paris', 'France']},\n",
       "  'phone': '+33140284474',\n",
       "  'display_phone': '+33 1 40 28 44 74',\n",
       "  'distance': 385.205000315054},\n",
       " {'id': 'fD2daNgOHoQe4Ny48ULlEQ',\n",
       "  'alias': 'les-crocs-des-halles-paris',\n",
       "  'name': 'Les Crocs des Halles',\n",
       "  'image_url': 'https://s3-media3.fl.yelpcdn.com/bphoto/2VLznKMyvb7nLnV3a17OjQ/o.jpg',\n",
       "  'is_closed': False,\n",
       "  'url': 'https://www.yelp.com/biz/les-crocs-des-halles-paris?adjust_creative=jxe0l4HW-9hSKcdBti6G6A&utm_campaign=yelp_api_v3&utm_medium=api_v3_business_search&utm_source=jxe0l4HW-9hSKcdBti6G6A',\n",
       "  'review_count': 7,\n",
       "  'categories': [{'alias': 'bbq', 'title': 'Barbeque'},\n",
       "   {'alias': 'french', 'title': 'French'}],\n",
       "  'rating': 4.5,\n",
       "  'coordinates': {'latitude': 48.86219, 'longitude': 2.34211},\n",
       "  'transactions': [],\n",
       "  'price': '€€€',\n",
       "  'location': {'address1': '49 rue Berger',\n",
       "   'address2': '',\n",
       "   'address3': '',\n",
       "   'city': 'Paris',\n",
       "   'zip_code': '75001',\n",
       "   'country': 'FR',\n",
       "   'state': '75',\n",
       "   'display_address': ['49 rue Berger', '75001 Paris', 'France']},\n",
       "  'phone': '+33140280000',\n",
       "  'display_phone': '+33 1 40 28 00 00',\n",
       "  'distance': 21.830553542962587},\n",
       " {'id': 'eV3XeyDMWwT0E8o8nYodRQ',\n",
       "  'alias': 'au-pied-de-cochon-paris-2',\n",
       "  'name': 'Au Pied de Cochon',\n",
       "  'image_url': 'https://s3-media1.fl.yelpcdn.com/bphoto/R9yRAATnaNUio_3Mc04o1A/o.jpg',\n",
       "  'is_closed': False,\n",
       "  'url': 'https://www.yelp.com/biz/au-pied-de-cochon-paris-2?adjust_creative=jxe0l4HW-9hSKcdBti6G6A&utm_campaign=yelp_api_v3&utm_medium=api_v3_business_search&utm_source=jxe0l4HW-9hSKcdBti6G6A',\n",
       "  'review_count': 370,\n",
       "  'categories': [{'alias': 'seafood', 'title': 'Seafood'},\n",
       "   {'alias': 'brasseries', 'title': 'Brasseries'}],\n",
       "  'rating': 3.5,\n",
       "  'coordinates': {'latitude': 48.863719, 'longitude': 2.343711},\n",
       "  'transactions': [],\n",
       "  'price': '€€€',\n",
       "  'location': {'address1': '6 rue Coquillière',\n",
       "   'address2': None,\n",
       "   'address3': None,\n",
       "   'city': 'Paris',\n",
       "   'zip_code': '75001',\n",
       "   'country': 'FR',\n",
       "   'state': '75',\n",
       "   'display_address': ['6 rue Coquillière', '75001 Paris', 'France']},\n",
       "  'phone': '+33140137700',\n",
       "  'display_phone': '+33 1 40 13 77 00',\n",
       "  'distance': 226.69831182512567},\n",
       " {'id': '2JpBWCr2q4934qvRK9WTEw',\n",
       "  'alias': 'carpe-diem-café-paris-2',\n",
       "  'name': 'Carpe Diem Café',\n",
       "  'image_url': 'https://s3-media4.fl.yelpcdn.com/bphoto/X5btIlnmNbPYlykQ_sQeaQ/o.jpg',\n",
       "  'is_closed': False,\n",
       "  'url': 'https://www.yelp.com/biz/carpe-diem-caf%C3%A9-paris-2?adjust_creative=jxe0l4HW-9hSKcdBti6G6A&utm_campaign=yelp_api_v3&utm_medium=api_v3_business_search&utm_source=jxe0l4HW-9hSKcdBti6G6A',\n",
       "  'review_count': 165,\n",
       "  'categories': [{'alias': 'french', 'title': 'French'},\n",
       "   {'alias': 'lounges', 'title': 'Lounges'},\n",
       "   {'alias': 'cocktailbars', 'title': 'Cocktail Bars'}],\n",
       "  'rating': 4.0,\n",
       "  'coordinates': {'latitude': 48.8605269, 'longitude': 2.3459065},\n",
       "  'transactions': [],\n",
       "  'price': '€€',\n",
       "  'location': {'address1': '21 rue des Halles',\n",
       "   'address2': '',\n",
       "   'address3': '',\n",
       "   'city': 'Paris',\n",
       "   'zip_code': '75001',\n",
       "   'country': 'FR',\n",
       "   'state': '75',\n",
       "   'display_address': ['21 rue des Halles', '75001 Paris', 'France']},\n",
       "  'phone': '+33142210201',\n",
       "  'display_phone': '+33 1 42 21 02 01',\n",
       "  'distance': 317.72141898392687},\n",
       " {'id': 'XNfpjD7KWU-r1jB1SR3alg',\n",
       "  'alias': 'crêperie-saint-eustache-paris-2',\n",
       "  'name': 'Crêperie Saint Eustache',\n",
       "  'image_url': 'https://s3-media2.fl.yelpcdn.com/bphoto/McHbhTnv-DFkANaN2PwKyQ/o.jpg',\n",
       "  'is_closed': False,\n",
       "  'url': 'https://www.yelp.com/biz/cr%C3%AAperie-saint-eustache-paris-2?adjust_creative=jxe0l4HW-9hSKcdBti6G6A&utm_campaign=yelp_api_v3&utm_medium=api_v3_business_search&utm_source=jxe0l4HW-9hSKcdBti6G6A',\n",
       "  'review_count': 52,\n",
       "  'categories': [{'alias': 'creperies', 'title': 'Creperies'}],\n",
       "  'rating': 4.5,\n",
       "  'coordinates': {'latitude': 48.86148, 'longitude': 2.34229},\n",
       "  'transactions': [],\n",
       "  'price': '€€',\n",
       "  'location': {'address1': '2 rue Sauval',\n",
       "   'address2': None,\n",
       "   'address3': None,\n",
       "   'city': 'Paris',\n",
       "   'zip_code': '75001',\n",
       "   'country': 'FR',\n",
       "   'state': '75',\n",
       "   'display_address': ['2 rue Sauval', '75001 Paris', 'France']},\n",
       "  'phone': '+33140284039',\n",
       "  'display_phone': '+33 1 40 28 40 39',\n",
       "  'distance': 54.22531448383937},\n",
       " {'id': '5jviAXLXm5E78wlpE0pTxA',\n",
       "  'alias': 'iovines-paris-2',\n",
       "  'name': \"Iovine's\",\n",
       "  'image_url': 'https://s3-media1.fl.yelpcdn.com/bphoto/8hg_4xg9-5PMxq1LkJSwew/o.jpg',\n",
       "  'is_closed': False,\n",
       "  'url': 'https://www.yelp.com/biz/iovines-paris-2?adjust_creative=jxe0l4HW-9hSKcdBti6G6A&utm_campaign=yelp_api_v3&utm_medium=api_v3_business_search&utm_source=jxe0l4HW-9hSKcdBti6G6A',\n",
       "  'review_count': 53,\n",
       "  'categories': [{'alias': 'pizza', 'title': 'Pizza'},\n",
       "   {'alias': 'italian', 'title': 'Italian'}],\n",
       "  'rating': 4.5,\n",
       "  'coordinates': {'latitude': 48.86334, 'longitude': 2.34049},\n",
       "  'transactions': [],\n",
       "  'price': '€€',\n",
       "  'location': {'address1': '7 bis rue du Colonel Driant',\n",
       "   'address2': None,\n",
       "   'address3': '',\n",
       "   'city': 'Paris',\n",
       "   'zip_code': '75001',\n",
       "   'country': 'FR',\n",
       "   'state': '75',\n",
       "   'display_address': ['7 bis rue du Colonel Driant',\n",
       "    '75001 Paris',\n",
       "    'France']},\n",
       "  'phone': '+33147039209',\n",
       "  'display_phone': '+33 1 47 03 92 09',\n",
       "  'distance': 177.8401193421966},\n",
       " {'id': 'aveslz7waP99LSjW_MnLBw',\n",
       "  'alias': 'le-café-paris-5',\n",
       "  'name': 'Le Café',\n",
       "  'image_url': 'https://s3-media3.fl.yelpcdn.com/bphoto/eaz4V7aN3IlW8Fi6zovs5w/o.jpg',\n",
       "  'is_closed': False,\n",
       "  'url': 'https://www.yelp.com/biz/le-caf%C3%A9-paris-5?adjust_creative=jxe0l4HW-9hSKcdBti6G6A&utm_campaign=yelp_api_v3&utm_medium=api_v3_business_search&utm_source=jxe0l4HW-9hSKcdBti6G6A',\n",
       "  'review_count': 65,\n",
       "  'categories': [{'alias': 'cafes', 'title': 'Cafes'}],\n",
       "  'rating': 4.5,\n",
       "  'coordinates': {'latitude': 48.86483, 'longitude': 2.34588},\n",
       "  'transactions': [],\n",
       "  'price': '€€',\n",
       "  'location': {'address1': '62 rue Tiquetonne',\n",
       "   'address2': '',\n",
       "   'address3': '',\n",
       "   'city': 'Paris',\n",
       "   'zip_code': '75002',\n",
       "   'country': 'FR',\n",
       "   'state': '75',\n",
       "   'display_address': ['62 rue Tiquetonne', '75002 Paris', 'France']},\n",
       "  'phone': '+33140390800',\n",
       "  'display_phone': '+33 1 40 39 08 00',\n",
       "  'distance': 429.81339089351815},\n",
       " {'id': 'PHsKPp496sFZm9K9Xz_TlA',\n",
       "  'alias': 'sanukiya-paris',\n",
       "  'name': 'Sanukiya',\n",
       "  'image_url': 'https://s3-media3.fl.yelpcdn.com/bphoto/agVs3MAwhJfs8dJcqShryg/o.jpg',\n",
       "  'is_closed': False,\n",
       "  'url': 'https://www.yelp.com/biz/sanukiya-paris?adjust_creative=jxe0l4HW-9hSKcdBti6G6A&utm_campaign=yelp_api_v3&utm_medium=api_v3_business_search&utm_source=jxe0l4HW-9hSKcdBti6G6A',\n",
       "  'review_count': 381,\n",
       "  'categories': [{'alias': 'japanese', 'title': 'Japanese'}],\n",
       "  'rating': 4.5,\n",
       "  'coordinates': {'latitude': 48.8647, 'longitude': 2.3338199},\n",
       "  'transactions': [],\n",
       "  'price': '€€',\n",
       "  'location': {'address1': \"9 rue d'Argenteuil\",\n",
       "   'address2': '',\n",
       "   'address3': '',\n",
       "   'city': 'Paris',\n",
       "   'zip_code': '75001',\n",
       "   'country': 'FR',\n",
       "   'state': '75',\n",
       "   'display_address': [\"9 rue d'Argenteuil\", '75001 Paris', 'France']},\n",
       "  'phone': '+33142605261',\n",
       "  'display_phone': '+33 1 42 60 52 61',\n",
       "  'distance': 687.1289064340056},\n",
       " {'id': 'd62JZpmI45AseBwTypnJ8g',\n",
       "  'alias': 'le-caveau-du-palais-paris',\n",
       "  'name': 'Le Caveau du Palais',\n",
       "  'image_url': 'https://s3-media2.fl.yelpcdn.com/bphoto/5Hq37edmg5DhjofjtUQlEw/o.jpg',\n",
       "  'is_closed': False,\n",
       "  'url': 'https://www.yelp.com/biz/le-caveau-du-palais-paris?adjust_creative=jxe0l4HW-9hSKcdBti6G6A&utm_campaign=yelp_api_v3&utm_medium=api_v3_business_search&utm_source=jxe0l4HW-9hSKcdBti6G6A',\n",
       "  'review_count': 25,\n",
       "  'categories': [{'alias': 'french', 'title': 'French'}],\n",
       "  'rating': 4.5,\n",
       "  'coordinates': {'latitude': 48.856535, 'longitude': 2.342053},\n",
       "  'transactions': [],\n",
       "  'price': '€€€',\n",
       "  'location': {'address1': '19 place Dauphine',\n",
       "   'address2': None,\n",
       "   'address3': None,\n",
       "   'city': 'Paris',\n",
       "   'zip_code': '75001',\n",
       "   'country': 'FR',\n",
       "   'state': '75',\n",
       "   'display_address': ['19 place Dauphine', '75001 Paris', 'France']},\n",
       "  'phone': '+33143260428',\n",
       "  'display_phone': '+33 1 43 26 04 28',\n",
       "  'distance': 603.1167871840688},\n",
       " {'id': 'EzUqgGTo23-iGNEuhAfqxA',\n",
       "  'alias': 'nelson-s-paris',\n",
       "  'name': 'Nelson’s',\n",
       "  'image_url': 'https://s3-media3.fl.yelpcdn.com/bphoto/BocXGnDWyYx7mVZWNNraIw/o.jpg',\n",
       "  'is_closed': False,\n",
       "  'url': 'https://www.yelp.com/biz/nelson-s-paris?adjust_creative=jxe0l4HW-9hSKcdBti6G6A&utm_campaign=yelp_api_v3&utm_medium=api_v3_business_search&utm_source=jxe0l4HW-9hSKcdBti6G6A',\n",
       "  'review_count': 21,\n",
       "  'categories': [{'alias': 'french', 'title': 'French'},\n",
       "   {'alias': 'cocktailbars', 'title': 'Cocktail Bars'}],\n",
       "  'rating': 4.0,\n",
       "  'coordinates': {'latitude': 48.863728, 'longitude': 2.343043},\n",
       "  'transactions': [],\n",
       "  'location': {'address1': '16 rue Coquillière',\n",
       "   'address2': '',\n",
       "   'address3': None,\n",
       "   'city': 'Paris',\n",
       "   'zip_code': '75001',\n",
       "   'country': 'FR',\n",
       "   'state': '75',\n",
       "   'display_address': ['16 rue Coquillière', '75001 Paris', 'France']},\n",
       "  'phone': '+33142367424',\n",
       "  'display_phone': '+33 1 42 36 74 24',\n",
       "  'distance': 207.35841478079323},\n",
       " {'id': 'n-XIbgR-Gwb1CqBMyjwj0w',\n",
       "  'alias': 'chez-fernand-paris',\n",
       "  'name': 'Chez Fernand',\n",
       "  'image_url': 'https://s3-media2.fl.yelpcdn.com/bphoto/dJ4ejAxqsVFDeFd_804mfA/o.jpg',\n",
       "  'is_closed': False,\n",
       "  'url': 'https://www.yelp.com/biz/chez-fernand-paris?adjust_creative=jxe0l4HW-9hSKcdBti6G6A&utm_campaign=yelp_api_v3&utm_medium=api_v3_business_search&utm_source=jxe0l4HW-9hSKcdBti6G6A',\n",
       "  'review_count': 220,\n",
       "  'categories': [{'alias': 'french', 'title': 'French'}],\n",
       "  'rating': 4.5,\n",
       "  'coordinates': {'latitude': 48.85461, 'longitude': 2.33954},\n",
       "  'transactions': [],\n",
       "  'price': '€€€',\n",
       "  'location': {'address1': '9 rue Christine',\n",
       "   'address2': None,\n",
       "   'address3': None,\n",
       "   'city': 'Paris',\n",
       "   'zip_code': '75006',\n",
       "   'country': 'FR',\n",
       "   'state': '75',\n",
       "   'display_address': ['9 rue Christine', '75006 Paris', 'France']},\n",
       "  'phone': '+33143251855',\n",
       "  'display_phone': '+33 1 43 25 18 55',\n",
       "  'distance': 839.1033071385376},\n",
       " {'id': 'ZRf9KjquP7yO_iXRWwxPmw',\n",
       "  'alias': 'café-lai-tcha-paris-2',\n",
       "  'name': 'Café Lai Tcha',\n",
       "  'image_url': 'https://s3-media2.fl.yelpcdn.com/bphoto/l1vpiMs2x3C57SZgmiejhA/o.jpg',\n",
       "  'is_closed': False,\n",
       "  'url': 'https://www.yelp.com/biz/caf%C3%A9-lai-tcha-paris-2?adjust_creative=jxe0l4HW-9hSKcdBti6G6A&utm_campaign=yelp_api_v3&utm_medium=api_v3_business_search&utm_source=jxe0l4HW-9hSKcdBti6G6A',\n",
       "  'review_count': 7,\n",
       "  'categories': [{'alias': 'panasian', 'title': 'Pan Asian'}],\n",
       "  'rating': 4.5,\n",
       "  'coordinates': {'latitude': 48.863565, 'longitude': 2.344205},\n",
       "  'transactions': [],\n",
       "  'location': {'address1': '7 rue du Jour',\n",
       "   'address2': '',\n",
       "   'address3': None,\n",
       "   'city': 'Paris',\n",
       "   'zip_code': '75001',\n",
       "   'country': 'FR',\n",
       "   'state': '75',\n",
       "   'display_address': ['7 rue du Jour', '75001 Paris', 'France']},\n",
       "  'phone': '+33140260505',\n",
       "  'display_phone': '+33 1 40 26 05 05',\n",
       "  'distance': 233.5629062040734},\n",
       " {'id': 'ASbVOR_nTHvwEM9GPTyC0Q',\n",
       "  'alias': 'café-de-paris-paris-9',\n",
       "  'name': 'Café de Paris',\n",
       "  'image_url': 'https://s3-media2.fl.yelpcdn.com/bphoto/ztoYkIdz1exRvzrZf-kriQ/o.jpg',\n",
       "  'is_closed': False,\n",
       "  'url': 'https://www.yelp.com/biz/caf%C3%A9-de-paris-paris-9?adjust_creative=jxe0l4HW-9hSKcdBti6G6A&utm_campaign=yelp_api_v3&utm_medium=api_v3_business_search&utm_source=jxe0l4HW-9hSKcdBti6G6A',\n",
       "  'review_count': 75,\n",
       "  'categories': [{'alias': 'brasseries', 'title': 'Brasseries'}],\n",
       "  'rating': 4.0,\n",
       "  'coordinates': {'latitude': 48.863662, 'longitude': 2.33385},\n",
       "  'transactions': [],\n",
       "  'price': '€€',\n",
       "  'location': {'address1': \"3 rue de l'Échelle\",\n",
       "   'address2': '',\n",
       "   'address3': None,\n",
       "   'city': 'Paris',\n",
       "   'zip_code': '75001',\n",
       "   'country': 'FR',\n",
       "   'state': '75',\n",
       "   'display_address': [\"3 rue de l'Échelle\", '75001 Paris', 'France']},\n",
       "  'phone': '+33142608426',\n",
       "  'display_phone': '+33 1 42 60 84 26',\n",
       "  'distance': 635.8604880821752},\n",
       " {'id': 'BvC_O7iWXp9vVTSBKxmMPA',\n",
       "  'alias': 'le-fumoir-paris',\n",
       "  'name': 'Le Fumoir',\n",
       "  'image_url': 'https://s3-media3.fl.yelpcdn.com/bphoto/9wwDUBI9v-pP2qZrINXx-Q/o.jpg',\n",
       "  'is_closed': False,\n",
       "  'url': 'https://www.yelp.com/biz/le-fumoir-paris?adjust_creative=jxe0l4HW-9hSKcdBti6G6A&utm_campaign=yelp_api_v3&utm_medium=api_v3_business_search&utm_source=jxe0l4HW-9hSKcdBti6G6A',\n",
       "  'review_count': 314,\n",
       "  'categories': [{'alias': 'lounges', 'title': 'Lounges'},\n",
       "   {'alias': 'modern_european', 'title': 'Modern European'}],\n",
       "  'rating': 4.0,\n",
       "  'coordinates': {'latitude': 48.8604, 'longitude': 2.34055},\n",
       "  'transactions': [],\n",
       "  'price': '€€€',\n",
       "  'location': {'address1': \"6 rue de l'Amiral de Coligny\",\n",
       "   'address2': None,\n",
       "   'address3': None,\n",
       "   'city': 'Paris',\n",
       "   'zip_code': '75001',\n",
       "   'country': 'FR',\n",
       "   'state': '75',\n",
       "   'display_address': [\"6 rue de l'Amiral de Coligny\",\n",
       "    '75001 Paris',\n",
       "    'France']},\n",
       "  'phone': '+33142920024',\n",
       "  'display_phone': '+33 1 42 92 00 24',\n",
       "  'distance': 209.0418070393058},\n",
       " {'id': 'wHT9bUxQCGh_gFUXdC9Y_w',\n",
       "  'alias': 'l-imprimerie-paris',\n",
       "  'name': \"L'Imprimerie\",\n",
       "  'image_url': 'https://s3-media2.fl.yelpcdn.com/bphoto/VkiAUOe_v8xoI0xc89duBg/o.jpg',\n",
       "  'is_closed': False,\n",
       "  'url': 'https://www.yelp.com/biz/l-imprimerie-paris?adjust_creative=jxe0l4HW-9hSKcdBti6G6A&utm_campaign=yelp_api_v3&utm_medium=api_v3_business_search&utm_source=jxe0l4HW-9hSKcdBti6G6A',\n",
       "  'review_count': 49,\n",
       "  'categories': [{'alias': 'cafes', 'title': 'Cafes'}],\n",
       "  'rating': 4.0,\n",
       "  'coordinates': {'latitude': 48.86413, 'longitude': 2.3416},\n",
       "  'transactions': [],\n",
       "  'price': '€€',\n",
       "  'location': {'address1': '29 rue Coquillière',\n",
       "   'address2': None,\n",
       "   'address3': None,\n",
       "   'city': 'Paris',\n",
       "   'zip_code': '75001',\n",
       "   'country': 'FR',\n",
       "   'state': '75',\n",
       "   'display_address': ['29 rue Coquillière', '75001 Paris', 'France']},\n",
       "  'phone': '+33145080708',\n",
       "  'display_phone': '+33 1 45 08 07 08',\n",
       "  'distance': 241.69824554298302},\n",
       " {'id': '3Mg4L7o7Og9aajb7tee2sQ',\n",
       "  'alias': 'le-black-dog-paris',\n",
       "  'name': 'Le Black Dog',\n",
       "  'image_url': 'https://s3-media4.fl.yelpcdn.com/bphoto/hwb3EBNR4lBCKoLZeN2ctQ/o.jpg',\n",
       "  'is_closed': False,\n",
       "  'url': 'https://www.yelp.com/biz/le-black-dog-paris?adjust_creative=jxe0l4HW-9hSKcdBti6G6A&utm_campaign=yelp_api_v3&utm_medium=api_v3_business_search&utm_source=jxe0l4HW-9hSKcdBti6G6A',\n",
       "  'review_count': 115,\n",
       "  'categories': [{'alias': 'bars', 'title': 'Bars'},\n",
       "   {'alias': 'argentine', 'title': 'Argentine'}],\n",
       "  'rating': 4.0,\n",
       "  'coordinates': {'latitude': 48.85943, 'longitude': 2.34918},\n",
       "  'transactions': [],\n",
       "  'price': '€€',\n",
       "  'location': {'address1': '26 rue des Lombards',\n",
       "   'address2': '',\n",
       "   'address3': '',\n",
       "   'city': 'Paris',\n",
       "   'zip_code': '75004',\n",
       "   'country': 'FR',\n",
       "   'state': '75',\n",
       "   'display_address': ['26 rue des Lombards', '75004 Paris', 'France']},\n",
       "  'phone': '+33142712227',\n",
       "  'display_phone': '+33 1 42 71 22 27',\n",
       "  'distance': 588.396229794603},\n",
       " {'id': '-y7jgZ3cSCorkeXYGqyweA',\n",
       "  'alias': '万食如意-fresh-noodles-paris',\n",
       "  'name': '万食如意 Fresh Noodles',\n",
       "  'image_url': 'https://s3-media2.fl.yelpcdn.com/bphoto/u82QZ0qCavPTli6eg71GfQ/o.jpg',\n",
       "  'is_closed': False,\n",
       "  'url': 'https://www.yelp.com/biz/%E4%B8%87%E9%A3%9F%E5%A6%82%E6%84%8F-fresh-noodles-paris?adjust_creative=jxe0l4HW-9hSKcdBti6G6A&utm_campaign=yelp_api_v3&utm_medium=api_v3_business_search&utm_source=jxe0l4HW-9hSKcdBti6G6A',\n",
       "  'review_count': 63,\n",
       "  'categories': [{'alias': 'chinese', 'title': 'Chinese'},\n",
       "   {'alias': 'panasian', 'title': 'Pan Asian'}],\n",
       "  'rating': 4.5,\n",
       "  'coordinates': {'latitude': 48.859595, 'longitude': 2.347833},\n",
       "  'transactions': [],\n",
       "  'price': '€€',\n",
       "  'location': {'address1': '23 rue Saint-Denis',\n",
       "   'address2': '',\n",
       "   'address3': '',\n",
       "   'city': 'Paris',\n",
       "   'zip_code': '75001',\n",
       "   'country': 'FR',\n",
       "   'state': '75',\n",
       "   'display_address': ['23 rue Saint-Denis', '75001 Paris', 'France']},\n",
       "  'phone': '+33142338888',\n",
       "  'display_phone': '+33 1 42 33 88 88',\n",
       "  'distance': 491.97777663641165},\n",
       " {'id': '_4U00TPunxkgnTgOOUg-7A',\n",
       "  'alias': 'de-voltaire-à-rousseau-paris-2',\n",
       "  'name': 'De Voltaire à Rousseau',\n",
       "  'image_url': 'https://s3-media2.fl.yelpcdn.com/bphoto/jRXcZbWKyt1V6oq3zB5fYw/o.jpg',\n",
       "  'is_closed': False,\n",
       "  'url': 'https://www.yelp.com/biz/de-voltaire-%C3%A0-rousseau-paris-2?adjust_creative=jxe0l4HW-9hSKcdBti6G6A&utm_campaign=yelp_api_v3&utm_medium=api_v3_business_search&utm_source=jxe0l4HW-9hSKcdBti6G6A',\n",
       "  'review_count': 2,\n",
       "  'categories': [{'alias': 'pubs', 'title': 'Pubs'},\n",
       "   {'alias': 'bistros', 'title': 'Bistros'}],\n",
       "  'rating': 4.5,\n",
       "  'coordinates': {'latitude': 48.8621712, 'longitude': 2.3399601},\n",
       "  'transactions': [],\n",
       "  'location': {'address1': '4 rue Jean-Jacques Rousseau',\n",
       "   'address2': '',\n",
       "   'address3': '',\n",
       "   'city': 'Paris',\n",
       "   'zip_code': '75001',\n",
       "   'country': 'FR',\n",
       "   'state': '75',\n",
       "   'display_address': ['4 rue Jean-Jacques Rousseau',\n",
       "    '75001 Paris',\n",
       "    'France']},\n",
       "  'phone': '+33142608836',\n",
       "  'display_phone': '+33 1 42 60 88 36',\n",
       "  'distance': 158.0684890851898},\n",
       " {'id': 'u0PQ2A4w14iMWrrk5pWGUA',\n",
       "  'alias': 'bistrot-richelieu-paris-2',\n",
       "  'name': 'Bistrot Richelieu',\n",
       "  'image_url': 'https://s3-media4.fl.yelpcdn.com/bphoto/m6UqngRRrkZxeYjXqCQ_RA/o.jpg',\n",
       "  'is_closed': False,\n",
       "  'url': 'https://www.yelp.com/biz/bistrot-richelieu-paris-2?adjust_creative=jxe0l4HW-9hSKcdBti6G6A&utm_campaign=yelp_api_v3&utm_medium=api_v3_business_search&utm_source=jxe0l4HW-9hSKcdBti6G6A',\n",
       "  'review_count': 202,\n",
       "  'categories': [{'alias': 'french', 'title': 'French'},\n",
       "   {'alias': 'breakfast_brunch', 'title': 'Breakfast & Brunch'}],\n",
       "  'rating': 4.0,\n",
       "  'coordinates': {'latitude': 48.866218, 'longitude': 2.337011},\n",
       "  'transactions': [],\n",
       "  'price': '€€',\n",
       "  'location': {'address1': '45 rue de Richelieu',\n",
       "   'address2': None,\n",
       "   'address3': '',\n",
       "   'city': 'Paris',\n",
       "   'zip_code': '75001',\n",
       "   'country': 'FR',\n",
       "   'state': '01',\n",
       "   'display_address': ['45 rue de Richelieu', '75001 Paris', 'France']},\n",
       "  'phone': '+33142601916',\n",
       "  'display_phone': '+33 1 42 60 19 16',\n",
       "  'distance': 604.5741458549456}]"
      ]
     },
     "execution_count": 768,
     "metadata": {},
     "output_type": "execute_result"
    }
   ],
   "source": [
    "businesses = yelp_data['businesses']\n",
    "businesses"
   ]
  },
  {
   "cell_type": "code",
   "execution_count": 754,
   "id": "30983c29-8705-4d9b-8c3b-b6e86ad2107e",
   "metadata": {
    "tags": []
   },
   "outputs": [],
   "source": [
    "total = yelp_data['total']"
   ]
  },
  {
   "cell_type": "code",
   "execution_count": 755,
   "id": "76a5cdd1-3bce-4781-af7c-acc14950cfc7",
   "metadata": {
    "tags": []
   },
   "outputs": [],
   "source": [
    "region = yelp_data['region']"
   ]
  },
  {
   "cell_type": "code",
   "execution_count": 785,
   "id": "6146931c-3751-4e27-b036-ad76d824b458",
   "metadata": {
    "tags": []
   },
   "outputs": [
    {
     "name": "stdout",
     "output_type": "stream",
     "text": [
      "[{'name': 'Le Comptoir de la Gastronomie', 'rating': 4.5, 'review_count': 1258, 'category': 'French', 'city': 'Paris', 'lat': 48.8645157999652, 'long': 2.34540185646608}]\n"
     ]
    }
   ],
   "source": [
    "# For individual business\n",
    "\n",
    "business_dict_list = []\n",
    "\n",
    "business_0 = businesses[0]\n",
    "name = business_0['name']\n",
    "rating = business_0['rating']\n",
    "review_count = business_0['review_count']\n",
    "categories = business_0['categories']\n",
    "category = categories[0]['title']\n",
    "location = business_0['location']\n",
    "city = location['city']\n",
    "coordinates = business_0['coordinates']\n",
    "lat = coordinates['latitude']\n",
    "long = coordinates['longitude']\n",
    "\n",
    "business_dict = {'name':name, \n",
    "                 'rating':rating, \n",
    "                 'review_count':review_count, \n",
    "                 'category':category,\n",
    "                 'city':city, \n",
    "                 'lat':lat, \n",
    "                 'long':long}\n",
    "\n",
    "business_dict_list.append(business_dict)\n",
    "\n",
    "print(business_dict_list)\n",
    "    "
   ]
  },
  {
   "cell_type": "code",
   "execution_count": 819,
   "id": "b1087512-a850-4d12-b391-ae60c98854d8",
   "metadata": {
    "tags": []
   },
   "outputs": [
    {
     "data": {
      "text/html": [
       "<div>\n",
       "<style scoped>\n",
       "    .dataframe tbody tr th:only-of-type {\n",
       "        vertical-align: middle;\n",
       "    }\n",
       "\n",
       "    .dataframe tbody tr th {\n",
       "        vertical-align: top;\n",
       "    }\n",
       "\n",
       "    .dataframe thead th {\n",
       "        text-align: right;\n",
       "    }\n",
       "</style>\n",
       "<table border=\"1\" class=\"dataframe\">\n",
       "  <thead>\n",
       "    <tr style=\"text-align: right;\">\n",
       "      <th></th>\n",
       "      <th>name</th>\n",
       "      <th>rating</th>\n",
       "      <th>review_count</th>\n",
       "      <th>category</th>\n",
       "      <th>city</th>\n",
       "      <th>lat</th>\n",
       "      <th>long</th>\n",
       "    </tr>\n",
       "  </thead>\n",
       "  <tbody>\n",
       "    <tr>\n",
       "      <th>18</th>\n",
       "      <td>Chez Paul</td>\n",
       "      <td>5.0</td>\n",
       "      <td>2</td>\n",
       "      <td>Bistros</td>\n",
       "      <td>Paris</td>\n",
       "      <td>48.859862</td>\n",
       "      <td>2.346106</td>\n",
       "    </tr>\n",
       "    <tr>\n",
       "      <th>28</th>\n",
       "      <td>San</td>\n",
       "      <td>5.0</td>\n",
       "      <td>3</td>\n",
       "      <td>Thai</td>\n",
       "      <td>Paris</td>\n",
       "      <td>48.864270</td>\n",
       "      <td>2.341590</td>\n",
       "    </tr>\n",
       "    <tr>\n",
       "      <th>11</th>\n",
       "      <td>Odette</td>\n",
       "      <td>5.0</td>\n",
       "      <td>9</td>\n",
       "      <td>French</td>\n",
       "      <td>Paris</td>\n",
       "      <td>48.860610</td>\n",
       "      <td>2.344520</td>\n",
       "    </tr>\n",
       "    <tr>\n",
       "      <th>19</th>\n",
       "      <td>Le Brun</td>\n",
       "      <td>5.0</td>\n",
       "      <td>8</td>\n",
       "      <td>French</td>\n",
       "      <td>Paris</td>\n",
       "      <td>48.861280</td>\n",
       "      <td>2.343200</td>\n",
       "    </tr>\n",
       "    <tr>\n",
       "      <th>32</th>\n",
       "      <td>Les Crocs des Halles</td>\n",
       "      <td>4.5</td>\n",
       "      <td>7</td>\n",
       "      <td>Barbeque</td>\n",
       "      <td>Paris</td>\n",
       "      <td>48.862190</td>\n",
       "      <td>2.342110</td>\n",
       "    </tr>\n",
       "    <tr>\n",
       "      <th>31</th>\n",
       "      <td>Les Artizans</td>\n",
       "      <td>4.5</td>\n",
       "      <td>27</td>\n",
       "      <td>Patisserie/Cake Shop</td>\n",
       "      <td>Paris</td>\n",
       "      <td>48.863763</td>\n",
       "      <td>2.346643</td>\n",
       "    </tr>\n",
       "    <tr>\n",
       "      <th>39</th>\n",
       "      <td>Le Caveau du Palais</td>\n",
       "      <td>4.5</td>\n",
       "      <td>25</td>\n",
       "      <td>French</td>\n",
       "      <td>Paris</td>\n",
       "      <td>48.856535</td>\n",
       "      <td>2.342053</td>\n",
       "    </tr>\n",
       "    <tr>\n",
       "      <th>29</th>\n",
       "      <td>Le Louis</td>\n",
       "      <td>4.5</td>\n",
       "      <td>34</td>\n",
       "      <td>French</td>\n",
       "      <td>Paris</td>\n",
       "      <td>48.864257</td>\n",
       "      <td>2.341366</td>\n",
       "    </tr>\n",
       "    <tr>\n",
       "      <th>38</th>\n",
       "      <td>Sanukiya</td>\n",
       "      <td>4.5</td>\n",
       "      <td>381</td>\n",
       "      <td>Japanese</td>\n",
       "      <td>Paris</td>\n",
       "      <td>48.864700</td>\n",
       "      <td>2.333820</td>\n",
       "    </tr>\n",
       "    <tr>\n",
       "      <th>36</th>\n",
       "      <td>Iovine's</td>\n",
       "      <td>4.5</td>\n",
       "      <td>53</td>\n",
       "      <td>Pizza</td>\n",
       "      <td>Paris</td>\n",
       "      <td>48.863340</td>\n",
       "      <td>2.340490</td>\n",
       "    </tr>\n",
       "  </tbody>\n",
       "</table>\n",
       "</div>"
      ],
      "text/plain": [
       "                    name  rating  review_count              category   city  \\\n",
       "18             Chez Paul     5.0             2               Bistros  Paris   \n",
       "28                   San     5.0             3                  Thai  Paris   \n",
       "11                Odette     5.0             9                French  Paris   \n",
       "19               Le Brun     5.0             8                French  Paris   \n",
       "32  Les Crocs des Halles     4.5             7              Barbeque  Paris   \n",
       "31          Les Artizans     4.5            27  Patisserie/Cake Shop  Paris   \n",
       "39   Le Caveau du Palais     4.5            25                French  Paris   \n",
       "29              Le Louis     4.5            34                French  Paris   \n",
       "38              Sanukiya     4.5           381              Japanese  Paris   \n",
       "36              Iovine's     4.5            53                 Pizza  Paris   \n",
       "\n",
       "          lat      long  \n",
       "18  48.859862  2.346106  \n",
       "28  48.864270  2.341590  \n",
       "11  48.860610  2.344520  \n",
       "19  48.861280  2.343200  \n",
       "32  48.862190  2.342110  \n",
       "31  48.863763  2.346643  \n",
       "39  48.856535  2.342053  \n",
       "29  48.864257  2.341366  \n",
       "38  48.864700  2.333820  \n",
       "36  48.863340  2.340490  "
      ]
     },
     "execution_count": 819,
     "metadata": {},
     "output_type": "execute_result"
    }
   ],
   "source": [
    "business_dict_list = []\n",
    "i = 0\n",
    "\n",
    "for business in businesses:\n",
    "    business_0 = businesses[i]\n",
    "    name = business_0['name']\n",
    "    rating = business_0['rating']\n",
    "    review_count = business_0['review_count']\n",
    "    categories = business_0['categories']\n",
    "    category = categories[0]['title']\n",
    "    location = business_0['location']\n",
    "    city = location['city']\n",
    "    coordinates = business_0['coordinates']\n",
    "    lat = coordinates['latitude']\n",
    "    long = coordinates['longitude']\n",
    "\n",
    "    business_dict = {'name':name, \n",
    "                     'rating':rating, \n",
    "                     'review_count':review_count, \n",
    "                     'category':category,\n",
    "                     'city':city, \n",
    "                     'lat':lat, \n",
    "                     'long':long}\n",
    "\n",
    "    business_dict_list.append(business_dict)\n",
    "    \n",
    "    i += 1\n",
    "\n",
    "business_df = pd.DataFrame(business_dict_list)\n",
    "business_df.sort_values(by='rating', ascending=False).head(10)"
   ]
  },
  {
   "cell_type": "code",
   "execution_count": 803,
   "id": "c090110b-7e11-474d-b5ac-4d84410b3783",
   "metadata": {
    "tags": []
   },
   "outputs": [
    {
     "data": {
      "application/vnd.plotly.v1+json": {
       "config": {
        "plotlyServerURL": "https://plot.ly"
       },
       "data": [
        {
         "hovertemplate": "color=French<br>x=%{x}<br>y=%{y}<extra></extra>",
         "legendgroup": "French",
         "marker": {
          "color": "#636efa",
          "symbol": "circle"
         },
         "mode": "markers",
         "name": "French",
         "orientation": "v",
         "showlegend": true,
         "type": "scatter",
         "x": [
          1258,
          57,
          101,
          60,
          26,
          116,
          9,
          61,
          66,
          273,
          115,
          253,
          8,
          234,
          13,
          88,
          7,
          34,
          34,
          165,
          25,
          21,
          220,
          202
         ],
         "xaxis": "x",
         "y": [
          4.5,
          4.5,
          4.5,
          4,
          4,
          4,
          5,
          4.5,
          4.5,
          4,
          4,
          4,
          5,
          4.5,
          4,
          4.5,
          4,
          4.5,
          4,
          4,
          4.5,
          4,
          4.5,
          4
         ],
         "yaxis": "y"
        },
        {
         "hovertemplate": "color=Bistros<br>x=%{x}<br>y=%{y}<extra></extra>",
         "legendgroup": "Bistros",
         "marker": {
          "color": "#EF553B",
          "symbol": "circle"
         },
         "mode": "markers",
         "name": "Bistros",
         "orientation": "v",
         "showlegend": true,
         "type": "scatter",
         "x": [
          476,
          2
         ],
         "xaxis": "x",
         "y": [
          4.5,
          5
         ],
         "yaxis": "y"
        },
        {
         "hovertemplate": "color=Italian<br>x=%{x}<br>y=%{y}<extra></extra>",
         "legendgroup": "Italian",
         "marker": {
          "color": "#00cc96",
          "symbol": "circle"
         },
         "mode": "markers",
         "name": "Italian",
         "orientation": "v",
         "showlegend": true,
         "type": "scatter",
         "x": [
          41,
          52
         ],
         "xaxis": "x",
         "y": [
          4.5,
          4.5
         ],
         "yaxis": "y"
        },
        {
         "hovertemplate": "color=Tea Rooms<br>x=%{x}<br>y=%{y}<extra></extra>",
         "legendgroup": "Tea Rooms",
         "marker": {
          "color": "#ab63fa",
          "symbol": "circle"
         },
         "mode": "markers",
         "name": "Tea Rooms",
         "orientation": "v",
         "showlegend": true,
         "type": "scatter",
         "x": [
          67
         ],
         "xaxis": "x",
         "y": [
          4.5
         ],
         "yaxis": "y"
        },
        {
         "hovertemplate": "color=Restaurants<br>x=%{x}<br>y=%{y}<extra></extra>",
         "legendgroup": "Restaurants",
         "marker": {
          "color": "#FFA15A",
          "symbol": "circle"
         },
         "mode": "markers",
         "name": "Restaurants",
         "orientation": "v",
         "showlegend": true,
         "type": "scatter",
         "x": [
          8
         ],
         "xaxis": "x",
         "y": [
          4
         ],
         "yaxis": "y"
        },
        {
         "hovertemplate": "color=Cafes<br>x=%{x}<br>y=%{y}<extra></extra>",
         "legendgroup": "Cafes",
         "marker": {
          "color": "#19d3f3",
          "symbol": "circle"
         },
         "mode": "markers",
         "name": "Cafes",
         "orientation": "v",
         "showlegend": true,
         "type": "scatter",
         "x": [
          232,
          65,
          49
         ],
         "xaxis": "x",
         "y": [
          4.5,
          4.5,
          4
         ],
         "yaxis": "y"
        },
        {
         "hovertemplate": "color=Breakfast & Brunch<br>x=%{x}<br>y=%{y}<extra></extra>",
         "legendgroup": "Breakfast & Brunch",
         "marker": {
          "color": "#FF6692",
          "symbol": "circle"
         },
         "mode": "markers",
         "name": "Breakfast & Brunch",
         "orientation": "v",
         "showlegend": true,
         "type": "scatter",
         "x": [
          248
         ],
         "xaxis": "x",
         "y": [
          4.5
         ],
         "yaxis": "y"
        },
        {
         "hovertemplate": "color=Brasseries<br>x=%{x}<br>y=%{y}<extra></extra>",
         "legendgroup": "Brasseries",
         "marker": {
          "color": "#B6E880",
          "symbol": "circle"
         },
         "mode": "markers",
         "name": "Brasseries",
         "orientation": "v",
         "showlegend": true,
         "type": "scatter",
         "x": [
          18,
          75
         ],
         "xaxis": "x",
         "y": [
          4.5,
          4
         ],
         "yaxis": "y"
        },
        {
         "hovertemplate": "color=Steakhouses<br>x=%{x}<br>y=%{y}<extra></extra>",
         "legendgroup": "Steakhouses",
         "marker": {
          "color": "#FF97FF",
          "symbol": "circle"
         },
         "mode": "markers",
         "name": "Steakhouses",
         "orientation": "v",
         "showlegend": true,
         "type": "scatter",
         "x": [
          191
         ],
         "xaxis": "x",
         "y": [
          4
         ],
         "yaxis": "y"
        },
        {
         "hovertemplate": "color=Wine Bars<br>x=%{x}<br>y=%{y}<extra></extra>",
         "legendgroup": "Wine Bars",
         "marker": {
          "color": "#FECB52",
          "symbol": "circle"
         },
         "mode": "markers",
         "name": "Wine Bars",
         "orientation": "v",
         "showlegend": true,
         "type": "scatter",
         "x": [
          162
         ],
         "xaxis": "x",
         "y": [
          4.5
         ],
         "yaxis": "y"
        },
        {
         "hovertemplate": "color=Thai<br>x=%{x}<br>y=%{y}<extra></extra>",
         "legendgroup": "Thai",
         "marker": {
          "color": "#636efa",
          "symbol": "circle"
         },
         "mode": "markers",
         "name": "Thai",
         "orientation": "v",
         "showlegend": true,
         "type": "scatter",
         "x": [
          3
         ],
         "xaxis": "x",
         "y": [
          5
         ],
         "yaxis": "y"
        },
        {
         "hovertemplate": "color=Patisserie/Cake Shop<br>x=%{x}<br>y=%{y}<extra></extra>",
         "legendgroup": "Patisserie/Cake Shop",
         "marker": {
          "color": "#EF553B",
          "symbol": "circle"
         },
         "mode": "markers",
         "name": "Patisserie/Cake Shop",
         "orientation": "v",
         "showlegend": true,
         "type": "scatter",
         "x": [
          27
         ],
         "xaxis": "x",
         "y": [
          4.5
         ],
         "yaxis": "y"
        },
        {
         "hovertemplate": "color=Barbeque<br>x=%{x}<br>y=%{y}<extra></extra>",
         "legendgroup": "Barbeque",
         "marker": {
          "color": "#00cc96",
          "symbol": "circle"
         },
         "mode": "markers",
         "name": "Barbeque",
         "orientation": "v",
         "showlegend": true,
         "type": "scatter",
         "x": [
          7
         ],
         "xaxis": "x",
         "y": [
          4.5
         ],
         "yaxis": "y"
        },
        {
         "hovertemplate": "color=Seafood<br>x=%{x}<br>y=%{y}<extra></extra>",
         "legendgroup": "Seafood",
         "marker": {
          "color": "#ab63fa",
          "symbol": "circle"
         },
         "mode": "markers",
         "name": "Seafood",
         "orientation": "v",
         "showlegend": true,
         "type": "scatter",
         "x": [
          370
         ],
         "xaxis": "x",
         "y": [
          3.5
         ],
         "yaxis": "y"
        },
        {
         "hovertemplate": "color=Creperies<br>x=%{x}<br>y=%{y}<extra></extra>",
         "legendgroup": "Creperies",
         "marker": {
          "color": "#FFA15A",
          "symbol": "circle"
         },
         "mode": "markers",
         "name": "Creperies",
         "orientation": "v",
         "showlegend": true,
         "type": "scatter",
         "x": [
          52
         ],
         "xaxis": "x",
         "y": [
          4.5
         ],
         "yaxis": "y"
        },
        {
         "hovertemplate": "color=Pizza<br>x=%{x}<br>y=%{y}<extra></extra>",
         "legendgroup": "Pizza",
         "marker": {
          "color": "#19d3f3",
          "symbol": "circle"
         },
         "mode": "markers",
         "name": "Pizza",
         "orientation": "v",
         "showlegend": true,
         "type": "scatter",
         "x": [
          53
         ],
         "xaxis": "x",
         "y": [
          4.5
         ],
         "yaxis": "y"
        },
        {
         "hovertemplate": "color=Japanese<br>x=%{x}<br>y=%{y}<extra></extra>",
         "legendgroup": "Japanese",
         "marker": {
          "color": "#FF6692",
          "symbol": "circle"
         },
         "mode": "markers",
         "name": "Japanese",
         "orientation": "v",
         "showlegend": true,
         "type": "scatter",
         "x": [
          381
         ],
         "xaxis": "x",
         "y": [
          4.5
         ],
         "yaxis": "y"
        },
        {
         "hovertemplate": "color=Pan Asian<br>x=%{x}<br>y=%{y}<extra></extra>",
         "legendgroup": "Pan Asian",
         "marker": {
          "color": "#B6E880",
          "symbol": "circle"
         },
         "mode": "markers",
         "name": "Pan Asian",
         "orientation": "v",
         "showlegend": true,
         "type": "scatter",
         "x": [
          7
         ],
         "xaxis": "x",
         "y": [
          4.5
         ],
         "yaxis": "y"
        },
        {
         "hovertemplate": "color=Lounges<br>x=%{x}<br>y=%{y}<extra></extra>",
         "legendgroup": "Lounges",
         "marker": {
          "color": "#FF97FF",
          "symbol": "circle"
         },
         "mode": "markers",
         "name": "Lounges",
         "orientation": "v",
         "showlegend": true,
         "type": "scatter",
         "x": [
          314
         ],
         "xaxis": "x",
         "y": [
          4
         ],
         "yaxis": "y"
        },
        {
         "hovertemplate": "color=Bars<br>x=%{x}<br>y=%{y}<extra></extra>",
         "legendgroup": "Bars",
         "marker": {
          "color": "#FECB52",
          "symbol": "circle"
         },
         "mode": "markers",
         "name": "Bars",
         "orientation": "v",
         "showlegend": true,
         "type": "scatter",
         "x": [
          115
         ],
         "xaxis": "x",
         "y": [
          4
         ],
         "yaxis": "y"
        },
        {
         "hovertemplate": "color=Chinese<br>x=%{x}<br>y=%{y}<extra></extra>",
         "legendgroup": "Chinese",
         "marker": {
          "color": "#636efa",
          "symbol": "circle"
         },
         "mode": "markers",
         "name": "Chinese",
         "orientation": "v",
         "showlegend": true,
         "type": "scatter",
         "x": [
          63
         ],
         "xaxis": "x",
         "y": [
          4.5
         ],
         "yaxis": "y"
        },
        {
         "hovertemplate": "color=Pubs<br>x=%{x}<br>y=%{y}<extra></extra>",
         "legendgroup": "Pubs",
         "marker": {
          "color": "#EF553B",
          "symbol": "circle"
         },
         "mode": "markers",
         "name": "Pubs",
         "orientation": "v",
         "showlegend": true,
         "type": "scatter",
         "x": [
          2
         ],
         "xaxis": "x",
         "y": [
          4.5
         ],
         "yaxis": "y"
        }
       ],
       "layout": {
        "autosize": true,
        "legend": {
         "title": {
          "text": "color"
         },
         "tracegroupgap": 0
        },
        "margin": {
         "t": 60
        },
        "template": {
         "data": {
          "bar": [
           {
            "error_x": {
             "color": "#2a3f5f"
            },
            "error_y": {
             "color": "#2a3f5f"
            },
            "marker": {
             "line": {
              "color": "#E5ECF6",
              "width": 0.5
             },
             "pattern": {
              "fillmode": "overlay",
              "size": 10,
              "solidity": 0.2
             }
            },
            "type": "bar"
           }
          ],
          "barpolar": [
           {
            "marker": {
             "line": {
              "color": "#E5ECF6",
              "width": 0.5
             },
             "pattern": {
              "fillmode": "overlay",
              "size": 10,
              "solidity": 0.2
             }
            },
            "type": "barpolar"
           }
          ],
          "carpet": [
           {
            "aaxis": {
             "endlinecolor": "#2a3f5f",
             "gridcolor": "white",
             "linecolor": "white",
             "minorgridcolor": "white",
             "startlinecolor": "#2a3f5f"
            },
            "baxis": {
             "endlinecolor": "#2a3f5f",
             "gridcolor": "white",
             "linecolor": "white",
             "minorgridcolor": "white",
             "startlinecolor": "#2a3f5f"
            },
            "type": "carpet"
           }
          ],
          "choropleth": [
           {
            "colorbar": {
             "outlinewidth": 0,
             "ticks": ""
            },
            "type": "choropleth"
           }
          ],
          "contour": [
           {
            "colorbar": {
             "outlinewidth": 0,
             "ticks": ""
            },
            "colorscale": [
             [
              0,
              "#0d0887"
             ],
             [
              0.1111111111111111,
              "#46039f"
             ],
             [
              0.2222222222222222,
              "#7201a8"
             ],
             [
              0.3333333333333333,
              "#9c179e"
             ],
             [
              0.4444444444444444,
              "#bd3786"
             ],
             [
              0.5555555555555556,
              "#d8576b"
             ],
             [
              0.6666666666666666,
              "#ed7953"
             ],
             [
              0.7777777777777778,
              "#fb9f3a"
             ],
             [
              0.8888888888888888,
              "#fdca26"
             ],
             [
              1,
              "#f0f921"
             ]
            ],
            "type": "contour"
           }
          ],
          "contourcarpet": [
           {
            "colorbar": {
             "outlinewidth": 0,
             "ticks": ""
            },
            "type": "contourcarpet"
           }
          ],
          "heatmap": [
           {
            "colorbar": {
             "outlinewidth": 0,
             "ticks": ""
            },
            "colorscale": [
             [
              0,
              "#0d0887"
             ],
             [
              0.1111111111111111,
              "#46039f"
             ],
             [
              0.2222222222222222,
              "#7201a8"
             ],
             [
              0.3333333333333333,
              "#9c179e"
             ],
             [
              0.4444444444444444,
              "#bd3786"
             ],
             [
              0.5555555555555556,
              "#d8576b"
             ],
             [
              0.6666666666666666,
              "#ed7953"
             ],
             [
              0.7777777777777778,
              "#fb9f3a"
             ],
             [
              0.8888888888888888,
              "#fdca26"
             ],
             [
              1,
              "#f0f921"
             ]
            ],
            "type": "heatmap"
           }
          ],
          "heatmapgl": [
           {
            "colorbar": {
             "outlinewidth": 0,
             "ticks": ""
            },
            "colorscale": [
             [
              0,
              "#0d0887"
             ],
             [
              0.1111111111111111,
              "#46039f"
             ],
             [
              0.2222222222222222,
              "#7201a8"
             ],
             [
              0.3333333333333333,
              "#9c179e"
             ],
             [
              0.4444444444444444,
              "#bd3786"
             ],
             [
              0.5555555555555556,
              "#d8576b"
             ],
             [
              0.6666666666666666,
              "#ed7953"
             ],
             [
              0.7777777777777778,
              "#fb9f3a"
             ],
             [
              0.8888888888888888,
              "#fdca26"
             ],
             [
              1,
              "#f0f921"
             ]
            ],
            "type": "heatmapgl"
           }
          ],
          "histogram": [
           {
            "marker": {
             "pattern": {
              "fillmode": "overlay",
              "size": 10,
              "solidity": 0.2
             }
            },
            "type": "histogram"
           }
          ],
          "histogram2d": [
           {
            "colorbar": {
             "outlinewidth": 0,
             "ticks": ""
            },
            "colorscale": [
             [
              0,
              "#0d0887"
             ],
             [
              0.1111111111111111,
              "#46039f"
             ],
             [
              0.2222222222222222,
              "#7201a8"
             ],
             [
              0.3333333333333333,
              "#9c179e"
             ],
             [
              0.4444444444444444,
              "#bd3786"
             ],
             [
              0.5555555555555556,
              "#d8576b"
             ],
             [
              0.6666666666666666,
              "#ed7953"
             ],
             [
              0.7777777777777778,
              "#fb9f3a"
             ],
             [
              0.8888888888888888,
              "#fdca26"
             ],
             [
              1,
              "#f0f921"
             ]
            ],
            "type": "histogram2d"
           }
          ],
          "histogram2dcontour": [
           {
            "colorbar": {
             "outlinewidth": 0,
             "ticks": ""
            },
            "colorscale": [
             [
              0,
              "#0d0887"
             ],
             [
              0.1111111111111111,
              "#46039f"
             ],
             [
              0.2222222222222222,
              "#7201a8"
             ],
             [
              0.3333333333333333,
              "#9c179e"
             ],
             [
              0.4444444444444444,
              "#bd3786"
             ],
             [
              0.5555555555555556,
              "#d8576b"
             ],
             [
              0.6666666666666666,
              "#ed7953"
             ],
             [
              0.7777777777777778,
              "#fb9f3a"
             ],
             [
              0.8888888888888888,
              "#fdca26"
             ],
             [
              1,
              "#f0f921"
             ]
            ],
            "type": "histogram2dcontour"
           }
          ],
          "mesh3d": [
           {
            "colorbar": {
             "outlinewidth": 0,
             "ticks": ""
            },
            "type": "mesh3d"
           }
          ],
          "parcoords": [
           {
            "line": {
             "colorbar": {
              "outlinewidth": 0,
              "ticks": ""
             }
            },
            "type": "parcoords"
           }
          ],
          "pie": [
           {
            "automargin": true,
            "type": "pie"
           }
          ],
          "scatter": [
           {
            "fillpattern": {
             "fillmode": "overlay",
             "size": 10,
             "solidity": 0.2
            },
            "type": "scatter"
           }
          ],
          "scatter3d": [
           {
            "line": {
             "colorbar": {
              "outlinewidth": 0,
              "ticks": ""
             }
            },
            "marker": {
             "colorbar": {
              "outlinewidth": 0,
              "ticks": ""
             }
            },
            "type": "scatter3d"
           }
          ],
          "scattercarpet": [
           {
            "marker": {
             "colorbar": {
              "outlinewidth": 0,
              "ticks": ""
             }
            },
            "type": "scattercarpet"
           }
          ],
          "scattergeo": [
           {
            "marker": {
             "colorbar": {
              "outlinewidth": 0,
              "ticks": ""
             }
            },
            "type": "scattergeo"
           }
          ],
          "scattergl": [
           {
            "marker": {
             "colorbar": {
              "outlinewidth": 0,
              "ticks": ""
             }
            },
            "type": "scattergl"
           }
          ],
          "scattermapbox": [
           {
            "marker": {
             "colorbar": {
              "outlinewidth": 0,
              "ticks": ""
             }
            },
            "type": "scattermapbox"
           }
          ],
          "scatterpolar": [
           {
            "marker": {
             "colorbar": {
              "outlinewidth": 0,
              "ticks": ""
             }
            },
            "type": "scatterpolar"
           }
          ],
          "scatterpolargl": [
           {
            "marker": {
             "colorbar": {
              "outlinewidth": 0,
              "ticks": ""
             }
            },
            "type": "scatterpolargl"
           }
          ],
          "scatterternary": [
           {
            "marker": {
             "colorbar": {
              "outlinewidth": 0,
              "ticks": ""
             }
            },
            "type": "scatterternary"
           }
          ],
          "surface": [
           {
            "colorbar": {
             "outlinewidth": 0,
             "ticks": ""
            },
            "colorscale": [
             [
              0,
              "#0d0887"
             ],
             [
              0.1111111111111111,
              "#46039f"
             ],
             [
              0.2222222222222222,
              "#7201a8"
             ],
             [
              0.3333333333333333,
              "#9c179e"
             ],
             [
              0.4444444444444444,
              "#bd3786"
             ],
             [
              0.5555555555555556,
              "#d8576b"
             ],
             [
              0.6666666666666666,
              "#ed7953"
             ],
             [
              0.7777777777777778,
              "#fb9f3a"
             ],
             [
              0.8888888888888888,
              "#fdca26"
             ],
             [
              1,
              "#f0f921"
             ]
            ],
            "type": "surface"
           }
          ],
          "table": [
           {
            "cells": {
             "fill": {
              "color": "#EBF0F8"
             },
             "line": {
              "color": "white"
             }
            },
            "header": {
             "fill": {
              "color": "#C8D4E3"
             },
             "line": {
              "color": "white"
             }
            },
            "type": "table"
           }
          ]
         },
         "layout": {
          "annotationdefaults": {
           "arrowcolor": "#2a3f5f",
           "arrowhead": 0,
           "arrowwidth": 1
          },
          "autotypenumbers": "strict",
          "coloraxis": {
           "colorbar": {
            "outlinewidth": 0,
            "ticks": ""
           }
          },
          "colorscale": {
           "diverging": [
            [
             0,
             "#8e0152"
            ],
            [
             0.1,
             "#c51b7d"
            ],
            [
             0.2,
             "#de77ae"
            ],
            [
             0.3,
             "#f1b6da"
            ],
            [
             0.4,
             "#fde0ef"
            ],
            [
             0.5,
             "#f7f7f7"
            ],
            [
             0.6,
             "#e6f5d0"
            ],
            [
             0.7,
             "#b8e186"
            ],
            [
             0.8,
             "#7fbc41"
            ],
            [
             0.9,
             "#4d9221"
            ],
            [
             1,
             "#276419"
            ]
           ],
           "sequential": [
            [
             0,
             "#0d0887"
            ],
            [
             0.1111111111111111,
             "#46039f"
            ],
            [
             0.2222222222222222,
             "#7201a8"
            ],
            [
             0.3333333333333333,
             "#9c179e"
            ],
            [
             0.4444444444444444,
             "#bd3786"
            ],
            [
             0.5555555555555556,
             "#d8576b"
            ],
            [
             0.6666666666666666,
             "#ed7953"
            ],
            [
             0.7777777777777778,
             "#fb9f3a"
            ],
            [
             0.8888888888888888,
             "#fdca26"
            ],
            [
             1,
             "#f0f921"
            ]
           ],
           "sequentialminus": [
            [
             0,
             "#0d0887"
            ],
            [
             0.1111111111111111,
             "#46039f"
            ],
            [
             0.2222222222222222,
             "#7201a8"
            ],
            [
             0.3333333333333333,
             "#9c179e"
            ],
            [
             0.4444444444444444,
             "#bd3786"
            ],
            [
             0.5555555555555556,
             "#d8576b"
            ],
            [
             0.6666666666666666,
             "#ed7953"
            ],
            [
             0.7777777777777778,
             "#fb9f3a"
            ],
            [
             0.8888888888888888,
             "#fdca26"
            ],
            [
             1,
             "#f0f921"
            ]
           ]
          },
          "colorway": [
           "#636efa",
           "#EF553B",
           "#00cc96",
           "#ab63fa",
           "#FFA15A",
           "#19d3f3",
           "#FF6692",
           "#B6E880",
           "#FF97FF",
           "#FECB52"
          ],
          "font": {
           "color": "#2a3f5f"
          },
          "geo": {
           "bgcolor": "white",
           "lakecolor": "white",
           "landcolor": "#E5ECF6",
           "showlakes": true,
           "showland": true,
           "subunitcolor": "white"
          },
          "hoverlabel": {
           "align": "left"
          },
          "hovermode": "closest",
          "mapbox": {
           "style": "light"
          },
          "paper_bgcolor": "white",
          "plot_bgcolor": "#E5ECF6",
          "polar": {
           "angularaxis": {
            "gridcolor": "white",
            "linecolor": "white",
            "ticks": ""
           },
           "bgcolor": "#E5ECF6",
           "radialaxis": {
            "gridcolor": "white",
            "linecolor": "white",
            "ticks": ""
           }
          },
          "scene": {
           "xaxis": {
            "backgroundcolor": "#E5ECF6",
            "gridcolor": "white",
            "gridwidth": 2,
            "linecolor": "white",
            "showbackground": true,
            "ticks": "",
            "zerolinecolor": "white"
           },
           "yaxis": {
            "backgroundcolor": "#E5ECF6",
            "gridcolor": "white",
            "gridwidth": 2,
            "linecolor": "white",
            "showbackground": true,
            "ticks": "",
            "zerolinecolor": "white"
           },
           "zaxis": {
            "backgroundcolor": "#E5ECF6",
            "gridcolor": "white",
            "gridwidth": 2,
            "linecolor": "white",
            "showbackground": true,
            "ticks": "",
            "zerolinecolor": "white"
           }
          },
          "shapedefaults": {
           "line": {
            "color": "#2a3f5f"
           }
          },
          "ternary": {
           "aaxis": {
            "gridcolor": "white",
            "linecolor": "white",
            "ticks": ""
           },
           "baxis": {
            "gridcolor": "white",
            "linecolor": "white",
            "ticks": ""
           },
           "bgcolor": "#E5ECF6",
           "caxis": {
            "gridcolor": "white",
            "linecolor": "white",
            "ticks": ""
           }
          },
          "title": {
           "x": 0.05
          },
          "xaxis": {
           "automargin": true,
           "gridcolor": "white",
           "linecolor": "white",
           "ticks": "",
           "title": {
            "standoff": 15
           },
           "zerolinecolor": "white",
           "zerolinewidth": 2
          },
          "yaxis": {
           "automargin": true,
           "gridcolor": "white",
           "linecolor": "white",
           "ticks": "",
           "title": {
            "standoff": 15
           },
           "zerolinecolor": "white",
           "zerolinewidth": 2
          }
         }
        },
        "xaxis": {
         "anchor": "y",
         "autorange": true,
         "domain": [
          0,
          1
         ],
         "range": [
          -85.9680222453945,
          1345.9680222453944
         ],
         "title": {
          "text": "x"
         },
         "type": "linear"
        },
        "yaxis": {
         "anchor": "x",
         "autorange": true,
         "domain": [
          0,
          1
         ],
         "range": [
          3.3838582677165356,
          5.116141732283465
         ],
         "title": {
          "text": "y"
         },
         "type": "linear"
        }
       }
      },
      "image/png": "[encoded data removed]",
      "text/html": [
       "<div>                            <div id=\"4d405133-47cc-4950-aee7-f512fe012d43\" class=\"plotly-graph-div\" style=\"height:525px; width:100%;\"></div>            <script type=\"text/javascript\">                require([\"plotly\"], function(Plotly) {                    window.PLOTLYENV=window.PLOTLYENV || {};                                    if (document.getElementById(\"4d405133-47cc-4950-aee7-f512fe012d43\")) {                    Plotly.newPlot(                        \"4d405133-47cc-4950-aee7-f512fe012d43\",                        [{\"hovertemplate\":\"color=French\\u003cbr\\u003ex=%{x}\\u003cbr\\u003ey=%{y}\\u003cextra\\u003e\\u003c\\u002fextra\\u003e\",\"legendgroup\":\"French\",\"marker\":{\"color\":\"#636efa\",\"symbol\":\"circle\"},\"mode\":\"markers\",\"name\":\"French\",\"orientation\":\"v\",\"showlegend\":true,\"x\":[1258,57,101,60,26,116,9,61,66,273,115,253,8,234,13,88,7,34,34,165,25,21,220,202],\"xaxis\":\"x\",\"y\":[4.5,4.5,4.5,4.0,4.0,4.0,5.0,4.5,4.5,4.0,4.0,4.0,5.0,4.5,4.0,4.5,4.0,4.5,4.0,4.0,4.5,4.0,4.5,4.0],\"yaxis\":\"y\",\"type\":\"scatter\"},{\"hovertemplate\":\"color=Bistros\\u003cbr\\u003ex=%{x}\\u003cbr\\u003ey=%{y}\\u003cextra\\u003e\\u003c\\u002fextra\\u003e\",\"legendgroup\":\"Bistros\",\"marker\":{\"color\":\"#EF553B\",\"symbol\":\"circle\"},\"mode\":\"markers\",\"name\":\"Bistros\",\"orientation\":\"v\",\"showlegend\":true,\"x\":[476,2],\"xaxis\":\"x\",\"y\":[4.5,5.0],\"yaxis\":\"y\",\"type\":\"scatter\"},{\"hovertemplate\":\"color=Italian\\u003cbr\\u003ex=%{x}\\u003cbr\\u003ey=%{y}\\u003cextra\\u003e\\u003c\\u002fextra\\u003e\",\"legendgroup\":\"Italian\",\"marker\":{\"color\":\"#00cc96\",\"symbol\":\"circle\"},\"mode\":\"markers\",\"name\":\"Italian\",\"orientation\":\"v\",\"showlegend\":true,\"x\":[41,52],\"xaxis\":\"x\",\"y\":[4.5,4.5],\"yaxis\":\"y\",\"type\":\"scatter\"},{\"hovertemplate\":\"color=Tea Rooms\\u003cbr\\u003ex=%{x}\\u003cbr\\u003ey=%{y}\\u003cextra\\u003e\\u003c\\u002fextra\\u003e\",\"legendgroup\":\"Tea Rooms\",\"marker\":{\"color\":\"#ab63fa\",\"symbol\":\"circle\"},\"mode\":\"markers\",\"name\":\"Tea Rooms\",\"orientation\":\"v\",\"showlegend\":true,\"x\":[67],\"xaxis\":\"x\",\"y\":[4.5],\"yaxis\":\"y\",\"type\":\"scatter\"},{\"hovertemplate\":\"color=Restaurants\\u003cbr\\u003ex=%{x}\\u003cbr\\u003ey=%{y}\\u003cextra\\u003e\\u003c\\u002fextra\\u003e\",\"legendgroup\":\"Restaurants\",\"marker\":{\"color\":\"#FFA15A\",\"symbol\":\"circle\"},\"mode\":\"markers\",\"name\":\"Restaurants\",\"orientation\":\"v\",\"showlegend\":true,\"x\":[8],\"xaxis\":\"x\",\"y\":[4.0],\"yaxis\":\"y\",\"type\":\"scatter\"},{\"hovertemplate\":\"color=Cafes\\u003cbr\\u003ex=%{x}\\u003cbr\\u003ey=%{y}\\u003cextra\\u003e\\u003c\\u002fextra\\u003e\",\"legendgroup\":\"Cafes\",\"marker\":{\"color\":\"#19d3f3\",\"symbol\":\"circle\"},\"mode\":\"markers\",\"name\":\"Cafes\",\"orientation\":\"v\",\"showlegend\":true,\"x\":[232,65,49],\"xaxis\":\"x\",\"y\":[4.5,4.5,4.0],\"yaxis\":\"y\",\"type\":\"scatter\"},{\"hovertemplate\":\"color=Breakfast & Brunch\\u003cbr\\u003ex=%{x}\\u003cbr\\u003ey=%{y}\\u003cextra\\u003e\\u003c\\u002fextra\\u003e\",\"legendgroup\":\"Breakfast & Brunch\",\"marker\":{\"color\":\"#FF6692\",\"symbol\":\"circle\"},\"mode\":\"markers\",\"name\":\"Breakfast & Brunch\",\"orientation\":\"v\",\"showlegend\":true,\"x\":[248],\"xaxis\":\"x\",\"y\":[4.5],\"yaxis\":\"y\",\"type\":\"scatter\"},{\"hovertemplate\":\"color=Brasseries\\u003cbr\\u003ex=%{x}\\u003cbr\\u003ey=%{y}\\u003cextra\\u003e\\u003c\\u002fextra\\u003e\",\"legendgroup\":\"Brasseries\",\"marker\":{\"color\":\"#B6E880\",\"symbol\":\"circle\"},\"mode\":\"markers\",\"name\":\"Brasseries\",\"orientation\":\"v\",\"showlegend\":true,\"x\":[18,75],\"xaxis\":\"x\",\"y\":[4.5,4.0],\"yaxis\":\"y\",\"type\":\"scatter\"},{\"hovertemplate\":\"color=Steakhouses\\u003cbr\\u003ex=%{x}\\u003cbr\\u003ey=%{y}\\u003cextra\\u003e\\u003c\\u002fextra\\u003e\",\"legendgroup\":\"Steakhouses\",\"marker\":{\"color\":\"#FF97FF\",\"symbol\":\"circle\"},\"mode\":\"markers\",\"name\":\"Steakhouses\",\"orientation\":\"v\",\"showlegend\":true,\"x\":[191],\"xaxis\":\"x\",\"y\":[4.0],\"yaxis\":\"y\",\"type\":\"scatter\"},{\"hovertemplate\":\"color=Wine Bars\\u003cbr\\u003ex=%{x}\\u003cbr\\u003ey=%{y}\\u003cextra\\u003e\\u003c\\u002fextra\\u003e\",\"legendgroup\":\"Wine Bars\",\"marker\":{\"color\":\"#FECB52\",\"symbol\":\"circle\"},\"mode\":\"markers\",\"name\":\"Wine Bars\",\"orientation\":\"v\",\"showlegend\":true,\"x\":[162],\"xaxis\":\"x\",\"y\":[4.5],\"yaxis\":\"y\",\"type\":\"scatter\"},{\"hovertemplate\":\"color=Thai\\u003cbr\\u003ex=%{x}\\u003cbr\\u003ey=%{y}\\u003cextra\\u003e\\u003c\\u002fextra\\u003e\",\"legendgroup\":\"Thai\",\"marker\":{\"color\":\"#636efa\",\"symbol\":\"circle\"},\"mode\":\"markers\",\"name\":\"Thai\",\"orientation\":\"v\",\"showlegend\":true,\"x\":[3],\"xaxis\":\"x\",\"y\":[5.0],\"yaxis\":\"y\",\"type\":\"scatter\"},{\"hovertemplate\":\"color=Patisserie\\u002fCake Shop\\u003cbr\\u003ex=%{x}\\u003cbr\\u003ey=%{y}\\u003cextra\\u003e\\u003c\\u002fextra\\u003e\",\"legendgroup\":\"Patisserie\\u002fCake Shop\",\"marker\":{\"color\":\"#EF553B\",\"symbol\":\"circle\"},\"mode\":\"markers\",\"name\":\"Patisserie\\u002fCake Shop\",\"orientation\":\"v\",\"showlegend\":true,\"x\":[27],\"xaxis\":\"x\",\"y\":[4.5],\"yaxis\":\"y\",\"type\":\"scatter\"},{\"hovertemplate\":\"color=Barbeque\\u003cbr\\u003ex=%{x}\\u003cbr\\u003ey=%{y}\\u003cextra\\u003e\\u003c\\u002fextra\\u003e\",\"legendgroup\":\"Barbeque\",\"marker\":{\"color\":\"#00cc96\",\"symbol\":\"circle\"},\"mode\":\"markers\",\"name\":\"Barbeque\",\"orientation\":\"v\",\"showlegend\":true,\"x\":[7],\"xaxis\":\"x\",\"y\":[4.5],\"yaxis\":\"y\",\"type\":\"scatter\"},{\"hovertemplate\":\"color=Seafood\\u003cbr\\u003ex=%{x}\\u003cbr\\u003ey=%{y}\\u003cextra\\u003e\\u003c\\u002fextra\\u003e\",\"legendgroup\":\"Seafood\",\"marker\":{\"color\":\"#ab63fa\",\"symbol\":\"circle\"},\"mode\":\"markers\",\"name\":\"Seafood\",\"orientation\":\"v\",\"showlegend\":true,\"x\":[370],\"xaxis\":\"x\",\"y\":[3.5],\"yaxis\":\"y\",\"type\":\"scatter\"},{\"hovertemplate\":\"color=Creperies\\u003cbr\\u003ex=%{x}\\u003cbr\\u003ey=%{y}\\u003cextra\\u003e\\u003c\\u002fextra\\u003e\",\"legendgroup\":\"Creperies\",\"marker\":{\"color\":\"#FFA15A\",\"symbol\":\"circle\"},\"mode\":\"markers\",\"name\":\"Creperies\",\"orientation\":\"v\",\"showlegend\":true,\"x\":[52],\"xaxis\":\"x\",\"y\":[4.5],\"yaxis\":\"y\",\"type\":\"scatter\"},{\"hovertemplate\":\"color=Pizza\\u003cbr\\u003ex=%{x}\\u003cbr\\u003ey=%{y}\\u003cextra\\u003e\\u003c\\u002fextra\\u003e\",\"legendgroup\":\"Pizza\",\"marker\":{\"color\":\"#19d3f3\",\"symbol\":\"circle\"},\"mode\":\"markers\",\"name\":\"Pizza\",\"orientation\":\"v\",\"showlegend\":true,\"x\":[53],\"xaxis\":\"x\",\"y\":[4.5],\"yaxis\":\"y\",\"type\":\"scatter\"},{\"hovertemplate\":\"color=Japanese\\u003cbr\\u003ex=%{x}\\u003cbr\\u003ey=%{y}\\u003cextra\\u003e\\u003c\\u002fextra\\u003e\",\"legendgroup\":\"Japanese\",\"marker\":{\"color\":\"#FF6692\",\"symbol\":\"circle\"},\"mode\":\"markers\",\"name\":\"Japanese\",\"orientation\":\"v\",\"showlegend\":true,\"x\":[381],\"xaxis\":\"x\",\"y\":[4.5],\"yaxis\":\"y\",\"type\":\"scatter\"},{\"hovertemplate\":\"color=Pan Asian\\u003cbr\\u003ex=%{x}\\u003cbr\\u003ey=%{y}\\u003cextra\\u003e\\u003c\\u002fextra\\u003e\",\"legendgroup\":\"Pan Asian\",\"marker\":{\"color\":\"#B6E880\",\"symbol\":\"circle\"},\"mode\":\"markers\",\"name\":\"Pan Asian\",\"orientation\":\"v\",\"showlegend\":true,\"x\":[7],\"xaxis\":\"x\",\"y\":[4.5],\"yaxis\":\"y\",\"type\":\"scatter\"},{\"hovertemplate\":\"color=Lounges\\u003cbr\\u003ex=%{x}\\u003cbr\\u003ey=%{y}\\u003cextra\\u003e\\u003c\\u002fextra\\u003e\",\"legendgroup\":\"Lounges\",\"marker\":{\"color\":\"#FF97FF\",\"symbol\":\"circle\"},\"mode\":\"markers\",\"name\":\"Lounges\",\"orientation\":\"v\",\"showlegend\":true,\"x\":[314],\"xaxis\":\"x\",\"y\":[4.0],\"yaxis\":\"y\",\"type\":\"scatter\"},{\"hovertemplate\":\"color=Bars\\u003cbr\\u003ex=%{x}\\u003cbr\\u003ey=%{y}\\u003cextra\\u003e\\u003c\\u002fextra\\u003e\",\"legendgroup\":\"Bars\",\"marker\":{\"color\":\"#FECB52\",\"symbol\":\"circle\"},\"mode\":\"markers\",\"name\":\"Bars\",\"orientation\":\"v\",\"showlegend\":true,\"x\":[115],\"xaxis\":\"x\",\"y\":[4.0],\"yaxis\":\"y\",\"type\":\"scatter\"},{\"hovertemplate\":\"color=Chinese\\u003cbr\\u003ex=%{x}\\u003cbr\\u003ey=%{y}\\u003cextra\\u003e\\u003c\\u002fextra\\u003e\",\"legendgroup\":\"Chinese\",\"marker\":{\"color\":\"#636efa\",\"symbol\":\"circle\"},\"mode\":\"markers\",\"name\":\"Chinese\",\"orientation\":\"v\",\"showlegend\":true,\"x\":[63],\"xaxis\":\"x\",\"y\":[4.5],\"yaxis\":\"y\",\"type\":\"scatter\"},{\"hovertemplate\":\"color=Pubs\\u003cbr\\u003ex=%{x}\\u003cbr\\u003ey=%{y}\\u003cextra\\u003e\\u003c\\u002fextra\\u003e\",\"legendgroup\":\"Pubs\",\"marker\":{\"color\":\"#EF553B\",\"symbol\":\"circle\"},\"mode\":\"markers\",\"name\":\"Pubs\",\"orientation\":\"v\",\"showlegend\":true,\"x\":[2],\"xaxis\":\"x\",\"y\":[4.5],\"yaxis\":\"y\",\"type\":\"scatter\"}],                        {\"template\":{\"data\":{\"histogram2dcontour\":[{\"type\":\"histogram2dcontour\",\"colorbar\":{\"outlinewidth\":0,\"ticks\":\"\"},\"colorscale\":[[0.0,\"#0d0887\"],[0.1111111111111111,\"#46039f\"],[0.2222222222222222,\"#7201a8\"],[0.3333333333333333,\"#9c179e\"],[0.4444444444444444,\"#bd3786\"],[0.5555555555555556,\"#d8576b\"],[0.6666666666666666,\"#ed7953\"],[0.7777777777777778,\"#fb9f3a\"],[0.8888888888888888,\"#fdca26\"],[1.0,\"#f0f921\"]]}],\"choropleth\":[{\"type\":\"choropleth\",\"colorbar\":{\"outlinewidth\":0,\"ticks\":\"\"}}],\"histogram2d\":[{\"type\":\"histogram2d\",\"colorbar\":{\"outlinewidth\":0,\"ticks\":\"\"},\"colorscale\":[[0.0,\"#0d0887\"],[0.1111111111111111,\"#46039f\"],[0.2222222222222222,\"#7201a8\"],[0.3333333333333333,\"#9c179e\"],[0.4444444444444444,\"#bd3786\"],[0.5555555555555556,\"#d8576b\"],[0.6666666666666666,\"#ed7953\"],[0.7777777777777778,\"#fb9f3a\"],[0.8888888888888888,\"#fdca26\"],[1.0,\"#f0f921\"]]}],\"heatmap\":[{\"type\":\"heatmap\",\"colorbar\":{\"outlinewidth\":0,\"ticks\":\"\"},\"colorscale\":[[0.0,\"#0d0887\"],[0.1111111111111111,\"#46039f\"],[0.2222222222222222,\"#7201a8\"],[0.3333333333333333,\"#9c179e\"],[0.4444444444444444,\"#bd3786\"],[0.5555555555555556,\"#d8576b\"],[0.6666666666666666,\"#ed7953\"],[0.7777777777777778,\"#fb9f3a\"],[0.8888888888888888,\"#fdca26\"],[1.0,\"#f0f921\"]]}],\"heatmapgl\":[{\"type\":\"heatmapgl\",\"colorbar\":{\"outlinewidth\":0,\"ticks\":\"\"},\"colorscale\":[[0.0,\"#0d0887\"],[0.1111111111111111,\"#46039f\"],[0.2222222222222222,\"#7201a8\"],[0.3333333333333333,\"#9c179e\"],[0.4444444444444444,\"#bd3786\"],[0.5555555555555556,\"#d8576b\"],[0.6666666666666666,\"#ed7953\"],[0.7777777777777778,\"#fb9f3a\"],[0.8888888888888888,\"#fdca26\"],[1.0,\"#f0f921\"]]}],\"contourcarpet\":[{\"type\":\"contourcarpet\",\"colorbar\":{\"outlinewidth\":0,\"ticks\":\"\"}}],\"contour\":[{\"type\":\"contour\",\"colorbar\":{\"outlinewidth\":0,\"ticks\":\"\"},\"colorscale\":[[0.0,\"#0d0887\"],[0.1111111111111111,\"#46039f\"],[0.2222222222222222,\"#7201a8\"],[0.3333333333333333,\"#9c179e\"],[0.4444444444444444,\"#bd3786\"],[0.5555555555555556,\"#d8576b\"],[0.6666666666666666,\"#ed7953\"],[0.7777777777777778,\"#fb9f3a\"],[0.8888888888888888,\"#fdca26\"],[1.0,\"#f0f921\"]]}],\"surface\":[{\"type\":\"surface\",\"colorbar\":{\"outlinewidth\":0,\"ticks\":\"\"},\"colorscale\":[[0.0,\"#0d0887\"],[0.1111111111111111,\"#46039f\"],[0.2222222222222222,\"#7201a8\"],[0.3333333333333333,\"#9c179e\"],[0.4444444444444444,\"#bd3786\"],[0.5555555555555556,\"#d8576b\"],[0.6666666666666666,\"#ed7953\"],[0.7777777777777778,\"#fb9f3a\"],[0.8888888888888888,\"#fdca26\"],[1.0,\"#f0f921\"]]}],\"mesh3d\":[{\"type\":\"mesh3d\",\"colorbar\":{\"outlinewidth\":0,\"ticks\":\"\"}}],\"scatter\":[{\"fillpattern\":{\"fillmode\":\"overlay\",\"size\":10,\"solidity\":0.2},\"type\":\"scatter\"}],\"parcoords\":[{\"type\":\"parcoords\",\"line\":{\"colorbar\":{\"outlinewidth\":0,\"ticks\":\"\"}}}],\"scatterpolargl\":[{\"type\":\"scatterpolargl\",\"marker\":{\"colorbar\":{\"outlinewidth\":0,\"ticks\":\"\"}}}],\"bar\":[{\"error_x\":{\"color\":\"#2a3f5f\"},\"error_y\":{\"color\":\"#2a3f5f\"},\"marker\":{\"line\":{\"color\":\"#E5ECF6\",\"width\":0.5},\"pattern\":{\"fillmode\":\"overlay\",\"size\":10,\"solidity\":0.2}},\"type\":\"bar\"}],\"scattergeo\":[{\"type\":\"scattergeo\",\"marker\":{\"colorbar\":{\"outlinewidth\":0,\"ticks\":\"\"}}}],\"scatterpolar\":[{\"type\":\"scatterpolar\",\"marker\":{\"colorbar\":{\"outlinewidth\":0,\"ticks\":\"\"}}}],\"histogram\":[{\"marker\":{\"pattern\":{\"fillmode\":\"overlay\",\"size\":10,\"solidity\":0.2}},\"type\":\"histogram\"}],\"scattergl\":[{\"type\":\"scattergl\",\"marker\":{\"colorbar\":{\"outlinewidth\":0,\"ticks\":\"\"}}}],\"scatter3d\":[{\"type\":\"scatter3d\",\"line\":{\"colorbar\":{\"outlinewidth\":0,\"ticks\":\"\"}},\"marker\":{\"colorbar\":{\"outlinewidth\":0,\"ticks\":\"\"}}}],\"scattermapbox\":[{\"type\":\"scattermapbox\",\"marker\":{\"colorbar\":{\"outlinewidth\":0,\"ticks\":\"\"}}}],\"scatterternary\":[{\"type\":\"scatterternary\",\"marker\":{\"colorbar\":{\"outlinewidth\":0,\"ticks\":\"\"}}}],\"scattercarpet\":[{\"type\":\"scattercarpet\",\"marker\":{\"colorbar\":{\"outlinewidth\":0,\"ticks\":\"\"}}}],\"carpet\":[{\"aaxis\":{\"endlinecolor\":\"#2a3f5f\",\"gridcolor\":\"white\",\"linecolor\":\"white\",\"minorgridcolor\":\"white\",\"startlinecolor\":\"#2a3f5f\"},\"baxis\":{\"endlinecolor\":\"#2a3f5f\",\"gridcolor\":\"white\",\"linecolor\":\"white\",\"minorgridcolor\":\"white\",\"startlinecolor\":\"#2a3f5f\"},\"type\":\"carpet\"}],\"table\":[{\"cells\":{\"fill\":{\"color\":\"#EBF0F8\"},\"line\":{\"color\":\"white\"}},\"header\":{\"fill\":{\"color\":\"#C8D4E3\"},\"line\":{\"color\":\"white\"}},\"type\":\"table\"}],\"barpolar\":[{\"marker\":{\"line\":{\"color\":\"#E5ECF6\",\"width\":0.5},\"pattern\":{\"fillmode\":\"overlay\",\"size\":10,\"solidity\":0.2}},\"type\":\"barpolar\"}],\"pie\":[{\"automargin\":true,\"type\":\"pie\"}]},\"layout\":{\"autotypenumbers\":\"strict\",\"colorway\":[\"#636efa\",\"#EF553B\",\"#00cc96\",\"#ab63fa\",\"#FFA15A\",\"#19d3f3\",\"#FF6692\",\"#B6E880\",\"#FF97FF\",\"#FECB52\"],\"font\":{\"color\":\"#2a3f5f\"},\"hovermode\":\"closest\",\"hoverlabel\":{\"align\":\"left\"},\"paper_bgcolor\":\"white\",\"plot_bgcolor\":\"#E5ECF6\",\"polar\":{\"bgcolor\":\"#E5ECF6\",\"angularaxis\":{\"gridcolor\":\"white\",\"linecolor\":\"white\",\"ticks\":\"\"},\"radialaxis\":{\"gridcolor\":\"white\",\"linecolor\":\"white\",\"ticks\":\"\"}},\"ternary\":{\"bgcolor\":\"#E5ECF6\",\"aaxis\":{\"gridcolor\":\"white\",\"linecolor\":\"white\",\"ticks\":\"\"},\"baxis\":{\"gridcolor\":\"white\",\"linecolor\":\"white\",\"ticks\":\"\"},\"caxis\":{\"gridcolor\":\"white\",\"linecolor\":\"white\",\"ticks\":\"\"}},\"coloraxis\":{\"colorbar\":{\"outlinewidth\":0,\"ticks\":\"\"}},\"colorscale\":{\"sequential\":[[0.0,\"#0d0887\"],[0.1111111111111111,\"#46039f\"],[0.2222222222222222,\"#7201a8\"],[0.3333333333333333,\"#9c179e\"],[0.4444444444444444,\"#bd3786\"],[0.5555555555555556,\"#d8576b\"],[0.6666666666666666,\"#ed7953\"],[0.7777777777777778,\"#fb9f3a\"],[0.8888888888888888,\"#fdca26\"],[1.0,\"#f0f921\"]],\"sequentialminus\":[[0.0,\"#0d0887\"],[0.1111111111111111,\"#46039f\"],[0.2222222222222222,\"#7201a8\"],[0.3333333333333333,\"#9c179e\"],[0.4444444444444444,\"#bd3786\"],[0.5555555555555556,\"#d8576b\"],[0.6666666666666666,\"#ed7953\"],[0.7777777777777778,\"#fb9f3a\"],[0.8888888888888888,\"#fdca26\"],[1.0,\"#f0f921\"]],\"diverging\":[[0,\"#8e0152\"],[0.1,\"#c51b7d\"],[0.2,\"#de77ae\"],[0.3,\"#f1b6da\"],[0.4,\"#fde0ef\"],[0.5,\"#f7f7f7\"],[0.6,\"#e6f5d0\"],[0.7,\"#b8e186\"],[0.8,\"#7fbc41\"],[0.9,\"#4d9221\"],[1,\"#276419\"]]},\"xaxis\":{\"gridcolor\":\"white\",\"linecolor\":\"white\",\"ticks\":\"\",\"title\":{\"standoff\":15},\"zerolinecolor\":\"white\",\"automargin\":true,\"zerolinewidth\":2},\"yaxis\":{\"gridcolor\":\"white\",\"linecolor\":\"white\",\"ticks\":\"\",\"title\":{\"standoff\":15},\"zerolinecolor\":\"white\",\"automargin\":true,\"zerolinewidth\":2},\"scene\":{\"xaxis\":{\"backgroundcolor\":\"#E5ECF6\",\"gridcolor\":\"white\",\"linecolor\":\"white\",\"showbackground\":true,\"ticks\":\"\",\"zerolinecolor\":\"white\",\"gridwidth\":2},\"yaxis\":{\"backgroundcolor\":\"#E5ECF6\",\"gridcolor\":\"white\",\"linecolor\":\"white\",\"showbackground\":true,\"ticks\":\"\",\"zerolinecolor\":\"white\",\"gridwidth\":2},\"zaxis\":{\"backgroundcolor\":\"#E5ECF6\",\"gridcolor\":\"white\",\"linecolor\":\"white\",\"showbackground\":true,\"ticks\":\"\",\"zerolinecolor\":\"white\",\"gridwidth\":2}},\"shapedefaults\":{\"line\":{\"color\":\"#2a3f5f\"}},\"annotationdefaults\":{\"arrowcolor\":\"#2a3f5f\",\"arrowhead\":0,\"arrowwidth\":1},\"geo\":{\"bgcolor\":\"white\",\"landcolor\":\"#E5ECF6\",\"subunitcolor\":\"white\",\"showland\":true,\"showlakes\":true,\"lakecolor\":\"white\"},\"title\":{\"x\":0.05},\"mapbox\":{\"style\":\"light\"}}},\"xaxis\":{\"anchor\":\"y\",\"domain\":[0.0,1.0],\"title\":{\"text\":\"x\"}},\"yaxis\":{\"anchor\":\"x\",\"domain\":[0.0,1.0],\"title\":{\"text\":\"y\"}},\"legend\":{\"title\":{\"text\":\"color\"},\"tracegroupgap\":0},\"margin\":{\"t\":60}},                        {\"responsive\": true}                    ).then(function(){\n",
       "                            \n",
       "var gd = document.getElementById('4d405133-47cc-4950-aee7-f512fe012d43');\n",
       "var x = new MutationObserver(function (mutations, observer) {{\n",
       "        var display = window.getComputedStyle(gd).display;\n",
       "        if (!display || display === 'none') {{\n",
       "            console.log([gd, 'removed!']);\n",
       "            Plotly.purge(gd);\n",
       "            observer.disconnect();\n",
       "        }}\n",
       "}});\n",
       "\n",
       "// Listen for the removal of the full notebook cells\n",
       "var notebookContainer = gd.closest('#notebook-container');\n",
       "if (notebookContainer) {{\n",
       "    x.observe(notebookContainer, {childList: true});\n",
       "}}\n",
       "\n",
       "// Listen for the clearing of the current output cell\n",
       "var outputEl = gd.closest('.output');\n",
       "if (outputEl) {{\n",
       "    x.observe(outputEl, {childList: true});\n",
       "}}\n",
       "\n",
       "                        })                };                });            </script>        </div>"
      ]
     },
     "metadata": {},
     "output_type": "display_data"
    }
   ],
   "source": [
    "fig = px.scatter(x=business_df['review_count'],y=business_df['rating'], color=business_df['category'])\n",
    "fig.show()"
   ]
  },
  {
   "cell_type": "code",
   "execution_count": 815,
   "id": "cddea3d2-732c-42da-b4a1-72696a48fa0a",
   "metadata": {
    "collapsed": true,
    "jupyter": {
     "outputs_hidden": true,
     "source_hidden": true
    },
    "tags": []
   },
   "outputs": [
    {
     "data": {
      "application/vnd.plotly.v1+json": {
       "config": {
        "plotlyServerURL": "https://plot.ly"
       },
       "data": [
        {
         "alignmentgroup": "True",
         "hovertemplate": "category=French<br>rating=%{y}<extra></extra>",
         "legendgroup": "French",
         "marker": {
          "color": "#636efa",
          "pattern": {
           "shape": ""
          }
         },
         "name": "French",
         "offsetgroup": "French",
         "orientation": "v",
         "showlegend": true,
         "textposition": "auto",
         "type": "bar",
         "x": [
          4.5,
          4.5,
          4.5,
          4,
          4,
          4,
          5,
          4.5,
          4.5,
          4,
          4,
          4,
          5,
          4.5,
          4,
          4.5,
          4,
          4.5,
          4,
          4,
          4.5,
          4,
          4.5,
          4
         ],
         "xaxis": "x",
         "y": [
          4.5,
          4.5,
          4.5,
          4,
          4,
          4,
          5,
          4.5,
          4.5,
          4,
          4,
          4,
          5,
          4.5,
          4,
          4.5,
          4,
          4.5,
          4,
          4,
          4.5,
          4,
          4.5,
          4
         ],
         "yaxis": "y"
        },
        {
         "alignmentgroup": "True",
         "hovertemplate": "category=Bistros<br>rating=%{y}<extra></extra>",
         "legendgroup": "Bistros",
         "marker": {
          "color": "#EF553B",
          "pattern": {
           "shape": ""
          }
         },
         "name": "Bistros",
         "offsetgroup": "Bistros",
         "orientation": "v",
         "showlegend": true,
         "textposition": "auto",
         "type": "bar",
         "x": [
          4.5,
          5
         ],
         "xaxis": "x",
         "y": [
          4.5,
          5
         ],
         "yaxis": "y"
        },
        {
         "alignmentgroup": "True",
         "hovertemplate": "category=Italian<br>rating=%{y}<extra></extra>",
         "legendgroup": "Italian",
         "marker": {
          "color": "#00cc96",
          "pattern": {
           "shape": ""
          }
         },
         "name": "Italian",
         "offsetgroup": "Italian",
         "orientation": "v",
         "showlegend": true,
         "textposition": "auto",
         "type": "bar",
         "x": [
          4.5,
          4.5
         ],
         "xaxis": "x",
         "y": [
          4.5,
          4.5
         ],
         "yaxis": "y"
        },
        {
         "alignmentgroup": "True",
         "hovertemplate": "category=Tea Rooms<br>rating=%{y}<extra></extra>",
         "legendgroup": "Tea Rooms",
         "marker": {
          "color": "#ab63fa",
          "pattern": {
           "shape": ""
          }
         },
         "name": "Tea Rooms",
         "offsetgroup": "Tea Rooms",
         "orientation": "v",
         "showlegend": true,
         "textposition": "auto",
         "type": "bar",
         "x": [
          4.5
         ],
         "xaxis": "x",
         "y": [
          4.5
         ],
         "yaxis": "y"
        },
        {
         "alignmentgroup": "True",
         "hovertemplate": "category=Restaurants<br>rating=%{y}<extra></extra>",
         "legendgroup": "Restaurants",
         "marker": {
          "color": "#FFA15A",
          "pattern": {
           "shape": ""
          }
         },
         "name": "Restaurants",
         "offsetgroup": "Restaurants",
         "orientation": "v",
         "showlegend": true,
         "textposition": "auto",
         "type": "bar",
         "x": [
          4
         ],
         "xaxis": "x",
         "y": [
          4
         ],
         "yaxis": "y"
        },
        {
         "alignmentgroup": "True",
         "hovertemplate": "category=Cafes<br>rating=%{y}<extra></extra>",
         "legendgroup": "Cafes",
         "marker": {
          "color": "#19d3f3",
          "pattern": {
           "shape": ""
          }
         },
         "name": "Cafes",
         "offsetgroup": "Cafes",
         "orientation": "v",
         "showlegend": true,
         "textposition": "auto",
         "type": "bar",
         "x": [
          4.5,
          4.5,
          4
         ],
         "xaxis": "x",
         "y": [
          4.5,
          4.5,
          4
         ],
         "yaxis": "y"
        },
        {
         "alignmentgroup": "True",
         "hovertemplate": "category=Breakfast & Brunch<br>rating=%{y}<extra></extra>",
         "legendgroup": "Breakfast & Brunch",
         "marker": {
          "color": "#FF6692",
          "pattern": {
           "shape": ""
          }
         },
         "name": "Breakfast & Brunch",
         "offsetgroup": "Breakfast & Brunch",
         "orientation": "v",
         "showlegend": true,
         "textposition": "auto",
         "type": "bar",
         "x": [
          4.5
         ],
         "xaxis": "x",
         "y": [
          4.5
         ],
         "yaxis": "y"
        },
        {
         "alignmentgroup": "True",
         "hovertemplate": "category=Brasseries<br>rating=%{y}<extra></extra>",
         "legendgroup": "Brasseries",
         "marker": {
          "color": "#B6E880",
          "pattern": {
           "shape": ""
          }
         },
         "name": "Brasseries",
         "offsetgroup": "Brasseries",
         "orientation": "v",
         "showlegend": true,
         "textposition": "auto",
         "type": "bar",
         "x": [
          4.5,
          4
         ],
         "xaxis": "x",
         "y": [
          4.5,
          4
         ],
         "yaxis": "y"
        },
        {
         "alignmentgroup": "True",
         "hovertemplate": "category=Steakhouses<br>rating=%{y}<extra></extra>",
         "legendgroup": "Steakhouses",
         "marker": {
          "color": "#FF97FF",
          "pattern": {
           "shape": ""
          }
         },
         "name": "Steakhouses",
         "offsetgroup": "Steakhouses",
         "orientation": "v",
         "showlegend": true,
         "textposition": "auto",
         "type": "bar",
         "x": [
          4
         ],
         "xaxis": "x",
         "y": [
          4
         ],
         "yaxis": "y"
        },
        {
         "alignmentgroup": "True",
         "hovertemplate": "category=Wine Bars<br>rating=%{y}<extra></extra>",
         "legendgroup": "Wine Bars",
         "marker": {
          "color": "#FECB52",
          "pattern": {
           "shape": ""
          }
         },
         "name": "Wine Bars",
         "offsetgroup": "Wine Bars",
         "orientation": "v",
         "showlegend": true,
         "textposition": "auto",
         "type": "bar",
         "x": [
          4.5
         ],
         "xaxis": "x",
         "y": [
          4.5
         ],
         "yaxis": "y"
        },
        {
         "alignmentgroup": "True",
         "hovertemplate": "category=Thai<br>rating=%{y}<extra></extra>",
         "legendgroup": "Thai",
         "marker": {
          "color": "#636efa",
          "pattern": {
           "shape": ""
          }
         },
         "name": "Thai",
         "offsetgroup": "Thai",
         "orientation": "v",
         "showlegend": true,
         "textposition": "auto",
         "type": "bar",
         "x": [
          5
         ],
         "xaxis": "x",
         "y": [
          5
         ],
         "yaxis": "y"
        },
        {
         "alignmentgroup": "True",
         "hovertemplate": "category=Patisserie/Cake Shop<br>rating=%{y}<extra></extra>",
         "legendgroup": "Patisserie/Cake Shop",
         "marker": {
          "color": "#EF553B",
          "pattern": {
           "shape": ""
          }
         },
         "name": "Patisserie/Cake Shop",
         "offsetgroup": "Patisserie/Cake Shop",
         "orientation": "v",
         "showlegend": true,
         "textposition": "auto",
         "type": "bar",
         "x": [
          4.5
         ],
         "xaxis": "x",
         "y": [
          4.5
         ],
         "yaxis": "y"
        },
        {
         "alignmentgroup": "True",
         "hovertemplate": "category=Barbeque<br>rating=%{y}<extra></extra>",
         "legendgroup": "Barbeque",
         "marker": {
          "color": "#00cc96",
          "pattern": {
           "shape": ""
          }
         },
         "name": "Barbeque",
         "offsetgroup": "Barbeque",
         "orientation": "v",
         "showlegend": true,
         "textposition": "auto",
         "type": "bar",
         "x": [
          4.5
         ],
         "xaxis": "x",
         "y": [
          4.5
         ],
         "yaxis": "y"
        },
        {
         "alignmentgroup": "True",
         "hovertemplate": "category=Seafood<br>rating=%{y}<extra></extra>",
         "legendgroup": "Seafood",
         "marker": {
          "color": "#ab63fa",
          "pattern": {
           "shape": ""
          }
         },
         "name": "Seafood",
         "offsetgroup": "Seafood",
         "orientation": "v",
         "showlegend": true,
         "textposition": "auto",
         "type": "bar",
         "x": [
          3.5
         ],
         "xaxis": "x",
         "y": [
          3.5
         ],
         "yaxis": "y"
        },
        {
         "alignmentgroup": "True",
         "hovertemplate": "category=Creperies<br>rating=%{y}<extra></extra>",
         "legendgroup": "Creperies",
         "marker": {
          "color": "#FFA15A",
          "pattern": {
           "shape": ""
          }
         },
         "name": "Creperies",
         "offsetgroup": "Creperies",
         "orientation": "v",
         "showlegend": true,
         "textposition": "auto",
         "type": "bar",
         "x": [
          4.5
         ],
         "xaxis": "x",
         "y": [
          4.5
         ],
         "yaxis": "y"
        },
        {
         "alignmentgroup": "True",
         "hovertemplate": "category=Pizza<br>rating=%{y}<extra></extra>",
         "legendgroup": "Pizza",
         "marker": {
          "color": "#19d3f3",
          "pattern": {
           "shape": ""
          }
         },
         "name": "Pizza",
         "offsetgroup": "Pizza",
         "orientation": "v",
         "showlegend": true,
         "textposition": "auto",
         "type": "bar",
         "x": [
          4.5
         ],
         "xaxis": "x",
         "y": [
          4.5
         ],
         "yaxis": "y"
        },
        {
         "alignmentgroup": "True",
         "hovertemplate": "category=Japanese<br>rating=%{y}<extra></extra>",
         "legendgroup": "Japanese",
         "marker": {
          "color": "#FF6692",
          "pattern": {
           "shape": ""
          }
         },
         "name": "Japanese",
         "offsetgroup": "Japanese",
         "orientation": "v",
         "showlegend": true,
         "textposition": "auto",
         "type": "bar",
         "x": [
          4.5
         ],
         "xaxis": "x",
         "y": [
          4.5
         ],
         "yaxis": "y"
        },
        {
         "alignmentgroup": "True",
         "hovertemplate": "category=Pan Asian<br>rating=%{y}<extra></extra>",
         "legendgroup": "Pan Asian",
         "marker": {
          "color": "#B6E880",
          "pattern": {
           "shape": ""
          }
         },
         "name": "Pan Asian",
         "offsetgroup": "Pan Asian",
         "orientation": "v",
         "showlegend": true,
         "textposition": "auto",
         "type": "bar",
         "x": [
          4.5
         ],
         "xaxis": "x",
         "y": [
          4.5
         ],
         "yaxis": "y"
        },
        {
         "alignmentgroup": "True",
         "hovertemplate": "category=Lounges<br>rating=%{y}<extra></extra>",
         "legendgroup": "Lounges",
         "marker": {
          "color": "#FF97FF",
          "pattern": {
           "shape": ""
          }
         },
         "name": "Lounges",
         "offsetgroup": "Lounges",
         "orientation": "v",
         "showlegend": true,
         "textposition": "auto",
         "type": "bar",
         "x": [
          4
         ],
         "xaxis": "x",
         "y": [
          4
         ],
         "yaxis": "y"
        },
        {
         "alignmentgroup": "True",
         "hovertemplate": "category=Bars<br>rating=%{y}<extra></extra>",
         "legendgroup": "Bars",
         "marker": {
          "color": "#FECB52",
          "pattern": {
           "shape": ""
          }
         },
         "name": "Bars",
         "offsetgroup": "Bars",
         "orientation": "v",
         "showlegend": true,
         "textposition": "auto",
         "type": "bar",
         "x": [
          4
         ],
         "xaxis": "x",
         "y": [
          4
         ],
         "yaxis": "y"
        },
        {
         "alignmentgroup": "True",
         "hovertemplate": "category=Chinese<br>rating=%{y}<extra></extra>",
         "legendgroup": "Chinese",
         "marker": {
          "color": "#636efa",
          "pattern": {
           "shape": ""
          }
         },
         "name": "Chinese",
         "offsetgroup": "Chinese",
         "orientation": "v",
         "showlegend": true,
         "textposition": "auto",
         "type": "bar",
         "x": [
          4.5
         ],
         "xaxis": "x",
         "y": [
          4.5
         ],
         "yaxis": "y"
        },
        {
         "alignmentgroup": "True",
         "hovertemplate": "category=Pubs<br>rating=%{y}<extra></extra>",
         "legendgroup": "Pubs",
         "marker": {
          "color": "#EF553B",
          "pattern": {
           "shape": ""
          }
         },
         "name": "Pubs",
         "offsetgroup": "Pubs",
         "orientation": "v",
         "showlegend": true,
         "textposition": "auto",
         "type": "bar",
         "x": [
          4.5
         ],
         "xaxis": "x",
         "y": [
          4.5
         ],
         "yaxis": "y"
        }
       ],
       "layout": {
        "autosize": true,
        "barmode": "stack",
        "legend": {
         "title": {
          "text": "category"
         },
         "tracegroupgap": 0
        },
        "margin": {
         "t": 60
        },
        "template": {
         "data": {
          "bar": [
           {
            "error_x": {
             "color": "#2a3f5f"
            },
            "error_y": {
             "color": "#2a3f5f"
            },
            "marker": {
             "line": {
              "color": "#E5ECF6",
              "width": 0.5
             },
             "pattern": {
              "fillmode": "overlay",
              "size": 10,
              "solidity": 0.2
             }
            },
            "type": "bar"
           }
          ],
          "barpolar": [
           {
            "marker": {
             "line": {
              "color": "#E5ECF6",
              "width": 0.5
             },
             "pattern": {
              "fillmode": "overlay",
              "size": 10,
              "solidity": 0.2
             }
            },
            "type": "barpolar"
           }
          ],
          "carpet": [
           {
            "aaxis": {
             "endlinecolor": "#2a3f5f",
             "gridcolor": "white",
             "linecolor": "white",
             "minorgridcolor": "white",
             "startlinecolor": "#2a3f5f"
            },
            "baxis": {
             "endlinecolor": "#2a3f5f",
             "gridcolor": "white",
             "linecolor": "white",
             "minorgridcolor": "white",
             "startlinecolor": "#2a3f5f"
            },
            "type": "carpet"
           }
          ],
          "choropleth": [
           {
            "colorbar": {
             "outlinewidth": 0,
             "ticks": ""
            },
            "type": "choropleth"
           }
          ],
          "contour": [
           {
            "colorbar": {
             "outlinewidth": 0,
             "ticks": ""
            },
            "colorscale": [
             [
              0,
              "#0d0887"
             ],
             [
              0.1111111111111111,
              "#46039f"
             ],
             [
              0.2222222222222222,
              "#7201a8"
             ],
             [
              0.3333333333333333,
              "#9c179e"
             ],
             [
              0.4444444444444444,
              "#bd3786"
             ],
             [
              0.5555555555555556,
              "#d8576b"
             ],
             [
              0.6666666666666666,
              "#ed7953"
             ],
             [
              0.7777777777777778,
              "#fb9f3a"
             ],
             [
              0.8888888888888888,
              "#fdca26"
             ],
             [
              1,
              "#f0f921"
             ]
            ],
            "type": "contour"
           }
          ],
          "contourcarpet": [
           {
            "colorbar": {
             "outlinewidth": 0,
             "ticks": ""
            },
            "type": "contourcarpet"
           }
          ],
          "heatmap": [
           {
            "colorbar": {
             "outlinewidth": 0,
             "ticks": ""
            },
            "colorscale": [
             [
              0,
              "#0d0887"
             ],
             [
              0.1111111111111111,
              "#46039f"
             ],
             [
              0.2222222222222222,
              "#7201a8"
             ],
             [
              0.3333333333333333,
              "#9c179e"
             ],
             [
              0.4444444444444444,
              "#bd3786"
             ],
             [
              0.5555555555555556,
              "#d8576b"
             ],
             [
              0.6666666666666666,
              "#ed7953"
             ],
             [
              0.7777777777777778,
              "#fb9f3a"
             ],
             [
              0.8888888888888888,
              "#fdca26"
             ],
             [
              1,
              "#f0f921"
             ]
            ],
            "type": "heatmap"
           }
          ],
          "heatmapgl": [
           {
            "colorbar": {
             "outlinewidth": 0,
             "ticks": ""
            },
            "colorscale": [
             [
              0,
              "#0d0887"
             ],
             [
              0.1111111111111111,
              "#46039f"
             ],
             [
              0.2222222222222222,
              "#7201a8"
             ],
             [
              0.3333333333333333,
              "#9c179e"
             ],
             [
              0.4444444444444444,
              "#bd3786"
             ],
             [
              0.5555555555555556,
              "#d8576b"
             ],
             [
              0.6666666666666666,
              "#ed7953"
             ],
             [
              0.7777777777777778,
              "#fb9f3a"
             ],
             [
              0.8888888888888888,
              "#fdca26"
             ],
             [
              1,
              "#f0f921"
             ]
            ],
            "type": "heatmapgl"
           }
          ],
          "histogram": [
           {
            "marker": {
             "pattern": {
              "fillmode": "overlay",
              "size": 10,
              "solidity": 0.2
             }
            },
            "type": "histogram"
           }
          ],
          "histogram2d": [
           {
            "colorbar": {
             "outlinewidth": 0,
             "ticks": ""
            },
            "colorscale": [
             [
              0,
              "#0d0887"
             ],
             [
              0.1111111111111111,
              "#46039f"
             ],
             [
              0.2222222222222222,
              "#7201a8"
             ],
             [
              0.3333333333333333,
              "#9c179e"
             ],
             [
              0.4444444444444444,
              "#bd3786"
             ],
             [
              0.5555555555555556,
              "#d8576b"
             ],
             [
              0.6666666666666666,
              "#ed7953"
             ],
             [
              0.7777777777777778,
              "#fb9f3a"
             ],
             [
              0.8888888888888888,
              "#fdca26"
             ],
             [
              1,
              "#f0f921"
             ]
            ],
            "type": "histogram2d"
           }
          ],
          "histogram2dcontour": [
           {
            "colorbar": {
             "outlinewidth": 0,
             "ticks": ""
            },
            "colorscale": [
             [
              0,
              "#0d0887"
             ],
             [
              0.1111111111111111,
              "#46039f"
             ],
             [
              0.2222222222222222,
              "#7201a8"
             ],
             [
              0.3333333333333333,
              "#9c179e"
             ],
             [
              0.4444444444444444,
              "#bd3786"
             ],
             [
              0.5555555555555556,
              "#d8576b"
             ],
             [
              0.6666666666666666,
              "#ed7953"
             ],
             [
              0.7777777777777778,
              "#fb9f3a"
             ],
             [
              0.8888888888888888,
              "#fdca26"
             ],
             [
              1,
              "#f0f921"
             ]
            ],
            "type": "histogram2dcontour"
           }
          ],
          "mesh3d": [
           {
            "colorbar": {
             "outlinewidth": 0,
             "ticks": ""
            },
            "type": "mesh3d"
           }
          ],
          "parcoords": [
           {
            "line": {
             "colorbar": {
              "outlinewidth": 0,
              "ticks": ""
             }
            },
            "type": "parcoords"
           }
          ],
          "pie": [
           {
            "automargin": true,
            "type": "pie"
           }
          ],
          "scatter": [
           {
            "fillpattern": {
             "fillmode": "overlay",
             "size": 10,
             "solidity": 0.2
            },
            "type": "scatter"
           }
          ],
          "scatter3d": [
           {
            "line": {
             "colorbar": {
              "outlinewidth": 0,
              "ticks": ""
             }
            },
            "marker": {
             "colorbar": {
              "outlinewidth": 0,
              "ticks": ""
             }
            },
            "type": "scatter3d"
           }
          ],
          "scattercarpet": [
           {
            "marker": {
             "colorbar": {
              "outlinewidth": 0,
              "ticks": ""
             }
            },
            "type": "scattercarpet"
           }
          ],
          "scattergeo": [
           {
            "marker": {
             "colorbar": {
              "outlinewidth": 0,
              "ticks": ""
             }
            },
            "type": "scattergeo"
           }
          ],
          "scattergl": [
           {
            "marker": {
             "colorbar": {
              "outlinewidth": 0,
              "ticks": ""
             }
            },
            "type": "scattergl"
           }
          ],
          "scattermapbox": [
           {
            "marker": {
             "colorbar": {
              "outlinewidth": 0,
              "ticks": ""
             }
            },
            "type": "scattermapbox"
           }
          ],
          "scatterpolar": [
           {
            "marker": {
             "colorbar": {
              "outlinewidth": 0,
              "ticks": ""
             }
            },
            "type": "scatterpolar"
           }
          ],
          "scatterpolargl": [
           {
            "marker": {
             "colorbar": {
              "outlinewidth": 0,
              "ticks": ""
             }
            },
            "type": "scatterpolargl"
           }
          ],
          "scatterternary": [
           {
            "marker": {
             "colorbar": {
              "outlinewidth": 0,
              "ticks": ""
             }
            },
            "type": "scatterternary"
           }
          ],
          "surface": [
           {
            "colorbar": {
             "outlinewidth": 0,
             "ticks": ""
            },
            "colorscale": [
             [
              0,
              "#0d0887"
             ],
             [
              0.1111111111111111,
              "#46039f"
             ],
             [
              0.2222222222222222,
              "#7201a8"
             ],
             [
              0.3333333333333333,
              "#9c179e"
             ],
             [
              0.4444444444444444,
              "#bd3786"
             ],
             [
              0.5555555555555556,
              "#d8576b"
             ],
             [
              0.6666666666666666,
              "#ed7953"
             ],
             [
              0.7777777777777778,
              "#fb9f3a"
             ],
             [
              0.8888888888888888,
              "#fdca26"
             ],
             [
              1,
              "#f0f921"
             ]
            ],
            "type": "surface"
           }
          ],
          "table": [
           {
            "cells": {
             "fill": {
              "color": "#EBF0F8"
             },
             "line": {
              "color": "white"
             }
            },
            "header": {
             "fill": {
              "color": "#C8D4E3"
             },
             "line": {
              "color": "white"
             }
            },
            "type": "table"
           }
          ]
         },
         "layout": {
          "annotationdefaults": {
           "arrowcolor": "#2a3f5f",
           "arrowhead": 0,
           "arrowwidth": 1
          },
          "autotypenumbers": "strict",
          "coloraxis": {
           "colorbar": {
            "outlinewidth": 0,
            "ticks": ""
           }
          },
          "colorscale": {
           "diverging": [
            [
             0,
             "#8e0152"
            ],
            [
             0.1,
             "#c51b7d"
            ],
            [
             0.2,
             "#de77ae"
            ],
            [
             0.3,
             "#f1b6da"
            ],
            [
             0.4,
             "#fde0ef"
            ],
            [
             0.5,
             "#f7f7f7"
            ],
            [
             0.6,
             "#e6f5d0"
            ],
            [
             0.7,
             "#b8e186"
            ],
            [
             0.8,
             "#7fbc41"
            ],
            [
             0.9,
             "#4d9221"
            ],
            [
             1,
             "#276419"
            ]
           ],
           "sequential": [
            [
             0,
             "#0d0887"
            ],
            [
             0.1111111111111111,
             "#46039f"
            ],
            [
             0.2222222222222222,
             "#7201a8"
            ],
            [
             0.3333333333333333,
             "#9c179e"
            ],
            [
             0.4444444444444444,
             "#bd3786"
            ],
            [
             0.5555555555555556,
             "#d8576b"
            ],
            [
             0.6666666666666666,
             "#ed7953"
            ],
            [
             0.7777777777777778,
             "#fb9f3a"
            ],
            [
             0.8888888888888888,
             "#fdca26"
            ],
            [
             1,
             "#f0f921"
            ]
           ],
           "sequentialminus": [
            [
             0,
             "#0d0887"
            ],
            [
             0.1111111111111111,
             "#46039f"
            ],
            [
             0.2222222222222222,
             "#7201a8"
            ],
            [
             0.3333333333333333,
             "#9c179e"
            ],
            [
             0.4444444444444444,
             "#bd3786"
            ],
            [
             0.5555555555555556,
             "#d8576b"
            ],
            [
             0.6666666666666666,
             "#ed7953"
            ],
            [
             0.7777777777777778,
             "#fb9f3a"
            ],
            [
             0.8888888888888888,
             "#fdca26"
            ],
            [
             1,
             "#f0f921"
            ]
           ]
          },
          "colorway": [
           "#636efa",
           "#EF553B",
           "#00cc96",
           "#ab63fa",
           "#FFA15A",
           "#19d3f3",
           "#FF6692",
           "#B6E880",
           "#FF97FF",
           "#FECB52"
          ],
          "font": {
           "color": "#2a3f5f"
          },
          "geo": {
           "bgcolor": "white",
           "lakecolor": "white",
           "landcolor": "#E5ECF6",
           "showlakes": true,
           "showland": true,
           "subunitcolor": "white"
          },
          "hoverlabel": {
           "align": "left"
          },
          "hovermode": "closest",
          "mapbox": {
           "style": "light"
          },
          "paper_bgcolor": "white",
          "plot_bgcolor": "#E5ECF6",
          "polar": {
           "angularaxis": {
            "gridcolor": "white",
            "linecolor": "white",
            "ticks": ""
           },
           "bgcolor": "#E5ECF6",
           "radialaxis": {
            "gridcolor": "white",
            "linecolor": "white",
            "ticks": ""
           }
          },
          "scene": {
           "xaxis": {
            "backgroundcolor": "#E5ECF6",
            "gridcolor": "white",
            "gridwidth": 2,
            "linecolor": "white",
            "showbackground": true,
            "ticks": "",
            "zerolinecolor": "white"
           },
           "yaxis": {
            "backgroundcolor": "#E5ECF6",
            "gridcolor": "white",
            "gridwidth": 2,
            "linecolor": "white",
            "showbackground": true,
            "ticks": "",
            "zerolinecolor": "white"
           },
           "zaxis": {
            "backgroundcolor": "#E5ECF6",
            "gridcolor": "white",
            "gridwidth": 2,
            "linecolor": "white",
            "showbackground": true,
            "ticks": "",
            "zerolinecolor": "white"
           }
          },
          "shapedefaults": {
           "line": {
            "color": "#2a3f5f"
           }
          },
          "ternary": {
           "aaxis": {
            "gridcolor": "white",
            "linecolor": "white",
            "ticks": ""
           },
           "baxis": {
            "gridcolor": "white",
            "linecolor": "white",
            "ticks": ""
           },
           "bgcolor": "#E5ECF6",
           "caxis": {
            "gridcolor": "white",
            "linecolor": "white",
            "ticks": ""
           }
          },
          "title": {
           "x": 0.05
          },
          "xaxis": {
           "automargin": true,
           "gridcolor": "white",
           "linecolor": "white",
           "ticks": "",
           "title": {
            "standoff": 15
           },
           "zerolinecolor": "white",
           "zerolinewidth": 2
          },
          "yaxis": {
           "automargin": true,
           "gridcolor": "white",
           "linecolor": "white",
           "ticks": "",
           "title": {
            "standoff": 15
           },
           "zerolinecolor": "white",
           "zerolinewidth": 2
          }
         }
        },
        "xaxis": {
         "anchor": "y",
         "autorange": true,
         "domain": [
          0,
          1
         ],
         "range": [
          3.25,
          5.25
         ],
         "title": {
          "text": "rating"
         },
         "type": "linear"
        },
        "yaxis": {
         "anchor": "x",
         "autorange": true,
         "domain": [
          0,
          1
         ],
         "range": [
          0,
          127.89473684210526
         ],
         "title": {
          "text": "rating"
         },
         "type": "linear"
        }
       }
      },
      "image/png": "[encoded data removed]",
      "text/html": [
       "<div>                            <div id=\"0b793a3f-e87c-474d-98a1-d42a1cb408b7\" class=\"plotly-graph-div\" style=\"height:525px; width:100%;\"></div>            <script type=\"text/javascript\">                require([\"plotly\"], function(Plotly) {                    window.PLOTLYENV=window.PLOTLYENV || {};                                    if (document.getElementById(\"0b793a3f-e87c-474d-98a1-d42a1cb408b7\")) {                    Plotly.newPlot(                        \"0b793a3f-e87c-474d-98a1-d42a1cb408b7\",                        [{\"alignmentgroup\":\"True\",\"hovertemplate\":\"category=French\\u003cbr\\u003erating=%{y}\\u003cextra\\u003e\\u003c\\u002fextra\\u003e\",\"legendgroup\":\"French\",\"marker\":{\"color\":\"#636efa\",\"pattern\":{\"shape\":\"\"}},\"name\":\"French\",\"offsetgroup\":\"French\",\"orientation\":\"v\",\"showlegend\":true,\"textposition\":\"auto\",\"x\":[4.5,4.5,4.5,4.0,4.0,4.0,5.0,4.5,4.5,4.0,4.0,4.0,5.0,4.5,4.0,4.5,4.0,4.5,4.0,4.0,4.5,4.0,4.5,4.0],\"xaxis\":\"x\",\"y\":[4.5,4.5,4.5,4.0,4.0,4.0,5.0,4.5,4.5,4.0,4.0,4.0,5.0,4.5,4.0,4.5,4.0,4.5,4.0,4.0,4.5,4.0,4.5,4.0],\"yaxis\":\"y\",\"type\":\"bar\"},{\"alignmentgroup\":\"True\",\"hovertemplate\":\"category=Bistros\\u003cbr\\u003erating=%{y}\\u003cextra\\u003e\\u003c\\u002fextra\\u003e\",\"legendgroup\":\"Bistros\",\"marker\":{\"color\":\"#EF553B\",\"pattern\":{\"shape\":\"\"}},\"name\":\"Bistros\",\"offsetgroup\":\"Bistros\",\"orientation\":\"v\",\"showlegend\":true,\"textposition\":\"auto\",\"x\":[4.5,5.0],\"xaxis\":\"x\",\"y\":[4.5,5.0],\"yaxis\":\"y\",\"type\":\"bar\"},{\"alignmentgroup\":\"True\",\"hovertemplate\":\"category=Italian\\u003cbr\\u003erating=%{y}\\u003cextra\\u003e\\u003c\\u002fextra\\u003e\",\"legendgroup\":\"Italian\",\"marker\":{\"color\":\"#00cc96\",\"pattern\":{\"shape\":\"\"}},\"name\":\"Italian\",\"offsetgroup\":\"Italian\",\"orientation\":\"v\",\"showlegend\":true,\"textposition\":\"auto\",\"x\":[4.5,4.5],\"xaxis\":\"x\",\"y\":[4.5,4.5],\"yaxis\":\"y\",\"type\":\"bar\"},{\"alignmentgroup\":\"True\",\"hovertemplate\":\"category=Tea Rooms\\u003cbr\\u003erating=%{y}\\u003cextra\\u003e\\u003c\\u002fextra\\u003e\",\"legendgroup\":\"Tea Rooms\",\"marker\":{\"color\":\"#ab63fa\",\"pattern\":{\"shape\":\"\"}},\"name\":\"Tea Rooms\",\"offsetgroup\":\"Tea Rooms\",\"orientation\":\"v\",\"showlegend\":true,\"textposition\":\"auto\",\"x\":[4.5],\"xaxis\":\"x\",\"y\":[4.5],\"yaxis\":\"y\",\"type\":\"bar\"},{\"alignmentgroup\":\"True\",\"hovertemplate\":\"category=Restaurants\\u003cbr\\u003erating=%{y}\\u003cextra\\u003e\\u003c\\u002fextra\\u003e\",\"legendgroup\":\"Restaurants\",\"marker\":{\"color\":\"#FFA15A\",\"pattern\":{\"shape\":\"\"}},\"name\":\"Restaurants\",\"offsetgroup\":\"Restaurants\",\"orientation\":\"v\",\"showlegend\":true,\"textposition\":\"auto\",\"x\":[4.0],\"xaxis\":\"x\",\"y\":[4.0],\"yaxis\":\"y\",\"type\":\"bar\"},{\"alignmentgroup\":\"True\",\"hovertemplate\":\"category=Cafes\\u003cbr\\u003erating=%{y}\\u003cextra\\u003e\\u003c\\u002fextra\\u003e\",\"legendgroup\":\"Cafes\",\"marker\":{\"color\":\"#19d3f3\",\"pattern\":{\"shape\":\"\"}},\"name\":\"Cafes\",\"offsetgroup\":\"Cafes\",\"orientation\":\"v\",\"showlegend\":true,\"textposition\":\"auto\",\"x\":[4.5,4.5,4.0],\"xaxis\":\"x\",\"y\":[4.5,4.5,4.0],\"yaxis\":\"y\",\"type\":\"bar\"},{\"alignmentgroup\":\"True\",\"hovertemplate\":\"category=Breakfast & Brunch\\u003cbr\\u003erating=%{y}\\u003cextra\\u003e\\u003c\\u002fextra\\u003e\",\"legendgroup\":\"Breakfast & Brunch\",\"marker\":{\"color\":\"#FF6692\",\"pattern\":{\"shape\":\"\"}},\"name\":\"Breakfast & Brunch\",\"offsetgroup\":\"Breakfast & Brunch\",\"orientation\":\"v\",\"showlegend\":true,\"textposition\":\"auto\",\"x\":[4.5],\"xaxis\":\"x\",\"y\":[4.5],\"yaxis\":\"y\",\"type\":\"bar\"},{\"alignmentgroup\":\"True\",\"hovertemplate\":\"category=Brasseries\\u003cbr\\u003erating=%{y}\\u003cextra\\u003e\\u003c\\u002fextra\\u003e\",\"legendgroup\":\"Brasseries\",\"marker\":{\"color\":\"#B6E880\",\"pattern\":{\"shape\":\"\"}},\"name\":\"Brasseries\",\"offsetgroup\":\"Brasseries\",\"orientation\":\"v\",\"showlegend\":true,\"textposition\":\"auto\",\"x\":[4.5,4.0],\"xaxis\":\"x\",\"y\":[4.5,4.0],\"yaxis\":\"y\",\"type\":\"bar\"},{\"alignmentgroup\":\"True\",\"hovertemplate\":\"category=Steakhouses\\u003cbr\\u003erating=%{y}\\u003cextra\\u003e\\u003c\\u002fextra\\u003e\",\"legendgroup\":\"Steakhouses\",\"marker\":{\"color\":\"#FF97FF\",\"pattern\":{\"shape\":\"\"}},\"name\":\"Steakhouses\",\"offsetgroup\":\"Steakhouses\",\"orientation\":\"v\",\"showlegend\":true,\"textposition\":\"auto\",\"x\":[4.0],\"xaxis\":\"x\",\"y\":[4.0],\"yaxis\":\"y\",\"type\":\"bar\"},{\"alignmentgroup\":\"True\",\"hovertemplate\":\"category=Wine Bars\\u003cbr\\u003erating=%{y}\\u003cextra\\u003e\\u003c\\u002fextra\\u003e\",\"legendgroup\":\"Wine Bars\",\"marker\":{\"color\":\"#FECB52\",\"pattern\":{\"shape\":\"\"}},\"name\":\"Wine Bars\",\"offsetgroup\":\"Wine Bars\",\"orientation\":\"v\",\"showlegend\":true,\"textposition\":\"auto\",\"x\":[4.5],\"xaxis\":\"x\",\"y\":[4.5],\"yaxis\":\"y\",\"type\":\"bar\"},{\"alignmentgroup\":\"True\",\"hovertemplate\":\"category=Thai\\u003cbr\\u003erating=%{y}\\u003cextra\\u003e\\u003c\\u002fextra\\u003e\",\"legendgroup\":\"Thai\",\"marker\":{\"color\":\"#636efa\",\"pattern\":{\"shape\":\"\"}},\"name\":\"Thai\",\"offsetgroup\":\"Thai\",\"orientation\":\"v\",\"showlegend\":true,\"textposition\":\"auto\",\"x\":[5.0],\"xaxis\":\"x\",\"y\":[5.0],\"yaxis\":\"y\",\"type\":\"bar\"},{\"alignmentgroup\":\"True\",\"hovertemplate\":\"category=Patisserie\\u002fCake Shop\\u003cbr\\u003erating=%{y}\\u003cextra\\u003e\\u003c\\u002fextra\\u003e\",\"legendgroup\":\"Patisserie\\u002fCake Shop\",\"marker\":{\"color\":\"#EF553B\",\"pattern\":{\"shape\":\"\"}},\"name\":\"Patisserie\\u002fCake Shop\",\"offsetgroup\":\"Patisserie\\u002fCake Shop\",\"orientation\":\"v\",\"showlegend\":true,\"textposition\":\"auto\",\"x\":[4.5],\"xaxis\":\"x\",\"y\":[4.5],\"yaxis\":\"y\",\"type\":\"bar\"},{\"alignmentgroup\":\"True\",\"hovertemplate\":\"category=Barbeque\\u003cbr\\u003erating=%{y}\\u003cextra\\u003e\\u003c\\u002fextra\\u003e\",\"legendgroup\":\"Barbeque\",\"marker\":{\"color\":\"#00cc96\",\"pattern\":{\"shape\":\"\"}},\"name\":\"Barbeque\",\"offsetgroup\":\"Barbeque\",\"orientation\":\"v\",\"showlegend\":true,\"textposition\":\"auto\",\"x\":[4.5],\"xaxis\":\"x\",\"y\":[4.5],\"yaxis\":\"y\",\"type\":\"bar\"},{\"alignmentgroup\":\"True\",\"hovertemplate\":\"category=Seafood\\u003cbr\\u003erating=%{y}\\u003cextra\\u003e\\u003c\\u002fextra\\u003e\",\"legendgroup\":\"Seafood\",\"marker\":{\"color\":\"#ab63fa\",\"pattern\":{\"shape\":\"\"}},\"name\":\"Seafood\",\"offsetgroup\":\"Seafood\",\"orientation\":\"v\",\"showlegend\":true,\"textposition\":\"auto\",\"x\":[3.5],\"xaxis\":\"x\",\"y\":[3.5],\"yaxis\":\"y\",\"type\":\"bar\"},{\"alignmentgroup\":\"True\",\"hovertemplate\":\"category=Creperies\\u003cbr\\u003erating=%{y}\\u003cextra\\u003e\\u003c\\u002fextra\\u003e\",\"legendgroup\":\"Creperies\",\"marker\":{\"color\":\"#FFA15A\",\"pattern\":{\"shape\":\"\"}},\"name\":\"Creperies\",\"offsetgroup\":\"Creperies\",\"orientation\":\"v\",\"showlegend\":true,\"textposition\":\"auto\",\"x\":[4.5],\"xaxis\":\"x\",\"y\":[4.5],\"yaxis\":\"y\",\"type\":\"bar\"},{\"alignmentgroup\":\"True\",\"hovertemplate\":\"category=Pizza\\u003cbr\\u003erating=%{y}\\u003cextra\\u003e\\u003c\\u002fextra\\u003e\",\"legendgroup\":\"Pizza\",\"marker\":{\"color\":\"#19d3f3\",\"pattern\":{\"shape\":\"\"}},\"name\":\"Pizza\",\"offsetgroup\":\"Pizza\",\"orientation\":\"v\",\"showlegend\":true,\"textposition\":\"auto\",\"x\":[4.5],\"xaxis\":\"x\",\"y\":[4.5],\"yaxis\":\"y\",\"type\":\"bar\"},{\"alignmentgroup\":\"True\",\"hovertemplate\":\"category=Japanese\\u003cbr\\u003erating=%{y}\\u003cextra\\u003e\\u003c\\u002fextra\\u003e\",\"legendgroup\":\"Japanese\",\"marker\":{\"color\":\"#FF6692\",\"pattern\":{\"shape\":\"\"}},\"name\":\"Japanese\",\"offsetgroup\":\"Japanese\",\"orientation\":\"v\",\"showlegend\":true,\"textposition\":\"auto\",\"x\":[4.5],\"xaxis\":\"x\",\"y\":[4.5],\"yaxis\":\"y\",\"type\":\"bar\"},{\"alignmentgroup\":\"True\",\"hovertemplate\":\"category=Pan Asian\\u003cbr\\u003erating=%{y}\\u003cextra\\u003e\\u003c\\u002fextra\\u003e\",\"legendgroup\":\"Pan Asian\",\"marker\":{\"color\":\"#B6E880\",\"pattern\":{\"shape\":\"\"}},\"name\":\"Pan Asian\",\"offsetgroup\":\"Pan Asian\",\"orientation\":\"v\",\"showlegend\":true,\"textposition\":\"auto\",\"x\":[4.5],\"xaxis\":\"x\",\"y\":[4.5],\"yaxis\":\"y\",\"type\":\"bar\"},{\"alignmentgroup\":\"True\",\"hovertemplate\":\"category=Lounges\\u003cbr\\u003erating=%{y}\\u003cextra\\u003e\\u003c\\u002fextra\\u003e\",\"legendgroup\":\"Lounges\",\"marker\":{\"color\":\"#FF97FF\",\"pattern\":{\"shape\":\"\"}},\"name\":\"Lounges\",\"offsetgroup\":\"Lounges\",\"orientation\":\"v\",\"showlegend\":true,\"textposition\":\"auto\",\"x\":[4.0],\"xaxis\":\"x\",\"y\":[4.0],\"yaxis\":\"y\",\"type\":\"bar\"},{\"alignmentgroup\":\"True\",\"hovertemplate\":\"category=Bars\\u003cbr\\u003erating=%{y}\\u003cextra\\u003e\\u003c\\u002fextra\\u003e\",\"legendgroup\":\"Bars\",\"marker\":{\"color\":\"#FECB52\",\"pattern\":{\"shape\":\"\"}},\"name\":\"Bars\",\"offsetgroup\":\"Bars\",\"orientation\":\"v\",\"showlegend\":true,\"textposition\":\"auto\",\"x\":[4.0],\"xaxis\":\"x\",\"y\":[4.0],\"yaxis\":\"y\",\"type\":\"bar\"},{\"alignmentgroup\":\"True\",\"hovertemplate\":\"category=Chinese\\u003cbr\\u003erating=%{y}\\u003cextra\\u003e\\u003c\\u002fextra\\u003e\",\"legendgroup\":\"Chinese\",\"marker\":{\"color\":\"#636efa\",\"pattern\":{\"shape\":\"\"}},\"name\":\"Chinese\",\"offsetgroup\":\"Chinese\",\"orientation\":\"v\",\"showlegend\":true,\"textposition\":\"auto\",\"x\":[4.5],\"xaxis\":\"x\",\"y\":[4.5],\"yaxis\":\"y\",\"type\":\"bar\"},{\"alignmentgroup\":\"True\",\"hovertemplate\":\"category=Pubs\\u003cbr\\u003erating=%{y}\\u003cextra\\u003e\\u003c\\u002fextra\\u003e\",\"legendgroup\":\"Pubs\",\"marker\":{\"color\":\"#EF553B\",\"pattern\":{\"shape\":\"\"}},\"name\":\"Pubs\",\"offsetgroup\":\"Pubs\",\"orientation\":\"v\",\"showlegend\":true,\"textposition\":\"auto\",\"x\":[4.5],\"xaxis\":\"x\",\"y\":[4.5],\"yaxis\":\"y\",\"type\":\"bar\"}],                        {\"template\":{\"data\":{\"histogram2dcontour\":[{\"type\":\"histogram2dcontour\",\"colorbar\":{\"outlinewidth\":0,\"ticks\":\"\"},\"colorscale\":[[0.0,\"#0d0887\"],[0.1111111111111111,\"#46039f\"],[0.2222222222222222,\"#7201a8\"],[0.3333333333333333,\"#9c179e\"],[0.4444444444444444,\"#bd3786\"],[0.5555555555555556,\"#d8576b\"],[0.6666666666666666,\"#ed7953\"],[0.7777777777777778,\"#fb9f3a\"],[0.8888888888888888,\"#fdca26\"],[1.0,\"#f0f921\"]]}],\"choropleth\":[{\"type\":\"choropleth\",\"colorbar\":{\"outlinewidth\":0,\"ticks\":\"\"}}],\"histogram2d\":[{\"type\":\"histogram2d\",\"colorbar\":{\"outlinewidth\":0,\"ticks\":\"\"},\"colorscale\":[[0.0,\"#0d0887\"],[0.1111111111111111,\"#46039f\"],[0.2222222222222222,\"#7201a8\"],[0.3333333333333333,\"#9c179e\"],[0.4444444444444444,\"#bd3786\"],[0.5555555555555556,\"#d8576b\"],[0.6666666666666666,\"#ed7953\"],[0.7777777777777778,\"#fb9f3a\"],[0.8888888888888888,\"#fdca26\"],[1.0,\"#f0f921\"]]}],\"heatmap\":[{\"type\":\"heatmap\",\"colorbar\":{\"outlinewidth\":0,\"ticks\":\"\"},\"colorscale\":[[0.0,\"#0d0887\"],[0.1111111111111111,\"#46039f\"],[0.2222222222222222,\"#7201a8\"],[0.3333333333333333,\"#9c179e\"],[0.4444444444444444,\"#bd3786\"],[0.5555555555555556,\"#d8576b\"],[0.6666666666666666,\"#ed7953\"],[0.7777777777777778,\"#fb9f3a\"],[0.8888888888888888,\"#fdca26\"],[1.0,\"#f0f921\"]]}],\"heatmapgl\":[{\"type\":\"heatmapgl\",\"colorbar\":{\"outlinewidth\":0,\"ticks\":\"\"},\"colorscale\":[[0.0,\"#0d0887\"],[0.1111111111111111,\"#46039f\"],[0.2222222222222222,\"#7201a8\"],[0.3333333333333333,\"#9c179e\"],[0.4444444444444444,\"#bd3786\"],[0.5555555555555556,\"#d8576b\"],[0.6666666666666666,\"#ed7953\"],[0.7777777777777778,\"#fb9f3a\"],[0.8888888888888888,\"#fdca26\"],[1.0,\"#f0f921\"]]}],\"contourcarpet\":[{\"type\":\"contourcarpet\",\"colorbar\":{\"outlinewidth\":0,\"ticks\":\"\"}}],\"contour\":[{\"type\":\"contour\",\"colorbar\":{\"outlinewidth\":0,\"ticks\":\"\"},\"colorscale\":[[0.0,\"#0d0887\"],[0.1111111111111111,\"#46039f\"],[0.2222222222222222,\"#7201a8\"],[0.3333333333333333,\"#9c179e\"],[0.4444444444444444,\"#bd3786\"],[0.5555555555555556,\"#d8576b\"],[0.6666666666666666,\"#ed7953\"],[0.7777777777777778,\"#fb9f3a\"],[0.8888888888888888,\"#fdca26\"],[1.0,\"#f0f921\"]]}],\"surface\":[{\"type\":\"surface\",\"colorbar\":{\"outlinewidth\":0,\"ticks\":\"\"},\"colorscale\":[[0.0,\"#0d0887\"],[0.1111111111111111,\"#46039f\"],[0.2222222222222222,\"#7201a8\"],[0.3333333333333333,\"#9c179e\"],[0.4444444444444444,\"#bd3786\"],[0.5555555555555556,\"#d8576b\"],[0.6666666666666666,\"#ed7953\"],[0.7777777777777778,\"#fb9f3a\"],[0.8888888888888888,\"#fdca26\"],[1.0,\"#f0f921\"]]}],\"mesh3d\":[{\"type\":\"mesh3d\",\"colorbar\":{\"outlinewidth\":0,\"ticks\":\"\"}}],\"scatter\":[{\"fillpattern\":{\"fillmode\":\"overlay\",\"size\":10,\"solidity\":0.2},\"type\":\"scatter\"}],\"parcoords\":[{\"type\":\"parcoords\",\"line\":{\"colorbar\":{\"outlinewidth\":0,\"ticks\":\"\"}}}],\"scatterpolargl\":[{\"type\":\"scatterpolargl\",\"marker\":{\"colorbar\":{\"outlinewidth\":0,\"ticks\":\"\"}}}],\"bar\":[{\"error_x\":{\"color\":\"#2a3f5f\"},\"error_y\":{\"color\":\"#2a3f5f\"},\"marker\":{\"line\":{\"color\":\"#E5ECF6\",\"width\":0.5},\"pattern\":{\"fillmode\":\"overlay\",\"size\":10,\"solidity\":0.2}},\"type\":\"bar\"}],\"scattergeo\":[{\"type\":\"scattergeo\",\"marker\":{\"colorbar\":{\"outlinewidth\":0,\"ticks\":\"\"}}}],\"scatterpolar\":[{\"type\":\"scatterpolar\",\"marker\":{\"colorbar\":{\"outlinewidth\":0,\"ticks\":\"\"}}}],\"histogram\":[{\"marker\":{\"pattern\":{\"fillmode\":\"overlay\",\"size\":10,\"solidity\":0.2}},\"type\":\"histogram\"}],\"scattergl\":[{\"type\":\"scattergl\",\"marker\":{\"colorbar\":{\"outlinewidth\":0,\"ticks\":\"\"}}}],\"scatter3d\":[{\"type\":\"scatter3d\",\"line\":{\"colorbar\":{\"outlinewidth\":0,\"ticks\":\"\"}},\"marker\":{\"colorbar\":{\"outlinewidth\":0,\"ticks\":\"\"}}}],\"scattermapbox\":[{\"type\":\"scattermapbox\",\"marker\":{\"colorbar\":{\"outlinewidth\":0,\"ticks\":\"\"}}}],\"scatterternary\":[{\"type\":\"scatterternary\",\"marker\":{\"colorbar\":{\"outlinewidth\":0,\"ticks\":\"\"}}}],\"scattercarpet\":[{\"type\":\"scattercarpet\",\"marker\":{\"colorbar\":{\"outlinewidth\":0,\"ticks\":\"\"}}}],\"carpet\":[{\"aaxis\":{\"endlinecolor\":\"#2a3f5f\",\"gridcolor\":\"white\",\"linecolor\":\"white\",\"minorgridcolor\":\"white\",\"startlinecolor\":\"#2a3f5f\"},\"baxis\":{\"endlinecolor\":\"#2a3f5f\",\"gridcolor\":\"white\",\"linecolor\":\"white\",\"minorgridcolor\":\"white\",\"startlinecolor\":\"#2a3f5f\"},\"type\":\"carpet\"}],\"table\":[{\"cells\":{\"fill\":{\"color\":\"#EBF0F8\"},\"line\":{\"color\":\"white\"}},\"header\":{\"fill\":{\"color\":\"#C8D4E3\"},\"line\":{\"color\":\"white\"}},\"type\":\"table\"}],\"barpolar\":[{\"marker\":{\"line\":{\"color\":\"#E5ECF6\",\"width\":0.5},\"pattern\":{\"fillmode\":\"overlay\",\"size\":10,\"solidity\":0.2}},\"type\":\"barpolar\"}],\"pie\":[{\"automargin\":true,\"type\":\"pie\"}]},\"layout\":{\"autotypenumbers\":\"strict\",\"colorway\":[\"#636efa\",\"#EF553B\",\"#00cc96\",\"#ab63fa\",\"#FFA15A\",\"#19d3f3\",\"#FF6692\",\"#B6E880\",\"#FF97FF\",\"#FECB52\"],\"font\":{\"color\":\"#2a3f5f\"},\"hovermode\":\"closest\",\"hoverlabel\":{\"align\":\"left\"},\"paper_bgcolor\":\"white\",\"plot_bgcolor\":\"#E5ECF6\",\"polar\":{\"bgcolor\":\"#E5ECF6\",\"angularaxis\":{\"gridcolor\":\"white\",\"linecolor\":\"white\",\"ticks\":\"\"},\"radialaxis\":{\"gridcolor\":\"white\",\"linecolor\":\"white\",\"ticks\":\"\"}},\"ternary\":{\"bgcolor\":\"#E5ECF6\",\"aaxis\":{\"gridcolor\":\"white\",\"linecolor\":\"white\",\"ticks\":\"\"},\"baxis\":{\"gridcolor\":\"white\",\"linecolor\":\"white\",\"ticks\":\"\"},\"caxis\":{\"gridcolor\":\"white\",\"linecolor\":\"white\",\"ticks\":\"\"}},\"coloraxis\":{\"colorbar\":{\"outlinewidth\":0,\"ticks\":\"\"}},\"colorscale\":{\"sequential\":[[0.0,\"#0d0887\"],[0.1111111111111111,\"#46039f\"],[0.2222222222222222,\"#7201a8\"],[0.3333333333333333,\"#9c179e\"],[0.4444444444444444,\"#bd3786\"],[0.5555555555555556,\"#d8576b\"],[0.6666666666666666,\"#ed7953\"],[0.7777777777777778,\"#fb9f3a\"],[0.8888888888888888,\"#fdca26\"],[1.0,\"#f0f921\"]],\"sequentialminus\":[[0.0,\"#0d0887\"],[0.1111111111111111,\"#46039f\"],[0.2222222222222222,\"#7201a8\"],[0.3333333333333333,\"#9c179e\"],[0.4444444444444444,\"#bd3786\"],[0.5555555555555556,\"#d8576b\"],[0.6666666666666666,\"#ed7953\"],[0.7777777777777778,\"#fb9f3a\"],[0.8888888888888888,\"#fdca26\"],[1.0,\"#f0f921\"]],\"diverging\":[[0,\"#8e0152\"],[0.1,\"#c51b7d\"],[0.2,\"#de77ae\"],[0.3,\"#f1b6da\"],[0.4,\"#fde0ef\"],[0.5,\"#f7f7f7\"],[0.6,\"#e6f5d0\"],[0.7,\"#b8e186\"],[0.8,\"#7fbc41\"],[0.9,\"#4d9221\"],[1,\"#276419\"]]},\"xaxis\":{\"gridcolor\":\"white\",\"linecolor\":\"white\",\"ticks\":\"\",\"title\":{\"standoff\":15},\"zerolinecolor\":\"white\",\"automargin\":true,\"zerolinewidth\":2},\"yaxis\":{\"gridcolor\":\"white\",\"linecolor\":\"white\",\"ticks\":\"\",\"title\":{\"standoff\":15},\"zerolinecolor\":\"white\",\"automargin\":true,\"zerolinewidth\":2},\"scene\":{\"xaxis\":{\"backgroundcolor\":\"#E5ECF6\",\"gridcolor\":\"white\",\"linecolor\":\"white\",\"showbackground\":true,\"ticks\":\"\",\"zerolinecolor\":\"white\",\"gridwidth\":2},\"yaxis\":{\"backgroundcolor\":\"#E5ECF6\",\"gridcolor\":\"white\",\"linecolor\":\"white\",\"showbackground\":true,\"ticks\":\"\",\"zerolinecolor\":\"white\",\"gridwidth\":2},\"zaxis\":{\"backgroundcolor\":\"#E5ECF6\",\"gridcolor\":\"white\",\"linecolor\":\"white\",\"showbackground\":true,\"ticks\":\"\",\"zerolinecolor\":\"white\",\"gridwidth\":2}},\"shapedefaults\":{\"line\":{\"color\":\"#2a3f5f\"}},\"annotationdefaults\":{\"arrowcolor\":\"#2a3f5f\",\"arrowhead\":0,\"arrowwidth\":1},\"geo\":{\"bgcolor\":\"white\",\"landcolor\":\"#E5ECF6\",\"subunitcolor\":\"white\",\"showland\":true,\"showlakes\":true,\"lakecolor\":\"white\"},\"title\":{\"x\":0.05},\"mapbox\":{\"style\":\"light\"}}},\"xaxis\":{\"anchor\":\"y\",\"domain\":[0.0,1.0],\"title\":{\"text\":\"rating\"}},\"yaxis\":{\"anchor\":\"x\",\"domain\":[0.0,1.0],\"title\":{\"text\":\"rating\"}},\"legend\":{\"title\":{\"text\":\"category\"},\"tracegroupgap\":0},\"margin\":{\"t\":60},\"barmode\":\"stack\"},                        {\"responsive\": true}                    ).then(function(){\n",
       "                            \n",
       "var gd = document.getElementById('0b793a3f-e87c-474d-98a1-d42a1cb408b7');\n",
       "var x = new MutationObserver(function (mutations, observer) {{\n",
       "        var display = window.getComputedStyle(gd).display;\n",
       "        if (!display || display === 'none') {{\n",
       "            console.log([gd, 'removed!']);\n",
       "            Plotly.purge(gd);\n",
       "            observer.disconnect();\n",
       "        }}\n",
       "}});\n",
       "\n",
       "// Listen for the removal of the full notebook cells\n",
       "var notebookContainer = gd.closest('#notebook-container');\n",
       "if (notebookContainer) {{\n",
       "    x.observe(notebookContainer, {childList: true});\n",
       "}}\n",
       "\n",
       "// Listen for the clearing of the current output cell\n",
       "var outputEl = gd.closest('.output');\n",
       "if (outputEl) {{\n",
       "    x.observe(outputEl, {childList: true});\n",
       "}}\n",
       "\n",
       "                        })                };                });            </script>        </div>"
      ]
     },
     "metadata": {},
     "output_type": "display_data"
    }
   ],
   "source": [
    "# df = business_df\n",
    "fig = px.bar(df, x = df['rating'], y=df['rating'],color=df['category'], barmode = 'stack')\n",
    "fig.show()"
   ]
  },
  {
   "cell_type": "code",
   "execution_count": 816,
   "id": "32160c64-eda1-4d0f-99e0-cd9cbbb100d1",
   "metadata": {
    "tags": []
   },
   "outputs": [],
   "source": [
    "import plotly.graph_objects as px\n",
    "\n"
   ]
  },
  {
   "cell_type": "code",
   "execution_count": null,
   "id": "3c0b4a98-ad8a-4a3e-8ee9-d3f32df1fb23",
   "metadata": {},
   "outputs": [],
   "source": []
  },
  {
   "cell_type": "code",
   "execution_count": 837,
   "id": "a6441834-6a6b-49d6-a50e-3b1a043be398",
   "metadata": {
    "tags": []
   },
   "outputs": [
    {
     "data": {
      "text/html": [
       "<div>\n",
       "<style scoped>\n",
       "    .dataframe tbody tr th:only-of-type {\n",
       "        vertical-align: middle;\n",
       "    }\n",
       "\n",
       "    .dataframe tbody tr th {\n",
       "        vertical-align: top;\n",
       "    }\n",
       "\n",
       "    .dataframe thead th {\n",
       "        text-align: right;\n",
       "    }\n",
       "</style>\n",
       "<table border=\"1\" class=\"dataframe\">\n",
       "  <thead>\n",
       "    <tr style=\"text-align: right;\">\n",
       "      <th></th>\n",
       "      <th>lat</th>\n",
       "      <th>long</th>\n",
       "      <th>empty_slots</th>\n",
       "      <th>free_bikes</th>\n",
       "    </tr>\n",
       "  </thead>\n",
       "  <tbody>\n",
       "    <tr>\n",
       "      <th>0</th>\n",
       "      <td>48.865983</td>\n",
       "      <td>2.275725</td>\n",
       "      <td>29</td>\n",
       "      <td>4</td>\n",
       "    </tr>\n",
       "    <tr>\n",
       "      <th>1</th>\n",
       "      <td>48.853756</td>\n",
       "      <td>2.339096</td>\n",
       "      <td>3</td>\n",
       "      <td>50</td>\n",
       "    </tr>\n",
       "    <tr>\n",
       "      <th>2</th>\n",
       "      <td>48.867872</td>\n",
       "      <td>2.364898</td>\n",
       "      <td>28</td>\n",
       "      <td>9</td>\n",
       "    </tr>\n",
       "    <tr>\n",
       "      <th>3</th>\n",
       "      <td>48.856452</td>\n",
       "      <td>2.334852</td>\n",
       "      <td>16</td>\n",
       "      <td>3</td>\n",
       "    </tr>\n",
       "    <tr>\n",
       "      <th>4</th>\n",
       "      <td>48.879296</td>\n",
       "      <td>2.337360</td>\n",
       "      <td>15</td>\n",
       "      <td>4</td>\n",
       "    </tr>\n",
       "  </tbody>\n",
       "</table>\n",
       "</div>"
      ],
      "text/plain": [
       "         lat      long  empty_slots  free_bikes\n",
       "0  48.865983  2.275725           29           4\n",
       "1  48.853756  2.339096            3          50\n",
       "2  48.867872  2.364898           28           9\n",
       "3  48.856452  2.334852           16           3\n",
       "4  48.879296  2.337360           15           4"
      ]
     },
     "execution_count": 837,
     "metadata": {},
     "output_type": "execute_result"
    }
   ],
   "source": [
    "cb_df.head()"
   ]
  },
  {
   "cell_type": "code",
   "execution_count": 840,
   "id": "5ddc6ac6-a79d-48a5-86a9-0de30b5d72c6",
   "metadata": {
    "tags": []
   },
   "outputs": [
    {
     "data": {
      "text/html": [
       "<div>\n",
       "<style scoped>\n",
       "    .dataframe tbody tr th:only-of-type {\n",
       "        vertical-align: middle;\n",
       "    }\n",
       "\n",
       "    .dataframe tbody tr th {\n",
       "        vertical-align: top;\n",
       "    }\n",
       "\n",
       "    .dataframe thead th {\n",
       "        text-align: right;\n",
       "    }\n",
       "</style>\n",
       "<table border=\"1\" class=\"dataframe\">\n",
       "  <thead>\n",
       "    <tr style=\"text-align: right;\">\n",
       "      <th></th>\n",
       "      <th>name</th>\n",
       "      <th>rating</th>\n",
       "      <th>review_count</th>\n",
       "      <th>category</th>\n",
       "      <th>city</th>\n",
       "      <th>lat</th>\n",
       "      <th>long</th>\n",
       "    </tr>\n",
       "  </thead>\n",
       "  <tbody>\n",
       "    <tr>\n",
       "      <th>0</th>\n",
       "      <td>Le Comptoir de la Gastronomie</td>\n",
       "      <td>4.5</td>\n",
       "      <td>1258</td>\n",
       "      <td>French</td>\n",
       "      <td>Paris</td>\n",
       "      <td>48.864516</td>\n",
       "      <td>2.345402</td>\n",
       "    </tr>\n",
       "    <tr>\n",
       "      <th>1</th>\n",
       "      <td>Bistro des Augustins</td>\n",
       "      <td>4.5</td>\n",
       "      <td>476</td>\n",
       "      <td>Bistros</td>\n",
       "      <td>Paris</td>\n",
       "      <td>48.854754</td>\n",
       "      <td>2.342119</td>\n",
       "    </tr>\n",
       "    <tr>\n",
       "      <th>2</th>\n",
       "      <td>Café Blanc</td>\n",
       "      <td>4.5</td>\n",
       "      <td>57</td>\n",
       "      <td>French</td>\n",
       "      <td>Paris</td>\n",
       "      <td>48.862736</td>\n",
       "      <td>2.339585</td>\n",
       "    </tr>\n",
       "    <tr>\n",
       "      <th>3</th>\n",
       "      <td>La Régalade</td>\n",
       "      <td>4.5</td>\n",
       "      <td>101</td>\n",
       "      <td>French</td>\n",
       "      <td>Paris</td>\n",
       "      <td>48.861644</td>\n",
       "      <td>2.342016</td>\n",
       "    </tr>\n",
       "    <tr>\n",
       "      <th>4</th>\n",
       "      <td>Loup</td>\n",
       "      <td>4.0</td>\n",
       "      <td>60</td>\n",
       "      <td>French</td>\n",
       "      <td>Paris</td>\n",
       "      <td>48.863959</td>\n",
       "      <td>2.342631</td>\n",
       "    </tr>\n",
       "  </tbody>\n",
       "</table>\n",
       "</div>"
      ],
      "text/plain": [
       "                            name  rating  review_count category   city  \\\n",
       "0  Le Comptoir de la Gastronomie     4.5          1258   French  Paris   \n",
       "1           Bistro des Augustins     4.5           476  Bistros  Paris   \n",
       "2                     Café Blanc     4.5            57   French  Paris   \n",
       "3                    La Régalade     4.5           101   French  Paris   \n",
       "4                           Loup     4.0            60   French  Paris   \n",
       "\n",
       "         lat      long  \n",
       "0  48.864516  2.345402  \n",
       "1  48.854754  2.342119  \n",
       "2  48.862736  2.339585  \n",
       "3  48.861644  2.342016  \n",
       "4  48.863959  2.342631  "
      ]
     },
     "execution_count": 840,
     "metadata": {},
     "output_type": "execute_result"
    }
   ],
   "source": [
    "business_df.head()"
   ]
  },
  {
   "cell_type": "code",
   "execution_count": 842,
   "id": "6b4e0566-1670-4a1b-9518-09b4078f8e8b",
   "metadata": {
    "tags": []
   },
   "outputs": [
    {
     "data": {
      "text/html": [
       "<div>\n",
       "<style scoped>\n",
       "    .dataframe tbody tr th:only-of-type {\n",
       "        vertical-align: middle;\n",
       "    }\n",
       "\n",
       "    .dataframe tbody tr th {\n",
       "        vertical-align: top;\n",
       "    }\n",
       "\n",
       "    .dataframe thead th {\n",
       "        text-align: right;\n",
       "    }\n",
       "</style>\n",
       "<table border=\"1\" class=\"dataframe\">\n",
       "  <thead>\n",
       "    <tr style=\"text-align: right;\">\n",
       "      <th></th>\n",
       "      <th>fsq_id</th>\n",
       "      <th>name</th>\n",
       "      <th>category</th>\n",
       "      <th>lat</th>\n",
       "      <th>long</th>\n",
       "    </tr>\n",
       "  </thead>\n",
       "  <tbody>\n",
       "    <tr>\n",
       "      <th>0</th>\n",
       "      <td>5b394cae92e7a9002c724cf9</td>\n",
       "      <td>La Maison d'Isabelle</td>\n",
       "      <td>Bakery</td>\n",
       "      <td>48.849807</td>\n",
       "      <td>2.348409</td>\n",
       "    </tr>\n",
       "    <tr>\n",
       "      <th>1</th>\n",
       "      <td>59468bd1898bdc07ffc0d6ac</td>\n",
       "      <td>Breizh Café</td>\n",
       "      <td>Dining and Drinking</td>\n",
       "      <td>48.849807</td>\n",
       "      <td>2.348409</td>\n",
       "    </tr>\n",
       "    <tr>\n",
       "      <th>2</th>\n",
       "      <td>4df27ab522718759f81c4fc7</td>\n",
       "      <td>Aux Prés</td>\n",
       "      <td>Bistro</td>\n",
       "      <td>48.849807</td>\n",
       "      <td>2.348409</td>\n",
       "    </tr>\n",
       "    <tr>\n",
       "      <th>3</th>\n",
       "      <td>4d974096a2c654814aa6d353</td>\n",
       "      <td>Mmmozza</td>\n",
       "      <td>Gourmet Store</td>\n",
       "      <td>48.849807</td>\n",
       "      <td>2.348409</td>\n",
       "    </tr>\n",
       "    <tr>\n",
       "      <th>4</th>\n",
       "      <td>5474e08e498e26dc5e12ebb5</td>\n",
       "      <td>Les Amis des Messina</td>\n",
       "      <td>Italian Restaurant</td>\n",
       "      <td>48.849807</td>\n",
       "      <td>2.348409</td>\n",
       "    </tr>\n",
       "  </tbody>\n",
       "</table>\n",
       "</div>"
      ],
      "text/plain": [
       "                     fsq_id                  name             category  \\\n",
       "0  5b394cae92e7a9002c724cf9  La Maison d'Isabelle               Bakery   \n",
       "1  59468bd1898bdc07ffc0d6ac           Breizh Café  Dining and Drinking   \n",
       "2  4df27ab522718759f81c4fc7              Aux Prés               Bistro   \n",
       "3  4d974096a2c654814aa6d353               Mmmozza        Gourmet Store   \n",
       "4  5474e08e498e26dc5e12ebb5  Les Amis des Messina   Italian Restaurant   \n",
       "\n",
       "         lat      long  \n",
       "0  48.849807  2.348409  \n",
       "1  48.849807  2.348409  \n",
       "2  48.849807  2.348409  \n",
       "3  48.849807  2.348409  \n",
       "4  48.849807  2.348409  "
      ]
     },
     "execution_count": 842,
     "metadata": {},
     "output_type": "execute_result"
    }
   ],
   "source": [
    "fs_df.head()"
   ]
  },
  {
   "cell_type": "markdown",
   "id": "970754f4-ccb3-4172-afeb-d09a5a234a9e",
   "metadata": {},
   "source": [
    "# SQLite"
   ]
  },
  {
   "cell_type": "code",
   "execution_count": 835,
   "id": "e8f9d4d2-20c8-401a-b71d-ba878eb38deb",
   "metadata": {
    "tags": []
   },
   "outputs": [
    {
     "name": "stdout",
     "output_type": "stream",
     "text": [
      "Connection to SQLite DB successful\n"
     ]
    }
   ],
   "source": [
    "# Connected to DB\n",
    "\n",
    "import sqlite3\n",
    "from sqlite3 import Error\n",
    "\n",
    "def create_connection(path):\n",
    "    connection = None\n",
    "    try:\n",
    "        connection = sqlite3.connect(path)\n",
    "        print(\"Connection to SQLite DB successful\")\n",
    "    except Error as e:\n",
    "        print(f\"The error '{e}' occurred\")\n",
    "\n",
    "    return connection\n",
    "\n",
    "connection = create_connection(\"restaurants.sqlite\")"
   ]
  },
  {
   "cell_type": "code",
   "execution_count": 836,
   "id": "0b57d98f-0742-4860-a38f-d5803f5713cf",
   "metadata": {
    "tags": []
   },
   "outputs": [],
   "source": [
    "# define execute function\n",
    "def execute_query(connection, query):\n",
    "    cursor = connection.cursor()\n",
    "    try:\n",
    "        cursor.execute(query)\n",
    "        connection.commit()\n",
    "        print(\"Query executed successfully\")\n",
    "    except Error as e:\n",
    "        print(f\"The error '{e}' occurred\")"
   ]
  },
  {
   "cell_type": "code",
   "execution_count": 839,
   "id": "d8de1474-6b72-48b0-a883-55e81e072b57",
   "metadata": {
    "tags": []
   },
   "outputs": [
    {
     "name": "stdout",
     "output_type": "stream",
     "text": [
      "Query executed successfully\n"
     ]
    }
   ],
   "source": [
    "create_bikes_table = \"\"\"\n",
    "CREATE TABLE IF NOT EXISTS bike_stations (\n",
    "  id INTEGER PRIMARY KEY AUTOINCREMENT,\n",
    "  lat FLOAT,\n",
    "  long FLOAT,\n",
    "  empty_slots INTEGER,\n",
    "  free_bikes INTEGER\n",
    ");\n",
    "\"\"\"\n",
    "\n",
    "execute_query(connection, create_bikes_table)"
   ]
  },
  {
   "cell_type": "code",
   "execution_count": 845,
   "id": "21ee0581-8305-48fc-84e6-2d04971b33fd",
   "metadata": {
    "tags": []
   },
   "outputs": [],
   "source": [
    "table_name = 'bike_stations'\n",
    "\n",
    "conn = sqlite3.connect('restaurants.sqlite')\n",
    "cb_df.to_sql(table_name,conn,if_exists='replace',index=False)\n",
    "conn.commit()\n",
    "conn.close()\n",
    "\n"
   ]
  },
  {
   "cell_type": "code",
   "execution_count": 841,
   "id": "a266d9fc-adad-489d-839a-18876be3ae00",
   "metadata": {
    "tags": []
   },
   "outputs": [
    {
     "name": "stdout",
     "output_type": "stream",
     "text": [
      "Query executed successfully\n"
     ]
    }
   ],
   "source": [
    "create_yelp_table = \"\"\"\n",
    "CREATE TABLE IF NOT EXISTS yelp (\n",
    "  id INTEGER PRIMARY KEY AUTOINCREMENT,\n",
    "  name VARCHAR,\n",
    "  rating FLOAT,\n",
    "  review_count INTEGER,\n",
    "  category VARCHAR,\n",
    "  city VARCHAR,\n",
    "  lat FLOAT,\n",
    "  long FLOAT\n",
    ");\n",
    "\"\"\"\n",
    "\n",
    "execute_query(connection, create_yelp_table)"
   ]
  },
  {
   "cell_type": "code",
   "execution_count": 848,
   "id": "4d2270a7-5b71-4df0-bb3e-609dca03cef7",
   "metadata": {
    "tags": []
   },
   "outputs": [],
   "source": [
    "table_name = 'yelp'\n",
    "\n",
    "conn = sqlite3.connect('restaurants.sqlite')\n",
    "business_df.to_sql(table_name,conn,if_exists='replace',index=False)\n",
    "conn.commit()\n",
    "conn.close()"
   ]
  },
  {
   "cell_type": "code",
   "execution_count": 843,
   "id": "454a27ce-7935-4974-af09-902cd6684f11",
   "metadata": {
    "tags": []
   },
   "outputs": [
    {
     "name": "stdout",
     "output_type": "stream",
     "text": [
      "Query executed successfully\n"
     ]
    }
   ],
   "source": [
    "create_foursquare_table = \"\"\"\n",
    "CREATE TABLE IF NOT EXISTS foursquare (\n",
    "  fsq_id VARCHAR PRIMARY KEY,\n",
    "  name VARCHAR,\n",
    "  category VARCHAR,\n",
    "  lat FLOAT,\n",
    "  long FLOAT\n",
    ");\n",
    "\"\"\"\n",
    "\n",
    "execute_query(connection, create_foursquare_table)"
   ]
  },
  {
   "cell_type": "code",
   "execution_count": 849,
   "id": "dec6a800-9103-43af-a1f1-a8517b13606e",
   "metadata": {
    "jupyter": {
     "source_hidden": true
    },
    "tags": []
   },
   "outputs": [],
   "source": [
    "table_name = 'foursquare'\n",
    "\n",
    "conn = sqlite3.connect('restaurants.sqlite')\n",
    "fs_df.to_sql(table_name,conn,if_exists='replace',index=False)\n",
    "conn.commit()\n",
    "conn.close()"
   ]
  },
  {
   "cell_type": "code",
   "execution_count": null,
   "id": "51c2348c-25b8-46cd-8a2f-1cf50c581eca",
   "metadata": {},
   "outputs": [],
   "source": []
  }
 ],
 "metadata": {
  "kernelspec": {
   "display_name": "Python 3 (ipykernel)",
   "language": "python",
   "name": "python3"
  },
  "language_info": {
   "codemirror_mode": {
    "name": "ipython",
    "version": 3
   },
   "file_extension": ".py",
   "mimetype": "text/x-python",
   "name": "python",
   "nbconvert_exporter": "python",
   "pygments_lexer": "ipython3",
   "version": "3.11.4"
  }
 },
 "nbformat": 4,
 "nbformat_minor": 5
}
